{
 "cells": [
  {
   "cell_type": "markdown",
   "metadata": {
    "editable": true,
    "slideshow": {
     "slide_type": "fragment"
    },
    "tags": []
   },
   "source": [
    "# Sieci neuronowe"
   ]
  },
  {
   "cell_type": "markdown",
   "metadata": {
    "slideshow": {
     "slide_type": "skip"
    }
   },
   "source": [
    "# Przypomnienie:\n",
    "* zbiór uczący dla uczenia bez nauczyciela\n",
    "* algorytm k_means\n",
    "* algorytm EM\n",
    "* Reguła Hebba"
   ]
  },
  {
   "cell_type": "markdown",
   "metadata": {
    "slideshow": {
     "slide_type": "slide"
    }
   },
   "source": [
    "# Sieci liniowe\n",
    "Sieci neuronowe możemy sobie wyobrażać w postaci grafów skierowanych.\n",
    "Ich krawędzie odpowiadają połączeniom między jednostkami i wykonują operację mnożenia przez wagę, zaś w ich wierzchołkach znajdują się jednostki wykonujące pewne działania, np. sumowanie wejść i zastosowanie do tej sumy jakiejś funkcji $f$. Koncepcję tą ilustruje poniższy rysunek:\n",
    "![](http://brain.fuw.edu.pl/edu/images/1/1b/Slajd1.jpg)\n",
    "**Sieć złożona z jednego neuronu jako graf. Wejścia do jednostki stanowią warstwę wierzchołków wejściowych, jej wagi są własnością krawędzi.**"
   ]
  },
  {
   "cell_type": "markdown",
   "metadata": {
    "slideshow": {
     "slide_type": "slide"
    }
   },
   "source": [
    "![](http://brain.fuw.edu.pl/edu/images/6/65/Slajd2.jpg) \n",
    "**Sieć złożona z dwóch jednostek. Wartości z wierzchołków wejściowych przekazywane są przez krawędzie do wierzchołków położonych w kolejnej warstwie. **\n",
    "\n",
    "Pierwszą siecią, którą będziemy omawiać jest sieć złożona z jednostek liniowych. Oznacza to, że funkcja $f$ występująca w dotychczasowych schematach to funkcja liniowa."
   ]
  },
  {
   "cell_type": "markdown",
   "metadata": {
    "slideshow": {
     "slide_type": "slide"
    }
   },
   "source": [
    "## Co może robić sieć liniowa?\n",
    "### Odwzorowania liniowe \n",
    "Wyjście z neuronu można zapisać jako:\n",
    "\n",
    "$\\qquad$ $ y = \\sum_{i=0}^n w_i x_i$"
   ]
  },
  {
   "cell_type": "markdown",
   "metadata": {
    "slideshow": {
     "slide_type": "fragment"
    }
   },
   "source": [
    "> Rozpoznajemy tu znane z pierwszego wykładu równanie regresji liniowej!"
   ]
  },
  {
   "cell_type": "markdown",
   "metadata": {
    "slideshow": {
     "slide_type": "slide"
    }
   },
   "source": [
    "## Warstwa liniowa\n",
    "* A zatem najprostsza sieć liniowa formalnie realizuje regresję liniową. \n",
    "* Zobaczmy co realizuje sieć złożona z wielu elementów liniowych.\n",
    "* Wagi związane z jednostką 'm-tą' są grupowane w wektory wag.\n",
    "\n",
    "![](http://brain.fuw.edu.pl/edu/images/c/c8/Warsta_k_neuronow_liniowych.png) \n",
    "**Sieć złożona z $k$ jednostek liniowych. Wartości z $n$ wierzchołków wejściowych przekazywane są przez krawędzie do wierzchołków położonych w kolejnej warstwie.**  "
   ]
  },
  {
   "cell_type": "markdown",
   "metadata": {
    "slideshow": {
     "slide_type": "fragment"
    }
   },
   "source": [
    "Zapiszmy wartości podawane na wierzchołki wejściowe jako wektor kolumnowy:\n",
    "\n",
    "$\\qquad$ $\\mathbf{x} = \\left[\n",
    "\\begin{array}{c}\n",
    "x_1\\\\\n",
    "x_2\\\\\n",
    "\\vdots\\\\\n",
    "x_n\\\\\n",
    "\\end{array}\n",
    "\\right]$ \n",
    "\n",
    "Jest on wspólny dla wszystkich jednostek."
   ]
  },
  {
   "cell_type": "markdown",
   "metadata": {
    "slideshow": {
     "slide_type": "fragment"
    }
   },
   "source": [
    "Wektor wag związanych z 'm-tą' jednostką zapiszmy jako wektor wierszowy:\n",
    "$\\qquad$ $ \\mathbf{w}^{(m)} = (w_1^{(m)}, w_2^{(m)}, \\dots,w_n^{(m)})$\n",
    "z wektorów tych możemy zbudować macierz $ k \\times n $:\n",
    "$\\qquad$ $\n",
    "W = \\left[\n",
    "\\begin{array}{cccc}\n",
    "w_1^{(1)} & w_2^{(1)} &\\dots & w_n^{(1)}\\\\\n",
    "w_1^{(2)} & w_2^{(2)} &\\dots & w_n^{(2)}\\\\\n",
    "\\vdots & \\vdots & \\vdots & \\vdots \\\\\n",
    "w_1^{(k)} & w_2^{(k)} &\\dots & w_n^{(k)}\n",
    "\\end{array}\n",
    "\\right]\n",
    "$"
   ]
  },
  {
   "cell_type": "markdown",
   "metadata": {
    "slideshow": {
     "slide_type": "fragment"
    }
   },
   "source": [
    "Jeśli teraz zapiszemy wektor wyjściowy jako wektor kolumnowy: \n",
    "\n",
    "$\\mathbf{y} = (y^{(1)}, y^{(2)}, \\dots y^{(k)})^T$\n",
    "\n",
    "$\\qquad$ $\\mathbf{y} = \\left[\n",
    "\\begin{array}{c}\n",
    "y^{(1)}\\\\\n",
    "y^{(2)}\\\\\n",
    "\\vdots\\\\\n",
    "y^{(k)}\n",
    "\\end{array}\n",
    "\\right]$ "
   ]
  },
  {
   "cell_type": "markdown",
   "metadata": {
    "slideshow": {
     "slide_type": "fragment"
    }
   },
   "source": [
    "To widać, że:\n",
    "$\\qquad$ $ \\mathbf{y} = W X$"
   ]
  },
  {
   "cell_type": "markdown",
   "metadata": {
    "slideshow": {
     "slide_type": "fragment"
    }
   },
   "source": [
    "> Oznacza to, że warstwa liniowa dokonuje pewnego przekształcenia linowego \n",
    "\n",
    ">$X \\rightarrow Y$ z przestrzeni $\\mathcal{R}^n$ do przestrzeni $\\mathcal{R}^k$ \n",
    "\n",
    ">zadanego przez macierz $W$. \n",
    "\n",
    "Jednym z powszechnych zastosowań jest konstrukcja automatycznie adaptujących się filtrów liniowych."
   ]
  },
  {
   "cell_type": "markdown",
   "metadata": {
    "slideshow": {
     "slide_type": "skip"
    }
   },
   "source": [
    "## Obliczenia służące klasyfikacji \n",
    "Inną możliwością zastosowania sieci liniowej jest możliwość \"rozpoznawania\" pewnych wzorców wejściowych. Jak to się dzieje?\n",
    "\n",
    "W tym zastosowaniu musimy zapewnić sobie, że zarówno wektor wejściowy jak i wektor wag są unormowane:\n",
    "\n",
    "$\\qquad$ $ ||\\mathbf{x}||=1$\n",
    "\n",
    "oraz\n",
    "\n",
    "$\\qquad$  $ ||\\mathbf{w}^{(m)}||=1$"
   ]
  },
  {
   "cell_type": "markdown",
   "metadata": {
    "slideshow": {
     "slide_type": "skip"
    }
   },
   "source": [
    "W tej sytuacji wyjście 'm-tej' jednostki jest:\n",
    "\n",
    "$\\qquad$ $y^{(m)} = \\mathbf{w}^{(m)}\\mathbf{x}  = \\cos \\phi$\n",
    "\n",
    "gdzie $\\phi$ jest kątem między wektorami $\\mathbf{w}^{(m)}$ i $\\mathbf{x}$. \n",
    "\n",
    "Czyli czym mniejszy kąt między tymi wektorami, tzn. są one do siebie bardziej podobne, tym większy sygnał wyjściowy z neuronu. W tym sensie możemy powiedzieć, że\n",
    "neuron \"rozpoznaje\" wzorce podobne do zapamiętanych w wagach."
   ]
  },
  {
   "cell_type": "markdown",
   "metadata": {
    "slideshow": {
     "slide_type": "slide"
    }
   },
   "source": [
    "# Uczenie sieci liniowej \n",
    "\n",
    "> Celem uczenia sieci jest taka modyfikacja jej wag aby błąd popełniany przez sieć dla przykładów ciągu uczącego $\\left\\{X^{(j)},z^{(j)} \\right\\}_{j=1,\\dots,m}$ był możliwie mały. "
   ]
  },
  {
   "cell_type": "markdown",
   "metadata": {
    "slideshow": {
     "slide_type": "fragment"
    }
   },
   "source": [
    "Przypadek sieci zbudowanej z pojedynczego elementu jest dokładnym odpowiednikiem regresji liniowej. Podobnie jak dla regresji liniowej możemy i tu wprowadzić pojęcie funkcji kosztu zdefiniowanej jako:\n",
    "\n",
    "$\\qquad$  $J(w) = \\frac{1}{2} \\sum_{j =1}^m \\left(y^{(j)} - z^{(j)}  \\right)^2$\n",
    "\n",
    "tu wartość pożądana dla przykładu $j$ wynosi $z^{(j)}$ zaś $y^{(j)} $ oznacza faktyczna odpowiedź sieci dla tego przykładu."
   ]
  },
  {
   "cell_type": "markdown",
   "metadata": {
    "slideshow": {
     "slide_type": "fragment"
    }
   },
   "source": [
    "Analogicznie jak w przypadku regresji liniowej możemy zastosować algorytm spadku gradientowego w wersji stochastycznej lub zbiorczej.\n",
    "\n",
    "W aktualnej notacji wersja zbiorcza algorytmu wygląd tak (dla $j$-tej wagi):\n",
    "\n",
    "$\\qquad$ $w_{j} := w_j - \\alpha \\frac{\\partial }{\\partial w_j } J(w ) = w_j - \\alpha \\sum _{i=1}^{m} \\left( y^{(i)} - z^{(i)} \\right) x_j^{(i)} $\n",
    "\n",
    "zaś w przypadku metody spadku stochastycznego należy wylosować przykład $i$-ty z ciągu uczącego i zmodyfikować wagi tak:\n",
    "\n",
    "$\\qquad$ $w_{j} :=  w_j - \\alpha \\left( y^{(i)} - z^{(i)} \\right) x_j^{(i)} $"
   ]
  },
  {
   "cell_type": "markdown",
   "metadata": {
    "slideshow": {
     "slide_type": "skip"
    }
   },
   "source": [
    "## Przykład funkcji kosztu\n",
    "Rozważmy funkcję kosztu dla neuronu o dwóch wejściach i jednym wyjściu. \n",
    "\n",
    "Realizuje on odwzorowanie liniowe $ y = w x + b$. \n",
    "\n",
    "Niech ciąg uczący będzie {(1,2), (1.5, 3)}. \n",
    "\n",
    "Możemy obliczyć błąd jaki popełnia nasz neuron dla wielu wartości 'w' i dla wielu wartości 'b'.   \n",
    "\n",
    "Wykreślając tą wartość we współrzędnych (w,b) otrzymujemy powierzchnię funkcji błędu jak na rys. obok (dla lepszego uwidocznienia kształtu powierzchnia ta został ucięta na poziomie koszt =1).\n",
    "![](http://brain.fuw.edu.pl/edu/images/a/ad/Pow_bladu_3d.png)\n",
    "**Powierzchnia błędu z naszego przykładu.**  "
   ]
  },
  {
   "cell_type": "markdown",
   "metadata": {
    "editable": true,
    "slideshow": {
     "slide_type": "fragment"
    },
    "tags": []
   },
   "source": [
    "### Uwagi\n",
    "\n",
    "\n",
    "Jak wpływa dobór ciągu uczącego na to, czego sieć się nauczyła?\n",
    "* Funkcja kosztu dla sieci liniowej ma jedno minimum i jest to minimum globalne. \n",
    "* Jeśli ciąg uczący rozpina przestrzeń możliwych wejść, to sieć dąży do globalnego minimum.\n",
    "* Jeśli w przestrzeni możliwych wejść istnieje podprzestrzeń ortogonalna do podprzestrzeni wzorców w ciągu uczącym, to sieć dąży do minimum parabolicznej rynny.\n",
    "\n",
    "<img src=\"http://brain.fuw.edu.pl/edu/images/e/eb/Pow_bledu_rynna.png\" width=\"800\">\n",
    "\n",
    "**Powierzchnia błędu w przypadku gdy wzorce nie rozpinają całej przestrzeni wejść.**"
   ]
  },
  {
   "cell_type": "markdown",
   "metadata": {
    "slideshow": {
     "slide_type": "slide"
    }
   },
   "source": [
    "## Rozszerzenie metody spadku gradientowego na sieć złożoną z wielu jednostek\n",
    "\n",
    "Algorytm spadku gradientowego przenosi się w naturalny sposób na sieć elementów liniowych w postaci warstwy:\n",
    "* w ciągu uczącym $ \\left\\{ \\left( X^{(j)},Z^{(j)} \\right)\\right\\}_{j=1,\\dots,m} $\n",
    "zamiast wartości $z$ podajemy wektor wartości pożądanych $Z$"
   ]
  },
  {
   "cell_type": "markdown",
   "metadata": {
    "slideshow": {
     "slide_type": "fragment"
    }
   },
   "source": [
    "\n",
    "* zamiast modyfikować wektor wag, modyfikujemy macierz wag $W$:\n",
    "\n",
    "$\\qquad$ $W^{(j+1)} := W^{(j)} - \\alpha \\left( Y^{(j)}- Z^{(j)} \\right) \\left(X^{(j)}\\right) ^T$"
   ]
  },
  {
   "cell_type": "markdown",
   "metadata": {
    "slideshow": {
     "slide_type": "fragment"
    }
   },
   "source": [
    "Sieci liniowe MADALINE (Many Adaptive Linear Elements) z tym algorytmem uczenia wykorzystywane były jako filtry adaptacyjne np.:\n",
    "* do tłumienia “echa” w liniach telefonicznych \n",
    "* do poprawiania stosunku sygnału do szumu, czyli do filtrowania"
   ]
  },
  {
   "cell_type": "markdown",
   "metadata": {
    "editable": true,
    "slideshow": {
     "slide_type": "skip"
    },
    "tags": []
   },
   "source": [
    "## Przyspieszanie uczenia \n",
    "* Kontrolowanie wartości parametru $ \\alpha$. \n",
    "  * Uczenie rozpoczynamy od stosunkowo dużych wartości. Następnie stopniwo zmniejszamy jego wartość.  \n",
    "  "
   ]
  },
  {
   "cell_type": "markdown",
   "metadata": {
    "editable": true,
    "slideshow": {
     "slide_type": "skip"
    },
    "tags": []
   },
   "source": [
    "* Dodanie składnika bezwładności:\n",
    "\n",
    "$\\qquad$ $ W(k+1) = W(k)  - \\alpha_1 \\left(Y(k) - Z(k)\\right)\\left( X(k)\\right)^T + \\alpha_2 M(k)$\n",
    "\n",
    "gdzie: k - krok uczenia,  zaś $ M(k) =W(k) - W(k-1)$ jest poprzednią zmianą wagi.\n",
    "\n",
    "$\\qquad$ $ \\Delta W =  - \\alpha_1 \\left(Y(k) - Z(k)\\right)\\left( X(k)\\right)^T + \\alpha_2 M(k)$"
   ]
  },
  {
   "cell_type": "markdown",
   "metadata": {
    "editable": true,
    "slideshow": {
     "slide_type": "skip"
    },
    "tags": []
   },
   "source": [
    "* Dla prawie płaskiej powierzchni kosztu mamy:\n",
    "$\\qquad$$\\Delta W = W(k+1)-W(k) \\approx M(k)$\n",
    "* Podstawiając do poprzedniego równania mamy\n",
    "$\\qquad$ $ \\Delta W \\approx  - \\alpha_1 \\left(Y(k) - Z(k)\\right)\\left( X(k)\\right)^T + \\alpha_2 \\Delta W$\n",
    "* Po przekształceniu dostajemy:\n",
    "$\\qquad$ $\\Delta W \\approx - \\frac{\\alpha_1}{1-\\alpha_2} \\left(Y(k) - Z(k)\\right)\\left( X(k)\\right)^T $"
   ]
  },
  {
   "cell_type": "markdown",
   "metadata": {
    "editable": true,
    "slideshow": {
     "slide_type": "skip"
    },
    "tags": []
   },
   "source": [
    "> Oznacza to, że dla prawie płaskiej powierzchni błędu otrzymujemy efektywny współczynnik uczenia $ \\frac{1}{1-\\alpha_2}$ większy niż w przypadku algorytmu bez bezwładności. \n",
    "\n",
    "* Dla typowych wartości $\\alpha_1 = 0.1$ i $\\alpha_2 = 0.9$ otrzymujemy około 10 krotne przyspieszenie!"
   ]
  },
  {
   "cell_type": "code",
   "execution_count": 7,
   "metadata": {
    "editable": true,
    "slideshow": {
     "slide_type": "skip"
    },
    "tags": []
   },
   "outputs": [
    {
     "data": {
      "image/png": "[encoded data removed]",
      "text/plain": [
       "<Figure size 640x480 with 1 Axes>"
      ]
     },
     "metadata": {},
     "output_type": "display_data"
    }
   ],
   "source": [
    "# -*- coding: utf-8 -*-\n",
    "%matplotlib inline\n",
    "import matplotlib\n",
    "#matplotlib.use('TkAgg')\n",
    "import numpy as np\n",
    "\n",
    "from matplotlib.pyplot import  plot, show, ion, ioff, figure, contour, draw,pause,clf\n",
    "from mpl_toolkits.mplot3d import axes3d\n",
    "import matplotlib.animation as animation\n",
    "import numpy as np\n",
    "\n",
    "def koszt(w,b,X,Y):\n",
    "    z = np.zeros((len(w),len(b)))\n",
    "    for i,to_w in enumerate( w):\n",
    "        for j,to_b in enumerate( b):\n",
    "            for ind in range(len(Y)):         \n",
    "                z[j,i] += ( (to_w*X[ind,0] + to_b) - Y[ind,0])**2\n",
    "    return z\n",
    "\n",
    "class siec(object):\n",
    "    def __init__(self, X, Y):\n",
    "        self.X = X\n",
    "        self.Y = Y\n",
    "        self.N_wej = X.shape[1] \n",
    "        self.N_wyj = Y.shape[1] \n",
    "        self.w_1 = np.array([[0],[1.85]]).T   \n",
    "        self.dw1 = np.zeros((self.N_wyj, self.N_wej+1))\n",
    "        \n",
    "    def get_params(self):\n",
    "        return self.w_1.reshape(-1)\n",
    " \n",
    "    def fit_one_step(self, eta1,eta2):\n",
    "        self.bl = 0\n",
    "        D_1 = np.zeros((self.N_wyj, self.N_wej+1))\n",
    "        for i in range(0,self.X.shape[0]):\n",
    "            x = self.X[i,:].reshape(self.N_wej,1)\n",
    "            y = self.Y[i,:].reshape(self.N_wyj,1)\n",
    "            a_0 = np.vstack((1,x))  # z warstwy wejściowej (zerowej) wychodzi a_0\n",
    "            z = np.dot( self.w_1, a_0 )\n",
    "            # obliczam błąd\n",
    "            d_1 = (z - y) \n",
    "            # obliczam deltę\n",
    "            D_1 +=   d_1*a_0.T           \n",
    "        # uaktualniamy wagi     \n",
    "        self.w_1 -=  eta1*D_1 + eta2*self.dw1\n",
    "        self.dw1  =  eta1*D_1 \n",
    "        \n",
    "# tworzymy ciąg uczący \n",
    "X = np.array([[1],[1.5]])\n",
    "Y = np.array([[2],[3]])\n",
    "\n",
    "# wytwarzamy obiekt sieć\n",
    "ta_siec = siec(X,Y)\n",
    "eta1 = 0.2  \n",
    "eta2 = 0.9\n",
    "\n",
    "# zakres wag do sprawdzenia\n",
    "w = np.linspace( 1., 3.1, 150)\n",
    "b = np.linspace(-0.3, 0.318, 150)\n",
    "\n",
    "# obliczmy wartości pow. błędu.\n",
    "z = koszt(w,b,X,Y)\n",
    "\n",
    "\n",
    "N_epochs = 100\n",
    "data = np.zeros((2,N_epochs))\n",
    "figure()\n",
    "for cykl in range(N_epochs):\n",
    "    ta_siec.fit_one_step(eta1,eta2) # wykonaj krok uczenia\n",
    "    data[:,cykl] = ta_siec.get_params()\n",
    "    clf()\n",
    "    contour(w,b,z,np.linspace(0.0001,0.1,30))\n",
    "    plot(data[1,0:cykl], data[0,0:cykl],'*-')\n",
    "show()"
   ]
  },
  {
   "cell_type": "markdown",
   "metadata": {
    "editable": true,
    "slideshow": {
     "slide_type": "slide"
    },
    "tags": []
   },
   "source": [
    "## Ograniczenia sieci elementów liniowych\n",
    "* sieć może jedynie realizować liniowe odwzorowania $X \\rightarrow  Y$\n",
    "* w odróżnieniu od sieci nieliniowych, liniowe sieci wielowarstwowe nie wnoszą jakościowo nic w stosunku do sieci jednowarstwowych, bo złożenie operacji liniowych da nam i tak operację liniową"
   ]
  },
  {
   "cell_type": "markdown",
   "metadata": {
    "slideshow": {
     "slide_type": "slide"
    }
   },
   "source": [
    "# Nieliniowość\n",
    "Nowością wprowadzoną przez Perceptron(Rosenblatt 1958) w stosunku do sieci MADALINE, było zastosowanie elementu nieliniowego. W perceptronie wyjście neuronu:\n",
    "\n",
    "$\\qquad$ $ y = f(e)$"
   ]
  },
  {
   "cell_type": "markdown",
   "metadata": {
    "slideshow": {
     "slide_type": "fragment"
    }
   },
   "source": [
    "![](http://brain.fuw.edu.pl/edu/images/0/03/Sztuczny_neuron.png) **Model neuronu z nieliniowością**\n",
    "gdzie pobudzenie \n",
    "$\\qquad$ $ e = \\sum_{i=1}^n  w_ix_i + w_0 = \\sum_{i=0}^n w_ix_i \\quad \\Leftarrow x_0 := 1 $"
   ]
  },
  {
   "cell_type": "markdown",
   "metadata": {
    "slideshow": {
     "slide_type": "fragment"
    }
   },
   "source": []
  },
  {
   "cell_type": "markdown",
   "metadata": {
    "slideshow": {
     "slide_type": "slide"
    }
   },
   "source": [
    "# Formy nieliniowości\n",
    "Okazuje się, że w wielu przypadkach dobrze sprawdzają się następujące dwie funkcje sigmoidalne:\n",
    "## funkcja logistyczna:\n",
    "\n",
    "$\\qquad$$y = \\frac{1}{1+\\exp(-\\beta a)} $\n",
    "  * pochodna: $\\frac{dy}{da} = \\beta y (1-y)$\n",
    "  * zbiór wartości otwarty: $y \\in (0,1)$"
   ]
  },
  {
   "cell_type": "code",
   "execution_count": 8,
   "metadata": {
    "slideshow": {
     "slide_type": "fragment"
    }
   },
   "outputs": [
    {
     "data": {
      "image/png": "[encoded data removed]",
      "text/plain": [
       "<Figure size 640x480 with 2 Axes>"
      ]
     },
     "metadata": {},
     "output_type": "display_data"
    }
   ],
   "source": [
    "%matplotlib inline\n",
    "import numpy as np\n",
    "import matplotlib.pylab as plt\n",
    "\n",
    "beta = 1\n",
    "a = np.arange(-5,5,0.01)\n",
    "y = 1/(1+np.exp(-beta*a))\n",
    "plt.figure()\n",
    "plt.subplot(2,1,1)\n",
    "plt.plot(a,y)\n",
    "plt.subplot(2,1,2)\n",
    "plt.plot(a, beta*y*(1-y))\n",
    "plt.show()\n"
   ]
  },
  {
   "cell_type": "markdown",
   "metadata": {
    "slideshow": {
     "slide_type": "slide"
    }
   },
   "source": [
    "## tangens hiperboliczny\n",
    "\n",
    "$\\qquad$$y = \\tanh(\\beta a) = \\frac{\\exp(\\beta a)-\\exp(-\\beta a)}{\\exp(\\beta a) + \\exp(-\\beta a)} $\n",
    "\n",
    "  * pochodna $\\frac{d y }{d a} = \\beta(1+y)(1-y) $\n",
    "  * zbiór wartości $y \\in (-1,1)$\n",
    "  \n",
    "We wszystkich powyższych wzorach $\\beta$ to parametr odpowiadający za stromość sigmoidy, zaś $a$ to aktywacja neuronu."
   ]
  },
  {
   "cell_type": "code",
   "execution_count": 9,
   "metadata": {
    "slideshow": {
     "slide_type": "fragment"
    }
   },
   "outputs": [
    {
     "data": {
      "image/png": "[encoded data removed]",
      "text/plain": [
       "<Figure size 640x480 with 2 Axes>"
      ]
     },
     "metadata": {},
     "output_type": "display_data"
    }
   ],
   "source": [
    "beta = 2\n",
    "a = np.arange(-5,5,0.01)\n",
    "y = np.tanh(beta*a)\n",
    "plt.figure()\n",
    "plt.subplot(2,1,1)\n",
    "plt.plot(a,y)\n",
    "plt.subplot(2,1,2)\n",
    "plt.plot(a, beta*(1+y)*(1-y))\n",
    "plt.show()"
   ]
  },
  {
   "cell_type": "markdown",
   "metadata": {
    "slideshow": {
     "slide_type": "slide"
    }
   },
   "source": [
    "## funkcja prostownicza: ReLu\n",
    "\n",
    "$\\qquad$ $y = \\max(0, a)$ gdzie $ a = W x +b$\n",
    "\n",
    "  * podstawową zaletą tej funkcji jest to, że ma stały niezerowy gradient (w zakresnie $a>0$) więc nie da się jej wysycić\n",
    "\n",
    "  * rzadka reprezentacja (dla $a\\le0$)"
   ]
  },
  {
   "cell_type": "code",
   "execution_count": 10,
   "metadata": {
    "slideshow": {
     "slide_type": "fragment"
    }
   },
   "outputs": [
    {
     "data": {
      "image/png": "[encoded data removed]",
      "text/plain": [
       "<Figure size 640x480 with 2 Axes>"
      ]
     },
     "metadata": {},
     "output_type": "display_data"
    }
   ],
   "source": [
    "a = np.arange(-5,5,0.1)\n",
    "y = np.maximum(0,a) \n",
    "plt.figure()\n",
    "plt.subplot(2,1,1)\n",
    "plt.plot(a,y)\n",
    "plt.subplot(2,1,2)\n",
    "plt.plot(a[0:-1], np.diff(y)/0.1)\n",
    "\n",
    "plt.plot(a,np.sign(y),'r.')\n",
    "plt.show()"
   ]
  },
  {
   "cell_type": "markdown",
   "metadata": {
    "editable": true,
    "slideshow": {
     "slide_type": "fragment"
    },
    "tags": []
   },
   "source": [
    "Demo z tensorflow playground [https://playground.tensorflow.org/#activation=linear&batchSize=10&dataset=gauss&regDataset=reg-plane&learningRate=0.03&regularizationRate=0&noise=0&networkShape=1&seed=0.23806&showTestData=false&discretize=false&percTrainData=50&x=true&y=true&xTimesY=false&xSquared=false&ySquared=false&cosX=false&sinX=false&cosY=false&sinY=false&collectStats=false&problem=classification&initZero=false&hideText=false]"
   ]
  },
  {
   "cell_type": "markdown",
   "metadata": {
    "editable": true,
    "slideshow": {
     "slide_type": "fragment"
    },
    "tags": []
   },
   "source": [
    "# Uczenie reułą delta\n",
    "## Pojedynczy neuron: reguła delta\n",
    "Podobnie jak dla wszystkich omawianych dotychczas sieci celem uczenia neuronu nieliniowego jest taki dobór jego wag, aby zminimalizować błąd średnio-kwadratowy popełniany na ciągu uczącym. \n",
    "Niech ciąg uczący będzie:\n",
    "\n",
    "$\\qquad$$\\left\\{ \\left(X^{(j)}, z^{(j)}\\right)\\right\\}_{j = 1,\\dots,N} $\n",
    "\n",
    "Funkcja błędu to:\n",
    "\n",
    "$\\qquad$ $J(w) = \\frac{1}{2} \\sum_{j=1}^N\\left(z^{(j)}- y^{(j)} \\right)^2 = \\sum_{j=1}^N J^{(j)}(w)$\n",
    "\n",
    "gdzie:\n",
    "\n",
    "$\\qquad$$y^{(j)} = f\\left(a^{(j)}\\right) = f \\left( \\sum_{i=0}^n w_i x_i^{(j)}\\right)$, $\\qquad$ $a$ - to aktywacja\n",
    "\n",
    "zaś\n",
    "\n",
    "$\\qquad$$J^{(j)}(w) = \\frac{1}{2} \\left( z^{(j)} -y^{(j)}\\right)^2 $\n",
    "\n",
    "podobnie jak w przypadku regresji liniowej chcemy zmieniać wagi w kierunku przeciwnym do kierunku gradientu funkcji kosztu, "
   ]
  },
  {
   "cell_type": "markdown",
   "metadata": {
    "slideshow": {
     "slide_type": "fragment"
    }
   },
   "source": [
    "tzn. po prezentacji $j$ przykładu $i$-ta waga zmienia się tak:\n",
    "\n",
    "$\\qquad$ $w_i^{(j+1)} - w_i^{(j)} = \\Delta w_i^{(j)} = -\\eta \\frac{\\partial J^{(j)} }{\\partial w_i} = \n",
    "-\\eta \\frac{\\partial J^{(j)} }{\\partial y} \n",
    "\\frac{\\partial y^{(j)}}{\\partial w_i} = \n",
    "- \\eta \\frac{\\partial J^{(j)} }{\\partial y} \\frac{\\partial y^{(j)}}{\\partial a} \\frac{\\partial a^{(j)}}{\\partial w_i}\n",
    "$"
   ]
  },
  {
   "cell_type": "markdown",
   "metadata": {
    "slideshow": {
     "slide_type": "fragment"
    }
   },
   "source": [
    "łatwo zauważyć, że:\n",
    "\n",
    "$\\qquad$ $\\frac{\\partial J^{(j)} }{\\partial y} = - \\left( z^{(j)} -y^{(j)}\\right) $"
   ]
  },
  {
   "cell_type": "markdown",
   "metadata": {
    "slideshow": {
     "slide_type": "fragment"
    }
   },
   "source": [
    "oraz, że:\n",
    "\n",
    "$\\qquad$ $ \\frac{\\partial a^{(j)}}{\\partial w_i} = x_i^{(j)}$"
   ]
  },
  {
   "cell_type": "markdown",
   "metadata": {
    "slideshow": {
     "slide_type": "fragment"
    }
   },
   "source": [
    "natomiast:\n",
    "\n",
    "$\\qquad$ $\\frac{\\partial y^{(j)}}{\\partial a} = \\frac{d f(a^{(j)})}{da} $"
   ]
  },
  {
   "cell_type": "markdown",
   "metadata": {
    "id": "88YFHNCAG_l2",
    "slideshow": {
     "slide_type": "fragment"
    }
   },
   "source": [
    "Łącząc te wszystkie spostrzeżenia otrzymujemy:\n",
    "\n",
    "$\\qquad$ $ \\Delta w_i^{(j)} = \\eta \\frac{df(a)}{d a}\\left(z^{(j)} - y^{(j)}\\right)x_i^{(j)} = \\eta \\delta^{(j)}x_i^{(j)}$\n",
    "\n",
    "gdzie wprowadziliśmy:\n",
    "\n",
    "$\\qquad$ $\\delta^{(j)} = \\frac{df(a)}{da} \\left( z^{(j)}- y^{(j)}\\right)$"
   ]
  },
  {
   "cell_type": "markdown",
   "metadata": {
    "editable": true,
    "slideshow": {
     "slide_type": "fragment"
    },
    "tags": []
   },
   "source": [
    "## Uczenie nieliniowej sieci: Jak znaleźć błąd dla warstwy ukrytej?\n",
    "### Pomysł: \n",
    "* błąd $\\delta_m^{(j)}$ występujący w ''j'' − tym kroku uczenia na neuronie ''m'' rzutujemy wstecz do wszystkich neuronów, które stanowią wejście dla neuronu ''m'' − tego.\n",
    "* Rzutując, mnożymy błąd przez ten sam współczynnik wagowy, który w czasie propagacji ''w przód'' ważył wejście.\n",
    "\n",
    "\n",
    "<img align=\"left\" src=\"http://brain.fuw.edu.pl/edu/images/7/71/Rzutowanie.png\" width = 800>\n",
    "\n",
    "**Dlaczego?**\n",
    "_Uzasadnienie intuicyjne:_ Jeśli neuron warstwy ukrytej przyczynił się do powstania błędu na neuronie warstwy wyjściowej rzutując ''w przód'' przez dużą wagę, to trzeba mu zwrócić informację o błędzie proporcjonalnie do tej wagi."
   ]
  },
  {
   "cell_type": "markdown",
   "metadata": {
    "editable": true,
    "slideshow": {
     "slide_type": "fragment"
    },
    "tags": []
   },
   "source": [
    "### Uzasadnienie formalne: \n",
    "\n",
    "Reguła ta wynika wprost z gradientowej metody minimalizacji funkcji błędu.\n",
    "Rozważmy sieć dwuwarstwową.\n",
    "\n",
    "<img align=\"left\" src=\"http://brain.fuw.edu.pl/edu/images/b/bf/Backprop_oznaczenia.png\" width=800>\n",
    "\n",
    "\n",
    "Dla wzorca $j$ − tego $k$ − ta jednostka ukryta otrzymuje pobudzenie:\n",
    "\n",
    "$\\qquad$ $a_k^{(j)} = \\sum_{i \\in U}w_i^{k{(j)}}x_i^{(j)}$\n",
    "\n",
    "gdzie: $ U $ - indeksy wejść warstwy ukrytej, $w_i^{k{(j)}}$ - $i$-ta waga $k$-tej jednostki w $j$-tym kroku uczenia.\n",
    "\n",
    "Jednostka ta wytwarza sygnał wyjściowy:\n",
    "\n",
    "$\\qquad$ $V_k^{(j)} = f\\left( a_k ^{(j)}\\right) = f\\left(\\sum_{i \\in U} w_i^{k(j)} x_i^{(j)}\\right) $"
   ]
  },
  {
   "cell_type": "markdown",
   "metadata": {
    "editable": true,
    "slideshow": {
     "slide_type": "fragment"
    },
    "tags": []
   },
   "source": [
    "Jednostka wyjściowa, $n$ − ta, otrzymuje zatem sygnał:\n",
    "\n",
    "$\\qquad$$ a_n^{(j)} = \\sum_{i \\in Wyj} W_i^{n(j)}V_i^{(j)} = \\sum_{i \\in Wyj} \n",
    "W_i^{n(j)}f\\left(\\sum_{i \\in U} w_i^{k(j)}x_i^{(j)}\\right)\n",
    "$\n",
    "\n",
    "$\\qquad$(gdzie: $Wyj$ — indeksy wejść warstwy wyjściowej, uwaga: $a_n^{(j)} \\ne a_k^{(j)}$ dla $ n \\ne k $ !)"
   ]
  },
  {
   "cell_type": "markdown",
   "metadata": {
    "slideshow": {
     "slide_type": "fragment"
    }
   },
   "source": [
    "i wytwarza sygnał wyjściowy: \n",
    "\n",
    "$\\qquad$$y_n^{(j)} = f\\left(a_n^{(j)}\\right) = f\\left(\\sum_{i \\in Wyj} W_i^{n(j)} f\\left(\\sum_{i \\in U} w_i^{k(j)}x_i^{(j)}\\right)\\right)\n",
    "$"
   ]
  },
  {
   "cell_type": "markdown",
   "metadata": {
    "slideshow": {
     "slide_type": "fragment"
    }
   },
   "source": [
    "Miara błędu wygląda tak:\n",
    "\n",
    "$\\qquad$$J(\\mathbf{w}) = \\frac{1}{2}\\sum_{n,j}\\left(z_n^{(j)} - y_n{(j)}\\right)^2 \n",
    "= \\frac{1}{2}\\sum_{n,j} \\left(z_n^{(j)} - f\\left( \\sum_{i \\in Wyj} W_i^{n(j)}f\\left(\\sum_{i \\in U}w_i^{k(j)}x_i^{(j)}\\right)\\right) \\right)^2\n",
    "$\n",
    "\n",
    "i jest _ciągłą i różniczkowalną funkcją wszystkich wag_ , możemy więc ją minimalizować zmieniając wagi w kierunku przeciwnym do gradientu ($\\mathbf{w}$ to wszystkie wagi zarówno $w$ jak i $W$ )."
   ]
  },
  {
   "cell_type": "markdown",
   "metadata": {
    "slideshow": {
     "slide_type": "fragment"
    }
   },
   "source": [
    "Dla warstwy wyjściowej otrzymujemy:\n",
    "\n",
    "$\\qquad$$ \\Delta W_i^{n(j)} = -\\eta \\frac{\\partial J^{(j)}}{\\partial W_i^{n}} = \\eta \\left( z_n^{(j)} - y_n^{(j)}\\right) \\frac{df(a_n^{(j)})}{da} V_k^{(j)} = \\eta \\delta^{(j)} V_k^{(j)} $\n",
    "\n",
    "gdzie oznaczyliśmy: $\\delta_n^{(j)} = \\left( z_n^{(j)} - y_n^{(j)}\\right) \\frac{df(a_n^{(j)})}{da}$"
   ]
  },
  {
   "cell_type": "markdown",
   "metadata": {
    "editable": true,
    "slideshow": {
     "slide_type": "fragment"
    },
    "tags": []
   },
   "source": [
    "Dla warstwy ukrytej otrzymujemy: \n",
    "<img align=\"left\" src=\"http://brain.fuw.edu.pl/edu/images/6/6f/Backprop_2.png\" width=800>\n",
    "\n",
    "$\\qquad$$\\Delta w_i^{k(j)} = -\\eta \\frac{\\partial J^{(j)}}{\\partial w_i^k} = -\\eta \\frac{\\partial J^{(j)}}{\\partial V_k }\\frac{\\partial V_k^{(j)}}{\\partial w_i^k} =$\n",
    "\n",
    "$\\qquad$$ = \\eta \\sum_n \\left(z_n^{(j)} - y_n^{(j)}\\right)\n",
    "\\frac{df(a_n^{(j)})}{d a_n}W_i^n \\frac{df(a_k^{(j)})}{da_k}  x_i^{(j)} =$\n",
    "\n",
    "$\\qquad$$=\\eta \\sum_n \\delta_n^{(j)}W_i^n \\frac{df(a_k^{(j)})}{da_k}x_i^{(j)} =$\n",
    "\n",
    "$\\qquad$$ =\\eta \\frac{df(a_k^{(j)}) }{d a_k} \\sum_n W_i^n \\delta_n^{(j)} =$\n",
    "\n",
    "$\\qquad$$ =\\eta \\delta_k^{(j)} x_i^{(j)} $\n",
    "\n",
    "przy czym zdefiniowaliśmy: \n",
    "\n",
    "$\\qquad$$\\delta_k^{(j)} = \\frac{df(a_k^{(j)}) }{d a_k} \\sum_n W_i^n \\delta_n^{(j)}$\n",
    "\n",
    "Widać, że wzór na zmianę wag, czy to warstwy wejściowej, czy ukrytej ma tę samą postać, różni się jedynie definicją $ \\delta$. Dla warstw ukrytych błąd jest sumą ważoną (wagami połączeń \"do przodu\") błędów popełnionych w wyższej warstwie.\n",
    "\n",
    "Regułę tą można udowodnić dla dowolnej ilości warstw stosując odpowiednią ilość razy regułę łańcuchową."
   ]
  },
  {
   "cell_type": "markdown",
   "metadata": {
    "slideshow": {
     "slide_type": "slide"
    }
   },
   "source": [
    "# Implementacja\n",
    "Przyjrzyjmy się teraz prostej implementacji tego pomysłu:"
   ]
  },
  {
   "cell_type": "code",
   "execution_count": 37,
   "metadata": {
    "slideshow": {
     "slide_type": "fragment"
    }
   },
   "outputs": [],
   "source": [
    "import numpy as np "
   ]
  },
  {
   "cell_type": "markdown",
   "metadata": {
    "slideshow": {
     "slide_type": "fragment"
    }
   },
   "source": [
    "## Zbiór uczący:\n",
    "* wejście, "
   ]
  },
  {
   "cell_type": "code",
   "execution_count": 39,
   "metadata": {
    "slideshow": {
     "slide_type": "-"
    }
   },
   "outputs": [],
   "source": [
    "X = np.array([  [0,0],\n",
    "                [0,1],\n",
    "                [1,0],\n",
    "                [1,1]])"
   ]
  },
  {
   "cell_type": "markdown",
   "metadata": {
    "slideshow": {
     "slide_type": "fragment"
    }
   },
   "source": [
    "* wyjście  "
   ]
  },
  {
   "cell_type": "code",
   "execution_count": 46,
   "metadata": {
    "slideshow": {
     "slide_type": "-"
    }
   },
   "outputs": [],
   "source": [
    " Y = np.array([[0.2,0.8], \n",
    "              [0.8,0.2], \n",
    "              [0.8,0.2],\n",
    "              [0.2,0.8]]) "
   ]
  },
  {
   "cell_type": "markdown",
   "metadata": {
    "slideshow": {
     "slide_type": "fragment"
    }
   },
   "source": [
    "Do rozmiarów wejścia i wyjścia musimy dopasować rozmiary zewnętrznych warstw sieci:    "
   ]
  },
  {
   "cell_type": "code",
   "execution_count": 47,
   "metadata": {
    "slideshow": {
     "slide_type": "-"
    }
   },
   "outputs": [],
   "source": [
    "N_wej = X.shape[1] \n",
    "N_hid = 3\n",
    "N_wyj = Y.shape[1]"
   ]
  },
  {
   "cell_type": "markdown",
   "metadata": {
    "slideshow": {
     "slide_type": "fragment"
    }
   },
   "source": [
    "* inicjujemy połączenia\n",
    "  * wagi ułożone są tak, że w kolejnych wierszach są kolejne neurony \n",
    "  * a w kolumnach wagi od konkretnego neuronu \n",
    "  * to +1 jest wagą dla obciążenia\n",
    "  "
   ]
  },
  {
   "cell_type": "code",
   "execution_count": 48,
   "metadata": {
    "slideshow": {
     "slide_type": "-"
    }
   },
   "outputs": [],
   "source": [
    "w_1 = 2*np.random.random((N_hid, N_wej+1)) - 1# pomiędzy warstwą pierwszą (wejściem) a warstwą ukrytą\n",
    "w_2 = 2*np.random.random((N_wyj, N_hid+1)) - 1                                   "
   ]
  },
  {
   "cell_type": "markdown",
   "metadata": {
    "slideshow": {
     "slide_type": "fragment"
    }
   },
   "source": [
    "Zdefiniujmy jeszcze nieliniowowść występującą w neuronach:"
   ]
  },
  {
   "cell_type": "code",
   "execution_count": 49,
   "metadata": {
    "slideshow": {
     "slide_type": "-"
    }
   },
   "outputs": [],
   "source": [
    "def g(x):\n",
    "    y = 1./(1+np.exp(-x))\n",
    "    \n",
    "    return y"
   ]
  },
  {
   "cell_type": "markdown",
   "metadata": {
    "id": "a4lu-WhWG_m2",
    "slideshow": {
     "slide_type": "fragment"
    }
   },
   "source": [
    "i jej pochodną :"
   ]
  },
  {
   "cell_type": "code",
   "execution_count": 50,
   "metadata": {
    "id": "ILySJ8tYG_m3",
    "slideshow": {
     "slide_type": "-"
    }
   },
   "outputs": [],
   "source": [
    "def g_prim(x):  \n",
    "    y = x*(1-x)\n",
    "    \n",
    "    return y    "
   ]
  },
  {
   "cell_type": "markdown",
   "metadata": {
    "slideshow": {
     "slide_type": "fragment"
    }
   },
   "source": [
    "Wytworzyliśmy następującą strukturę:"
   ]
  },
  {
   "cell_type": "markdown",
   "metadata": {
    "slideshow": {
     "slide_type": "fragment"
    }
   },
   "source": [
    "<img align=\"left\" src=\"https://brain.fuw.edu.pl/edu/images/7/75/Back_prop_forward-2.png\" style=\"width: 1024px;\"/> "
   ]
  },
  {
   "cell_type": "code",
   "execution_count": 52,
   "metadata": {
    "slideshow": {
     "slide_type": "-"
    }
   },
   "outputs": [
    {
     "name": "stdout",
     "output_type": "stream",
     "text": [
      "bl:  [[0.04155823]]\n",
      "bl:  [[0.04489613]]\n",
      "bl:  [[0.04478485]]\n",
      "bl:  [[0.04455257]]\n",
      "bl:  [[0.04401016]]\n",
      "bl:  [[0.04266608]]\n",
      "bl:  [[0.03931027]]\n",
      "bl:  [[0.03264482]]\n",
      "bl:  [[0.02364507]]\n",
      "bl:  [[0.01298665]]\n",
      "bl:  [[0.00488822]]\n",
      "bl:  [[0.00157567]]\n",
      "bl:  [[0.00052727]]\n",
      "bl:  [[0.00019064]]\n",
      "bl:  [[7.35871334e-05]]\n",
      "bl:  [[2.97860949e-05]]\n",
      "bl:  [[1.24675845e-05]]\n",
      "bl:  [[5.34621072e-06]]\n",
      "bl:  [[2.33550493e-06]]\n",
      "bl:  [[1.03675979e-06]]\n",
      "a: 0.202 0.799\n",
      "y: 0.200 0.800\n",
      "\n",
      "a: 0.798 0.201\n",
      "y: 0.800 0.200\n",
      "\n",
      "a: 0.798 0.201\n",
      "y: 0.800 0.200\n",
      "\n",
      "a: 0.202 0.799\n",
      "y: 0.200 0.800\n",
      "\n"
     ]
    }
   ],
   "source": [
    "w_1 = 2*np.random.random((N_hid, N_wej+1)) - 1 # pomiędzy warstwą pierwszą (wejściem) a warstwą ukrytą\n",
    "w_2 = 2*np.random.random((N_wyj, N_hid+1)) - 1 \n",
    "\n",
    "Ncykli = 10000\n",
    "for cykl in range(Ncykli):\n",
    "    bl =0\n",
    "    D_1 = np.zeros((N_hid,N_wej+1))\n",
    "    D_2 = np.zeros((N_wyj,N_hid+1))    \n",
    "    for i in range(0,4):     # weźmy przykład i-ty        \n",
    "        x = X[i,:].reshape(X.shape[1],1)\n",
    "        y = Y[i,:].reshape(Y.shape[1],1)       \n",
    "        # propagacja \"w przód\"\n",
    "        a_0 = np.vstack((1,x))  # z warstwy wejściowej (zerowej) wychodzi a_0\n",
    "        \n",
    "        z_1 = np.dot( w_1, a_0 )# na warstwe 1 wchodzą iloczyny skalarne \n",
    "        a_1 = np.vstack((1, g(z_1))) # dokładamy 1 i dostaję wyjście z warstwy 1\n",
    "        \n",
    "        z_2 = np.dot( w_2, a_1 ) # na warstwe 3 wchodzą iloczyny skalarne \n",
    "        a_2 = g(z_2)\n",
    "        \n",
    "        # ---- na koniec zobaczymy czego sieć się nauczyła:\n",
    "        if cykl==Ncykli-1:\n",
    "            print ('a: %.3f %.3f'%(a_2[0],a_2[1]))\n",
    "            print ('y: %.3f %.3f\\n'%(y[0],y[1]))\n",
    "        #--------------------------------------------------------------------------------\n",
    "        \n",
    "        # propagacja \"wstecz\"\n",
    "        d_2 = (a_2 - y)*g_prim(a_2)\n",
    "        d_1 = np.dot(w_2.T, d_2) * g_prim(a_1)#z_2        \n",
    "        # akumulujemy poprawki \n",
    "        D_2 +=  np.dot( d_2, a_1.T)\n",
    "        D_1 +=  np.dot( d_1[1:], a_0.T)         \n",
    "        bl += np.dot(d_2.T,d_2)        \n",
    "    eta1 = 0.1\n",
    "    # uaktualniamy wagi\n",
    "    w_1 -=  eta1*D_1 \n",
    "    w_2 -=  eta1*D_2    \n",
    "    #wypisujemy info o błędzie\n",
    "    if (cykl% 500) == 0:\n",
    "        print( 'bl: ', bl)"
   ]
  },
  {
   "cell_type": "markdown",
   "metadata": {
    "slideshow": {
     "slide_type": "fragment"
    }
   },
   "source": [
    "<img src=\"https://brain.fuw.edu.pl/edu/images/7/73/Back_prop_backward-2.png\" style=\"width: 1024px;\"/> "
   ]
  },
  {
   "cell_type": "markdown",
   "metadata": {
    "slideshow": {
     "slide_type": "slide"
    }
   },
   "source": [
    "# Klasyczne przykłady zastosowań \n",
    "\n",
    "**XOR**: rozwiązanie metodą wstecznej propagacji dla jednostek sigmoidalnych — jednostki są sterowane w stronę wysycenia. Czas uczenia jest bardzo długi: setki epok prezentacji całego zbioru treningowego."
   ]
  },
  {
   "cell_type": "markdown",
   "metadata": {
    "slideshow": {
     "slide_type": "fragment"
    }
   },
   "source": [
    "**Koder:** Dwuwarstwowa sieć o N wejściach, N wyjściach i M neuronach w warstwie ukrytej (M < N). Chcemy uzyskać autoasocjację czyli X(j) = Y (j). \n",
    "* Praktyczne zastosowanie — kompresja np. obrazów. \n",
    "* Teoretyczne — wyznaczanie możliwości sieci — problem łatwo można skalować i zmieniać jego trudność przez zmianę M/N.\n",
    "* automatyczne konstruowanie cech!\n",
    "![](http://brain.fuw.edu.pl/edu/images/8/86/Koder.png)"
   ]
  },
  {
   "cell_type": "markdown",
   "metadata": {
    "slideshow": {
     "slide_type": "fragment"
    }
   },
   "source": [
    "**NETtalk** Klasyczna praca (Sejnowski i Rosenberg 1987,Complex Systems 1, 145–168): generacja ciągu fonemów z angielskiego tekstu pisanego.\n",
    "* Architektura: 7 × 29 wejść kodujących 7 kolejnych liter, 80 jednostek ukrytych, 26 jednostek wyjściowych kodujacych fonemy.\n",
    "* Zbiór uczący: 1024 słowa podawane w postaci par (litera,fonem)\n",
    "* Efekty: po 10 epokach zrozumiała wymowa, po 50 — 95% odtwarzania zbioru treningowego, 78% na ciągłym tekście źródłowym. Porównanie stanowi system algorytmiczny DEC-talk (jest lepszy)\n",
    "![](http://brain.fuw.edu.pl/edu/images/1/1d/NetTalk.png)"
   ]
  },
  {
   "cell_type": "markdown",
   "metadata": {
    "slideshow": {
     "slide_type": "fragment"
    }
   },
   "source": [
    "**Struktura drugorzędowa białka:** (Quian, Sejnowski (1988), Journal of Molecural Biology 202, 865–884). \n",
    "* Wejście — ruchome okno z 13 aminokwasów. \n",
    "* Na wyjściu odczytujemy prognozę struktury środkowej części okna jako spirali α, arkusza β lub innej struktury. \n",
    "* Efekt: na nowym zbiorze danych dokładność predykcji 62% (w porównaniu do konkurencyjnej metody 53%)\n",
    "\n",
    "Bardziej współczesne badanie w tym zakresie, np.: \n",
    "[AlphaFold](https://www.nature.com/articles/d41586-019-01357-6?utm_source=Nature+Briefing&utm_campaign=4c1d57fdf3-briefing-dy-20190722&utm_medium=email&utm_term=0_c9dfd39373-4c1d57fdf3-43515589 )"
   ]
  },
  {
   "cell_type": "markdown",
   "metadata": {
    "slideshow": {
     "slide_type": "fragment"
    }
   },
   "source": [
    "**Kierowanie samochodem (Pomerlau, 1989):**\n",
    "* Sygnał wejściowy — obraz z kamery video 30 × 32 piksle umocowanej na dachu oraz obraz 8 × 32 piksle z dalmierza kodującego odległość w skali szarości, \n",
    "* warstwa ukryta 29 jednostek, wyjście 45 jednostek ułożonych w linię (środkowa jednostka kodowała jazdę na wprost, boczne — kąt skrętu odpowiednio w lewo lub w prawo).\n",
    "* Zbiór treningowy: 1200 symulowanych fragmentów drogi. Uczenie: około 40 powtórzeń każdego ze wzorców.\n",
    "* Efekt: sieć mogła prowadzić samochód z prędkością około 5 km/h po drodze przez zalesiony obszar wokół kampusu Carrengie-Mellon.\n",
    "Ograniczenie prędkości: moc obliczeniowa komputera — sieć symulowana była na komputerze Sun-3 (metody algorytmiczne dawały prędkość o połowę mniejszą)\n",
    " Przykład kierowania samochodem (czas 3:21-8:38): https://youtu.be/5u4G23_OohI?t=3m21s"
   ]
  },
  {
   "cell_type": "markdown",
   "metadata": {
    "slideshow": {
     "slide_type": "fragment"
    }
   },
   "source": [
    "**Rozpoznawanie ręcznie pisanych kodów pocztowych(Le Cun 1989, Neural Computaion 1 541–551):**\n",
    "<img src=\"http://brain.fuw.edu.pl/edu/images/1/14/Pismo.png\" width=1000>\n",
    "* Preprocessing: rozdzielenie kodów na po jedyncze\tcyfry,\twyskalowanie\tdo standardowych rozmiarów i skwantowanie na tablicę piksli 16 × 16.\n",
    "* W całej sieci było w sumie 1256 jednostek i 9700 niezależnych parametrów. \n",
    "* Nauka na zbiorze 7300 cyfr i test na 2000 cyfr.\n",
    "* Wynik: 1% błędów dla zbioru uczącego i 5% dla testowego. Po dopuszceniu odpowiedzi ”nie wiem” błąd na zbiorze testowym 1%, ale odrzucone było 12% cyfr. Dalszą poprawę generalizacji uzyskano po usunięciu niepotrzebnych wag (99% trafności przy 9% odrzutów)"
   ]
  },
  {
   "cell_type": "markdown",
   "metadata": {
    "slideshow": {
     "slide_type": "skip"
    }
   },
   "source": [
    "## TU KONIEC W 2022 Dalej przeniesione do wyk. 11_sieci_cd"
   ]
  },
  {
   "cell_type": "code",
   "execution_count": null,
   "metadata": {},
   "outputs": [],
   "source": []
  },
  {
   "cell_type": "markdown",
   "metadata": {
    "id": "UF5svQL-G_nN",
    "slideshow": {
     "slide_type": "slide"
    }
   },
   "source": [
    "## Problemy uczenia metodą wstecznej propagacji błędu \n",
    "* Minima lokalne funkcji kosztu. W odróżnieniu od funkcji kosztu dla problemu sieci liniowych w przypadku sieci nieliniowych funkcja kosztu ma zazwyczaj wiele lokalnych minimów. Algorytm wstecznej propagacji błędu jako algorytm spadku gradientowego nie jest odporny na ich występowanie. \n",
    "* Generalizacja: Uczenie z wykorzystaniem tylko jednego ciągu uczącego i reguły wstecznej propagacji błędu może prowadzić do problemów z generalizacją, czyli wynikami działania sieci na danych nie występujących w ciągu uczącym."
   ]
  },
  {
   "cell_type": "markdown",
   "metadata": {
    "slideshow": {
     "slide_type": "slide"
    }
   },
   "source": [
    "## Jakie mogą być przyczyny złej generalizacji?"
   ]
  },
  {
   "cell_type": "markdown",
   "metadata": {
    "slideshow": {
     "slide_type": "fragment"
    }
   },
   "source": [
    "* Architektura nie wystarczająca do reprezentacji relacji"
   ]
  },
  {
   "cell_type": "markdown",
   "metadata": {
    "slideshow": {
     "slide_type": "fragment"
    }
   },
   "source": [
    "* Architektura zbyt złożona ... \n",
    "... do danego odwzorowania i zbyt długi proces uczenia:"
   ]
  },
  {
   "cell_type": "markdown",
   "metadata": {
    "slideshow": {
     "slide_type": "fragment"
    }
   },
   "source": [
    "* Dotyczy to sytuacji, gdy zbiór uczący zawiera przykłady danej relacji z szumem. Sieć ma tak dużo parametrów, że jest w stanie nauczyć się szczegółów zbioru uczącego nie związanych z interesującą nas relacją. Zjawisko takie nazywamy ''przeuczeniem''."
   ]
  },
  {
   "cell_type": "markdown",
   "metadata": {
    "slideshow": {
     "slide_type": "fragment"
    }
   },
   "source": [
    "## Uczenie z kryterium wczesnego stopu \n",
    "*  Oprócz zbioru uczącego posiadamy rozłączny z nim zbiór testowy.\n",
    "* W trakcie uczenia obliczamy błąd popełniany przez sieć na zbiorze uczącym i na zbiorze testowym. \n",
    "* W większości przypadków powinniśmy w początkowej fazie uczenia obserwować malenie błędu na obu zbiorach. \n",
    "* Oczekujemy, że w pewnym momencie, kiedy sieć zaczyna się uczyć zbędnych szczegółów to błąd na zbiorze uczącym będzie nadal malał, a na zbiorze testowym zacznie rosnąć. \n",
    "* Uczenie prowadzimy tylko do momentu, kiedy błąd na obu zbiorach maleje. \n",
    "\n",
    "<img src=\"https://brain.fuw.edu.pl/edu/images/7/76/Wczesny_stop.png\" style=\"width:1600px;\" />"
   ]
  },
  {
   "cell_type": "markdown",
   "metadata": {
    "slideshow": {
     "slide_type": "fragment"
    }
   },
   "source": [
    "## Optymalizacja architektury: Regularyzacja\n",
    "> Pomysł: zacznijmy od dużej sieci i po pewnym cyklu uczenia przeanalizujmy połączenia w sieci usuwając mało istotne połączenia lub jednostki. Następnie powtórzmy uczenie.\n",
    "\n",
    "Można spróbować tak zmodyfikować regułę zmiany wag, aby połączenia nieistotne same dążyły do 0; po standardowym kroku uczenia zmniejszamy wagi: \n",
    "\n",
    "$\\qquad$ $ w_q^{p(j+1)} = (1- \\epsilon) w_q^{p(j)} $   (*)\n",
    "\n",
    "Jest to równoważne modyfikacji funkcji kosztu:\n",
    "\n",
    "$\\qquad$ $J = J_0 + \\frac{1}{2} \\gamma \\sum_{pq}\\left(w_q^p \\right)^2$\n",
    "\n",
    "przy $\\epsilon  = \\alpha \\gamma$."
   ]
  },
  {
   "cell_type": "markdown",
   "metadata": {
    "slideshow": {
     "slide_type": "fragment"
    }
   },
   "source": [
    "Konsekwencje:\n",
    "* rozwiązanie jest “gładsze”\n",
    "* wygładzenie funkcji kosztu likwiduje część minimów lokalnych\n",
    "\n",
    "Powyższa funkcja kosztu prowadzi do preferowania większej liczby małych wag zamiast jednej dużej. Sytuację poprawia wyrażenie:\n",
    "\n",
    "$\\qquad$ $ J = J_0 +\\frac{1}{2}\\gamma \\sum_{pq} \\frac{\\left(w_q^p\\right)^2}{1+\\left(w_q^p \\right)^2}$\n",
    "\n",
    "co jest równoważne (*) przy \n",
    "\n",
    "$\\qquad$ $\\epsilon_q^p = \\frac{\\alpha \\gamma}{\\left( 1+ \\left(w_q^p \\right)^2\\right)^2}$. \n",
    "\n",
    "Dzięki temu małe wagi zanikają szybciej niż duże. To załatwia problem zanikania niepotrzebnych połączeń. "
   ]
  },
  {
   "cell_type": "markdown",
   "metadata": {
    "slideshow": {
     "slide_type": "fragment"
    }
   },
   "source": [
    "Aby zautomatyzować usuwanie zbędnych jednostek możemy zastosować:\n",
    "\n",
    "$\\qquad$ $ \\epsilon^p = \\frac{\\alpha \\gamma}{ \\left( 1+\\sum_q \\left( w_q^p \\right)^2\\right)^2}$\n",
    "dla wszystkich wejść do jednostki $p$. \n",
    "\n",
    "Powoduje to szybsze zanikanie wag dla jednostek, które mają małe wagi wejściowe."
   ]
  },
  {
   "cell_type": "markdown",
   "metadata": {
    "slideshow": {
     "slide_type": "slide"
    }
   },
   "source": [
    "## Diagnostyka i debugowanie algorytmu uczącego\n",
    "\n",
    "Załóżmy, że zaimplementowaliśmy algorytm uczący na określonym (niewielkim) zbiorze danych. Mamy 20 % błędnych decyzji. Co z tym robić dalej?\n",
    "\n",
    "Potencjalnie można:\n",
    "* poprawić algorytm\n",
    "* zdobyć więcej przykładów do ciągu uczącego\n",
    "* wypróbować więcej cech lub ograniczyć przestrzeń cech\n",
    "* pouczyć dłużej albo zmienić algorytm optymalizacyjny\n",
    "* zmienić parametry uczenia (współczynnik szybkości, regularyzacji, itp.)\n",
    "\n",
    "Każda z tych metod naprawia jakiś (ale inny) problem."
   ]
  },
  {
   "cell_type": "markdown",
   "metadata": {
    "slideshow": {
     "slide_type": "fragment"
    }
   },
   "source": [
    "Aby zdiagnozować problem dobrze jest analizować wykresy:\n",
    "* błędu od długości uczenia \n",
    "  * czy algorytm jest zbieżny? -> jeśli nie to możemy próbować poprawić to zmniejszając prędkość uczenia lub zmieniając procedurę optymalizacyjną\n",
    "  "
   ]
  },
  {
   "cell_type": "markdown",
   "metadata": {
    "slideshow": {
     "slide_type": "fragment"
    }
   },
   "source": [
    "* błędu od rozmiaru zbioru uczącego\n",
    "  * Jeśli błąd na zbiorze uczącym jest dużo niższy niż na testowym to możemy mieć problem przeuczenia\n",
    "    * można: dodać przykładów, zmniejszyć rozmiar wejścia, włączyć regularyzację\n",
    "    "
   ]
  },
  {
   "cell_type": "markdown",
   "metadata": {
    "slideshow": {
     "slide_type": "fragment"
    }
   },
   "source": [
    "  * Duży błąd na zbiorze uczącym i na testowym -> źle dobrane cechy lub struktura klasyfikatora \n",
    "    *  zmienić zestaw cech \n",
    "    * wzbogacić strukturę klasyfikatora (np. więcej jednostek ukrytych)"
   ]
  },
  {
   "cell_type": "markdown",
   "metadata": {
    "slideshow": {
     "slide_type": "slide"
    }
   },
   "source": [
    "# Podsumowanie\n",
    "- Sieci liniowe: odwzorowania liniowe, filtry adaptywne\n",
    "- Sieci nieliniowe: klasyfikacja i regresja\n",
    "- Uczenie: metoda wstecznej propagacji błędu\n",
    "- Proste sposoby na przeuczanie:\n",
    "    - wczesny stop\n",
    "    - regularyzacja\n",
    "- Diagnostyka"
   ]
  }
 ],
 "metadata": {
  "anaconda-cloud": {},
  "celltoolbar": "Slideshow",
  "kernelspec": {
   "display_name": "Python 3 (ipykernel)",
   "language": "python",
   "name": "python3"
  },
  "language_info": {
   "codemirror_mode": {
    "name": "ipython",
    "version": 3
   },
   "file_extension": ".py",
   "mimetype": "text/x-python",
   "name": "python",
   "nbconvert_exporter": "python",
   "pygments_lexer": "ipython3",
   "version": "3.11.6"
  },
  "livereveal": {
   "scroll": true,
   "start_slideshow_at": "selected",
   "theme": "serif",
   "transition": "fade",
   "width": 1600
  }
 },
 "nbformat": 4,
 "nbformat_minor": 4
}
