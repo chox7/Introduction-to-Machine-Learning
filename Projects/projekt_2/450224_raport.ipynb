{
 "cells": [
  {
   "cell_type": "code",
   "execution_count": 70,
   "metadata": {},
   "outputs": [],
   "source": [
    "import numpy as np\n",
    "import pandas as pd\n",
    "import matplotlib.pyplot as plt\n",
    "import seaborn as sns\n",
    "import plotly.express as px\n",
    "import gdown\n",
    "\n",
    "from scipy import sparse\n",
    "\n",
    "from sklearn.model_selection import train_test_split, KFold, GridSearchCV, cross_val_score\n",
    "from sklearn.preprocessing import StandardScaler, FunctionTransformer\n",
    "from sklearn.pipeline import Pipeline\n",
    "from sklearn.linear_model import ElasticNet\n",
    "from sklearn.ensemble import RandomForestRegressor\n",
    "from sklearn.metrics import mean_squared_error, mean_absolute_error, r2_score\n",
    "from sklearn.dummy import DummyRegressor\n",
    "\n",
    "import optuna\n",
    "from joblib import dump, load\n"
   ]
  },
  {
   "cell_type": "code",
   "execution_count": 71,
   "metadata": {},
   "outputs": [],
   "source": [
    "#gdown.download_folder(\"https://drive.google.com/drive/folders/1-Alb_OJs3KC4eSrJaf33bOBBWOm1sdRI?usp=drive_link\", quiet=True)"
   ]
  },
  {
   "cell_type": "code",
   "execution_count": 72,
   "metadata": {},
   "outputs": [],
   "source": [
    "#!gzip -d -f 5/*.gz"
   ]
  },
  {
   "cell_type": "markdown",
   "metadata": {},
   "source": [
    "# 1. Eksploracja (7 pkt.)"
   ]
  },
  {
   "cell_type": "code",
   "execution_count": 73,
   "metadata": {},
   "outputs": [
    {
     "data": {
      "text/html": [
       "<div>\n",
       "<style scoped>\n",
       "    .dataframe tbody tr th:only-of-type {\n",
       "        vertical-align: middle;\n",
       "    }\n",
       "\n",
       "    .dataframe tbody tr th {\n",
       "        vertical-align: top;\n",
       "    }\n",
       "\n",
       "    .dataframe thead th {\n",
       "        text-align: right;\n",
       "    }\n",
       "</style>\n",
       "<table border=\"1\" class=\"dataframe\">\n",
       "  <thead>\n",
       "    <tr style=\"text-align: right;\">\n",
       "      <th></th>\n",
       "      <th>LINC01128</th>\n",
       "      <th>LINC00115</th>\n",
       "      <th>HES4</th>\n",
       "      <th>ISG15</th>\n",
       "      <th>TNFRSF18</th>\n",
       "      <th>TNFRSF4</th>\n",
       "      <th>SDF4</th>\n",
       "      <th>B3GALT6</th>\n",
       "      <th>C1QTNF12</th>\n",
       "      <th>UBE2J2</th>\n",
       "      <th>...</th>\n",
       "      <th>MT-CO1</th>\n",
       "      <th>MT-ATP8</th>\n",
       "      <th>MT-ATP6</th>\n",
       "      <th>MT-ND3</th>\n",
       "      <th>MT-ND4</th>\n",
       "      <th>MT-ND6</th>\n",
       "      <th>MT-CYB</th>\n",
       "      <th>AC011043.1</th>\n",
       "      <th>AL592183.1</th>\n",
       "      <th>AC240274.1</th>\n",
       "    </tr>\n",
       "  </thead>\n",
       "  <tbody>\n",
       "    <tr>\n",
       "      <th>0</th>\n",
       "      <td>0.0</td>\n",
       "      <td>0.0</td>\n",
       "      <td>0.0</td>\n",
       "      <td>0.000000</td>\n",
       "      <td>0.0</td>\n",
       "      <td>0.0</td>\n",
       "      <td>0.000000</td>\n",
       "      <td>0.000000</td>\n",
       "      <td>0.0</td>\n",
       "      <td>0.000000</td>\n",
       "      <td>...</td>\n",
       "      <td>3.416833</td>\n",
       "      <td>0.000000</td>\n",
       "      <td>3.743885</td>\n",
       "      <td>3.416833</td>\n",
       "      <td>3.743885</td>\n",
       "      <td>0.000000</td>\n",
       "      <td>2.927649</td>\n",
       "      <td>0.0</td>\n",
       "      <td>0.0</td>\n",
       "      <td>0.0</td>\n",
       "    </tr>\n",
       "    <tr>\n",
       "      <th>1</th>\n",
       "      <td>0.0</td>\n",
       "      <td>0.0</td>\n",
       "      <td>0.0</td>\n",
       "      <td>1.730041</td>\n",
       "      <td>0.0</td>\n",
       "      <td>0.0</td>\n",
       "      <td>0.000000</td>\n",
       "      <td>0.656575</td>\n",
       "      <td>0.0</td>\n",
       "      <td>0.000000</td>\n",
       "      <td>...</td>\n",
       "      <td>3.591011</td>\n",
       "      <td>0.000000</td>\n",
       "      <td>2.763222</td>\n",
       "      <td>3.020021</td>\n",
       "      <td>3.186535</td>\n",
       "      <td>0.000000</td>\n",
       "      <td>2.014535</td>\n",
       "      <td>0.0</td>\n",
       "      <td>0.0</td>\n",
       "      <td>0.0</td>\n",
       "    </tr>\n",
       "    <tr>\n",
       "      <th>2</th>\n",
       "      <td>0.0</td>\n",
       "      <td>0.0</td>\n",
       "      <td>0.0</td>\n",
       "      <td>0.772655</td>\n",
       "      <td>0.0</td>\n",
       "      <td>0.0</td>\n",
       "      <td>0.772655</td>\n",
       "      <td>0.000000</td>\n",
       "      <td>0.0</td>\n",
       "      <td>0.000000</td>\n",
       "      <td>...</td>\n",
       "      <td>3.443720</td>\n",
       "      <td>1.203277</td>\n",
       "      <td>3.732723</td>\n",
       "      <td>3.813070</td>\n",
       "      <td>3.237723</td>\n",
       "      <td>1.203277</td>\n",
       "      <td>3.325276</td>\n",
       "      <td>0.0</td>\n",
       "      <td>0.0</td>\n",
       "      <td>0.0</td>\n",
       "    </tr>\n",
       "    <tr>\n",
       "      <th>3</th>\n",
       "      <td>0.0</td>\n",
       "      <td>0.0</td>\n",
       "      <td>0.0</td>\n",
       "      <td>0.782342</td>\n",
       "      <td>0.0</td>\n",
       "      <td>0.0</td>\n",
       "      <td>0.000000</td>\n",
       "      <td>0.000000</td>\n",
       "      <td>0.0</td>\n",
       "      <td>0.782342</td>\n",
       "      <td>...</td>\n",
       "      <td>3.461077</td>\n",
       "      <td>1.215854</td>\n",
       "      <td>3.208088</td>\n",
       "      <td>3.254951</td>\n",
       "      <td>3.383647</td>\n",
       "      <td>0.000000</td>\n",
       "      <td>2.094271</td>\n",
       "      <td>0.0</td>\n",
       "      <td>0.0</td>\n",
       "      <td>0.0</td>\n",
       "    </tr>\n",
       "    <tr>\n",
       "      <th>4</th>\n",
       "      <td>0.0</td>\n",
       "      <td>0.0</td>\n",
       "      <td>0.0</td>\n",
       "      <td>0.000000</td>\n",
       "      <td>0.0</td>\n",
       "      <td>0.0</td>\n",
       "      <td>0.000000</td>\n",
       "      <td>0.000000</td>\n",
       "      <td>0.0</td>\n",
       "      <td>0.000000</td>\n",
       "      <td>...</td>\n",
       "      <td>2.747173</td>\n",
       "      <td>0.714296</td>\n",
       "      <td>2.984138</td>\n",
       "      <td>2.436021</td>\n",
       "      <td>2.677984</td>\n",
       "      <td>0.714296</td>\n",
       "      <td>2.436021</td>\n",
       "      <td>0.0</td>\n",
       "      <td>0.0</td>\n",
       "      <td>0.0</td>\n",
       "    </tr>\n",
       "  </tbody>\n",
       "</table>\n",
       "<p>5 rows × 9228 columns</p>\n",
       "</div>"
      ],
      "text/plain": [
       "   LINC01128  LINC00115  HES4     ISG15  TNFRSF18  TNFRSF4      SDF4  \\\n",
       "0        0.0        0.0   0.0  0.000000       0.0      0.0  0.000000   \n",
       "1        0.0        0.0   0.0  1.730041       0.0      0.0  0.000000   \n",
       "2        0.0        0.0   0.0  0.772655       0.0      0.0  0.772655   \n",
       "3        0.0        0.0   0.0  0.782342       0.0      0.0  0.000000   \n",
       "4        0.0        0.0   0.0  0.000000       0.0      0.0  0.000000   \n",
       "\n",
       "    B3GALT6  C1QTNF12    UBE2J2  ...    MT-CO1   MT-ATP8   MT-ATP6    MT-ND3  \\\n",
       "0  0.000000       0.0  0.000000  ...  3.416833  0.000000  3.743885  3.416833   \n",
       "1  0.656575       0.0  0.000000  ...  3.591011  0.000000  2.763222  3.020021   \n",
       "2  0.000000       0.0  0.000000  ...  3.443720  1.203277  3.732723  3.813070   \n",
       "3  0.000000       0.0  0.782342  ...  3.461077  1.215854  3.208088  3.254951   \n",
       "4  0.000000       0.0  0.000000  ...  2.747173  0.714296  2.984138  2.436021   \n",
       "\n",
       "     MT-ND4    MT-ND6    MT-CYB  AC011043.1  AL592183.1  AC240274.1  \n",
       "0  3.743885  0.000000  2.927649         0.0         0.0         0.0  \n",
       "1  3.186535  0.000000  2.014535         0.0         0.0         0.0  \n",
       "2  3.237723  1.203277  3.325276         0.0         0.0         0.0  \n",
       "3  3.383647  0.000000  2.094271         0.0         0.0         0.0  \n",
       "4  2.677984  0.714296  2.436021         0.0         0.0         0.0  \n",
       "\n",
       "[5 rows x 9228 columns]"
      ]
     },
     "execution_count": 73,
     "metadata": {},
     "output_type": "execute_result"
    }
   ],
   "source": [
    "X = pd.read_csv('5/X_train.csv').astype('float32')\n",
    "X.head()"
   ]
  },
  {
   "cell_type": "code",
   "execution_count": 74,
   "metadata": {},
   "outputs": [
    {
     "data": {
      "text/html": [
       "<div>\n",
       "<style scoped>\n",
       "    .dataframe tbody tr th:only-of-type {\n",
       "        vertical-align: middle;\n",
       "    }\n",
       "\n",
       "    .dataframe tbody tr th {\n",
       "        vertical-align: top;\n",
       "    }\n",
       "\n",
       "    .dataframe thead th {\n",
       "        text-align: right;\n",
       "    }\n",
       "</style>\n",
       "<table border=\"1\" class=\"dataframe\">\n",
       "  <thead>\n",
       "    <tr style=\"text-align: right;\">\n",
       "      <th></th>\n",
       "      <th>Expected</th>\n",
       "    </tr>\n",
       "    <tr>\n",
       "      <th>Id</th>\n",
       "      <th></th>\n",
       "    </tr>\n",
       "  </thead>\n",
       "  <tbody>\n",
       "    <tr>\n",
       "      <th>0</th>\n",
       "      <td>1.079152</td>\n",
       "    </tr>\n",
       "    <tr>\n",
       "      <th>1</th>\n",
       "      <td>2.445027</td>\n",
       "    </tr>\n",
       "    <tr>\n",
       "      <th>2</th>\n",
       "      <td>0.000000</td>\n",
       "    </tr>\n",
       "    <tr>\n",
       "      <th>3</th>\n",
       "      <td>2.082076</td>\n",
       "    </tr>\n",
       "    <tr>\n",
       "      <th>4</th>\n",
       "      <td>2.012017</td>\n",
       "    </tr>\n",
       "  </tbody>\n",
       "</table>\n",
       "</div>"
      ],
      "text/plain": [
       "    Expected\n",
       "Id          \n",
       "0   1.079152\n",
       "1   2.445027\n",
       "2   0.000000\n",
       "3   2.082076\n",
       "4   2.012017"
      ]
     },
     "execution_count": 74,
     "metadata": {},
     "output_type": "execute_result"
    }
   ],
   "source": [
    "y = pd.read_csv('5/y_train.csv').set_index(\"Id\").astype('float32')\n",
    "y.head()"
   ]
  },
  {
   "cell_type": "code",
   "execution_count": 75,
   "metadata": {},
   "outputs": [
    {
     "data": {
      "text/html": [
       "<div>\n",
       "<style scoped>\n",
       "    .dataframe tbody tr th:only-of-type {\n",
       "        vertical-align: middle;\n",
       "    }\n",
       "\n",
       "    .dataframe tbody tr th {\n",
       "        vertical-align: top;\n",
       "    }\n",
       "\n",
       "    .dataframe thead th {\n",
       "        text-align: right;\n",
       "    }\n",
       "</style>\n",
       "<table border=\"1\" class=\"dataframe\">\n",
       "  <thead>\n",
       "    <tr style=\"text-align: right;\">\n",
       "      <th></th>\n",
       "      <th>LINC01128</th>\n",
       "      <th>LINC00115</th>\n",
       "      <th>HES4</th>\n",
       "      <th>ISG15</th>\n",
       "      <th>TNFRSF18</th>\n",
       "      <th>TNFRSF4</th>\n",
       "      <th>SDF4</th>\n",
       "      <th>B3GALT6</th>\n",
       "      <th>C1QTNF12</th>\n",
       "      <th>UBE2J2</th>\n",
       "      <th>...</th>\n",
       "      <th>MT-CO1</th>\n",
       "      <th>MT-ATP8</th>\n",
       "      <th>MT-ATP6</th>\n",
       "      <th>MT-ND3</th>\n",
       "      <th>MT-ND4</th>\n",
       "      <th>MT-ND6</th>\n",
       "      <th>MT-CYB</th>\n",
       "      <th>AC011043.1</th>\n",
       "      <th>AL592183.1</th>\n",
       "      <th>AC240274.1</th>\n",
       "    </tr>\n",
       "  </thead>\n",
       "  <tbody>\n",
       "    <tr>\n",
       "      <th>0</th>\n",
       "      <td>0.0</td>\n",
       "      <td>0.0</td>\n",
       "      <td>0.0</td>\n",
       "      <td>0.000000</td>\n",
       "      <td>0.000000</td>\n",
       "      <td>0.0</td>\n",
       "      <td>0.000000</td>\n",
       "      <td>0.0</td>\n",
       "      <td>0.0</td>\n",
       "      <td>0.565192</td>\n",
       "      <td>...</td>\n",
       "      <td>3.720102</td>\n",
       "      <td>0.924088</td>\n",
       "      <td>3.169415</td>\n",
       "      <td>3.317543</td>\n",
       "      <td>2.454189</td>\n",
       "      <td>0.000000</td>\n",
       "      <td>2.386670</td>\n",
       "      <td>0.0</td>\n",
       "      <td>0.0</td>\n",
       "      <td>0.0</td>\n",
       "    </tr>\n",
       "    <tr>\n",
       "      <th>1</th>\n",
       "      <td>0.0</td>\n",
       "      <td>0.0</td>\n",
       "      <td>0.0</td>\n",
       "      <td>0.973258</td>\n",
       "      <td>0.973258</td>\n",
       "      <td>0.0</td>\n",
       "      <td>0.973258</td>\n",
       "      <td>0.0</td>\n",
       "      <td>0.0</td>\n",
       "      <td>0.000000</td>\n",
       "      <td>...</td>\n",
       "      <td>3.180208</td>\n",
       "      <td>0.000000</td>\n",
       "      <td>2.527797</td>\n",
       "      <td>2.222759</td>\n",
       "      <td>2.651299</td>\n",
       "      <td>0.000000</td>\n",
       "      <td>1.781652</td>\n",
       "      <td>0.0</td>\n",
       "      <td>0.0</td>\n",
       "      <td>0.0</td>\n",
       "    </tr>\n",
       "    <tr>\n",
       "      <th>2</th>\n",
       "      <td>0.0</td>\n",
       "      <td>0.0</td>\n",
       "      <td>0.0</td>\n",
       "      <td>1.055984</td>\n",
       "      <td>0.000000</td>\n",
       "      <td>0.0</td>\n",
       "      <td>1.055984</td>\n",
       "      <td>0.0</td>\n",
       "      <td>0.0</td>\n",
       "      <td>0.000000</td>\n",
       "      <td>...</td>\n",
       "      <td>2.647848</td>\n",
       "      <td>1.558061</td>\n",
       "      <td>3.786924</td>\n",
       "      <td>3.433885</td>\n",
       "      <td>2.772490</td>\n",
       "      <td>1.055984</td>\n",
       "      <td>2.883304</td>\n",
       "      <td>0.0</td>\n",
       "      <td>0.0</td>\n",
       "      <td>0.0</td>\n",
       "    </tr>\n",
       "    <tr>\n",
       "      <th>3</th>\n",
       "      <td>0.0</td>\n",
       "      <td>0.0</td>\n",
       "      <td>0.0</td>\n",
       "      <td>0.000000</td>\n",
       "      <td>0.000000</td>\n",
       "      <td>0.0</td>\n",
       "      <td>0.000000</td>\n",
       "      <td>0.0</td>\n",
       "      <td>0.0</td>\n",
       "      <td>0.000000</td>\n",
       "      <td>...</td>\n",
       "      <td>2.956841</td>\n",
       "      <td>1.536313</td>\n",
       "      <td>3.879840</td>\n",
       "      <td>3.952472</td>\n",
       "      <td>3.278350</td>\n",
       "      <td>0.000000</td>\n",
       "      <td>3.521253</td>\n",
       "      <td>0.0</td>\n",
       "      <td>0.0</td>\n",
       "      <td>0.0</td>\n",
       "    </tr>\n",
       "    <tr>\n",
       "      <th>4</th>\n",
       "      <td>0.0</td>\n",
       "      <td>0.0</td>\n",
       "      <td>0.0</td>\n",
       "      <td>1.132702</td>\n",
       "      <td>0.000000</td>\n",
       "      <td>0.0</td>\n",
       "      <td>0.000000</td>\n",
       "      <td>0.0</td>\n",
       "      <td>0.0</td>\n",
       "      <td>0.000000</td>\n",
       "      <td>...</td>\n",
       "      <td>2.938329</td>\n",
       "      <td>0.000000</td>\n",
       "      <td>3.267604</td>\n",
       "      <td>3.092873</td>\n",
       "      <td>2.242424</td>\n",
       "      <td>0.000000</td>\n",
       "      <td>2.123950</td>\n",
       "      <td>0.0</td>\n",
       "      <td>0.0</td>\n",
       "      <td>0.0</td>\n",
       "    </tr>\n",
       "  </tbody>\n",
       "</table>\n",
       "<p>5 rows × 9228 columns</p>\n",
       "</div>"
      ],
      "text/plain": [
       "   LINC01128  LINC00115  HES4     ISG15  TNFRSF18  TNFRSF4      SDF4  B3GALT6  \\\n",
       "0        0.0        0.0   0.0  0.000000  0.000000      0.0  0.000000      0.0   \n",
       "1        0.0        0.0   0.0  0.973258  0.973258      0.0  0.973258      0.0   \n",
       "2        0.0        0.0   0.0  1.055984  0.000000      0.0  1.055984      0.0   \n",
       "3        0.0        0.0   0.0  0.000000  0.000000      0.0  0.000000      0.0   \n",
       "4        0.0        0.0   0.0  1.132702  0.000000      0.0  0.000000      0.0   \n",
       "\n",
       "   C1QTNF12    UBE2J2  ...    MT-CO1   MT-ATP8   MT-ATP6    MT-ND3    MT-ND4  \\\n",
       "0       0.0  0.565192  ...  3.720102  0.924088  3.169415  3.317543  2.454189   \n",
       "1       0.0  0.000000  ...  3.180208  0.000000  2.527797  2.222759  2.651299   \n",
       "2       0.0  0.000000  ...  2.647848  1.558061  3.786924  3.433885  2.772490   \n",
       "3       0.0  0.000000  ...  2.956841  1.536313  3.879840  3.952472  3.278350   \n",
       "4       0.0  0.000000  ...  2.938329  0.000000  3.267604  3.092873  2.242424   \n",
       "\n",
       "     MT-ND6    MT-CYB  AC011043.1  AL592183.1  AC240274.1  \n",
       "0  0.000000  2.386670         0.0         0.0         0.0  \n",
       "1  0.000000  1.781652         0.0         0.0         0.0  \n",
       "2  1.055984  2.883304         0.0         0.0         0.0  \n",
       "3  0.000000  3.521253         0.0         0.0         0.0  \n",
       "4  0.000000  2.123950         0.0         0.0         0.0  \n",
       "\n",
       "[5 rows x 9228 columns]"
      ]
     },
     "execution_count": 75,
     "metadata": {},
     "output_type": "execute_result"
    }
   ],
   "source": [
    "X_task = pd.read_csv('5/X_test.csv').astype('float32')\n",
    "X_task.head()"
   ]
  },
  {
   "cell_type": "markdown",
   "metadata": {},
   "source": [
    "## (a)\n",
    "Sprawdź, ile obserwacji i zmiennych zawierają wczytane dane treningowe oraz testowe. Przyjrzyj się typom zmiennych i, jeśli uznasz to za słuszne, dokonaj odpowiedniej konwersji przed dalszą analizą. Upewnij się, czy dane są kompletne."
   ]
  },
  {
   "cell_type": "code",
   "execution_count": 76,
   "metadata": {},
   "outputs": [
    {
     "name": "stdout",
     "output_type": "stream",
     "text": [
      "X data shape: (3794, 9228)\n",
      "y data shape: (3794, 1)\n",
      "X_task data shape: (670, 9228)\n"
     ]
    }
   ],
   "source": [
    "print(\"X data shape:\", X.shape)\n",
    "print(\"y data shape:\", y.shape)\n",
    "print(\"X_task data shape:\", X_task.shape)"
   ]
  },
  {
   "cell_type": "markdown",
   "metadata": {},
   "source": [
    "**Analiza ilości obserwacji i zmiennych:**\n",
    "- X_train zawiera 3794 obserwacje i 9228 zmiennych.\n",
    "- y_train zawiera 3794 obserwacje i 1 zmienną.\n",
    "- X_test zawiera 670 obserwacji i 9228 zmiennych."
   ]
  },
  {
   "cell_type": "code",
   "execution_count": 77,
   "metadata": {},
   "outputs": [
    {
     "name": "stdout",
     "output_type": "stream",
     "text": [
      "<class 'pandas.core.frame.DataFrame'>\n",
      "RangeIndex: 3794 entries, 0 to 3793\n",
      "Columns: 9228 entries, LINC01128 to AC240274.1\n",
      "dtypes: float32(9228)\n",
      "memory usage: 133.6 MB\n",
      "None \n",
      "\n",
      "<class 'pandas.core.frame.DataFrame'>\n",
      "Index: 3794 entries, 0 to 3793\n",
      "Data columns (total 1 columns):\n",
      " #   Column    Non-Null Count  Dtype  \n",
      "---  ------    --------------  -----  \n",
      " 0   Expected  3794 non-null   float32\n",
      "dtypes: float32(1)\n",
      "memory usage: 44.5 KB\n",
      "None \n",
      "\n",
      "<class 'pandas.core.frame.DataFrame'>\n",
      "RangeIndex: 670 entries, 0 to 669\n",
      "Columns: 9228 entries, LINC01128 to AC240274.1\n",
      "dtypes: float32(9228)\n",
      "memory usage: 23.6 MB\n",
      "None \n",
      "\n"
     ]
    }
   ],
   "source": [
    "print(X.info(),\"\\n\")\n",
    "print(y.info(),\"\\n\")\n",
    "print(X_task.info(),\"\\n\")"
   ]
  },
  {
   "cell_type": "markdown",
   "metadata": {},
   "source": [
    "Wszystkie zmienne zostały już przekształcone do optymalnego formatu float32. Dodatkowo, stwierdzono, że zarówno zbiory danych treningowych, jak i testowych są w pełni kompletne, co oznacza brak jakichkolwiek brakujących wartości (NULL). Dodatkowo nalezy sprawdzić, czy nie występują zadne zmienne z samymi zerowymi wartościami."
   ]
  },
  {
   "cell_type": "code",
   "execution_count": 78,
   "metadata": {},
   "outputs": [
    {
     "name": "stdout",
     "output_type": "stream",
     "text": [
      "228\n",
      "0\n",
      "345\n"
     ]
    }
   ],
   "source": [
    "print((X == 0).all(axis=0).sum())\n",
    "print((y == 0).all(axis=0).sum())\n",
    "print((X_task == 0).all(axis=0).sum())"
   ]
  },
  {
   "cell_type": "markdown",
   "metadata": {},
   "source": [
    "Uzyskano następujące wnioski:\n",
    "- Dla X_train znaleziono 228 kolumn, w których wszystkie wartości są równe 0.\n",
    "- Dla y_train nie znaleziono żadnej kolumny, w której wszystkie wartości są równe 0, co jest oczekiwanym wynikiem, ponieważ y_train reprezentuje wektor wartości docelowych.\n",
    "- Dla X_test znaleziono 345 kolumn, w których wszystkie wartości są równe 0."
   ]
  },
  {
   "cell_type": "code",
   "execution_count": 79,
   "metadata": {},
   "outputs": [],
   "source": [
    "columns_to_remove = X.columns[(X == 0).all(axis=0)]\n",
    "X = X.drop(columns=columns_to_remove)\n",
    "X_task = X_task.drop(columns=columns_to_remove)"
   ]
  },
  {
   "cell_type": "markdown",
   "metadata": {},
   "source": [
    "W ten sposób, dokonałem usunięcia tych kolumn z zestawów danych treningowych (X_train) i testowych (X_test), które zawierają wyłącznie wartości zerowe dla wszystkich obserwacji dla zestawu danych treningowych (X_train). Kolumny te nie wniosłyby zadnej wartości do modelu predykcyjnego."
   ]
  },
  {
   "cell_type": "markdown",
   "metadata": {},
   "source": [
    "## (b)\n",
    "Zbadaj rozkład empiryczny zmiennej objaśnianej (przedstaw kilka podstawowych statystyk,\n",
    "do analizy dołącz histogram lub wykres estymatora gęstości)."
   ]
  },
  {
   "cell_type": "code",
   "execution_count": 80,
   "metadata": {},
   "outputs": [
    {
     "data": {
      "text/plain": [
       "count    3794.000000\n",
       "mean        0.770766\n",
       "std         0.926976\n",
       "min         0.000000\n",
       "25%         0.000000\n",
       "50%         0.249925\n",
       "75%         1.794385\n",
       "max         3.088281\n",
       "Name: Expected, dtype: float64"
      ]
     },
     "execution_count": 80,
     "metadata": {},
     "output_type": "execute_result"
    }
   ],
   "source": [
    "y['Expected'].describe()"
   ]
  },
  {
   "cell_type": "markdown",
   "metadata": {},
   "source": [
    "Wnioski:\n",
    "-  Średnia: Wartość średnia wynosi około 0.770766\n",
    "\n",
    "- Odchylenie standardowe: Odchylenie standardowe wynoszące około 0.926976 wskazuje na pewną zmienność w danych, ale nie jest ona ekstremalnie wysoka.\n",
    "\n",
    "- Mediana: Mediana na poziomie 0.249925 sugeruje, że połowa obserwacji ma wartość zmiennej Expected mniejszą niż 0.25."
   ]
  },
  {
   "cell_type": "code",
   "execution_count": 81,
   "metadata": {},
   "outputs": [
    {
     "data": {
      "application/vnd.plotly.v1+json": {
       "config": {
        "plotlyServerURL": "https://plot.ly"
       },
       "data": [
        {
         "alignmentgroup": "True",
         "bingroup": "x",
         "hovertemplate": "Expected=%{x}<br>count=%{y}<extra></extra>",
         "legendgroup": "",
         "marker": {
          "color": "#636efa",
          "pattern": {
           "shape": ""
          }
         },
         "name": "",
         "nbinsx": 50,
         "offsetgroup": "",
         "orientation": "v",
         "showlegend": false,
         "type": "histogram",
         "x": [
          1.0791518688201904,
          2.4450271129608154,
          0,
          2.082075595855713,
          2.012016773223877,
          1.9723118543624878,
          0,
          0,
          0,
          0,
          2.217191696166992,
          0,
          0,
          0,
          0,
          1.7500516176223755,
          0,
          0,
          0.5975669026374817,
          0,
          0,
          0,
          0,
          0,
          0,
          0,
          1.9558309316635132,
          0.20827046036720276,
          0,
          0,
          0,
          1.799621820449829,
          1.9820640087127686,
          0,
          0,
          1.1388602256774902,
          0,
          2.2726688385009766,
          0,
          0.8307576775550842,
          0,
          0,
          1.683992624282837,
          1.7950122356414795,
          0,
          0,
          1.3040858507156372,
          1.7177238464355469,
          0.32301121950149536,
          2.7188308238983154,
          1.7259992361068726,
          0,
          0,
          0,
          1.8802170753479004,
          0,
          0,
          2.491194486618042,
          2.116851806640625,
          0.2528630793094635,
          1.482883334159851,
          0,
          0,
          1.0626049041748047,
          0,
          1.4403092861175537,
          0,
          0,
          2.0509631633758545,
          0,
          0,
          2.4082274436950684,
          0,
          1.7455177307128906,
          1.5566279888153076,
          2.2548282146453857,
          0.3176734447479248,
          0.25231534242630005,
          0,
          1.324114441871643,
          0.3883003294467926,
          2.0859055519104004,
          0,
          1.4141879081726074,
          0,
          0,
          1.8826828002929688,
          0,
          2.3698534965515137,
          0.2502018213272095,
          0,
          0,
          1.6920969486236572,
          0.9431459307670593,
          1.4595413208007812,
          2.2982420921325684,
          1.2831196784973145,
          2.3689703941345215,
          2.215332508087158,
          0,
          2.4860446453094482,
          1.3611516952514648,
          0,
          0.2841528356075287,
          0,
          0,
          1.7055469751358032,
          0.517545223236084,
          0,
          0.24761651456356049,
          2.1294984817504883,
          2.373006582260132,
          1.872606635093689,
          0,
          1.4782551527023315,
          0,
          0,
          2.392706871032715,
          2.1618289947509766,
          0.2456454038619995,
          0.29050567746162415,
          1.6546534299850464,
          0.962688684463501,
          2.2859387397766113,
          0.3129315674304962,
          2.4461312294006348,
          0.2388729602098465,
          0.3332667052745819,
          0,
          1.703485369682312,
          0,
          2.156252384185791,
          0,
          0,
          0,
          1.7051559686660767,
          0,
          2.526085138320923,
          0,
          0,
          2.2105376720428467,
          0,
          0,
          0.23860879242420197,
          0,
          0.3977256715297699,
          0,
          0,
          0.24348555505275726,
          0,
          0,
          1.6341978311538696,
          0,
          1.8620716333389282,
          0,
          0,
          1.763791561126709,
          2.309520721435547,
          1.8582686185836792,
          0,
          0,
          0,
          0.3104463517665863,
          0.28672298789024353,
          0,
          0,
          1.9365365505218506,
          2.2412333488464355,
          0,
          2.269253969192505,
          2.2383933067321777,
          1.9633538722991943,
          0,
          0,
          0,
          2.130892753601074,
          0,
          2.1271657943725586,
          2.2308924198150635,
          1.8772121667861938,
          1.6484593152999878,
          1.4925410747528076,
          2.3229329586029053,
          0,
          0,
          0,
          0,
          0.2663802206516266,
          0,
          0.4853220283985138,
          0,
          0.9937918782234192,
          0.2423376590013504,
          2.214662790298462,
          0,
          0,
          1.859205961227417,
          2.0276641845703125,
          0.34065714478492737,
          0,
          2.016653299331665,
          0.3573678433895111,
          0.2562333345413208,
          0,
          0,
          0,
          2.3316233158111572,
          0,
          0,
          0,
          0.4179401397705078,
          0,
          2.2882261276245117,
          1.359184980392456,
          1.9769704341888428,
          0,
          0,
          0,
          0,
          0,
          0,
          1.5382202863693237,
          1.9231230020523071,
          1.6298601627349854,
          2.05356502532959,
          0,
          1.752790093421936,
          2.2876992225646973,
          0,
          1.8955427408218384,
          1.962432622909546,
          2.02754282951355,
          2.188814401626587,
          1.8477482795715332,
          1.7542868852615356,
          0,
          0.24201589822769165,
          0.2535739243030548,
          0,
          0,
          0,
          0.4807455539703369,
          0.24016974866390228,
          1.229875922203064,
          0.48521432280540466,
          1.6692017316818237,
          0,
          1.8909554481506348,
          0,
          0,
          0,
          0,
          0,
          0,
          2.258859872817993,
          1.3255550861358643,
          2.377878427505493,
          2.204061269760132,
          1.9985908269882202,
          0,
          1.5154365301132202,
          0,
          2.024319648742676,
          0,
          0.24474841356277466,
          0.2624797224998474,
          0,
          0,
          2.1772842407226562,
          0,
          1.1533650159835815,
          2.1043663024902344,
          0,
          1.8783822059631348,
          1.636798620223999,
          0.2466176152229309,
          0,
          2.2889294624328613,
          0,
          0,
          1.4900959730148315,
          0,
          2.044088125228882,
          2.2445757389068604,
          0,
          0.26555556058883667,
          0,
          0.2584889531135559,
          2.2230873107910156,
          1.4270892143249512,
          2.061004161834717,
          1.3892658948898315,
          1.691818356513977,
          0,
          0,
          0.35582610964775085,
          0,
          0,
          0.6923577785491943,
          2.1890971660614014,
          0,
          2.172114372253418,
          0,
          0,
          2.1411852836608887,
          0,
          0.8247197270393372,
          1.75281822681427,
          1.7520997524261475,
          0,
          2.296220302581787,
          0,
          2.141563892364502,
          0,
          2.112044334411621,
          0,
          0,
          0,
          0,
          0.20777253806591034,
          0,
          2.266563892364502,
          0.27816206216812134,
          0,
          0,
          1.9802284240722656,
          0,
          1.4042915105819702,
          2.0156993865966797,
          0,
          1.9979580640792847,
          0,
          2.233105421066284,
          0,
          0,
          0,
          1.8096160888671875,
          2.267047166824341,
          0,
          0,
          0.3185999095439911,
          2.019071578979492,
          2.0257670879364014,
          1.7515236139297485,
          0.26239290833473206,
          0.49949970841407776,
          1.8342856168746948,
          2.3072047233581543,
          1.9704675674438477,
          0,
          0,
          0,
          0,
          0,
          1.3953040838241577,
          1.9709938764572144,
          0,
          0,
          0,
          0.31747016310691833,
          1.8308383226394653,
          0.5026252269744873,
          0,
          0,
          2.1648311614990234,
          1.8116487264633179,
          0,
          1.956267237663269,
          0,
          2.0677361488342285,
          2.3277552127838135,
          0.2782583236694336,
          1.7470213174819946,
          0,
          0,
          0,
          0,
          1.761513590812683,
          0.2555997371673584,
          2.1005759239196777,
          0,
          2.4085946083068848,
          1.6775234937667847,
          2.1214957237243652,
          0,
          3.08828067779541,
          2.170832872390747,
          0,
          0,
          0,
          1.6306625604629517,
          0,
          0.4445314109325409,
          1.8233287334442139,
          0.2563324272632599,
          0,
          1.873649001121521,
          0,
          0,
          0.30283910036087036,
          0.2892606556415558,
          0,
          2.105701446533203,
          1.9997901916503906,
          0,
          0,
          0.5763468742370605,
          0,
          2.094651699066162,
          0.35075902938842773,
          0,
          0,
          0,
          1.4925673007965088,
          1.8402255773544312,
          0,
          0,
          0,
          2.178372859954834,
          1.7406244277954102,
          2.30348801612854,
          2.2184057235717773,
          1.6377838850021362,
          0,
          0,
          2.4124257564544678,
          1.8553138971328735,
          0,
          0,
          0,
          0,
          0.3720807433128357,
          2.179417848587036,
          0,
          0,
          1.9205304384231567,
          0,
          0,
          0.32789289951324463,
          0,
          0,
          0,
          0,
          0,
          0,
          2.112650156021118,
          0,
          0,
          1.8546236753463745,
          0.28329843282699585,
          2.0151288509368896,
          1.5800013542175293,
          2.171427011489868,
          2.0113699436187744,
          0,
          0,
          0.35137614607810974,
          2.39733624458313,
          2.1711981296539307,
          1.8995769023895264,
          0,
          0,
          1.9787111282348633,
          0,
          0,
          0.3509587049484253,
          1.7374978065490723,
          1.8723046779632568,
          0,
          0,
          0,
          0.6738861203193665,
          0,
          2.7086570262908936,
          1.8996005058288574,
          2.0815632343292236,
          2.5937912464141846,
          0.2454954981803894,
          0,
          0,
          1.9110066890716553,
          0,
          0,
          0.7991420030593872,
          1.807586669921875,
          1.6073709726333618,
          1.704149842262268,
          1.9054120779037476,
          1.912245750427246,
          2.3104920387268066,
          0.3076168894767761,
          0,
          0.28963178396224976,
          1.9625264406204224,
          2.0565669536590576,
          0,
          0.24221226572990417,
          0,
          0,
          1.961356282234192,
          0.6890462040901184,
          2.3256678581237793,
          0,
          0,
          0,
          2.1942484378814697,
          0,
          0.31744423508644104,
          2.2861039638519287,
          0,
          0.5108904242515564,
          0,
          0,
          0,
          0,
          0,
          2.1744349002838135,
          0,
          0,
          1.5862717628479004,
          0.3689248561859131,
          1.7024625539779663,
          0.5204108953475952,
          0,
          2.32102632522583,
          0,
          0.40308114886283875,
          2.0241339206695557,
          1.3780351877212524,
          0,
          0,
          1.0846613645553589,
          1.87120521068573,
          0,
          1.923912763595581,
          0,
          0,
          1.9020233154296875,
          0,
          0,
          0,
          1.0110995769500732,
          1.999242901802063,
          0,
          2.366692066192627,
          2.3094570636749268,
          1.5779197216033936,
          1.877255916595459,
          0.31455758213996887,
          0,
          0,
          0,
          0,
          0.5283316373825073,
          0,
          0,
          0.38752540946006775,
          0,
          2.2323012351989746,
          2.317084550857544,
          1.796294093132019,
          0,
          1.943210244178772,
          0,
          2.347461462020874,
          2.1958703994750977,
          0.8105559349060059,
          0,
          0,
          1.1819684505462646,
          0,
          2.164340019226074,
          0.3238079249858856,
          0.4946768581867218,
          0,
          0,
          0.23985609412193298,
          0.3258834183216095,
          0.9344584345817566,
          1.642922282218933,
          2.0403308868408203,
          0.9547116756439209,
          0,
          0,
          0,
          0.7645741105079651,
          0.23281274735927582,
          1.930967926979065,
          0,
          0.5725842714309692,
          1.7266918420791626,
          0,
          1.9052983522415161,
          0,
          0.5378293395042419,
          2.137312412261963,
          0,
          0,
          1.7176257371902466,
          0.26378652453422546,
          0,
          1.9832276105880737,
          0,
          0,
          0,
          0.9951432347297668,
          0,
          2.403002977371216,
          0,
          0,
          2.087313175201416,
          2.383382797241211,
          0,
          0,
          1.951045036315918,
          1.6922937631607056,
          0,
          0,
          1.9322125911712646,
          0,
          0,
          1.910949945449829,
          1.4148329496383667,
          0,
          0,
          0,
          1.293433427810669,
          0.2935525178909302,
          0,
          0,
          0,
          0,
          0,
          2.3288891315460205,
          0,
          0,
          0,
          0,
          0.33947885036468506,
          1.9474843740463257,
          2.546060562133789,
          1.4812862873077393,
          0,
          0.23214353621006012,
          2.052983522415161,
          1.0411453247070312,
          0,
          0,
          2.0875983238220215,
          0.49572092294692993,
          0.6078841686248779,
          0,
          0,
          0,
          0.3164329528808594,
          1.767989158630371,
          2.1037302017211914,
          0,
          0.6473364233970642,
          0.9994008541107178,
          0,
          0,
          0,
          1.718672513961792,
          0,
          0.3640387952327728,
          2.0696356296539307,
          0.7783718705177307,
          1.9235293865203857,
          0,
          0,
          0,
          0,
          0.29115110635757446,
          0,
          2.413198471069336,
          1.6070955991744995,
          2.3400754928588867,
          0,
          2.0912251472473145,
          1.5966088771820068,
          0,
          1.7975443601608276,
          0,
          0.27026304602622986,
          0,
          1.6958649158477783,
          0,
          2.307028293609619,
          0,
          0,
          0,
          0,
          0,
          0,
          0,
          0.2192257046699524,
          2.254776954650879,
          2.122774362564087,
          0,
          0,
          0.44550248980522156,
          0.4750834107398987,
          0,
          0,
          0,
          1.494632601737976,
          1.2580482959747314,
          0,
          1.9168014526367188,
          1.826449990272522,
          0.5249907970428467,
          0,
          0,
          0,
          0,
          1.892160415649414,
          0,
          0,
          0,
          0.29691794514656067,
          0,
          0,
          0.939002513885498,
          0.2933403253555298,
          0.7623551487922668,
          2.0322024822235107,
          1.7495009899139404,
          0,
          0,
          0,
          0,
          0.665730893611908,
          1.9308596849441528,
          0,
          1.5238232612609863,
          0.2941187024116516,
          0,
          2.2936851978302,
          1.8645952939987183,
          1.432438850402832,
          0,
          2.112778663635254,
          1.6726291179656982,
          0,
          0,
          0,
          2.233738660812378,
          1.5576062202453613,
          0,
          0,
          0,
          0,
          0,
          2.3043651580810547,
          0,
          0,
          1.8570756912231445,
          1.7510565519332886,
          0,
          0.23544980585575104,
          1.5999997854232788,
          2.0570008754730225,
          2.290146827697754,
          0,
          0,
          0,
          0,
          0,
          0,
          0,
          0.23521766066551208,
          0,
          0,
          0,
          0,
          2.091010332107544,
          1.8544431924819946,
          0,
          0,
          0,
          1.9648563861846924,
          2.3122200965881348,
          0,
          2.2214341163635254,
          0,
          0,
          0,
          1.993735909461975,
          1.296797752380371,
          0,
          1.9471131563186646,
          1.8330020904541016,
          1.7199243307113647,
          0,
          0.8363981246948242,
          0,
          1.2976807355880737,
          0,
          0.35887765884399414,
          0,
          2.169895887374878,
          1.9201273918151855,
          2.2238659858703613,
          0,
          0,
          0,
          0,
          0,
          2.220247507095337,
          0.36025020480155945,
          1.6939079761505127,
          0,
          0,
          0,
          2.1393826007843018,
          2.595644950866699,
          0.25085678696632385,
          1.7648638486862183,
          0.29540494084358215,
          2.403595447540283,
          0,
          1.8702740669250488,
          2.0940332412719727,
          0,
          0,
          0,
          0.2696254253387451,
          1.5647119283676147,
          0,
          0,
          0,
          0,
          0,
          1.7791104316711426,
          0.3361923098564148,
          1.592362880706787,
          2.57236385345459,
          0,
          0.27567583322525024,
          1.3743799924850464,
          0,
          0,
          0,
          0,
          1.7439838647842407,
          2.027034044265747,
          0.18140186369419098,
          2.1026647090911865,
          0.5782973170280457,
          0,
          2.2051374912261963,
          0,
          0,
          0,
          0,
          1.8971103429794312,
          0,
          1.9212381839752197,
          0,
          0.5558313131332397,
          0.8468664288520813,
          0.28242677450180054,
          0,
          0,
          0,
          0,
          0,
          0.2512739300727844,
          0,
          0,
          0,
          2.1376848220825195,
          0,
          2.0860440731048584,
          0,
          0,
          0,
          0,
          0,
          0,
          0,
          0,
          2.434924364089966,
          0,
          0,
          2.197481393814087,
          0,
          2.184279680252075,
          0,
          2.1300172805786133,
          0,
          0,
          1.7147703170776367,
          0.3357485830783844,
          0,
          2.3073761463165283,
          1.269055962562561,
          0,
          0,
          0.2827123701572418,
          0,
          0.6709290742874146,
          1.4443559646606445,
          0,
          0.2826864421367645,
          1.0159788131713867,
          0,
          0.3061167001724243,
          1.818861961364746,
          0,
          0,
          1.9453529119491577,
          0,
          0,
          2.083866834640503,
          0,
          0.682473361492157,
          0,
          0,
          0.26733359694480896,
          0,
          0.3214000463485718,
          0,
          2.10176682472229,
          0.23337455093860626,
          1.6968263387680054,
          0.31245940923690796,
          0.27628424763679504,
          1.22861647605896,
          0.3124069273471832,
          1.3747220039367676,
          0.2981441915035248,
          2.3080294132232666,
          0,
          0,
          0,
          2.045572519302368,
          0.34434401988983154,
          2.015488624572754,
          2.1126911640167236,
          0,
          0.31871655583381653,
          1.6462724208831787,
          2.08849835395813,
          0.3061780631542206,
          2.3673291206359863,
          0,
          2.145824909210205,
          0,
          0,
          0.597035825252533,
          0,
          0.3714351952075958,
          0.5014679431915283,
          2.596745014190674,
          0,
          2.003096580505371,
          0,
          0,
          1.7655061483383179,
          1.4266505241394043,
          1.5695130825042725,
          1.817009687423706,
          2.068063735961914,
          2.211742401123047,
          0,
          0,
          2.315112829208374,
          1.933070182800293,
          0,
          2.1620140075683594,
          0,
          0,
          0,
          0,
          0,
          0,
          0,
          0,
          2.1423025131225586,
          0,
          0,
          0,
          0,
          0,
          0.2874780297279358,
          0,
          0,
          0.3789249360561371,
          2.0038692951202393,
          2.3367819786071777,
          2.2724595069885254,
          2.0249106884002686,
          2.352008819580078,
          0.2413858026266098,
          0.8441384434700012,
          0,
          1.7717522382736206,
          1.999922275543213,
          1.414541482925415,
          0,
          0,
          0.31360122561454773,
          0,
          1.8501478433609009,
          1.108445167541504,
          0,
          1.6926029920578003,
          1.7388348579406738,
          0,
          0,
          0,
          0,
          0,
          1.9898465871810913,
          2.194291591644287,
          0,
          1.62468683719635,
          0.3551972806453705,
          0,
          0,
          0,
          1.6364370584487915,
          0,
          1.8709036111831665,
          0,
          0,
          0,
          0,
          0,
          0.2784850001335144,
          0.7656270265579224,
          1.8924956321716309,
          0,
          0,
          0,
          2.142627477645874,
          0,
          1.741397500038147,
          2.1978695392608643,
          0,
          2.280975580215454,
          0.30301544070243835,
          0,
          2.2483832836151123,
          2.437070608139038,
          0,
          2.4629807472229004,
          0,
          0,
          0,
          0,
          1.5859230756759644,
          0.5315812826156616,
          0,
          0,
          1.9823566675186157,
          0,
          0,
          0,
          0.3716699481010437,
          2.0990560054779053,
          0,
          0,
          0.2559017241001129,
          0,
          0,
          1.8885303735733032,
          1.6547613143920898,
          0.35268300771713257,
          0.21399904787540436,
          0,
          0,
          0.529103696346283,
          1.6662172079086304,
          0,
          0,
          1.8674054145812988,
          0,
          1.904192566871643,
          2.140836000442505,
          0.25920340418815613,
          0,
          2.257113218307495,
          0,
          0,
          0,
          0,
          2.2918498516082764,
          1.8397576808929443,
          0,
          0,
          0,
          0.23706281185150146,
          0,
          2.583310604095459,
          2.451392412185669,
          0.24964916706085205,
          0,
          2.280256509780884,
          1.0603035688400269,
          0,
          0,
          0,
          1.4755219221115112,
          1.6791794300079346,
          0,
          1.7162214517593384,
          1.7582954168319702,
          1.7332905530929565,
          1.557324767112732,
          0,
          0,
          2.542109489440918,
          0,
          0,
          0.27440038323402405,
          0,
          0,
          0,
          0.24752162396907806,
          0,
          2.089895486831665,
          0,
          0,
          0.29841095209121704,
          2.1287477016448975,
          0,
          0.5318817496299744,
          1.1418585777282715,
          2.2134976387023926,
          0.3183380663394928,
          0.300995409488678,
          0.27396073937416077,
          1.43723464012146,
          0.33005696535110474,
          0.9164746999740601,
          1.7993582487106323,
          0.3372352123260498,
          0,
          0,
          0.3072960376739502,
          0,
          0,
          2.0280821323394775,
          1.5215342044830322,
          1.0756338834762573,
          2.1900901794433594,
          0.7924570441246033,
          0,
          0,
          1.7254327535629272,
          2.164156675338745,
          1.6028317213058472,
          1.7991365194320679,
          2.1995768547058105,
          0,
          0,
          2.2753243446350098,
          0,
          0,
          0,
          0,
          1.814711570739746,
          1.8751847743988037,
          0,
          0,
          1.6947650909423828,
          1.366369605064392,
          0,
          0.30780017375946045,
          0,
          0,
          2.2416908740997314,
          0,
          0,
          0.29576486349105835,
          1.7329375743865967,
          1.833910584449768,
          0,
          0,
          0.2940307855606079,
          0,
          0,
          2.0345218181610107,
          2.034959554672241,
          0,
          0,
          1.3659676313400269,
          0,
          0.30293482542037964,
          2.181021213531494,
          0,
          2.5946924686431885,
          0,
          1.8172118663787842,
          0,
          2.356739044189453,
          0,
          2.469424247741699,
          0,
          0,
          0,
          0.522376298904419,
          0,
          0,
          0,
          0,
          0.2844853699207306,
          0,
          2.156529188156128,
          0,
          2.5150372982025146,
          2.2767205238342285,
          0,
          0.2560957074165344,
          0,
          2.2130208015441895,
          0,
          0.24083061516284943,
          0,
          0.21698136627674103,
          1.6239163875579834,
          0.2584725022315979,
          2.1606197357177734,
          0.2205917239189148,
          1.6347174644470215,
          0.4243285059928894,
          1.542405605316162,
          0,
          2.4304490089416504,
          0,
          0.5002762079238892,
          0,
          0,
          0,
          1.828635334968567,
          2.2696218490600586,
          1.8920724391937256,
          0.277343213558197,
          0.3311704099178314,
          1.443381667137146,
          0,
          0,
          0,
          0,
          0,
          0,
          2.0518224239349365,
          0,
          0,
          0,
          0,
          2.404475450515747,
          2.161046028137207,
          0,
          1.9401463270187378,
          0,
          0,
          0,
          0.24689051508903503,
          0.3540327548980713,
          0,
          0,
          0,
          0.2978503108024597,
          2.4387290477752686,
          0,
          0,
          0,
          2.1542487144470215,
          0,
          0,
          0,
          0.2758898138999939,
          0,
          2.2976977825164795,
          0,
          0,
          1.1157033443450928,
          2.2775559425354004,
          0.2948906123638153,
          0,
          0,
          0,
          0.2930912971496582,
          1.2269155979156494,
          2.2929258346557617,
          0,
          0.6666898727416992,
          0,
          1.5780057907104492,
          0,
          0,
          1.700459599494934,
          1.7444151639938354,
          0,
          0,
          1.2070692777633667,
          0,
          2.4485960006713867,
          0,
          0.3683837056159973,
          0,
          0.3374039828777313,
          0,
          1.447536826133728,
          0,
          0.32553887367248535,
          1.8784483671188354,
          0,
          0,
          0.30806341767311096,
          0,
          1.9069777727127075,
          2.5349743366241455,
          0.7438037991523743,
          1.9837076663970947,
          0,
          0,
          2.120992660522461,
          2.482597589492798,
          0,
          2.1289639472961426,
          0.44435834884643555,
          2.223571538925171,
          2.0867743492126465,
          1.62521493434906,
          0,
          0,
          1.745854139328003,
          0,
          2.2271082401275635,
          0,
          2.1833693981170654,
          0.3117840886116028,
          0,
          0,
          1.7522363662719727,
          0,
          1.8226158618927002,
          0.25717997550964355,
          2.006826877593994,
          2.3218891620635986,
          0.34315234422683716,
          2.1084537506103516,
          0.2756783962249756,
          1.0283663272857666,
          0.34303808212280273,
          1.4719475507736206,
          0,
          0,
          0.34437087178230286,
          0,
          0,
          0,
          0.3194982409477234,
          0,
          0,
          2.1776225566864014,
          2.1479523181915283,
          0,
          1.9384418725967407,
          2.4459915161132812,
          0.969978928565979,
          1.8083641529083252,
          0,
          0,
          1.7980563640594482,
          0.6862002611160278,
          1.9803285598754883,
          0.1909981071949005,
          1.8312262296676636,
          0.21405164897441864,
          1.1940521001815796,
          0,
          1.649092197418213,
          0.32223746180534363,
          0.3194983899593353,
          2.183182954788208,
          0,
          0,
          1.8217674493789673,
          0.36087772250175476,
          0,
          2.1634902954101562,
          0,
          0,
          0,
          0,
          0.9287711381912231,
          0,
          0,
          2.639629364013672,
          0,
          0,
          0,
          1.9100730419158936,
          2.4950287342071533,
          0.28421828150749207,
          0.7406246066093445,
          0,
          1.8067258596420288,
          2.200681686401367,
          0,
          0.2796306610107422,
          0,
          0.6311610341072083,
          1.5282758474349976,
          0.5408654808998108,
          0,
          2.1948082447052,
          1.8999725580215454,
          0.2914349436759949,
          0.18617643415927887,
          0,
          0,
          1.8410605192184448,
          2.3110883235931396,
          0,
          2.449092149734497,
          0,
          0,
          2.449104070663452,
          0,
          0,
          0,
          0.3249419033527374,
          0.24510011076927185,
          2.1619575023651123,
          0,
          0,
          0,
          0,
          0,
          0,
          0,
          1.4068269729614258,
          1.626697063446045,
          0,
          0.32648947834968567,
          0,
          0,
          2.377882957458496,
          0,
          0,
          2.501314878463745,
          0,
          2.1685006618499756,
          0,
          0.3686589002609253,
          0,
          2.305558443069458,
          2.0236761569976807,
          1.770620346069336,
          0,
          0,
          2.213350296020508,
          0,
          0,
          0,
          0,
          0,
          0,
          0,
          0,
          0,
          2.140719413757324,
          2.0895943641662598,
          2.1007602214813232,
          2.1518242359161377,
          2.3404200077056885,
          1.464882254600525,
          0,
          0,
          0,
          1.6054750680923462,
          1.9297590255737305,
          1.6873406171798706,
          0,
          2.3030052185058594,
          0,
          1.07877779006958,
          0,
          1.7208311557769775,
          0,
          0,
          0,
          0,
          1.323207139968872,
          1.319838285446167,
          0,
          0.21773821115493774,
          1.920347809791565,
          0,
          2.0858874320983887,
          0,
          1.4351983070373535,
          0,
          0,
          0,
          0.43137213587760925,
          0,
          0,
          0,
          2.1682307720184326,
          0.3359457850456238,
          0,
          0,
          0,
          1.8743773698806763,
          0.32571765780448914,
          2.1216022968292236,
          2.4041128158569336,
          1.7532379627227783,
          1.1619820594787598,
          0,
          2.32051682472229,
          0,
          1.8826711177825928,
          0,
          0,
          0,
          0.3804261088371277,
          0.2854987382888794,
          0,
          1.0926438570022583,
          2.194037914276123,
          2.2649013996124268,
          0.25717243552207947,
          0,
          0.21728819608688354,
          0,
          0.6025455594062805,
          0,
          1.525003433227539,
          1.1110174655914307,
          1.5579686164855957,
          1.7734929323196411,
          0,
          0,
          0.33723652362823486,
          1.4390270709991455,
          0.6963261365890503,
          0,
          0.5540792346000671,
          2.221956253051758,
          0,
          0.2969079911708832,
          2.511430025100708,
          1.8488967418670654,
          0,
          1.5205594301223755,
          0,
          0,
          0.8632238507270813,
          2.2484796047210693,
          2.2992208003997803,
          0,
          2.0908522605895996,
          2.1688475608825684,
          1.433121681213379,
          2.230336904525757,
          1.9014359712600708,
          2.190669059753418,
          2.3620846271514893,
          0.20904208719730377,
          2.2991702556610107,
          1.805341362953186,
          0.7546318173408508,
          1.3298856019973755,
          0.8956665992736816,
          0.25306108593940735,
          0,
          1.7588016986846924,
          0,
          0,
          0,
          0.426371306180954,
          0,
          0,
          0,
          2.417386293411255,
          1.4460269212722778,
          0,
          0,
          2.3943674564361572,
          1.7023078203201294,
          0,
          0,
          2.68774151802063,
          0,
          0.2655159831047058,
          1.9200530052185059,
          0.4486909806728363,
          0,
          2.3110263347625732,
          0,
          1.6495060920715332,
          0,
          2.0253233909606934,
          1.7864998579025269,
          0,
          0,
          0,
          0,
          1.8379791975021362,
          1.1614803075790405,
          2.2851648330688477,
          1.7540818452835083,
          0,
          0,
          0,
          2.2077958583831787,
          0,
          1.581859827041626,
          0,
          0,
          2.465648651123047,
          0,
          2.1456501483917236,
          0,
          0,
          1.9351515769958496,
          2.235501289367676,
          0,
          1.7113844156265259,
          1.9298385381698608,
          0,
          0.25730592012405396,
          0,
          0.3130083680152893,
          1.6384172439575195,
          0,
          0.4632840156555176,
          0,
          2.1397764682769775,
          0,
          0.5902791023254395,
          1.7111984491348267,
          2.0507307052612305,
          1.987349510192871,
          0.9541378021240234,
          0,
          2.517056465148926,
          0,
          0,
          1.6521192789077759,
          1.8223546743392944,
          1.4377686977386475,
          0,
          0,
          2.4618546962738037,
          2.1638312339782715,
          0.31016382575035095,
          2.134620428085327,
          0.3285747170448303,
          0,
          0,
          0,
          0,
          2.5193235874176025,
          0,
          1.1317883729934692,
          0.33702725172042847,
          2.058316230773926,
          0,
          0,
          0,
          0,
          0.9700118899345398,
          1.3401014804840088,
          0,
          0,
          0,
          0,
          0,
          2.3507843017578125,
          1.587702751159668,
          2.413358688354492,
          0,
          0,
          2.0560991764068604,
          2.5326876640319824,
          1.9967089891433716,
          0,
          0,
          0.3109631836414337,
          0.5512190461158752,
          0,
          0,
          1.9789520502090454,
          1.2804545164108276,
          0,
          0.2021131068468094,
          0,
          1.4411529302597046,
          0,
          0,
          2.0840518474578857,
          2.457233428955078,
          0.36579301953315735,
          0,
          0,
          2.322356700897217,
          0.5465553402900696,
          0,
          0.28952476382255554,
          1.9922165870666504,
          1.8301284313201904,
          0,
          2.166814088821411,
          0.273025244474411,
          0,
          0,
          0,
          0.32668203115463257,
          0,
          1.9670377969741821,
          0.3391047418117523,
          0,
          0.26535922288894653,
          0,
          2.060555934906006,
          0,
          0,
          0,
          1.617201566696167,
          0,
          1.9168130159378052,
          0,
          0.341513454914093,
          2.0744025707244873,
          0,
          0,
          0.2440674751996994,
          1.7419044971466064,
          0,
          1.4652924537658691,
          0,
          0,
          2.242445468902588,
          0.20291171967983246,
          0,
          2.2634379863739014,
          1.5636380910873413,
          0.36456790566444397,
          0,
          0,
          0,
          0.2889736592769623,
          0,
          0,
          0,
          0,
          0,
          1.7790333032608032,
          0,
          0,
          2.0717568397521973,
          2.321206569671631,
          0,
          2.578206777572632,
          2.25761342048645,
          0.4674893617630005,
          0,
          0.3155069053173065,
          0,
          0,
          0,
          0,
          0.31981921195983887,
          0,
          0,
          0,
          0,
          0,
          2.183152914047241,
          0,
          1.8369561433792114,
          0,
          0,
          0,
          1.9102615118026733,
          1.8110870122909546,
          0,
          2.441709518432617,
          1.1159290075302124,
          1.4353147745132446,
          0,
          1.7009499073028564,
          2.290947198867798,
          0.3910278379917145,
          0,
          0.27612045407295227,
          2.255721092224121,
          0,
          0,
          2.527463912963867,
          0,
          0,
          0.34629955887794495,
          1.1822510957717896,
          0,
          0,
          0,
          2.1313958168029785,
          0,
          0.23569664359092712,
          0,
          0.3176858723163605,
          1.8334375619888306,
          0,
          1.826611042022705,
          0.5597579479217529,
          2.3299946784973145,
          0,
          2.363929271697998,
          0,
          0,
          0,
          0,
          1.4269455671310425,
          0.4913482666015625,
          0,
          0,
          0,
          0,
          2.2612037658691406,
          2.3628273010253906,
          0,
          0.3121398389339447,
          0.7848638296127319,
          0,
          1.8133608102798462,
          0,
          0,
          0,
          0.29110661149024963,
          0,
          2.0164787769317627,
          0,
          0,
          1.1573286056518555,
          1.8933390378952026,
          0,
          0,
          2.34413743019104,
          0,
          0.29261985421180725,
          0,
          2.0074353218078613,
          2.41025972366333,
          0,
          0,
          0,
          0,
          0,
          0,
          0,
          0,
          0,
          2.040475606918335,
          1.8636127710342407,
          0.2656914293766022,
          0,
          0,
          0,
          2.2679009437561035,
          0,
          0,
          2.2669661045074463,
          0,
          0,
          0,
          2.3298957347869873,
          0.7077630162239075,
          2.1653506755828857,
          2.2873566150665283,
          0,
          0,
          0,
          1.1882399320602417,
          0,
          0,
          1.5990961790084839,
          0,
          0,
          2.058971405029297,
          2.2366466522216797,
          0,
          0.9907994866371155,
          0,
          0,
          0,
          0.18405590951442719,
          0,
          0.4959954023361206,
          2.0981667041778564,
          0,
          1.249113917350769,
          2.370166778564453,
          0,
          0,
          1.2471758127212524,
          0.2981504797935486,
          0.2205267995595932,
          2.3925321102142334,
          0.23857295513153076,
          1.716521978378296,
          2.0275137424468994,
          1.9009240865707397,
          1.7875027656555176,
          0.20100370049476624,
          0,
          0,
          0,
          0,
          0.650303840637207,
          1.9925166368484497,
          2.119595527648926,
          0,
          0,
          0,
          0.35890868306159973,
          0.2665858864784241,
          2.0305399894714355,
          0,
          0.3351122736930847,
          0.2610604465007782,
          0,
          1.3996260166168213,
          1.726844310760498,
          1.8091545104980469,
          0,
          0,
          0.3000165820121765,
          0,
          0,
          0.46008074283599854,
          0,
          1.7875661849975586,
          0,
          0,
          0.3330009877681732,
          0,
          0,
          1.794721007347107,
          0,
          0.3064723014831543,
          2.375396490097046,
          0,
          1.5109935998916626,
          2.2000789642333984,
          2.0588512420654297,
          0.5911738872528076,
          1.977185606956482,
          1.117585301399231,
          2.33406400680542,
          2.1396684646606445,
          0,
          0.938102662563324,
          1.0730838775634766,
          1.1323076486587524,
          0.797632098197937,
          0,
          0,
          0,
          1.9739887714385986,
          2.0577218532562256,
          1.6705213785171509,
          0,
          0,
          2.0815277099609375,
          0,
          1.7005434036254883,
          0,
          0,
          0,
          0.2889131009578705,
          0,
          1.7993074655532837,
          0,
          1.8439136743545532,
          1.7674155235290527,
          2.016677141189575,
          1.6865993738174438,
          0,
          0.3485715091228485,
          0,
          0,
          1.2359408140182495,
          0,
          0.43513786792755127,
          2.463449716567993,
          0.2607891261577606,
          0,
          0,
          2.2127554416656494,
          0,
          1.4575722217559814,
          0,
          1.5823884010314941,
          2.4370715618133545,
          0,
          2.021554946899414,
          0,
          2.244966983795166,
          1.557789921760559,
          0,
          1.1823132038116455,
          0,
          2.137735605239868,
          0,
          2.3822953701019287,
          0.3325357139110565,
          0,
          0,
          0,
          0,
          0,
          2.716094493865967,
          0,
          0.4560508728027344,
          0,
          1.2806388139724731,
          0,
          0,
          2.063431739807129,
          0,
          0,
          0,
          1.4820940494537354,
          0,
          2.279268503189087,
          1.5091067552566528,
          0.2581254839897156,
          0.3217327892780304,
          0,
          1.684924602508545,
          0,
          1.6856523752212524,
          0,
          0,
          0,
          0,
          0,
          0,
          2.05293607711792,
          0.392997145652771,
          0,
          0.5903178453445435,
          0,
          0,
          2.013765573501587,
          0.28125616908073425,
          0,
          0.8400526642799377,
          0.39739975333213806,
          0,
          0,
          1.9224439859390259,
          0.3776223957538605,
          0.26109597086906433,
          0.4870070815086365,
          0,
          1.385579228401184,
          0,
          0,
          1.6193655729293823,
          0,
          0.6561644673347473,
          0.3447814881801605,
          0,
          1.5256354808807373,
          0,
          2.152988910675049,
          0.34558430314064026,
          0,
          2.153562307357788,
          0,
          2.24002742767334,
          1.4887397289276123,
          1.9435715675354004,
          0,
          0,
          2.0290446281433105,
          1.595312237739563,
          0.9014014005661011,
          1.4376617670059204,
          0,
          0,
          0,
          1.551715612411499,
          0.3992248475551605,
          0.23221269249916077,
          2.2256152629852295,
          0,
          0.34403079748153687,
          0,
          0,
          2.339327096939087,
          0,
          2.5969386100769043,
          2.0588302612304688,
          0,
          0,
          1.7631418704986572,
          2.35249662399292,
          0.19513878226280212,
          0,
          1.7766607999801636,
          2.6451222896575928,
          0,
          0,
          0.3419259488582611,
          0,
          0,
          2.382333755493164,
          0,
          0.5568146109580994,
          0,
          0,
          0.38470301032066345,
          2.235689401626587,
          2.143404245376587,
          0,
          0,
          1.998773217201233,
          1.8379508256912231,
          1.9939991235733032,
          0,
          0,
          0,
          0,
          1.7717905044555664,
          0.33469828963279724,
          0.18602007627487183,
          0.3354027569293976,
          1.4785025119781494,
          0,
          0,
          0,
          2.0580501556396484,
          2.2653536796569824,
          1.8679121732711792,
          0,
          0.30349215865135193,
          0,
          0.32764551043510437,
          2.039720296859741,
          0,
          0,
          1.4808523654937744,
          1.6008586883544922,
          0.28129130601882935,
          0,
          0,
          0,
          0.2256011813879013,
          1.5191614627838135,
          0,
          2.0521602630615234,
          1.8462584018707275,
          1.2642713785171509,
          0,
          0,
          0,
          1.9433784484863281,
          0,
          0,
          0,
          2.1050331592559814,
          0.42342904210090637,
          0,
          2.0989532470703125,
          1.8783329725265503,
          2.3080193996429443,
          1.6697134971618652,
          0,
          1.9578429460525513,
          1.8967976570129395,
          0.2593638300895691,
          1.5735069513320923,
          2.084318161010742,
          2.2587482929229736,
          1.8013074398040771,
          0,
          0,
          0,
          0,
          0.27026501297950745,
          0,
          0,
          0,
          0,
          1.235154151916504,
          1.822463035583496,
          0.531643807888031,
          2.123305320739746,
          2.395604133605957,
          1.3286619186401367,
          0,
          0,
          0,
          0,
          1.5755895376205444,
          1.1540768146514893,
          0.3091253936290741,
          0.2631404399871826,
          0,
          0,
          0,
          1.9070372581481934,
          0,
          0.6032594442367554,
          0,
          0,
          0,
          0.3428601026535034,
          0,
          1.9952585697174072,
          0,
          0,
          2.3716604709625244,
          2.0498406887054443,
          0,
          0,
          0,
          2.2620699405670166,
          0,
          0,
          2.395597457885742,
          0,
          2.2614870071411133,
          2.6791465282440186,
          1.4252448081970215,
          2.0047624111175537,
          2.0225188732147217,
          0,
          0,
          1.691357135772705,
          1.5247882604599,
          2.1744682788848877,
          0,
          2.1228058338165283,
          0,
          2.1957931518554688,
          1.6918888092041016,
          2.4727389812469482,
          0.25621742010116577,
          0,
          0,
          2.1673665046691895,
          1.9627685546875,
          0,
          0.24748393893241882,
          1.7755026817321777,
          0,
          2.0893638134002686,
          2.097749710083008,
          0,
          1.438415765762329,
          1.1800898313522339,
          2.036496877670288,
          2.383394241333008,
          0,
          0.3084876835346222,
          1.5290075540542603,
          2.876436471939087,
          2.3677914142608643,
          0.4892232120037079,
          0,
          0,
          1.691201090812683,
          0,
          2.3009181022644043,
          0,
          1.131818413734436,
          0,
          0,
          0,
          0,
          0,
          0.27717164158821106,
          0,
          0,
          0,
          2.1981332302093506,
          0.27309465408325195,
          1.5989272594451904,
          0.22142067551612854,
          0.323763370513916,
          0,
          0.3396080434322357,
          0,
          0,
          2.334228038787842,
          0,
          2.5146114826202393,
          0,
          0,
          0,
          1.9994769096374512,
          0,
          1.8200733661651611,
          1.6504578590393066,
          0,
          1.5952006578445435,
          0,
          1.879112720489502,
          2.0435614585876465,
          2.3510806560516357,
          0.5082658529281616,
          0,
          0,
          1.9968070983886719,
          0,
          2.190826416015625,
          0,
          2.0621871948242188,
          0,
          0,
          0,
          0,
          1.8053796291351318,
          0,
          1.711785078048706,
          0,
          0,
          0,
          0,
          0,
          0,
          0,
          0.49764305353164673,
          0.6054394841194153,
          1.0872193574905396,
          0.3010464310646057,
          0,
          0.4515182375907898,
          0.2419842779636383,
          1.982888102531433,
          0,
          1.8093270063400269,
          2.1225414276123047,
          0,
          0,
          1.3323882818222046,
          2.065492868423462,
          0.5551198720932007,
          0.28451040387153625,
          0.3194078803062439,
          0,
          0,
          0,
          1.7851113080978394,
          1.9921728372573853,
          0,
          0,
          0,
          0,
          0,
          2.3227226734161377,
          0.2754382789134979,
          1.7955715656280518,
          2.2837328910827637,
          1.6603336334228516,
          1.270574688911438,
          0.26690298318862915,
          0,
          2.1070384979248047,
          2.2894725799560547,
          0.3589489758014679,
          2.2211101055145264,
          0.7543041706085205,
          2.2129013538360596,
          0,
          0,
          2.0233418941497803,
          0,
          0.2780137062072754,
          0,
          0,
          0,
          0,
          2.6175882816314697,
          0,
          2.1117076873779297,
          0,
          2.2503678798675537,
          2.1451685428619385,
          1.3967782258987427,
          0,
          0.3808373510837555,
          0.7363535165786743,
          0,
          1.630448341369629,
          0,
          1.4255616664886475,
          2.298260450363159,
          1.2075968980789185,
          0,
          0,
          0,
          0.193097323179245,
          2.4244112968444824,
          2.2506463527679443,
          2.277601480484009,
          0,
          0.6424479484558105,
          0,
          0,
          0,
          0,
          0,
          1.977283000946045,
          1.339800477027893,
          2.0098483562469482,
          0,
          0,
          1.8481179475784302,
          0,
          0,
          0,
          0,
          0,
          0,
          0,
          0,
          0,
          0,
          0,
          0.37584421038627625,
          0.41283145546913147,
          0.9625968933105469,
          0,
          0,
          0,
          1.8390759229660034,
          0,
          0.31963425874710083,
          1.3217120170593262,
          0,
          2.5460617542266846,
          0,
          1.6973483562469482,
          2.0097835063934326,
          2.028719186782837,
          0,
          1.7525954246520996,
          1.8332160711288452,
          1.8856709003448486,
          1.1345189809799194,
          2.2111589908599854,
          1.9404247999191284,
          0,
          0,
          2.143200397491455,
          0,
          0.3349815011024475,
          0,
          0,
          0,
          0.16892489790916443,
          1.8236638307571411,
          0,
          0,
          0,
          2.016730308532715,
          0,
          2.1790101528167725,
          0,
          0,
          0,
          0,
          1.9418346881866455,
          0.3267120122909546,
          0,
          0.2759730815887451,
          2.2852847576141357,
          0,
          1.1778602600097656,
          2.1130247116088867,
          1.3255598545074463,
          0.3668515384197235,
          2.0650246143341064,
          0,
          0,
          0,
          1.810097575187683,
          0,
          2.3653006553649902,
          0,
          0.32265645265579224,
          0,
          1.9312925338745117,
          1.9885056018829346,
          0,
          0,
          0.37339693307876587,
          1.7640290260314941,
          0,
          0.5225220322608948,
          1.9627019166946411,
          1.9879177808761597,
          0,
          1.672917366027832,
          0,
          0.2757558226585388,
          0.18457196652889252,
          0,
          0,
          0,
          1.5657895803451538,
          0.948805034160614,
          0.24558953940868378,
          1.8648414611816406,
          1.3750447034835815,
          0,
          0,
          1.0016368627548218,
          0.4439065754413605,
          0.30107590556144714,
          2.109934091567993,
          1.6596908569335938,
          2.235196113586426,
          1.339382290840149,
          0,
          2.4730000495910645,
          1.7933757305145264,
          0.32828667759895325,
          1.9485619068145752,
          0.7305453419685364,
          2.2497217655181885,
          0.26816079020500183,
          0,
          2.107245922088623,
          0.5731794834136963,
          2.27614164352417,
          2.338681697845459,
          0,
          0,
          0.8238109946250916,
          0.24713262915611267,
          0,
          2.3528990745544434,
          2.1450552940368652,
          1.877717137336731,
          0,
          0.4044949412345886,
          0,
          0,
          0,
          0,
          0,
          0.2865118682384491,
          1.6961462497711182,
          0.33957505226135254,
          1.8702701330184937,
          0,
          1.9861335754394531,
          0,
          0.15039163827896118,
          1.9162840843200684,
          2.2512521743774414,
          0,
          2.1870830059051514,
          0,
          0,
          1.8919402360916138,
          0.23568180203437805,
          0,
          0,
          0,
          0,
          0,
          0,
          0,
          0,
          1.6337546110153198,
          2.2075960636138916,
          0,
          1.3897719383239746,
          0,
          2.2734358310699463,
          0,
          0,
          0,
          0,
          0.2791014611721039,
          0,
          0,
          2.018643379211426,
          0,
          0,
          0,
          2.185136318206787,
          0,
          0,
          0,
          0,
          1.0773876905441284,
          0,
          0,
          2.3856866359710693,
          0.4400240480899811,
          0,
          2.0558433532714844,
          0,
          2.115109920501709,
          0,
          1.8271151781082153,
          0,
          0.9351605176925659,
          1.9211722612380981,
          2.5775907039642334,
          0.20332716405391693,
          1.5569206476211548,
          1.8528645038604736,
          2.077080488204956,
          1.6970657110214233,
          0,
          0,
          2.051281690597534,
          2.1095542907714844,
          2.296550989151001,
          1.8110952377319336,
          2.303617000579834,
          2.1040868759155273,
          0,
          0,
          0,
          0.4658918082714081,
          0,
          0.2639593183994293,
          2.270054340362549,
          0.263308048248291,
          0,
          1.756370186805725,
          0.2517256438732147,
          1.974605917930603,
          0.5161880850791931,
          0,
          0,
          2.393124580383301,
          0,
          0,
          2.1308186054229736,
          2.4702348709106445,
          0,
          0,
          0,
          0.28571435809135437,
          0,
          0,
          0,
          0,
          2.462416648864746,
          0.2724202573299408,
          1.5096057653427124,
          0,
          0,
          0.41108080744743347,
          2.157712697982788,
          0,
          2.2026925086975098,
          0,
          1.9429264068603516,
          0.2727327346801758,
          0,
          0.30569183826446533,
          0.9563901424407959,
          2.024066209793091,
          0,
          0,
          0.35016706585884094,
          1.912166714668274,
          0,
          0,
          0,
          0,
          0,
          0,
          0,
          2.36281418800354,
          2.394742488861084,
          2.1100473403930664,
          1.9054980278015137,
          2.0222160816192627,
          1.957576870918274,
          0.2861786186695099,
          2.016864061355591,
          2.244590997695923,
          1.1101300716400146,
          1.5223385095596313,
          0.5526574850082397,
          0,
          0,
          2.319974184036255,
          0,
          2.11814022064209,
          2.0433084964752197,
          0.9234676957130432,
          2.1477859020233154,
          0,
          0,
          0,
          0,
          0,
          0.5104773044586182,
          0,
          2.2453901767730713,
          0,
          2.4544458389282227,
          2.2773678302764893,
          1.7642154693603516,
          0,
          0.3752031624317169,
          2.406613349914551,
          1.410674810409546,
          0,
          0,
          0,
          1.730177402496338,
          0,
          0.2728711664676666,
          2.182018280029297,
          0,
          0,
          0,
          2.0243759155273438,
          0,
          0,
          0,
          0,
          1.5743483304977417,
          2.0674116611480713,
          1.268325686454773,
          0,
          0,
          1.514452576637268,
          1.5874625444412231,
          0,
          0,
          0,
          1.2206196784973145,
          0,
          2.0040736198425293,
          0,
          0,
          0.8029292225837708,
          2.3075032234191895,
          1.9116915464401245,
          0,
          2.236194610595703,
          0,
          0.2214852124452591,
          0,
          0,
          1.9529629945755005,
          2.0589280128479004,
          1.7494990825653076,
          1.8651797771453857,
          0,
          0,
          2.0628814697265625,
          0,
          0.4226481020450592,
          0.28683599829673767,
          0,
          1.858282208442688,
          1.3352982997894287,
          1.802983283996582,
          0,
          1.7496037483215332,
          0.2484487146139145,
          1.4388724565505981,
          1.9275068044662476,
          0,
          0,
          0,
          0.38375115394592285,
          0,
          0,
          1.9637172222137451,
          1.9124540090560913,
          0.2777765691280365,
          0,
          0,
          0,
          0,
          0,
          2.52874755859375,
          0,
          1.9150651693344116,
          1.8562309741973877,
          1.5038872957229614,
          2.4384169578552246,
          1.9868764877319336,
          0,
          0.2507701516151428,
          0,
          0,
          2.0056724548339844,
          0.8630913496017456,
          0,
          0.2582727074623108,
          0.2663121223449707,
          0.40323135256767273,
          0.32890328764915466,
          2.1126911640167236,
          0.3953893482685089,
          2.227264642715454,
          0,
          0,
          0.25078755617141724,
          1.555676817893982,
          1.8016200065612793,
          2.3185203075408936,
          0,
          0,
          0.9018971920013428,
          2.248016119003296,
          0,
          1.1238597631454468,
          0,
          0,
          1.3285229206085205,
          0.3430970013141632,
          1.4128296375274658,
          1.986208200454712,
          0,
          2.3573391437530518,
          1.9651135206222534,
          0,
          0,
          0.24227455258369446,
          0.2947881519794464,
          0,
          0,
          0.33713459968566895,
          2.1703953742980957,
          0.2597563862800598,
          2.0470998287200928,
          0.6860319972038269,
          0,
          0.3061668574810028,
          1.5353723764419556,
          0,
          0,
          0,
          0.5142695903778076,
          1.9537100791931152,
          1.949203372001648,
          0.8686481714248657,
          0,
          0.31654635071754456,
          2.277967929840088,
          0,
          0,
          0,
          0,
          0,
          0,
          0.2000635415315628,
          2.643007516860962,
          2.130239248275757,
          0,
          0,
          0,
          0,
          1.6970269680023193,
          0,
          0,
          0.6825329065322876,
          0,
          1.8313807249069214,
          0,
          0.3553495705127716,
          0,
          2.3572843074798584,
          0,
          0.2554512321949005,
          0.5167371034622192,
          0.5936493873596191,
          2.2343270778656006,
          2.382934331893921,
          1.8067753314971924,
          1.0683454275131226,
          0,
          0,
          0,
          0,
          0.4575159251689911,
          0,
          0,
          0,
          1.2874008417129517,
          1.454521656036377,
          0.31191515922546387,
          0.4059538245201111,
          1.1763381958007812,
          0,
          0.6086720824241638,
          0.2356146275997162,
          1.758795976638794,
          2.2160844802856445,
          1.0269159078598022,
          1.5033398866653442,
          0,
          2.1537771224975586,
          0.48185867071151733,
          2.1245956420898438,
          0.34776046872138977,
          0,
          2.5922064781188965,
          0,
          0,
          0.22374258935451508,
          2.266404151916504,
          2.316728353500366,
          0.1873132884502411,
          0,
          0,
          0,
          2.3099563121795654,
          0.2683887779712677,
          0,
          1.3944671154022217,
          0.7839071750640869,
          0,
          0.47009989619255066,
          0,
          1.9897713661193848,
          1.9757128953933716,
          2.2435734272003174,
          0.18827831745147705,
          0.6844488978385925,
          0.24146731197834015,
          0,
          0,
          0,
          2.5518031120300293,
          0,
          0.18685780465602875,
          0.5734379887580872,
          0.30191975831985474,
          0.4005410373210907,
          0,
          2.575598955154419,
          0,
          0.29774895310401917,
          0,
          0,
          0.28646302223205566,
          2.5831713676452637,
          2.1214404106140137,
          1.5621496438980103,
          0,
          0,
          2.1580049991607666,
          2.115135908126831,
          1.305418848991394,
          2.104344129562378,
          1.2654614448547363,
          2.6052980422973633,
          2.004359722137451,
          1.954425573348999,
          0.7979938387870789,
          0,
          1.8004971742630005,
          2.0369789600372314,
          0,
          2.3290274143218994,
          0,
          0,
          1.7474790811538696,
          0,
          2.093806505203247,
          2.4930574893951416,
          2.076789617538452,
          2.154033660888672,
          0,
          0,
          0,
          2.1192657947540283,
          2.54548978805542,
          0,
          0,
          2.57685923576355,
          2.292755126953125,
          0,
          0,
          2.1442553997039795,
          0.6302809715270996,
          2.023132085800171,
          1.7240242958068848,
          2.188007116317749,
          0,
          0.3277762234210968,
          0,
          0,
          2.2274715900421143,
          2.359065055847168,
          2.0562803745269775,
          1.8484994173049927,
          2.282623529434204,
          0,
          0.480697363615036,
          0,
          1.8943308591842651,
          0,
          0,
          2.433504581451416,
          0,
          0,
          0,
          0,
          1.5364012718200684,
          1.8234003782272339,
          0,
          0,
          0,
          0.31755781173706055,
          2.220205068588257,
          0,
          1.7769089937210083,
          2.0537638664245605,
          0.9505701661109924,
          2.00321102142334,
          0.9334660172462463,
          0,
          2.072431802749634,
          0,
          0,
          1.634147047996521,
          2.3295059204101562,
          1.8588287830352783,
          0,
          0,
          0,
          0,
          1.952386498451233,
          0,
          0,
          0,
          1.639019250869751,
          0,
          0,
          0,
          0,
          1.70399010181427,
          0.29864707589149475,
          2.4564218521118164,
          0.2654568552970886,
          1.7846558094024658,
          0.15100698173046112,
          0,
          2.4669816493988037,
          0.7194788455963135,
          1.1153700351715088,
          1.7418925762176514,
          2.2534167766571045,
          2.359853744506836,
          2.1263468265533447,
          0,
          0,
          0.5247673392295837,
          1.9143085479736328,
          0,
          0,
          2.5425479412078857,
          0.2807750403881073,
          1.5637085437774658,
          0.26982226967811584,
          2.3495798110961914,
          1.3032089471817017,
          0,
          0.19868309795856476,
          0,
          0,
          0,
          1.459883213043213,
          0,
          0,
          1.3293403387069702,
          0,
          0,
          0.34021446108818054,
          0.25880369544029236,
          0.22981880605220795,
          0.29079359769821167,
          2.4337337017059326,
          0,
          2.151136875152588,
          0,
          0,
          1.7776776552200317,
          1.589604377746582,
          0,
          0,
          2.1866698265075684,
          0,
          1.590157151222229,
          2.1088716983795166,
          1.7966818809509277,
          0.6092938780784607,
          1.672243595123291,
          0,
          0,
          0.5129466652870178,
          0,
          2.4379589557647705,
          0,
          0,
          0,
          0,
          2.1421825885772705,
          0,
          0.315245658159256,
          2.2084827423095703,
          0,
          0,
          1.562811017036438,
          0,
          2.5171210765838623,
          1.6841404438018799,
          0,
          0.5781549215316772,
          0,
          0,
          0,
          0,
          0,
          1.9509931802749634,
          0,
          0,
          0.9424192905426025,
          2.4131991863250732,
          0.21428637206554413,
          0,
          2.0105953216552734,
          0,
          2.3597171306610107,
          0,
          1.9600268602371216,
          0,
          0.24848823249340057,
          0,
          0,
          1.8254088163375854,
          0.3650064766407013,
          1.6559126377105713,
          1.7430741786956787,
          0,
          0,
          0,
          0,
          2.069500207901001,
          0,
          2.1642367839813232,
          1.7245228290557861,
          0,
          0,
          2.0575149059295654,
          1.7843016386032104,
          1.981831669807434,
          1.592366099357605,
          0,
          0,
          0.2917059659957886,
          0,
          2.5214908123016357,
          2.0558362007141113,
          0,
          0,
          0.5372524857521057,
          2.3688721656799316,
          1.791917324066162,
          0,
          0,
          0,
          0,
          1.8440066576004028,
          1.8289003372192383,
          2.4880897998809814,
          0,
          1.9414201974868774,
          0,
          0,
          0,
          1.676629900932312,
          0.2775370180606842,
          1.3151555061340332,
          1.648319959640503,
          0,
          0,
          0,
          0,
          0.2789219617843628,
          0,
          2.227186679840088,
          0,
          0.34752410650253296,
          0.5818135738372803,
          0,
          0,
          0,
          2.073817253112793,
          0.30812180042266846,
          0,
          0,
          1.8114280700683594,
          2.1344661712646484,
          1.9204851388931274,
          1.2590728998184204,
          0,
          0,
          0,
          0,
          0,
          0,
          0,
          0.4775460362434387,
          0,
          2.138654947280884,
          1.9125170707702637,
          2.4601826667785645,
          1.9037196636199951,
          0.5570499897003174,
          2.3475160598754883,
          0,
          0,
          0,
          2.560328960418701,
          2.0109221935272217,
          1.3245543241500854,
          0.31925174593925476,
          0,
          0,
          0,
          0.30336520075798035,
          0,
          1.648708701133728,
          0,
          2.407080888748169,
          0.34784606099128723,
          0,
          1.549108624458313,
          0,
          2.564072370529175,
          0,
          2.076127290725708,
          0,
          0,
          1.5756860971450806,
          0,
          0,
          0,
          1.6803218126296997,
          0,
          2.2991273403167725,
          0,
          0,
          2.269944190979004,
          1.2442630529403687,
          0,
          1.454405426979065,
          2.135152816772461,
          0.20228250324726105,
          0.5283275842666626,
          0,
          0,
          1.42168390750885,
          0.25849589705467224,
          2.0020713806152344,
          0,
          0,
          0,
          0,
          0.9847975969314575,
          0.6934746503829956,
          0,
          0.2743961215019226,
          0,
          0,
          0.2491164207458496,
          1.8082590103149414,
          0.39283716678619385,
          1.511139154434204,
          1.934476375579834,
          0,
          1.5757423639297485,
          0,
          0,
          2.100846290588379,
          0,
          0.32603204250335693,
          2.076012134552002,
          2.6408278942108154,
          0,
          2.425590991973877,
          0,
          0,
          0,
          0,
          2.050697088241577,
          2.393569231033325,
          0,
          1.7636287212371826,
          0.3548579812049866,
          0,
          0,
          1.704500675201416,
          1.9873418807983398,
          0,
          2.118257999420166,
          0,
          2.346985340118408,
          0.3100140392780304,
          2.153540849685669,
          0,
          0,
          0,
          2.046703815460205,
          1.970715880393982,
          0.2538449764251709,
          0.3220688998699188,
          0,
          0,
          0,
          1.9797301292419434,
          0,
          1.861549973487854,
          0,
          0,
          2.173945665359497,
          0.3894702196121216,
          0,
          1.421231985092163,
          0,
          0,
          0,
          0,
          0.21265707910060883,
          0.24876894056797028,
          0.2956850826740265,
          0,
          0,
          0,
          0,
          0,
          0.284839004278183,
          2.315610885620117,
          0.3986063599586487,
          2.012160301208496,
          2.118706464767456,
          0,
          2.0993473529815674,
          0,
          0,
          2.1605212688446045,
          1.4694032669067383,
          1.9667266607284546,
          2.1703693866729736,
          0,
          0,
          0,
          0,
          0,
          1.519526720046997,
          1.7614145278930664,
          0,
          0,
          2.1117072105407715,
          0,
          0,
          0,
          0.327961802482605,
          1.382645845413208,
          0,
          0,
          0.6680434942245483,
          0.9931755661964417,
          2.3150696754455566,
          0,
          2.472447156906128,
          0.26359573006629944,
          0,
          0,
          1.7180233001708984,
          0.8793762922286987,
          0.31706368923187256,
          0,
          2.3369622230529785,
          0,
          0,
          0.4291858375072479,
          0,
          0,
          2.092996835708618,
          1.5449458360671997,
          0,
          2.1309261322021484,
          2.151808500289917,
          2.502577781677246,
          0.6333825588226318,
          0.2161516547203064,
          2.0399341583251953,
          1.587443232536316,
          0.21916760504245758,
          0,
          2.2517549991607666,
          0,
          0,
          0.5576858520507812,
          1.6159523725509644,
          0,
          1.9064544439315796,
          1.557606816291809,
          1.8768123388290405,
          2.3485047817230225,
          0,
          0,
          0.6255745887756348,
          0,
          0,
          0,
          0.5726485848426819,
          0.5572347044944763,
          0,
          0,
          0,
          0,
          2.638970375061035,
          0.2586541771888733,
          0,
          0,
          0,
          0,
          0,
          0,
          0,
          1.7987697124481201,
          0.5546223521232605,
          2.504237413406372,
          0,
          0,
          0,
          1.538039207458496,
          0.3201777935028076,
          0,
          1.753393530845642,
          1.613980770111084,
          0.3723756968975067,
          0.36989668011665344,
          0,
          2.280691623687744,
          1.7099932432174683,
          0.36290937662124634,
          2.01638126373291,
          0,
          2.1069107055664062,
          2.0476768016815186,
          0,
          0,
          0.21523700654506683,
          2.0857832431793213,
          0.7692711353302002,
          2.3264544010162354,
          0,
          0,
          0,
          0,
          0,
          0,
          0,
          0,
          0,
          0,
          2.0125582218170166,
          0,
          0,
          0,
          0,
          1.3937981128692627,
          0.3236048221588135,
          1.7770359516143799,
          0,
          2.03049635887146,
          0.35435935854911804,
          2.354468822479248,
          0,
          1.7825307846069336,
          2.0018038749694824,
          1.7324217557907104,
          1.0399501323699951,
          0,
          1.995376467704773,
          0,
          0,
          0.36038175225257874,
          0.2696458101272583,
          0,
          0,
          0,
          1.8604058027267456,
          0,
          0,
          1.0079119205474854,
          2.1166927814483643,
          1.104555606842041,
          2.2735843658447266,
          2.2199809551239014,
          0,
          0,
          0.20122776925563812,
          0,
          0.46967023611068726,
          0.2321755290031433,
          0,
          1.8473926782608032,
          0,
          2.451296091079712,
          0,
          0.28532007336616516,
          1.8889715671539307,
          0,
          0,
          0,
          0,
          0,
          2.3070685863494873,
          0,
          2.270458221435547,
          2.045814037322998,
          0,
          1.861411213874817,
          1.9351446628570557,
          0.2060868889093399,
          1.63346266746521,
          0,
          1.8853925466537476,
          0.24465356767177582,
          1.8992323875427246,
          2.5624873638153076,
          2.399153709411621,
          0.2610071301460266,
          0.5718923807144165,
          0,
          0.32342660427093506,
          0,
          0.2946239113807678,
          0,
          0,
          0,
          1.9500113725662231,
          1.8593991994857788,
          1.4286879301071167,
          0,
          0,
          0,
          0,
          0,
          0,
          1.2565462589263916,
          0.45515912771224976,
          1.630729079246521,
          1.972873568534851,
          0,
          0,
          0.3062742352485657,
          0,
          0.2875995337963104,
          0,
          2.057685136795044,
          0,
          0,
          1.6323609352111816,
          0,
          2.069660186767578,
          0,
          0,
          1.2250059843063354,
          0,
          1.5478225946426392,
          0,
          0,
          1.7859110832214355,
          2.117276430130005,
          1.3190431594848633,
          0.1944109946489334,
          0,
          0,
          0,
          0,
          2.526394844055176,
          0,
          0,
          0,
          0,
          0,
          0,
          0,
          1.9772778749465942,
          0,
          0,
          2.0412564277648926,
          0,
          0,
          0.6539748311042786,
          0,
          0,
          2.2317516803741455,
          0,
          0.2815031111240387,
          0,
          0,
          0,
          0,
          2.006664752960205,
          1.4236161708831787,
          0,
          0,
          0.30338722467422485,
          0,
          0,
          2.00907301902771,
          0,
          0,
          0,
          2.0039689540863037,
          0,
          1.6455975770950317,
          0,
          2.1476635932922363,
          1.841853141784668,
          0.49527832865715027,
          0.2589004337787628,
          0,
          0,
          1.8674418926239014,
          0.756744921207428,
          0,
          1.800884485244751,
          0,
          0,
          0,
          0,
          2.409970998764038,
          0,
          1.5369819402694702,
          0.3061365485191345,
          0,
          0.35570481419563293,
          0,
          1.580886721611023,
          0,
          1.4486205577850342,
          0,
          1.9524239301681519,
          0,
          0,
          0,
          1.4098448753356934,
          0,
          1.763622760772705,
          0.22819845378398895,
          2.3286349773406982,
          2.352081537246704,
          1.6739139556884766,
          0,
          0,
          0.3891372084617615,
          2.153482675552368,
          0,
          0,
          0,
          2.423011302947998,
          2.2107081413269043,
          1.0779521465301514,
          0,
          1.2356349229812622,
          2.214874505996704,
          2.111010789871216,
          0.8560646176338196,
          0,
          2.21003794670105,
          2.005739450454712,
          2.198262929916382,
          0,
          2.2171483039855957,
          0,
          0.3056725859642029,
          0,
          0,
          0.300805926322937,
          0,
          0,
          2.103400230407715,
          0.2750834822654724,
          0,
          0,
          1.7188140153884888,
          2.2237982749938965,
          0,
          0,
          2.439236640930176,
          0,
          0,
          2.24607515335083,
          1.7159587144851685,
          0,
          0,
          0,
          0,
          0,
          0,
          2.2199172973632812,
          0,
          0,
          0,
          0.28113529086112976,
          0,
          0,
          2.3509669303894043,
          1.7748676538467407,
          1.9924951791763306,
          0.503097414970398,
          0.2548253536224365,
          0.32458943128585815,
          2.1806774139404297,
          1.6456972360610962,
          0,
          0,
          2.5424911975860596,
          0,
          1.9713647365570068,
          1.9274004697799683,
          0,
          1.7152669429779053,
          2.236117362976074,
          2.2493600845336914,
          0.3028538227081299,
          2.1542458534240723,
          0.25941020250320435,
          0,
          0,
          0,
          0,
          2.0729706287384033,
          0,
          0.9379993677139282,
          0,
          0,
          1.7475621700286865,
          1.685775876045227,
          1.6864614486694336,
          1.7874784469604492,
          0,
          0.3126540780067444,
          2.395648241043091,
          0,
          2.0547897815704346,
          0,
          0,
          0,
          0,
          1.5126988887786865,
          0,
          0.4268112778663635,
          2.6858127117156982,
          0,
          0.2676514983177185,
          1.309834361076355,
          0,
          2.4509410858154297,
          1.1844041347503662,
          0,
          0,
          2.229149580001831,
          0,
          1.6798145771026611,
          2.0957961082458496,
          0,
          2.3759801387786865,
          0.3022286295890808,
          0,
          0,
          0,
          0,
          1.8525046110153198
         ],
         "xaxis": "x",
         "yaxis": "y"
        }
       ],
       "layout": {
        "barmode": "relative",
        "legend": {
         "tracegroupgap": 0
        },
        "template": {
         "data": {
          "bar": [
           {
            "error_x": {
             "color": "#2a3f5f"
            },
            "error_y": {
             "color": "#2a3f5f"
            },
            "marker": {
             "line": {
              "color": "#E5ECF6",
              "width": 0.5
             },
             "pattern": {
              "fillmode": "overlay",
              "size": 10,
              "solidity": 0.2
             }
            },
            "type": "bar"
           }
          ],
          "barpolar": [
           {
            "marker": {
             "line": {
              "color": "#E5ECF6",
              "width": 0.5
             },
             "pattern": {
              "fillmode": "overlay",
              "size": 10,
              "solidity": 0.2
             }
            },
            "type": "barpolar"
           }
          ],
          "carpet": [
           {
            "aaxis": {
             "endlinecolor": "#2a3f5f",
             "gridcolor": "white",
             "linecolor": "white",
             "minorgridcolor": "white",
             "startlinecolor": "#2a3f5f"
            },
            "baxis": {
             "endlinecolor": "#2a3f5f",
             "gridcolor": "white",
             "linecolor": "white",
             "minorgridcolor": "white",
             "startlinecolor": "#2a3f5f"
            },
            "type": "carpet"
           }
          ],
          "choropleth": [
           {
            "colorbar": {
             "outlinewidth": 0,
             "ticks": ""
            },
            "type": "choropleth"
           }
          ],
          "contour": [
           {
            "colorbar": {
             "outlinewidth": 0,
             "ticks": ""
            },
            "colorscale": [
             [
              0,
              "#0d0887"
             ],
             [
              0.1111111111111111,
              "#46039f"
             ],
             [
              0.2222222222222222,
              "#7201a8"
             ],
             [
              0.3333333333333333,
              "#9c179e"
             ],
             [
              0.4444444444444444,
              "#bd3786"
             ],
             [
              0.5555555555555556,
              "#d8576b"
             ],
             [
              0.6666666666666666,
              "#ed7953"
             ],
             [
              0.7777777777777778,
              "#fb9f3a"
             ],
             [
              0.8888888888888888,
              "#fdca26"
             ],
             [
              1,
              "#f0f921"
             ]
            ],
            "type": "contour"
           }
          ],
          "contourcarpet": [
           {
            "colorbar": {
             "outlinewidth": 0,
             "ticks": ""
            },
            "type": "contourcarpet"
           }
          ],
          "heatmap": [
           {
            "colorbar": {
             "outlinewidth": 0,
             "ticks": ""
            },
            "colorscale": [
             [
              0,
              "#0d0887"
             ],
             [
              0.1111111111111111,
              "#46039f"
             ],
             [
              0.2222222222222222,
              "#7201a8"
             ],
             [
              0.3333333333333333,
              "#9c179e"
             ],
             [
              0.4444444444444444,
              "#bd3786"
             ],
             [
              0.5555555555555556,
              "#d8576b"
             ],
             [
              0.6666666666666666,
              "#ed7953"
             ],
             [
              0.7777777777777778,
              "#fb9f3a"
             ],
             [
              0.8888888888888888,
              "#fdca26"
             ],
             [
              1,
              "#f0f921"
             ]
            ],
            "type": "heatmap"
           }
          ],
          "heatmapgl": [
           {
            "colorbar": {
             "outlinewidth": 0,
             "ticks": ""
            },
            "colorscale": [
             [
              0,
              "#0d0887"
             ],
             [
              0.1111111111111111,
              "#46039f"
             ],
             [
              0.2222222222222222,
              "#7201a8"
             ],
             [
              0.3333333333333333,
              "#9c179e"
             ],
             [
              0.4444444444444444,
              "#bd3786"
             ],
             [
              0.5555555555555556,
              "#d8576b"
             ],
             [
              0.6666666666666666,
              "#ed7953"
             ],
             [
              0.7777777777777778,
              "#fb9f3a"
             ],
             [
              0.8888888888888888,
              "#fdca26"
             ],
             [
              1,
              "#f0f921"
             ]
            ],
            "type": "heatmapgl"
           }
          ],
          "histogram": [
           {
            "marker": {
             "pattern": {
              "fillmode": "overlay",
              "size": 10,
              "solidity": 0.2
             }
            },
            "type": "histogram"
           }
          ],
          "histogram2d": [
           {
            "colorbar": {
             "outlinewidth": 0,
             "ticks": ""
            },
            "colorscale": [
             [
              0,
              "#0d0887"
             ],
             [
              0.1111111111111111,
              "#46039f"
             ],
             [
              0.2222222222222222,
              "#7201a8"
             ],
             [
              0.3333333333333333,
              "#9c179e"
             ],
             [
              0.4444444444444444,
              "#bd3786"
             ],
             [
              0.5555555555555556,
              "#d8576b"
             ],
             [
              0.6666666666666666,
              "#ed7953"
             ],
             [
              0.7777777777777778,
              "#fb9f3a"
             ],
             [
              0.8888888888888888,
              "#fdca26"
             ],
             [
              1,
              "#f0f921"
             ]
            ],
            "type": "histogram2d"
           }
          ],
          "histogram2dcontour": [
           {
            "colorbar": {
             "outlinewidth": 0,
             "ticks": ""
            },
            "colorscale": [
             [
              0,
              "#0d0887"
             ],
             [
              0.1111111111111111,
              "#46039f"
             ],
             [
              0.2222222222222222,
              "#7201a8"
             ],
             [
              0.3333333333333333,
              "#9c179e"
             ],
             [
              0.4444444444444444,
              "#bd3786"
             ],
             [
              0.5555555555555556,
              "#d8576b"
             ],
             [
              0.6666666666666666,
              "#ed7953"
             ],
             [
              0.7777777777777778,
              "#fb9f3a"
             ],
             [
              0.8888888888888888,
              "#fdca26"
             ],
             [
              1,
              "#f0f921"
             ]
            ],
            "type": "histogram2dcontour"
           }
          ],
          "mesh3d": [
           {
            "colorbar": {
             "outlinewidth": 0,
             "ticks": ""
            },
            "type": "mesh3d"
           }
          ],
          "parcoords": [
           {
            "line": {
             "colorbar": {
              "outlinewidth": 0,
              "ticks": ""
             }
            },
            "type": "parcoords"
           }
          ],
          "pie": [
           {
            "automargin": true,
            "type": "pie"
           }
          ],
          "scatter": [
           {
            "fillpattern": {
             "fillmode": "overlay",
             "size": 10,
             "solidity": 0.2
            },
            "type": "scatter"
           }
          ],
          "scatter3d": [
           {
            "line": {
             "colorbar": {
              "outlinewidth": 0,
              "ticks": ""
             }
            },
            "marker": {
             "colorbar": {
              "outlinewidth": 0,
              "ticks": ""
             }
            },
            "type": "scatter3d"
           }
          ],
          "scattercarpet": [
           {
            "marker": {
             "colorbar": {
              "outlinewidth": 0,
              "ticks": ""
             }
            },
            "type": "scattercarpet"
           }
          ],
          "scattergeo": [
           {
            "marker": {
             "colorbar": {
              "outlinewidth": 0,
              "ticks": ""
             }
            },
            "type": "scattergeo"
           }
          ],
          "scattergl": [
           {
            "marker": {
             "colorbar": {
              "outlinewidth": 0,
              "ticks": ""
             }
            },
            "type": "scattergl"
           }
          ],
          "scattermapbox": [
           {
            "marker": {
             "colorbar": {
              "outlinewidth": 0,
              "ticks": ""
             }
            },
            "type": "scattermapbox"
           }
          ],
          "scatterpolar": [
           {
            "marker": {
             "colorbar": {
              "outlinewidth": 0,
              "ticks": ""
             }
            },
            "type": "scatterpolar"
           }
          ],
          "scatterpolargl": [
           {
            "marker": {
             "colorbar": {
              "outlinewidth": 0,
              "ticks": ""
             }
            },
            "type": "scatterpolargl"
           }
          ],
          "scatterternary": [
           {
            "marker": {
             "colorbar": {
              "outlinewidth": 0,
              "ticks": ""
             }
            },
            "type": "scatterternary"
           }
          ],
          "surface": [
           {
            "colorbar": {
             "outlinewidth": 0,
             "ticks": ""
            },
            "colorscale": [
             [
              0,
              "#0d0887"
             ],
             [
              0.1111111111111111,
              "#46039f"
             ],
             [
              0.2222222222222222,
              "#7201a8"
             ],
             [
              0.3333333333333333,
              "#9c179e"
             ],
             [
              0.4444444444444444,
              "#bd3786"
             ],
             [
              0.5555555555555556,
              "#d8576b"
             ],
             [
              0.6666666666666666,
              "#ed7953"
             ],
             [
              0.7777777777777778,
              "#fb9f3a"
             ],
             [
              0.8888888888888888,
              "#fdca26"
             ],
             [
              1,
              "#f0f921"
             ]
            ],
            "type": "surface"
           }
          ],
          "table": [
           {
            "cells": {
             "fill": {
              "color": "#EBF0F8"
             },
             "line": {
              "color": "white"
             }
            },
            "header": {
             "fill": {
              "color": "#C8D4E3"
             },
             "line": {
              "color": "white"
             }
            },
            "type": "table"
           }
          ]
         },
         "layout": {
          "annotationdefaults": {
           "arrowcolor": "#2a3f5f",
           "arrowhead": 0,
           "arrowwidth": 1
          },
          "autotypenumbers": "strict",
          "coloraxis": {
           "colorbar": {
            "outlinewidth": 0,
            "ticks": ""
           }
          },
          "colorscale": {
           "diverging": [
            [
             0,
             "#8e0152"
            ],
            [
             0.1,
             "#c51b7d"
            ],
            [
             0.2,
             "#de77ae"
            ],
            [
             0.3,
             "#f1b6da"
            ],
            [
             0.4,
             "#fde0ef"
            ],
            [
             0.5,
             "#f7f7f7"
            ],
            [
             0.6,
             "#e6f5d0"
            ],
            [
             0.7,
             "#b8e186"
            ],
            [
             0.8,
             "#7fbc41"
            ],
            [
             0.9,
             "#4d9221"
            ],
            [
             1,
             "#276419"
            ]
           ],
           "sequential": [
            [
             0,
             "#0d0887"
            ],
            [
             0.1111111111111111,
             "#46039f"
            ],
            [
             0.2222222222222222,
             "#7201a8"
            ],
            [
             0.3333333333333333,
             "#9c179e"
            ],
            [
             0.4444444444444444,
             "#bd3786"
            ],
            [
             0.5555555555555556,
             "#d8576b"
            ],
            [
             0.6666666666666666,
             "#ed7953"
            ],
            [
             0.7777777777777778,
             "#fb9f3a"
            ],
            [
             0.8888888888888888,
             "#fdca26"
            ],
            [
             1,
             "#f0f921"
            ]
           ],
           "sequentialminus": [
            [
             0,
             "#0d0887"
            ],
            [
             0.1111111111111111,
             "#46039f"
            ],
            [
             0.2222222222222222,
             "#7201a8"
            ],
            [
             0.3333333333333333,
             "#9c179e"
            ],
            [
             0.4444444444444444,
             "#bd3786"
            ],
            [
             0.5555555555555556,
             "#d8576b"
            ],
            [
             0.6666666666666666,
             "#ed7953"
            ],
            [
             0.7777777777777778,
             "#fb9f3a"
            ],
            [
             0.8888888888888888,
             "#fdca26"
            ],
            [
             1,
             "#f0f921"
            ]
           ]
          },
          "colorway": [
           "#636efa",
           "#EF553B",
           "#00cc96",
           "#ab63fa",
           "#FFA15A",
           "#19d3f3",
           "#FF6692",
           "#B6E880",
           "#FF97FF",
           "#FECB52"
          ],
          "font": {
           "color": "#2a3f5f"
          },
          "geo": {
           "bgcolor": "white",
           "lakecolor": "white",
           "landcolor": "#E5ECF6",
           "showlakes": true,
           "showland": true,
           "subunitcolor": "white"
          },
          "hoverlabel": {
           "align": "left"
          },
          "hovermode": "closest",
          "mapbox": {
           "style": "light"
          },
          "paper_bgcolor": "white",
          "plot_bgcolor": "#E5ECF6",
          "polar": {
           "angularaxis": {
            "gridcolor": "white",
            "linecolor": "white",
            "ticks": ""
           },
           "bgcolor": "#E5ECF6",
           "radialaxis": {
            "gridcolor": "white",
            "linecolor": "white",
            "ticks": ""
           }
          },
          "scene": {
           "xaxis": {
            "backgroundcolor": "#E5ECF6",
            "gridcolor": "white",
            "gridwidth": 2,
            "linecolor": "white",
            "showbackground": true,
            "ticks": "",
            "zerolinecolor": "white"
           },
           "yaxis": {
            "backgroundcolor": "#E5ECF6",
            "gridcolor": "white",
            "gridwidth": 2,
            "linecolor": "white",
            "showbackground": true,
            "ticks": "",
            "zerolinecolor": "white"
           },
           "zaxis": {
            "backgroundcolor": "#E5ECF6",
            "gridcolor": "white",
            "gridwidth": 2,
            "linecolor": "white",
            "showbackground": true,
            "ticks": "",
            "zerolinecolor": "white"
           }
          },
          "shapedefaults": {
           "line": {
            "color": "#2a3f5f"
           }
          },
          "ternary": {
           "aaxis": {
            "gridcolor": "white",
            "linecolor": "white",
            "ticks": ""
           },
           "baxis": {
            "gridcolor": "white",
            "linecolor": "white",
            "ticks": ""
           },
           "bgcolor": "#E5ECF6",
           "caxis": {
            "gridcolor": "white",
            "linecolor": "white",
            "ticks": ""
           }
          },
          "title": {
           "x": 0.05
          },
          "xaxis": {
           "automargin": true,
           "gridcolor": "white",
           "linecolor": "white",
           "ticks": "",
           "title": {
            "standoff": 15
           },
           "zerolinecolor": "white",
           "zerolinewidth": 2
          },
          "yaxis": {
           "automargin": true,
           "gridcolor": "white",
           "linecolor": "white",
           "ticks": "",
           "title": {
            "standoff": 15
           },
           "zerolinecolor": "white",
           "zerolinewidth": 2
          }
         }
        },
        "title": {
         "text": "Histogram zmiennej objaśnianej"
        },
        "xaxis": {
         "anchor": "y",
         "domain": [
          0,
          1
         ],
         "title": {
          "text": "Wartość zmiennej objaśnianej"
         }
        },
        "yaxis": {
         "anchor": "x",
         "domain": [
          0,
          1
         ],
         "title": {
          "text": "Liczba obserwacji"
         }
        }
       }
      }
     },
     "metadata": {},
     "output_type": "display_data"
    }
   ],
   "source": [
    "fig = px.histogram(y, x='Expected', nbins=50, title='Histogram zmiennej objaśnianej')\n",
    "fig.update_layout(xaxis_title='Wartość zmiennej objaśnianej', yaxis_title='Liczba obserwacji')\n",
    "fig.show()"
   ]
  },
  {
   "cell_type": "markdown",
   "metadata": {},
   "source": [
    "Wnioski:\n",
    "- Duża liczba wartości równych 0 - Wskazuje to na skupienie dużej liczby obserwacji wokół wartości minimalnej.\n",
    "\n",
    "- Peak dla wartości około 0.3 - Występowanie lokalnego maksimum w okolicach wartości 0.3 może wskazywać na to, że oprócz dużej liczby wartości bliskich 0, istnieje również znacząca liczba obserwacji skupionych wokół tej wartości.\n",
    "\n",
    "- Drugi peak dla wartości około 2.2: Kolejne lokalne maksimum w okolicach wartości 2.2 sugeruje, że istnieje jeszcze jedna grupa obserwacji, która skupia się wokół tej wartości."
   ]
  },
  {
   "cell_type": "markdown",
   "metadata": {},
   "source": [
    "## (c)\n",
    "Wybierz 250 zmiennych objaśniających najbardziej skorelowanych ze zmienną objaśnianą. Policz korelację dla każdej z par tych zmiennych. Zilustruj wynik za pomocą mapy ciepła (heatmap)."
   ]
  },
  {
   "cell_type": "code",
   "execution_count": 82,
   "metadata": {},
   "outputs": [
    {
     "data": {
      "image/png": "[encoded data removed]",
      "text/plain": [
       "<Figure size 2000x1400 with 2 Axes>"
      ]
     },
     "metadata": {},
     "output_type": "display_data"
    }
   ],
   "source": [
    "correlations = X.corrwith(y['Expected'])\n",
    "top_correlated_variables = correlations.abs().nlargest(251).index\n",
    "top_variables = X[top_correlated_variables]\n",
    "correlation_matrix = top_variables.corr()\n",
    "plt.figure(figsize=(20, 14))\n",
    "sns.heatmap(correlation_matrix, cmap='coolwarm', annot=False, xticklabels=False, yticklabels=False)\n",
    "plt.title('Macierz korelacji dla 250 najbardziej skorelowanych zmiennych ze zmienną objaśnianą', fontsize=20)\n",
    "plt.show()"
   ]
  },
  {
   "cell_type": "markdown",
   "metadata": {},
   "source": [
    "Na podstawie macierzy korelacji dla 250 najbardziej skorelowanych zmiennych ze zmienną objaśnianą zauwazono, ze w niektórych obszarach występuje wysoka korelacja między zmiennymi. Oznacza to, ze zmienne niosą podobne informacje, co przy budowie modeli predykcyjnych moze być problemem. "
   ]
  },
  {
   "cell_type": "markdown",
   "metadata": {},
   "source": [
    "# 2. ElasticNet (7 pkt.)\n",
    "Pierwszy model, który należy wytrenować, to ElasticNet. Którego szczególne przypadki stanowią\n",
    "regresja grzbietowa (ridge regression) oraz lasso."
   ]
  },
  {
   "cell_type": "markdown",
   "metadata": {},
   "source": [
    "## (a)\n",
    "Przedstaw w raporcie informacje o modelu ElasticNet, objaśniając parametry, które są w nim\n",
    "estymowane, optymalizowaną funkcję oraz hiperparametry, od których ona zależy. Dla jakich\n",
    "wartości hiperparametrów otrzymujemy regresję grzbietową, a dla jakich lasso?"
   ]
  },
  {
   "cell_type": "markdown",
   "metadata": {},
   "source": [
    "- ElasticNet - model regresji liniowej, łączący w sobie cechy regresji Lasso i cechy regresji Ridge.\n",
    "\n",
    "**Parametry estymowane w modelu ElasticNet:**\n",
    "- Wagi (coefficients): Współczynniki przy zmiennych, które minimalizują funkcję kosztu.\n",
    "\n",
    "- Współczynnik przesunięcia (intercept): Stała wartość dodawana do przewidywanych wartości.\n",
    "\n",
    "\n",
    "\n",
    "**Optymalizowana funkcja:**\n",
    "\n",
    "- ElasticNet optymalizuje funkcję kosztu, która jest sumą RSS (residual sum of squares) oraz dwóch terminów regularizacyjnych: L1 i L2:\n",
    "\n",
    "$$ L(\\beta) = \\frac{1}{2 n} \\|y - X\\beta|_2^2 \n",
    "+ \\alpha \\cdot l \\cdot \\|\\beta\\|_1 \n",
    "+ 0.5 \\cdot \\alpha \\cdot (1 - l) \\cdot \\|\\beta\\|_2^2\n",
    " $$\n",
    "\n",
    "- gdzie:\n",
    "\n",
    "    - ($||\\beta||_1$) to suma wartości bezwzględnych współczynników (norma L1),\n",
    "    - ($||\\beta||_2^2$) to suma kwadratów współczynników (norma L2),\n",
    "    - ($\\alpha$) to parametr kontrolujący ogólną siłę regularyzacji,\n",
    "    - ($l$) to parametr mieszania, który balansuje wpływ regresji Lasso i regresji grzbietowej.\n",
    "\n",
    "**Hiperparametry Modelu:**\n",
    "\n",
    "- alpha: Współczynnik regularyzacji.\n",
    "\n",
    "- l1_ratio: Parametr określający regularyzację L1 w stosunku do L2. Jest to wartość z zakresu [0, 1] \n",
    "\n",
    "$$ alpha = \\lambda_1 + \\lambda_2$$\n",
    "$$ \\text{l1\\_ratio} = \\lambda_1 / (\\lambda_1 + \\lambda_2) $$\n",
    "\n",
    "**Regresja Grzbietowa a LASSO:** \n",
    "\n",
    "- Regresję Grzbietową otrzymujemy gdy l1_ratio = 0.\n",
    "\n",
    "- Regresję LASSO otrzymujemy gdy l1_ratio = 1.\n"
   ]
  },
  {
   "cell_type": "markdown",
   "metadata": {},
   "source": [
    "## (b)\n",
    "Zdefiniuj siatkę (grid) hiperparametrów, opartą na co najmniej trzech wartościach każdego\n",
    "z hiperparametrów. Zadbaj o to, by w siatce znalazły się konfiguracje hiperparametrów odpowiadające regresji grzbietowej i lasso. Użyj walidacji krzyżowej do wybrania odpowiednich hiperparametrów (o liczbie podzbiorów użytych w walidacji krzyżowej należy zdecydować samodzielnie oraz uzasadnić swój wybór)."
   ]
  },
  {
   "cell_type": "code",
   "execution_count": null,
   "metadata": {},
   "outputs": [],
   "source": [
    "y = y['Expected'].to_numpy()"
   ]
  },
  {
   "cell_type": "code",
   "execution_count": null,
   "metadata": {},
   "outputs": [],
   "source": [
    "kf = KFold(n_splits=5, shuffle=True, random_state=54)"
   ]
  },
  {
   "cell_type": "markdown",
   "metadata": {},
   "source": [
    "Ze względu na duzy zbiór danych wybrano liczbe podziobór cv=5 uzytych w walidacji krzyzowej."
   ]
  },
  {
   "cell_type": "markdown",
   "metadata": {},
   "source": [
    "W celu znalezienia najlepszych hiperparametrów dla modelu ElasticNet, wykorzystano GridSearchCV. Stworzono pipeline składający się z trzech kroków: sparsifier - zamienia dane na rzadką macierz, scaler - standaryzuje dane, elastic_net - model."
   ]
  },
  {
   "cell_type": "code",
   "execution_count": null,
   "metadata": {},
   "outputs": [],
   "source": [
    "pipeline_elasticnet = Pipeline([\n",
    "    ('sparsifier', FunctionTransformer(sparse.csc_matrix, accept_sparse=True)),\n",
    "    ('scaler', StandardScaler(with_mean=False)),\n",
    "    ('elastic_net', ElasticNet(random_state=42))\n",
    "])\n",
    "\n",
    "param_grid_elasticnet = {\n",
    "    'elastic_net__alpha': [0.1, 1, 10],  \n",
    "    'elastic_net__l1_ratio': [0.0, 0.5, 1.0]  \n",
    "}\n",
    "\n",
    "elasticnet_gs = GridSearchCV(estimator=pipeline_elasticnet, \n",
    "                             param_grid=param_grid_elasticnet, \n",
    "                             cv=kf, scoring='neg_root_mean_squared_error', \n",
    "                             n_jobs=-1,\n",
    "                             verbose=3)\n",
    "\n",
    "elasticnet_gs.fit(X, y)\n",
    "\n",
    "dump(elasticnet_gs, 'elasticnet_gs_results.joblib')"
   ]
  },
  {
   "cell_type": "code",
   "execution_count": 87,
   "metadata": {},
   "outputs": [
    {
     "name": "stdout",
     "output_type": "stream",
     "text": [
      "Najlepsze hiperparametry: {'elastic_net__alpha': 1, 'elastic_net__l1_ratio': 0.0}\n"
     ]
    }
   ],
   "source": [
    "elasticnet_gs = load('elasticnet_gs_results.joblib')\n",
    "best_params_elasticnet = elasticnet_gs.best_params_\n",
    "print(\"Najlepsze hiperparametry:\", best_params_elasticnet)"
   ]
  },
  {
   "cell_type": "markdown",
   "metadata": {},
   "source": [
    "Według tego podstawowego modelu najlepszy wynik otrzymano dla l1 = 0 i alpha = 1. Oznacza to regresję grzbietową (Ridge)"
   ]
  },
  {
   "cell_type": "markdown",
   "metadata": {},
   "source": [
    "## (c)\n",
    "Podaj błąd treningowy i walidacyjny modelu (należy uśrednić wynik względem wszystkich\n",
    "podzbiorów wyróżnionych w walidacji krzyżowej)."
   ]
  },
  {
   "cell_type": "code",
   "execution_count": 88,
   "metadata": {},
   "outputs": [
    {
     "name": "stdout",
     "output_type": "stream",
     "text": [
      "Średni błąd walidacyjny (RMSE): 0.31694561839103697\n",
      "Odchylenie standardowe błędu walidacyjnego (RMSE): 0.011518495788344773\n",
      "Błąd treningowy (RMSE): 0.13467741\n"
     ]
    }
   ],
   "source": [
    "mean_cv_score_elasticnet = -elasticnet_gs.best_score_  \n",
    "std_cv_score_elasticnet = elasticnet_gs.cv_results_['std_test_score'][elasticnet_gs.best_index_]\n",
    "\n",
    "best_model_elasticnet = elasticnet_gs.best_estimator_\n",
    "y_pred_elasticnet = best_model_elasticnet.predict(X)\n",
    "train_error_elasticnet = np.sqrt(np.mean((y - y_pred_elasticnet) ** 2))\n",
    "\n",
    "print(\"Średni błąd walidacyjny (RMSE):\", mean_cv_score_elasticnet)\n",
    "print(\"Odchylenie standardowe błędu walidacyjnego (RMSE):\", std_cv_score_elasticnet)\n",
    "print(\"Błąd treningowy (RMSE):\", train_error_elasticnet)"
   ]
  },
  {
   "cell_type": "markdown",
   "metadata": {},
   "source": [
    "# 3. Lasy losowe (8 pkt.)\n",
    "W tej części projektu należy wytrenować model lasów losowych i porównać jego działanie z utworzonym wcześniej modelem ElasticNet."
   ]
  },
  {
   "cell_type": "markdown",
   "metadata": {},
   "source": [
    "## (a)\n",
    "Spośród wielu hiperparametrów charakteryzujących model lasów losowych wybierz trzy różne. Zdefiniuj trójwymiarową siatkę przeszukiwanych kombinacji hiperparametrów i za pomocą\n",
    "walidacji krzyżowej wybierz ich optymalne (w kontekście wykonywanej predykcji) wartości.\n",
    "Wykorzystany przy walidacji krzyżowej podział danych powinien być taki sam, jak w przypadku ElasticNet."
   ]
  },
  {
   "cell_type": "markdown",
   "metadata": {},
   "source": [
    "W celu znalezienia najlepszych hiperparametrów dla modelu RandomForestRegressor, równiez wykorzystano technikę GridSearchCV. Określono siatkę hiperparametrów do przeszukiwania dla modelu RandomForestRegressor:\n",
    "\n",
    "- max_depth: Maksymalna głębokość drzewa decyzyjnego.\n",
    "\n",
    "- min_samples_split: Minimalna liczba próbek wymagana do podziału węzła.\n",
    "\n",
    "- n_estimators: Liczba drzew w lesie."
   ]
  },
  {
   "cell_type": "code",
   "execution_count": null,
   "metadata": {},
   "outputs": [],
   "source": [
    "param_grid_random_forest = {\n",
    "    'max_depth': [10, 20, 30],\n",
    "    'min_samples_split': [2, 5, 10],\n",
    "    'n_estimators': [100, 200, 300],\n",
    "}\n",
    "\n",
    "randomforest_gs = GridSearchCV(estimator=RandomForestRegressor(max_features='sqrt', random_state=42),\n",
    "                                param_grid=param_grid_random_forest,\n",
    "                                cv=kf, scoring='neg_root_mean_squared_error',\n",
    "                                n_jobs=-1,\n",
    "                                verbose=3)\n",
    "\n",
    "randomforest_gs.fit(X, y)\n",
    "dump(randomforest_gs, 'randomforest_gs_results.joblib')"
   ]
  },
  {
   "cell_type": "code",
   "execution_count": 89,
   "metadata": {},
   "outputs": [
    {
     "name": "stdout",
     "output_type": "stream",
     "text": [
      "Najlepsze hiperparametry: {'max_depth': 30, 'min_samples_split': 2, 'n_estimators': 300}\n"
     ]
    }
   ],
   "source": [
    "randomforest_gs = load('randomforest_gs_results.joblib')\n",
    "best_params_randomforest = randomforest_gs.best_params_\n",
    "print(\"Najlepsze hiperparametry:\", best_params_randomforest)"
   ]
  },
  {
   "cell_type": "code",
   "execution_count": 90,
   "metadata": {},
   "outputs": [
    {
     "name": "stdout",
     "output_type": "stream",
     "text": [
      "Średni błąd walidacyjny (RMSE): 0.30724643393411394\n",
      "Odchylenie standardowe błędu walidacyjnego (RMSE): 0.012340737085319518\n",
      "Błąd treningowy (RMSE): 0.1297624746077744\n"
     ]
    }
   ],
   "source": [
    "mean_cv_score_randomforest = -randomforest_gs.best_score_  \n",
    "std_cv_score_randomforest = randomforest_gs.cv_results_['std_test_score'][randomforest_gs.best_index_]\n",
    "\n",
    "best_model_randomforest = randomforest_gs.best_estimator_\n",
    "y_pred_randomforest = best_model_randomforest.predict(X)\n",
    "train_error_randomforest = np.sqrt(np.mean((y - y_pred_randomforest) ** 2))\n",
    "\n",
    "print(\"Średni błąd walidacyjny (RMSE):\", mean_cv_score_randomforest)\n",
    "print(\"Odchylenie standardowe błędu walidacyjnego (RMSE):\", std_cv_score_randomforest)\n",
    "print(\"Błąd treningowy (RMSE):\", train_error_randomforest)"
   ]
  },
  {
   "cell_type": "markdown",
   "metadata": {},
   "source": [
    "## (b)\n",
    "Zrób podsumowanie tabelaryczne wyników, jakie otrzymywały metody w walidacji krzyżowej\n",
    "w obu rozważanych modelach. (Porównanie to jest powodem, dla którego zależy nam na zastosowaniu tych samych podziałów). Określ, który model wydaje Ci się najlepszy (uzasadnij swój\n",
    "wybór). Do porównania dołącz podstawowy model referencyjny, który dowolnym wartościom\n",
    "zmiennych objaśniających przypisuje średnią arytmetyczną zmiennej objaśnianej."
   ]
  },
  {
   "cell_type": "code",
   "execution_count": 91,
   "metadata": {},
   "outputs": [
    {
     "name": "stdout",
     "output_type": "stream",
     "text": [
      "Błąd treningowy (RMSE) Dummy Regressor: 0.92685354\n"
     ]
    }
   ],
   "source": [
    "dummy_regressor = DummyRegressor(strategy=\"mean\")\n",
    "dummy_regressor.fit(X, y)\n",
    "y_pred_dummy = dummy_regressor.predict(X)\n",
    "train_error_dummy = np.sqrt(np.mean((y - y_pred_dummy) ** 2))\n",
    "print(\"Błąd treningowy (RMSE) Dummy Regressor:\", train_error_dummy)"
   ]
  },
  {
   "cell_type": "code",
   "execution_count": 92,
   "metadata": {},
   "outputs": [
    {
     "data": {
      "text/html": [
       "<div>\n",
       "<style scoped>\n",
       "    .dataframe tbody tr th:only-of-type {\n",
       "        vertical-align: middle;\n",
       "    }\n",
       "\n",
       "    .dataframe tbody tr th {\n",
       "        vertical-align: top;\n",
       "    }\n",
       "\n",
       "    .dataframe thead th {\n",
       "        text-align: right;\n",
       "    }\n",
       "</style>\n",
       "<table border=\"1\" class=\"dataframe\">\n",
       "  <thead>\n",
       "    <tr style=\"text-align: right;\">\n",
       "      <th></th>\n",
       "      <th>Model</th>\n",
       "      <th>Mean CV Error (RMSE)</th>\n",
       "      <th>Std CV Error (RMSE)</th>\n",
       "      <th>Training Error (RMSE)</th>\n",
       "    </tr>\n",
       "  </thead>\n",
       "  <tbody>\n",
       "    <tr>\n",
       "      <th>0</th>\n",
       "      <td>ElasticNet</td>\n",
       "      <td>0.316946</td>\n",
       "      <td>0.011518</td>\n",
       "      <td>0.134677</td>\n",
       "    </tr>\n",
       "    <tr>\n",
       "      <th>1</th>\n",
       "      <td>RandomForest</td>\n",
       "      <td>0.307246</td>\n",
       "      <td>0.012341</td>\n",
       "      <td>0.129762</td>\n",
       "    </tr>\n",
       "    <tr>\n",
       "      <th>2</th>\n",
       "      <td>DummyRegressor</td>\n",
       "      <td>-</td>\n",
       "      <td>-</td>\n",
       "      <td>0.926854</td>\n",
       "    </tr>\n",
       "  </tbody>\n",
       "</table>\n",
       "</div>"
      ],
      "text/plain": [
       "            Model Mean CV Error (RMSE) Std CV Error (RMSE)  \\\n",
       "0      ElasticNet             0.316946            0.011518   \n",
       "1    RandomForest             0.307246            0.012341   \n",
       "2  DummyRegressor                    -                   -   \n",
       "\n",
       "   Training Error (RMSE)  \n",
       "0               0.134677  \n",
       "1               0.129762  \n",
       "2               0.926854  "
      ]
     },
     "execution_count": 92,
     "metadata": {},
     "output_type": "execute_result"
    }
   ],
   "source": [
    "results = {\n",
    "    'Model': ['ElasticNet', 'RandomForest', 'DummyRegressor'],\n",
    "    'Mean CV Error (RMSE)': [mean_cv_score_elasticnet, mean_cv_score_randomforest, '-'],\n",
    "    'Std CV Error (RMSE)': [std_cv_score_elasticnet, std_cv_score_randomforest, '-'],\n",
    "    'Training Error (RMSE)': [train_error_elasticnet, train_error_randomforest, train_error_dummy],\n",
    "}\n",
    "\n",
    "results_df = pd.DataFrame(results)\n",
    "results_df"
   ]
  },
  {
   "cell_type": "markdown",
   "metadata": {},
   "source": [
    "Oba modele, ElasticNet i RandomForest, wykazały się znacznie lepszymi wynikami w porównaniu do DummyRegressor, co potwierdza ich skuteczność. RandomForest osiągnął minimalnie lepsze wyniki niż ElasticNet."
   ]
  },
  {
   "cell_type": "markdown",
   "metadata": {},
   "source": [
    "# 4. Predykcja na zbiorze testowym (8 pkt.)\n",
    "Ta część projektu ma charakter otwarty. W oparciu o dane treningowe należy dopasować dowolnie\n",
    "wybrany model, a następnie zastosować go do przewidywania wartości zmiennej objaśnianej w\n",
    "zbiorze testowym. Sposób wyboru i budowy modelu, a także motywacje stojące za takim wyborem\n",
    "powinny zostać opisane w raporcie. Wygenerowane predykcje należy wysłać do prowadzącego w\n",
    "osobnym pliku, którego format został opisany wcześniej. Liczba uzyskanych punktów zależeć będzie\n",
    "od jakości predykcji, mierzonej pierwiastkiem błędu średniokwadratowego, RMSE.\n",
    "Szczegóły punktacji:\n",
    "(1 pkt.) – za błąd niższy od pochodzącego z opisanego wcześniej, podstawowego modelu referencyjnego.\n",
    "(2 pkt.) – za błąd niższy od pochodzącego z modelu ElasticNet wytrenowanego przez prowadzących\n",
    "laboratoria.\n",
    "(5 pkt.) – ten bonus obliczany jest według wzoru 1\n",
    "2\n",
    "⌊10Fb(e)\n",
    "3\n",
    "⌋, gdzie e to błąd testowy predykcji studenta, Fb jest dystrybuantą empiryczną błędów wszystkich zgłoszonych predykcji w grupie\n",
    "laboratoryjnej studenta, natomiast ⌊·⌋ to część całkowita."
   ]
  },
  {
   "cell_type": "code",
   "execution_count": 105,
   "metadata": {},
   "outputs": [],
   "source": [
    "def model_evaluation(model, X_train, y_train, X_test, y_test, kf=5):\n",
    "    cross_val = cross_val_score(model, X_train, y_train, cv=kf, scoring='neg_root_mean_squared_error', n_jobs=-1)\n",
    "    mean_cv_score = -cross_val.mean()\n",
    "    std_cv_score = cross_val.std()\n",
    "    \n",
    "    y_train_pred = model.predict(X_train)\n",
    "    rmse_train = np.sqrt(mean_squared_error(y_train, y_train_pred))\n",
    "\n",
    "    y_pred = model.predict(X_test)\n",
    "    rmse_test = np.sqrt(mean_squared_error(y_test, y_pred))\n",
    "\n",
    "    print(f\"Cross-validation RMSE: {mean_cv_score:.2f} +/- {std_cv_score:.2f}\")\n",
    "    print(f\"Train RMSE: {rmse_train:.2f}\")\n",
    "    print(f\"Test RMSE: {rmse_test:.2f}\")\n",
    "\n",
    "\n",
    "    return mean_cv_score, std_cv_score, rmse_train, rmse_test"
   ]
  },
  {
   "cell_type": "markdown",
   "metadata": {},
   "source": [
    "Aby usprawić walidacje modelu, otrzymane dane treningowe podzielono na podzbiór treningowy i testowy:"
   ]
  },
  {
   "cell_type": "code",
   "execution_count": 94,
   "metadata": {},
   "outputs": [],
   "source": [
    "X_train, X_test, y_train, y_test = train_test_split(X, y, test_size=0.2, random_state=54)"
   ]
  },
  {
   "cell_type": "code",
   "execution_count": 106,
   "metadata": {},
   "outputs": [],
   "source": [
    "kf = KFold(n_splits=5, shuffle=True, random_state=54)"
   ]
  },
  {
   "cell_type": "markdown",
   "metadata": {},
   "source": [
    "Następnie przeprowadzono optymalizację hiperparametrów dla modelu RandomForestRegressor przy użyciu biblioteki Optuna. Celem było znalezienie kombinacji parametrów, która minimalizuje błąd predykcji na danych walidacyjnych."
   ]
  },
  {
   "cell_type": "code",
   "execution_count": 42,
   "metadata": {},
   "outputs": [],
   "source": [
    "def objective_rf(trial):\n",
    "    n_estimators = trial.suggest_int('n_estimators', 50, 1000)\n",
    "    max_depth = trial.suggest_int('max_depth', 2, 50, log=True)\n",
    "    min_samples_split = trial.suggest_int('min_samples_split', 2, 32)\n",
    "    min_samples_leaf = trial.suggest_int('min_samples_leaf', 1, 32)\n",
    "\n",
    "    model = RandomForestRegressor(n_estimators=n_estimators,\n",
    "                                max_depth=max_depth, \n",
    "                                min_samples_split=min_samples_split, \n",
    "                                min_samples_leaf=min_samples_leaf, \n",
    "                                n_jobs=-1, \n",
    "                                random_state=54, \n",
    "                                verbose=1)\n",
    "    score = cross_val_score(model, \n",
    "                            X_train, \n",
    "                            y_train, \n",
    "                            n_jobs=-1, \n",
    "                            cv=kf, \n",
    "                            scoring='neg_root_mean_squared_error',\n",
    "                            verbose=1).mean()\n",
    "\n",
    "    return score\n",
    "\n",
    "\n",
    "study_rf = optuna.create_study(direction='maximize', sampler=optuna.samplers.TPESampler(seed=54))\n",
    "study_rf.optimize(objective_rf, n_trials=50)\n",
    "#dump(study_rf, 'optuna_rf.joblib')"
   ]
  },
  {
   "cell_type": "markdown",
   "metadata": {},
   "source": [
    "Najlepsze wartości hiperparametrów:"
   ]
  },
  {
   "cell_type": "code",
   "execution_count": 107,
   "metadata": {},
   "outputs": [
    {
     "data": {
      "text/plain": [
       "{'n_estimators': 979,\n",
       " 'max_depth': 29,\n",
       " 'min_samples_split': 11,\n",
       " 'min_samples_leaf': 6}"
      ]
     },
     "execution_count": 107,
     "metadata": {},
     "output_type": "execute_result"
    }
   ],
   "source": [
    "study_rf.best_params"
   ]
  },
  {
   "cell_type": "code",
   "execution_count": 98,
   "metadata": {},
   "outputs": [
    {
     "data": {
      "application/vnd.plotly.v1+json": {
       "config": {
        "plotlyServerURL": "https://plot.ly"
       },
       "data": [
        {
         "mode": "markers",
         "name": "Objective Value",
         "type": "scatter",
         "x": [
          0,
          1,
          2,
          3,
          4,
          5,
          6,
          7,
          8,
          9,
          10,
          11,
          12,
          13,
          14,
          15,
          16,
          17
         ],
         "y": [
          -0.2961837565708053,
          -0.3022149384647549,
          -0.3606538695151967,
          -0.3081725431275326,
          -0.3128278045180042,
          -0.31691255603905283,
          -0.28664538120949884,
          -0.31058057995932736,
          -0.2924022070509575,
          -0.2931593176746241,
          -0.28881739133284345,
          -0.28511923713435755,
          -0.2851756898129948,
          -0.2845461769351326,
          -0.2863304543128512,
          -0.28618271939829865,
          -0.28455979524854313,
          -0.28450643597172115
         ]
        },
        {
         "mode": "lines",
         "name": "Best Value",
         "type": "scatter",
         "x": [
          0,
          1,
          2,
          3,
          4,
          5,
          6,
          7,
          8,
          9,
          10,
          11,
          12,
          13,
          14,
          15,
          16,
          17,
          18
         ],
         "y": [
          -0.2961837565708053,
          -0.2961837565708053,
          -0.2961837565708053,
          -0.2961837565708053,
          -0.2961837565708053,
          -0.2961837565708053,
          -0.28664538120949884,
          -0.28664538120949884,
          -0.28664538120949884,
          -0.28664538120949884,
          -0.28664538120949884,
          -0.28511923713435755,
          -0.28511923713435755,
          -0.2845461769351326,
          -0.2845461769351326,
          -0.2845461769351326,
          -0.2845461769351326,
          -0.28450643597172115,
          -0.28450643597172115
         ]
        },
        {
         "marker": {
          "color": "#cccccc"
         },
         "mode": "markers",
         "name": "Infeasible Trial",
         "showlegend": false,
         "type": "scatter",
         "x": [],
         "y": []
        }
       ],
       "layout": {
        "template": {
         "data": {
          "bar": [
           {
            "error_x": {
             "color": "#2a3f5f"
            },
            "error_y": {
             "color": "#2a3f5f"
            },
            "marker": {
             "line": {
              "color": "#E5ECF6",
              "width": 0.5
             },
             "pattern": {
              "fillmode": "overlay",
              "size": 10,
              "solidity": 0.2
             }
            },
            "type": "bar"
           }
          ],
          "barpolar": [
           {
            "marker": {
             "line": {
              "color": "#E5ECF6",
              "width": 0.5
             },
             "pattern": {
              "fillmode": "overlay",
              "size": 10,
              "solidity": 0.2
             }
            },
            "type": "barpolar"
           }
          ],
          "carpet": [
           {
            "aaxis": {
             "endlinecolor": "#2a3f5f",
             "gridcolor": "white",
             "linecolor": "white",
             "minorgridcolor": "white",
             "startlinecolor": "#2a3f5f"
            },
            "baxis": {
             "endlinecolor": "#2a3f5f",
             "gridcolor": "white",
             "linecolor": "white",
             "minorgridcolor": "white",
             "startlinecolor": "#2a3f5f"
            },
            "type": "carpet"
           }
          ],
          "choropleth": [
           {
            "colorbar": {
             "outlinewidth": 0,
             "ticks": ""
            },
            "type": "choropleth"
           }
          ],
          "contour": [
           {
            "colorbar": {
             "outlinewidth": 0,
             "ticks": ""
            },
            "colorscale": [
             [
              0,
              "#0d0887"
             ],
             [
              0.1111111111111111,
              "#46039f"
             ],
             [
              0.2222222222222222,
              "#7201a8"
             ],
             [
              0.3333333333333333,
              "#9c179e"
             ],
             [
              0.4444444444444444,
              "#bd3786"
             ],
             [
              0.5555555555555556,
              "#d8576b"
             ],
             [
              0.6666666666666666,
              "#ed7953"
             ],
             [
              0.7777777777777778,
              "#fb9f3a"
             ],
             [
              0.8888888888888888,
              "#fdca26"
             ],
             [
              1,
              "#f0f921"
             ]
            ],
            "type": "contour"
           }
          ],
          "contourcarpet": [
           {
            "colorbar": {
             "outlinewidth": 0,
             "ticks": ""
            },
            "type": "contourcarpet"
           }
          ],
          "heatmap": [
           {
            "colorbar": {
             "outlinewidth": 0,
             "ticks": ""
            },
            "colorscale": [
             [
              0,
              "#0d0887"
             ],
             [
              0.1111111111111111,
              "#46039f"
             ],
             [
              0.2222222222222222,
              "#7201a8"
             ],
             [
              0.3333333333333333,
              "#9c179e"
             ],
             [
              0.4444444444444444,
              "#bd3786"
             ],
             [
              0.5555555555555556,
              "#d8576b"
             ],
             [
              0.6666666666666666,
              "#ed7953"
             ],
             [
              0.7777777777777778,
              "#fb9f3a"
             ],
             [
              0.8888888888888888,
              "#fdca26"
             ],
             [
              1,
              "#f0f921"
             ]
            ],
            "type": "heatmap"
           }
          ],
          "heatmapgl": [
           {
            "colorbar": {
             "outlinewidth": 0,
             "ticks": ""
            },
            "colorscale": [
             [
              0,
              "#0d0887"
             ],
             [
              0.1111111111111111,
              "#46039f"
             ],
             [
              0.2222222222222222,
              "#7201a8"
             ],
             [
              0.3333333333333333,
              "#9c179e"
             ],
             [
              0.4444444444444444,
              "#bd3786"
             ],
             [
              0.5555555555555556,
              "#d8576b"
             ],
             [
              0.6666666666666666,
              "#ed7953"
             ],
             [
              0.7777777777777778,
              "#fb9f3a"
             ],
             [
              0.8888888888888888,
              "#fdca26"
             ],
             [
              1,
              "#f0f921"
             ]
            ],
            "type": "heatmapgl"
           }
          ],
          "histogram": [
           {
            "marker": {
             "pattern": {
              "fillmode": "overlay",
              "size": 10,
              "solidity": 0.2
             }
            },
            "type": "histogram"
           }
          ],
          "histogram2d": [
           {
            "colorbar": {
             "outlinewidth": 0,
             "ticks": ""
            },
            "colorscale": [
             [
              0,
              "#0d0887"
             ],
             [
              0.1111111111111111,
              "#46039f"
             ],
             [
              0.2222222222222222,
              "#7201a8"
             ],
             [
              0.3333333333333333,
              "#9c179e"
             ],
             [
              0.4444444444444444,
              "#bd3786"
             ],
             [
              0.5555555555555556,
              "#d8576b"
             ],
             [
              0.6666666666666666,
              "#ed7953"
             ],
             [
              0.7777777777777778,
              "#fb9f3a"
             ],
             [
              0.8888888888888888,
              "#fdca26"
             ],
             [
              1,
              "#f0f921"
             ]
            ],
            "type": "histogram2d"
           }
          ],
          "histogram2dcontour": [
           {
            "colorbar": {
             "outlinewidth": 0,
             "ticks": ""
            },
            "colorscale": [
             [
              0,
              "#0d0887"
             ],
             [
              0.1111111111111111,
              "#46039f"
             ],
             [
              0.2222222222222222,
              "#7201a8"
             ],
             [
              0.3333333333333333,
              "#9c179e"
             ],
             [
              0.4444444444444444,
              "#bd3786"
             ],
             [
              0.5555555555555556,
              "#d8576b"
             ],
             [
              0.6666666666666666,
              "#ed7953"
             ],
             [
              0.7777777777777778,
              "#fb9f3a"
             ],
             [
              0.8888888888888888,
              "#fdca26"
             ],
             [
              1,
              "#f0f921"
             ]
            ],
            "type": "histogram2dcontour"
           }
          ],
          "mesh3d": [
           {
            "colorbar": {
             "outlinewidth": 0,
             "ticks": ""
            },
            "type": "mesh3d"
           }
          ],
          "parcoords": [
           {
            "line": {
             "colorbar": {
              "outlinewidth": 0,
              "ticks": ""
             }
            },
            "type": "parcoords"
           }
          ],
          "pie": [
           {
            "automargin": true,
            "type": "pie"
           }
          ],
          "scatter": [
           {
            "fillpattern": {
             "fillmode": "overlay",
             "size": 10,
             "solidity": 0.2
            },
            "type": "scatter"
           }
          ],
          "scatter3d": [
           {
            "line": {
             "colorbar": {
              "outlinewidth": 0,
              "ticks": ""
             }
            },
            "marker": {
             "colorbar": {
              "outlinewidth": 0,
              "ticks": ""
             }
            },
            "type": "scatter3d"
           }
          ],
          "scattercarpet": [
           {
            "marker": {
             "colorbar": {
              "outlinewidth": 0,
              "ticks": ""
             }
            },
            "type": "scattercarpet"
           }
          ],
          "scattergeo": [
           {
            "marker": {
             "colorbar": {
              "outlinewidth": 0,
              "ticks": ""
             }
            },
            "type": "scattergeo"
           }
          ],
          "scattergl": [
           {
            "marker": {
             "colorbar": {
              "outlinewidth": 0,
              "ticks": ""
             }
            },
            "type": "scattergl"
           }
          ],
          "scattermapbox": [
           {
            "marker": {
             "colorbar": {
              "outlinewidth": 0,
              "ticks": ""
             }
            },
            "type": "scattermapbox"
           }
          ],
          "scatterpolar": [
           {
            "marker": {
             "colorbar": {
              "outlinewidth": 0,
              "ticks": ""
             }
            },
            "type": "scatterpolar"
           }
          ],
          "scatterpolargl": [
           {
            "marker": {
             "colorbar": {
              "outlinewidth": 0,
              "ticks": ""
             }
            },
            "type": "scatterpolargl"
           }
          ],
          "scatterternary": [
           {
            "marker": {
             "colorbar": {
              "outlinewidth": 0,
              "ticks": ""
             }
            },
            "type": "scatterternary"
           }
          ],
          "surface": [
           {
            "colorbar": {
             "outlinewidth": 0,
             "ticks": ""
            },
            "colorscale": [
             [
              0,
              "#0d0887"
             ],
             [
              0.1111111111111111,
              "#46039f"
             ],
             [
              0.2222222222222222,
              "#7201a8"
             ],
             [
              0.3333333333333333,
              "#9c179e"
             ],
             [
              0.4444444444444444,
              "#bd3786"
             ],
             [
              0.5555555555555556,
              "#d8576b"
             ],
             [
              0.6666666666666666,
              "#ed7953"
             ],
             [
              0.7777777777777778,
              "#fb9f3a"
             ],
             [
              0.8888888888888888,
              "#fdca26"
             ],
             [
              1,
              "#f0f921"
             ]
            ],
            "type": "surface"
           }
          ],
          "table": [
           {
            "cells": {
             "fill": {
              "color": "#EBF0F8"
             },
             "line": {
              "color": "white"
             }
            },
            "header": {
             "fill": {
              "color": "#C8D4E3"
             },
             "line": {
              "color": "white"
             }
            },
            "type": "table"
           }
          ]
         },
         "layout": {
          "annotationdefaults": {
           "arrowcolor": "#2a3f5f",
           "arrowhead": 0,
           "arrowwidth": 1
          },
          "autotypenumbers": "strict",
          "coloraxis": {
           "colorbar": {
            "outlinewidth": 0,
            "ticks": ""
           }
          },
          "colorscale": {
           "diverging": [
            [
             0,
             "#8e0152"
            ],
            [
             0.1,
             "#c51b7d"
            ],
            [
             0.2,
             "#de77ae"
            ],
            [
             0.3,
             "#f1b6da"
            ],
            [
             0.4,
             "#fde0ef"
            ],
            [
             0.5,
             "#f7f7f7"
            ],
            [
             0.6,
             "#e6f5d0"
            ],
            [
             0.7,
             "#b8e186"
            ],
            [
             0.8,
             "#7fbc41"
            ],
            [
             0.9,
             "#4d9221"
            ],
            [
             1,
             "#276419"
            ]
           ],
           "sequential": [
            [
             0,
             "#0d0887"
            ],
            [
             0.1111111111111111,
             "#46039f"
            ],
            [
             0.2222222222222222,
             "#7201a8"
            ],
            [
             0.3333333333333333,
             "#9c179e"
            ],
            [
             0.4444444444444444,
             "#bd3786"
            ],
            [
             0.5555555555555556,
             "#d8576b"
            ],
            [
             0.6666666666666666,
             "#ed7953"
            ],
            [
             0.7777777777777778,
             "#fb9f3a"
            ],
            [
             0.8888888888888888,
             "#fdca26"
            ],
            [
             1,
             "#f0f921"
            ]
           ],
           "sequentialminus": [
            [
             0,
             "#0d0887"
            ],
            [
             0.1111111111111111,
             "#46039f"
            ],
            [
             0.2222222222222222,
             "#7201a8"
            ],
            [
             0.3333333333333333,
             "#9c179e"
            ],
            [
             0.4444444444444444,
             "#bd3786"
            ],
            [
             0.5555555555555556,
             "#d8576b"
            ],
            [
             0.6666666666666666,
             "#ed7953"
            ],
            [
             0.7777777777777778,
             "#fb9f3a"
            ],
            [
             0.8888888888888888,
             "#fdca26"
            ],
            [
             1,
             "#f0f921"
            ]
           ]
          },
          "colorway": [
           "#636efa",
           "#EF553B",
           "#00cc96",
           "#ab63fa",
           "#FFA15A",
           "#19d3f3",
           "#FF6692",
           "#B6E880",
           "#FF97FF",
           "#FECB52"
          ],
          "font": {
           "color": "#2a3f5f"
          },
          "geo": {
           "bgcolor": "white",
           "lakecolor": "white",
           "landcolor": "#E5ECF6",
           "showlakes": true,
           "showland": true,
           "subunitcolor": "white"
          },
          "hoverlabel": {
           "align": "left"
          },
          "hovermode": "closest",
          "mapbox": {
           "style": "light"
          },
          "paper_bgcolor": "white",
          "plot_bgcolor": "#E5ECF6",
          "polar": {
           "angularaxis": {
            "gridcolor": "white",
            "linecolor": "white",
            "ticks": ""
           },
           "bgcolor": "#E5ECF6",
           "radialaxis": {
            "gridcolor": "white",
            "linecolor": "white",
            "ticks": ""
           }
          },
          "scene": {
           "xaxis": {
            "backgroundcolor": "#E5ECF6",
            "gridcolor": "white",
            "gridwidth": 2,
            "linecolor": "white",
            "showbackground": true,
            "ticks": "",
            "zerolinecolor": "white"
           },
           "yaxis": {
            "backgroundcolor": "#E5ECF6",
            "gridcolor": "white",
            "gridwidth": 2,
            "linecolor": "white",
            "showbackground": true,
            "ticks": "",
            "zerolinecolor": "white"
           },
           "zaxis": {
            "backgroundcolor": "#E5ECF6",
            "gridcolor": "white",
            "gridwidth": 2,
            "linecolor": "white",
            "showbackground": true,
            "ticks": "",
            "zerolinecolor": "white"
           }
          },
          "shapedefaults": {
           "line": {
            "color": "#2a3f5f"
           }
          },
          "ternary": {
           "aaxis": {
            "gridcolor": "white",
            "linecolor": "white",
            "ticks": ""
           },
           "baxis": {
            "gridcolor": "white",
            "linecolor": "white",
            "ticks": ""
           },
           "bgcolor": "#E5ECF6",
           "caxis": {
            "gridcolor": "white",
            "linecolor": "white",
            "ticks": ""
           }
          },
          "title": {
           "x": 0.05
          },
          "xaxis": {
           "automargin": true,
           "gridcolor": "white",
           "linecolor": "white",
           "ticks": "",
           "title": {
            "standoff": 15
           },
           "zerolinecolor": "white",
           "zerolinewidth": 2
          },
          "yaxis": {
           "automargin": true,
           "gridcolor": "white",
           "linecolor": "white",
           "ticks": "",
           "title": {
            "standoff": 15
           },
           "zerolinecolor": "white",
           "zerolinewidth": 2
          }
         }
        },
        "title": {
         "text": "Optimization History Plot"
        },
        "xaxis": {
         "title": {
          "text": "Trial"
         }
        },
        "yaxis": {
         "title": {
          "text": "Objective Value"
         }
        }
       }
      }
     },
     "metadata": {},
     "output_type": "display_data"
    }
   ],
   "source": [
    "optuna.visualization.plot_optimization_history(study_rf)"
   ]
  },
  {
   "cell_type": "markdown",
   "metadata": {},
   "source": [
    "Dla wybranych parametrów model osiągniął bład RMSE = 0.2845. Następnie przeanalizowano które parametry miały największy wpływ na ten wynik i sprawdzono czy istnieją zalezności między RMSE a poszczególnymi hiperparametrami:"
   ]
  },
  {
   "cell_type": "code",
   "execution_count": 99,
   "metadata": {},
   "outputs": [
    {
     "data": {
      "application/vnd.plotly.v1+json": {
       "config": {
        "plotlyServerURL": "https://plot.ly"
       },
       "data": [
        {
         "marker": {
          "color": [
           0,
           1,
           2,
           3,
           4,
           5,
           6,
           7,
           8,
           9,
           10,
           11,
           12,
           13,
           14,
           15,
           16,
           17
          ],
          "colorbar": {
           "title": {
            "text": "Trial"
           },
           "x": 1,
           "xpad": 40
          },
          "colorscale": [
           [
            0,
            "rgb(247,251,255)"
           ],
           [
            0.125,
            "rgb(222,235,247)"
           ],
           [
            0.25,
            "rgb(198,219,239)"
           ],
           [
            0.375,
            "rgb(158,202,225)"
           ],
           [
            0.5,
            "rgb(107,174,214)"
           ],
           [
            0.625,
            "rgb(66,146,198)"
           ],
           [
            0.75,
            "rgb(33,113,181)"
           ],
           [
            0.875,
            "rgb(8,81,156)"
           ],
           [
            1,
            "rgb(8,48,107)"
           ]
          ],
          "line": {
           "color": "Grey",
           "width": 0.5
          },
          "showscale": true
         },
         "mode": "markers",
         "name": "Feasible Trial",
         "showlegend": false,
         "type": "scatter",
         "x": [
          5,
          45,
          2,
          22,
          4,
          3,
          8,
          8,
          18,
          7,
          16,
          15,
          11,
          13,
          32,
          13,
          29,
          29
         ],
         "xaxis": "x",
         "y": [
          -0.2961837565708053,
          -0.3022149384647549,
          -0.3606538695151967,
          -0.3081725431275326,
          -0.3128278045180042,
          -0.31691255603905283,
          -0.28664538120949884,
          -0.31058057995932736,
          -0.2924022070509575,
          -0.2931593176746241,
          -0.28881739133284345,
          -0.28511923713435755,
          -0.2851756898129948,
          -0.2845461769351326,
          -0.2863304543128512,
          -0.28618271939829865,
          -0.28455979524854313,
          -0.28450643597172115
         ],
         "yaxis": "y"
        },
        {
         "marker": {
          "color": [
           0,
           1,
           2,
           3,
           4,
           5,
           6,
           7,
           8,
           9,
           10,
           11,
           12,
           13,
           14,
           15,
           16,
           17
          ],
          "colorbar": {
           "title": {
            "text": "Trial"
           },
           "x": 1,
           "xpad": 40
          },
          "colorscale": [
           [
            0,
            "rgb(247,251,255)"
           ],
           [
            0.125,
            "rgb(222,235,247)"
           ],
           [
            0.25,
            "rgb(198,219,239)"
           ],
           [
            0.375,
            "rgb(158,202,225)"
           ],
           [
            0.5,
            "rgb(107,174,214)"
           ],
           [
            0.625,
            "rgb(66,146,198)"
           ],
           [
            0.75,
            "rgb(33,113,181)"
           ],
           [
            0.875,
            "rgb(8,81,156)"
           ],
           [
            1,
            "rgb(8,48,107)"
           ]
          ],
          "line": {
           "color": "Grey",
           "width": 0.5
          },
          "showscale": false
         },
         "mode": "markers",
         "name": "Feasible Trial",
         "showlegend": false,
         "type": "scatter",
         "x": [
          17,
          25,
          13,
          30,
          32,
          6,
          8,
          32,
          16,
          16,
          3,
          1,
          1,
          2,
          9,
          1,
          6,
          6
         ],
         "xaxis": "x2",
         "y": [
          -0.2961837565708053,
          -0.3022149384647549,
          -0.3606538695151967,
          -0.3081725431275326,
          -0.3128278045180042,
          -0.31691255603905283,
          -0.28664538120949884,
          -0.31058057995932736,
          -0.2924022070509575,
          -0.2931593176746241,
          -0.28881739133284345,
          -0.28511923713435755,
          -0.2851756898129948,
          -0.2845461769351326,
          -0.2863304543128512,
          -0.28618271939829865,
          -0.28455979524854313,
          -0.28450643597172115
         ],
         "yaxis": "y2"
        },
        {
         "marker": {
          "color": [
           0,
           1,
           2,
           3,
           4,
           5,
           6,
           7,
           8,
           9,
           10,
           11,
           12,
           13,
           14,
           15,
           16,
           17
          ],
          "colorbar": {
           "title": {
            "text": "Trial"
           },
           "x": 1,
           "xpad": 40
          },
          "colorscale": [
           [
            0,
            "rgb(247,251,255)"
           ],
           [
            0.125,
            "rgb(222,235,247)"
           ],
           [
            0.25,
            "rgb(198,219,239)"
           ],
           [
            0.375,
            "rgb(158,202,225)"
           ],
           [
            0.5,
            "rgb(107,174,214)"
           ],
           [
            0.625,
            "rgb(66,146,198)"
           ],
           [
            0.75,
            "rgb(33,113,181)"
           ],
           [
            0.875,
            "rgb(8,81,156)"
           ],
           [
            1,
            "rgb(8,48,107)"
           ]
          ],
          "line": {
           "color": "Grey",
           "width": 0.5
          },
          "showscale": false
         },
         "mode": "markers",
         "name": "Feasible Trial",
         "showlegend": false,
         "type": "scatter",
         "x": [
          7,
          26,
          14,
          21,
          24,
          7,
          16,
          3,
          27,
          8,
          32,
          16,
          16,
          12,
          12,
          21,
          11,
          11
         ],
         "xaxis": "x3",
         "y": [
          -0.2961837565708053,
          -0.3022149384647549,
          -0.3606538695151967,
          -0.3081725431275326,
          -0.3128278045180042,
          -0.31691255603905283,
          -0.28664538120949884,
          -0.31058057995932736,
          -0.2924022070509575,
          -0.2931593176746241,
          -0.28881739133284345,
          -0.28511923713435755,
          -0.2851756898129948,
          -0.2845461769351326,
          -0.2863304543128512,
          -0.28618271939829865,
          -0.28455979524854313,
          -0.28450643597172115
         ],
         "yaxis": "y3"
        },
        {
         "marker": {
          "color": [
           0,
           1,
           2,
           3,
           4,
           5,
           6,
           7,
           8,
           9,
           10,
           11,
           12,
           13,
           14,
           15,
           16,
           17
          ],
          "colorbar": {
           "title": {
            "text": "Trial"
           },
           "x": 1,
           "xpad": 40
          },
          "colorscale": [
           [
            0,
            "rgb(247,251,255)"
           ],
           [
            0.125,
            "rgb(222,235,247)"
           ],
           [
            0.25,
            "rgb(198,219,239)"
           ],
           [
            0.375,
            "rgb(158,202,225)"
           ],
           [
            0.5,
            "rgb(107,174,214)"
           ],
           [
            0.625,
            "rgb(66,146,198)"
           ],
           [
            0.75,
            "rgb(33,113,181)"
           ],
           [
            0.875,
            "rgb(8,81,156)"
           ],
           [
            1,
            "rgb(8,48,107)"
           ]
          ],
          "line": {
           "color": "Grey",
           "width": 0.5
          },
          "showscale": false
         },
         "mode": "markers",
         "name": "Feasible Trial",
         "showlegend": false,
         "type": "scatter",
         "x": [
          449,
          58,
          688,
          230,
          359,
          342,
          606,
          864,
          235,
          298,
          637,
          639,
          884,
          970,
          952,
          785,
          985,
          979
         ],
         "xaxis": "x4",
         "y": [
          -0.2961837565708053,
          -0.3022149384647549,
          -0.3606538695151967,
          -0.3081725431275326,
          -0.3128278045180042,
          -0.31691255603905283,
          -0.28664538120949884,
          -0.31058057995932736,
          -0.2924022070509575,
          -0.2931593176746241,
          -0.28881739133284345,
          -0.28511923713435755,
          -0.2851756898129948,
          -0.2845461769351326,
          -0.2863304543128512,
          -0.28618271939829865,
          -0.28455979524854313,
          -0.28450643597172115
         ],
         "yaxis": "y4"
        }
       ],
       "layout": {
        "template": {
         "data": {
          "bar": [
           {
            "error_x": {
             "color": "#2a3f5f"
            },
            "error_y": {
             "color": "#2a3f5f"
            },
            "marker": {
             "line": {
              "color": "#E5ECF6",
              "width": 0.5
             },
             "pattern": {
              "fillmode": "overlay",
              "size": 10,
              "solidity": 0.2
             }
            },
            "type": "bar"
           }
          ],
          "barpolar": [
           {
            "marker": {
             "line": {
              "color": "#E5ECF6",
              "width": 0.5
             },
             "pattern": {
              "fillmode": "overlay",
              "size": 10,
              "solidity": 0.2
             }
            },
            "type": "barpolar"
           }
          ],
          "carpet": [
           {
            "aaxis": {
             "endlinecolor": "#2a3f5f",
             "gridcolor": "white",
             "linecolor": "white",
             "minorgridcolor": "white",
             "startlinecolor": "#2a3f5f"
            },
            "baxis": {
             "endlinecolor": "#2a3f5f",
             "gridcolor": "white",
             "linecolor": "white",
             "minorgridcolor": "white",
             "startlinecolor": "#2a3f5f"
            },
            "type": "carpet"
           }
          ],
          "choropleth": [
           {
            "colorbar": {
             "outlinewidth": 0,
             "ticks": ""
            },
            "type": "choropleth"
           }
          ],
          "contour": [
           {
            "colorbar": {
             "outlinewidth": 0,
             "ticks": ""
            },
            "colorscale": [
             [
              0,
              "#0d0887"
             ],
             [
              0.1111111111111111,
              "#46039f"
             ],
             [
              0.2222222222222222,
              "#7201a8"
             ],
             [
              0.3333333333333333,
              "#9c179e"
             ],
             [
              0.4444444444444444,
              "#bd3786"
             ],
             [
              0.5555555555555556,
              "#d8576b"
             ],
             [
              0.6666666666666666,
              "#ed7953"
             ],
             [
              0.7777777777777778,
              "#fb9f3a"
             ],
             [
              0.8888888888888888,
              "#fdca26"
             ],
             [
              1,
              "#f0f921"
             ]
            ],
            "type": "contour"
           }
          ],
          "contourcarpet": [
           {
            "colorbar": {
             "outlinewidth": 0,
             "ticks": ""
            },
            "type": "contourcarpet"
           }
          ],
          "heatmap": [
           {
            "colorbar": {
             "outlinewidth": 0,
             "ticks": ""
            },
            "colorscale": [
             [
              0,
              "#0d0887"
             ],
             [
              0.1111111111111111,
              "#46039f"
             ],
             [
              0.2222222222222222,
              "#7201a8"
             ],
             [
              0.3333333333333333,
              "#9c179e"
             ],
             [
              0.4444444444444444,
              "#bd3786"
             ],
             [
              0.5555555555555556,
              "#d8576b"
             ],
             [
              0.6666666666666666,
              "#ed7953"
             ],
             [
              0.7777777777777778,
              "#fb9f3a"
             ],
             [
              0.8888888888888888,
              "#fdca26"
             ],
             [
              1,
              "#f0f921"
             ]
            ],
            "type": "heatmap"
           }
          ],
          "heatmapgl": [
           {
            "colorbar": {
             "outlinewidth": 0,
             "ticks": ""
            },
            "colorscale": [
             [
              0,
              "#0d0887"
             ],
             [
              0.1111111111111111,
              "#46039f"
             ],
             [
              0.2222222222222222,
              "#7201a8"
             ],
             [
              0.3333333333333333,
              "#9c179e"
             ],
             [
              0.4444444444444444,
              "#bd3786"
             ],
             [
              0.5555555555555556,
              "#d8576b"
             ],
             [
              0.6666666666666666,
              "#ed7953"
             ],
             [
              0.7777777777777778,
              "#fb9f3a"
             ],
             [
              0.8888888888888888,
              "#fdca26"
             ],
             [
              1,
              "#f0f921"
             ]
            ],
            "type": "heatmapgl"
           }
          ],
          "histogram": [
           {
            "marker": {
             "pattern": {
              "fillmode": "overlay",
              "size": 10,
              "solidity": 0.2
             }
            },
            "type": "histogram"
           }
          ],
          "histogram2d": [
           {
            "colorbar": {
             "outlinewidth": 0,
             "ticks": ""
            },
            "colorscale": [
             [
              0,
              "#0d0887"
             ],
             [
              0.1111111111111111,
              "#46039f"
             ],
             [
              0.2222222222222222,
              "#7201a8"
             ],
             [
              0.3333333333333333,
              "#9c179e"
             ],
             [
              0.4444444444444444,
              "#bd3786"
             ],
             [
              0.5555555555555556,
              "#d8576b"
             ],
             [
              0.6666666666666666,
              "#ed7953"
             ],
             [
              0.7777777777777778,
              "#fb9f3a"
             ],
             [
              0.8888888888888888,
              "#fdca26"
             ],
             [
              1,
              "#f0f921"
             ]
            ],
            "type": "histogram2d"
           }
          ],
          "histogram2dcontour": [
           {
            "colorbar": {
             "outlinewidth": 0,
             "ticks": ""
            },
            "colorscale": [
             [
              0,
              "#0d0887"
             ],
             [
              0.1111111111111111,
              "#46039f"
             ],
             [
              0.2222222222222222,
              "#7201a8"
             ],
             [
              0.3333333333333333,
              "#9c179e"
             ],
             [
              0.4444444444444444,
              "#bd3786"
             ],
             [
              0.5555555555555556,
              "#d8576b"
             ],
             [
              0.6666666666666666,
              "#ed7953"
             ],
             [
              0.7777777777777778,
              "#fb9f3a"
             ],
             [
              0.8888888888888888,
              "#fdca26"
             ],
             [
              1,
              "#f0f921"
             ]
            ],
            "type": "histogram2dcontour"
           }
          ],
          "mesh3d": [
           {
            "colorbar": {
             "outlinewidth": 0,
             "ticks": ""
            },
            "type": "mesh3d"
           }
          ],
          "parcoords": [
           {
            "line": {
             "colorbar": {
              "outlinewidth": 0,
              "ticks": ""
             }
            },
            "type": "parcoords"
           }
          ],
          "pie": [
           {
            "automargin": true,
            "type": "pie"
           }
          ],
          "scatter": [
           {
            "fillpattern": {
             "fillmode": "overlay",
             "size": 10,
             "solidity": 0.2
            },
            "type": "scatter"
           }
          ],
          "scatter3d": [
           {
            "line": {
             "colorbar": {
              "outlinewidth": 0,
              "ticks": ""
             }
            },
            "marker": {
             "colorbar": {
              "outlinewidth": 0,
              "ticks": ""
             }
            },
            "type": "scatter3d"
           }
          ],
          "scattercarpet": [
           {
            "marker": {
             "colorbar": {
              "outlinewidth": 0,
              "ticks": ""
             }
            },
            "type": "scattercarpet"
           }
          ],
          "scattergeo": [
           {
            "marker": {
             "colorbar": {
              "outlinewidth": 0,
              "ticks": ""
             }
            },
            "type": "scattergeo"
           }
          ],
          "scattergl": [
           {
            "marker": {
             "colorbar": {
              "outlinewidth": 0,
              "ticks": ""
             }
            },
            "type": "scattergl"
           }
          ],
          "scattermapbox": [
           {
            "marker": {
             "colorbar": {
              "outlinewidth": 0,
              "ticks": ""
             }
            },
            "type": "scattermapbox"
           }
          ],
          "scatterpolar": [
           {
            "marker": {
             "colorbar": {
              "outlinewidth": 0,
              "ticks": ""
             }
            },
            "type": "scatterpolar"
           }
          ],
          "scatterpolargl": [
           {
            "marker": {
             "colorbar": {
              "outlinewidth": 0,
              "ticks": ""
             }
            },
            "type": "scatterpolargl"
           }
          ],
          "scatterternary": [
           {
            "marker": {
             "colorbar": {
              "outlinewidth": 0,
              "ticks": ""
             }
            },
            "type": "scatterternary"
           }
          ],
          "surface": [
           {
            "colorbar": {
             "outlinewidth": 0,
             "ticks": ""
            },
            "colorscale": [
             [
              0,
              "#0d0887"
             ],
             [
              0.1111111111111111,
              "#46039f"
             ],
             [
              0.2222222222222222,
              "#7201a8"
             ],
             [
              0.3333333333333333,
              "#9c179e"
             ],
             [
              0.4444444444444444,
              "#bd3786"
             ],
             [
              0.5555555555555556,
              "#d8576b"
             ],
             [
              0.6666666666666666,
              "#ed7953"
             ],
             [
              0.7777777777777778,
              "#fb9f3a"
             ],
             [
              0.8888888888888888,
              "#fdca26"
             ],
             [
              1,
              "#f0f921"
             ]
            ],
            "type": "surface"
           }
          ],
          "table": [
           {
            "cells": {
             "fill": {
              "color": "#EBF0F8"
             },
             "line": {
              "color": "white"
             }
            },
            "header": {
             "fill": {
              "color": "#C8D4E3"
             },
             "line": {
              "color": "white"
             }
            },
            "type": "table"
           }
          ]
         },
         "layout": {
          "annotationdefaults": {
           "arrowcolor": "#2a3f5f",
           "arrowhead": 0,
           "arrowwidth": 1
          },
          "autotypenumbers": "strict",
          "coloraxis": {
           "colorbar": {
            "outlinewidth": 0,
            "ticks": ""
           }
          },
          "colorscale": {
           "diverging": [
            [
             0,
             "#8e0152"
            ],
            [
             0.1,
             "#c51b7d"
            ],
            [
             0.2,
             "#de77ae"
            ],
            [
             0.3,
             "#f1b6da"
            ],
            [
             0.4,
             "#fde0ef"
            ],
            [
             0.5,
             "#f7f7f7"
            ],
            [
             0.6,
             "#e6f5d0"
            ],
            [
             0.7,
             "#b8e186"
            ],
            [
             0.8,
             "#7fbc41"
            ],
            [
             0.9,
             "#4d9221"
            ],
            [
             1,
             "#276419"
            ]
           ],
           "sequential": [
            [
             0,
             "#0d0887"
            ],
            [
             0.1111111111111111,
             "#46039f"
            ],
            [
             0.2222222222222222,
             "#7201a8"
            ],
            [
             0.3333333333333333,
             "#9c179e"
            ],
            [
             0.4444444444444444,
             "#bd3786"
            ],
            [
             0.5555555555555556,
             "#d8576b"
            ],
            [
             0.6666666666666666,
             "#ed7953"
            ],
            [
             0.7777777777777778,
             "#fb9f3a"
            ],
            [
             0.8888888888888888,
             "#fdca26"
            ],
            [
             1,
             "#f0f921"
            ]
           ],
           "sequentialminus": [
            [
             0,
             "#0d0887"
            ],
            [
             0.1111111111111111,
             "#46039f"
            ],
            [
             0.2222222222222222,
             "#7201a8"
            ],
            [
             0.3333333333333333,
             "#9c179e"
            ],
            [
             0.4444444444444444,
             "#bd3786"
            ],
            [
             0.5555555555555556,
             "#d8576b"
            ],
            [
             0.6666666666666666,
             "#ed7953"
            ],
            [
             0.7777777777777778,
             "#fb9f3a"
            ],
            [
             0.8888888888888888,
             "#fdca26"
            ],
            [
             1,
             "#f0f921"
            ]
           ]
          },
          "colorway": [
           "#636efa",
           "#EF553B",
           "#00cc96",
           "#ab63fa",
           "#FFA15A",
           "#19d3f3",
           "#FF6692",
           "#B6E880",
           "#FF97FF",
           "#FECB52"
          ],
          "font": {
           "color": "#2a3f5f"
          },
          "geo": {
           "bgcolor": "white",
           "lakecolor": "white",
           "landcolor": "#E5ECF6",
           "showlakes": true,
           "showland": true,
           "subunitcolor": "white"
          },
          "hoverlabel": {
           "align": "left"
          },
          "hovermode": "closest",
          "mapbox": {
           "style": "light"
          },
          "paper_bgcolor": "white",
          "plot_bgcolor": "#E5ECF6",
          "polar": {
           "angularaxis": {
            "gridcolor": "white",
            "linecolor": "white",
            "ticks": ""
           },
           "bgcolor": "#E5ECF6",
           "radialaxis": {
            "gridcolor": "white",
            "linecolor": "white",
            "ticks": ""
           }
          },
          "scene": {
           "xaxis": {
            "backgroundcolor": "#E5ECF6",
            "gridcolor": "white",
            "gridwidth": 2,
            "linecolor": "white",
            "showbackground": true,
            "ticks": "",
            "zerolinecolor": "white"
           },
           "yaxis": {
            "backgroundcolor": "#E5ECF6",
            "gridcolor": "white",
            "gridwidth": 2,
            "linecolor": "white",
            "showbackground": true,
            "ticks": "",
            "zerolinecolor": "white"
           },
           "zaxis": {
            "backgroundcolor": "#E5ECF6",
            "gridcolor": "white",
            "gridwidth": 2,
            "linecolor": "white",
            "showbackground": true,
            "ticks": "",
            "zerolinecolor": "white"
           }
          },
          "shapedefaults": {
           "line": {
            "color": "#2a3f5f"
           }
          },
          "ternary": {
           "aaxis": {
            "gridcolor": "white",
            "linecolor": "white",
            "ticks": ""
           },
           "baxis": {
            "gridcolor": "white",
            "linecolor": "white",
            "ticks": ""
           },
           "bgcolor": "#E5ECF6",
           "caxis": {
            "gridcolor": "white",
            "linecolor": "white",
            "ticks": ""
           }
          },
          "title": {
           "x": 0.05
          },
          "xaxis": {
           "automargin": true,
           "gridcolor": "white",
           "linecolor": "white",
           "ticks": "",
           "title": {
            "standoff": 15
           },
           "zerolinecolor": "white",
           "zerolinewidth": 2
          },
          "yaxis": {
           "automargin": true,
           "gridcolor": "white",
           "linecolor": "white",
           "ticks": "",
           "title": {
            "standoff": 15
           },
           "zerolinecolor": "white",
           "zerolinewidth": 2
          }
         }
        },
        "title": {
         "text": "Slice Plot"
        },
        "width": 1200,
        "xaxis": {
         "anchor": "y",
         "domain": [
          0,
          0.2125
         ],
         "title": {
          "text": "max_depth"
         },
         "type": "log"
        },
        "xaxis2": {
         "anchor": "y2",
         "domain": [
          0.2625,
          0.475
         ],
         "title": {
          "text": "min_samples_leaf"
         }
        },
        "xaxis3": {
         "anchor": "y3",
         "domain": [
          0.525,
          0.7375
         ],
         "title": {
          "text": "min_samples_split"
         }
        },
        "xaxis4": {
         "anchor": "y4",
         "domain": [
          0.7875,
          1
         ],
         "title": {
          "text": "n_estimators"
         }
        },
        "yaxis": {
         "anchor": "x",
         "domain": [
          0,
          1
         ],
         "title": {
          "text": "Objective Value"
         }
        },
        "yaxis2": {
         "anchor": "x2",
         "domain": [
          0,
          1
         ],
         "matches": "y",
         "showticklabels": false
        },
        "yaxis3": {
         "anchor": "x3",
         "domain": [
          0,
          1
         ],
         "matches": "y",
         "showticklabels": false
        },
        "yaxis4": {
         "anchor": "x4",
         "domain": [
          0,
          1
         ],
         "matches": "y",
         "showticklabels": false
        }
       }
      }
     },
     "metadata": {},
     "output_type": "display_data"
    }
   ],
   "source": [
    "optuna.visualization.plot_slice(study_rf, params=['n_estimators', 'max_depth', 'min_samples_split', 'min_samples_leaf'])"
   ]
  },
  {
   "cell_type": "code",
   "execution_count": 100,
   "metadata": {},
   "outputs": [
    {
     "data": {
      "application/vnd.plotly.v1+json": {
       "config": {
        "plotlyServerURL": "https://plot.ly"
       },
       "data": [
        {
         "cliponaxis": false,
         "hovertemplate": [
          "min_samples_split (IntDistribution): 0.04076743820599472<extra></extra>",
          "n_estimators (IntDistribution): 0.20280662656335222<extra></extra>",
          "min_samples_leaf (IntDistribution): 0.33498208197154733<extra></extra>",
          "max_depth (IntDistribution): 0.4214438532591059<extra></extra>"
         ],
         "name": "Objective Value",
         "orientation": "h",
         "text": [
          "0.04",
          "0.20",
          "0.33",
          "0.42"
         ],
         "textposition": "outside",
         "type": "bar",
         "x": [
          0.04076743820599472,
          0.20280662656335222,
          0.33498208197154733,
          0.4214438532591059
         ],
         "y": [
          "min_samples_split",
          "n_estimators",
          "min_samples_leaf",
          "max_depth"
         ]
        }
       ],
       "layout": {
        "template": {
         "data": {
          "bar": [
           {
            "error_x": {
             "color": "#2a3f5f"
            },
            "error_y": {
             "color": "#2a3f5f"
            },
            "marker": {
             "line": {
              "color": "#E5ECF6",
              "width": 0.5
             },
             "pattern": {
              "fillmode": "overlay",
              "size": 10,
              "solidity": 0.2
             }
            },
            "type": "bar"
           }
          ],
          "barpolar": [
           {
            "marker": {
             "line": {
              "color": "#E5ECF6",
              "width": 0.5
             },
             "pattern": {
              "fillmode": "overlay",
              "size": 10,
              "solidity": 0.2
             }
            },
            "type": "barpolar"
           }
          ],
          "carpet": [
           {
            "aaxis": {
             "endlinecolor": "#2a3f5f",
             "gridcolor": "white",
             "linecolor": "white",
             "minorgridcolor": "white",
             "startlinecolor": "#2a3f5f"
            },
            "baxis": {
             "endlinecolor": "#2a3f5f",
             "gridcolor": "white",
             "linecolor": "white",
             "minorgridcolor": "white",
             "startlinecolor": "#2a3f5f"
            },
            "type": "carpet"
           }
          ],
          "choropleth": [
           {
            "colorbar": {
             "outlinewidth": 0,
             "ticks": ""
            },
            "type": "choropleth"
           }
          ],
          "contour": [
           {
            "colorbar": {
             "outlinewidth": 0,
             "ticks": ""
            },
            "colorscale": [
             [
              0,
              "#0d0887"
             ],
             [
              0.1111111111111111,
              "#46039f"
             ],
             [
              0.2222222222222222,
              "#7201a8"
             ],
             [
              0.3333333333333333,
              "#9c179e"
             ],
             [
              0.4444444444444444,
              "#bd3786"
             ],
             [
              0.5555555555555556,
              "#d8576b"
             ],
             [
              0.6666666666666666,
              "#ed7953"
             ],
             [
              0.7777777777777778,
              "#fb9f3a"
             ],
             [
              0.8888888888888888,
              "#fdca26"
             ],
             [
              1,
              "#f0f921"
             ]
            ],
            "type": "contour"
           }
          ],
          "contourcarpet": [
           {
            "colorbar": {
             "outlinewidth": 0,
             "ticks": ""
            },
            "type": "contourcarpet"
           }
          ],
          "heatmap": [
           {
            "colorbar": {
             "outlinewidth": 0,
             "ticks": ""
            },
            "colorscale": [
             [
              0,
              "#0d0887"
             ],
             [
              0.1111111111111111,
              "#46039f"
             ],
             [
              0.2222222222222222,
              "#7201a8"
             ],
             [
              0.3333333333333333,
              "#9c179e"
             ],
             [
              0.4444444444444444,
              "#bd3786"
             ],
             [
              0.5555555555555556,
              "#d8576b"
             ],
             [
              0.6666666666666666,
              "#ed7953"
             ],
             [
              0.7777777777777778,
              "#fb9f3a"
             ],
             [
              0.8888888888888888,
              "#fdca26"
             ],
             [
              1,
              "#f0f921"
             ]
            ],
            "type": "heatmap"
           }
          ],
          "heatmapgl": [
           {
            "colorbar": {
             "outlinewidth": 0,
             "ticks": ""
            },
            "colorscale": [
             [
              0,
              "#0d0887"
             ],
             [
              0.1111111111111111,
              "#46039f"
             ],
             [
              0.2222222222222222,
              "#7201a8"
             ],
             [
              0.3333333333333333,
              "#9c179e"
             ],
             [
              0.4444444444444444,
              "#bd3786"
             ],
             [
              0.5555555555555556,
              "#d8576b"
             ],
             [
              0.6666666666666666,
              "#ed7953"
             ],
             [
              0.7777777777777778,
              "#fb9f3a"
             ],
             [
              0.8888888888888888,
              "#fdca26"
             ],
             [
              1,
              "#f0f921"
             ]
            ],
            "type": "heatmapgl"
           }
          ],
          "histogram": [
           {
            "marker": {
             "pattern": {
              "fillmode": "overlay",
              "size": 10,
              "solidity": 0.2
             }
            },
            "type": "histogram"
           }
          ],
          "histogram2d": [
           {
            "colorbar": {
             "outlinewidth": 0,
             "ticks": ""
            },
            "colorscale": [
             [
              0,
              "#0d0887"
             ],
             [
              0.1111111111111111,
              "#46039f"
             ],
             [
              0.2222222222222222,
              "#7201a8"
             ],
             [
              0.3333333333333333,
              "#9c179e"
             ],
             [
              0.4444444444444444,
              "#bd3786"
             ],
             [
              0.5555555555555556,
              "#d8576b"
             ],
             [
              0.6666666666666666,
              "#ed7953"
             ],
             [
              0.7777777777777778,
              "#fb9f3a"
             ],
             [
              0.8888888888888888,
              "#fdca26"
             ],
             [
              1,
              "#f0f921"
             ]
            ],
            "type": "histogram2d"
           }
          ],
          "histogram2dcontour": [
           {
            "colorbar": {
             "outlinewidth": 0,
             "ticks": ""
            },
            "colorscale": [
             [
              0,
              "#0d0887"
             ],
             [
              0.1111111111111111,
              "#46039f"
             ],
             [
              0.2222222222222222,
              "#7201a8"
             ],
             [
              0.3333333333333333,
              "#9c179e"
             ],
             [
              0.4444444444444444,
              "#bd3786"
             ],
             [
              0.5555555555555556,
              "#d8576b"
             ],
             [
              0.6666666666666666,
              "#ed7953"
             ],
             [
              0.7777777777777778,
              "#fb9f3a"
             ],
             [
              0.8888888888888888,
              "#fdca26"
             ],
             [
              1,
              "#f0f921"
             ]
            ],
            "type": "histogram2dcontour"
           }
          ],
          "mesh3d": [
           {
            "colorbar": {
             "outlinewidth": 0,
             "ticks": ""
            },
            "type": "mesh3d"
           }
          ],
          "parcoords": [
           {
            "line": {
             "colorbar": {
              "outlinewidth": 0,
              "ticks": ""
             }
            },
            "type": "parcoords"
           }
          ],
          "pie": [
           {
            "automargin": true,
            "type": "pie"
           }
          ],
          "scatter": [
           {
            "fillpattern": {
             "fillmode": "overlay",
             "size": 10,
             "solidity": 0.2
            },
            "type": "scatter"
           }
          ],
          "scatter3d": [
           {
            "line": {
             "colorbar": {
              "outlinewidth": 0,
              "ticks": ""
             }
            },
            "marker": {
             "colorbar": {
              "outlinewidth": 0,
              "ticks": ""
             }
            },
            "type": "scatter3d"
           }
          ],
          "scattercarpet": [
           {
            "marker": {
             "colorbar": {
              "outlinewidth": 0,
              "ticks": ""
             }
            },
            "type": "scattercarpet"
           }
          ],
          "scattergeo": [
           {
            "marker": {
             "colorbar": {
              "outlinewidth": 0,
              "ticks": ""
             }
            },
            "type": "scattergeo"
           }
          ],
          "scattergl": [
           {
            "marker": {
             "colorbar": {
              "outlinewidth": 0,
              "ticks": ""
             }
            },
            "type": "scattergl"
           }
          ],
          "scattermapbox": [
           {
            "marker": {
             "colorbar": {
              "outlinewidth": 0,
              "ticks": ""
             }
            },
            "type": "scattermapbox"
           }
          ],
          "scatterpolar": [
           {
            "marker": {
             "colorbar": {
              "outlinewidth": 0,
              "ticks": ""
             }
            },
            "type": "scatterpolar"
           }
          ],
          "scatterpolargl": [
           {
            "marker": {
             "colorbar": {
              "outlinewidth": 0,
              "ticks": ""
             }
            },
            "type": "scatterpolargl"
           }
          ],
          "scatterternary": [
           {
            "marker": {
             "colorbar": {
              "outlinewidth": 0,
              "ticks": ""
             }
            },
            "type": "scatterternary"
           }
          ],
          "surface": [
           {
            "colorbar": {
             "outlinewidth": 0,
             "ticks": ""
            },
            "colorscale": [
             [
              0,
              "#0d0887"
             ],
             [
              0.1111111111111111,
              "#46039f"
             ],
             [
              0.2222222222222222,
              "#7201a8"
             ],
             [
              0.3333333333333333,
              "#9c179e"
             ],
             [
              0.4444444444444444,
              "#bd3786"
             ],
             [
              0.5555555555555556,
              "#d8576b"
             ],
             [
              0.6666666666666666,
              "#ed7953"
             ],
             [
              0.7777777777777778,
              "#fb9f3a"
             ],
             [
              0.8888888888888888,
              "#fdca26"
             ],
             [
              1,
              "#f0f921"
             ]
            ],
            "type": "surface"
           }
          ],
          "table": [
           {
            "cells": {
             "fill": {
              "color": "#EBF0F8"
             },
             "line": {
              "color": "white"
             }
            },
            "header": {
             "fill": {
              "color": "#C8D4E3"
             },
             "line": {
              "color": "white"
             }
            },
            "type": "table"
           }
          ]
         },
         "layout": {
          "annotationdefaults": {
           "arrowcolor": "#2a3f5f",
           "arrowhead": 0,
           "arrowwidth": 1
          },
          "autotypenumbers": "strict",
          "coloraxis": {
           "colorbar": {
            "outlinewidth": 0,
            "ticks": ""
           }
          },
          "colorscale": {
           "diverging": [
            [
             0,
             "#8e0152"
            ],
            [
             0.1,
             "#c51b7d"
            ],
            [
             0.2,
             "#de77ae"
            ],
            [
             0.3,
             "#f1b6da"
            ],
            [
             0.4,
             "#fde0ef"
            ],
            [
             0.5,
             "#f7f7f7"
            ],
            [
             0.6,
             "#e6f5d0"
            ],
            [
             0.7,
             "#b8e186"
            ],
            [
             0.8,
             "#7fbc41"
            ],
            [
             0.9,
             "#4d9221"
            ],
            [
             1,
             "#276419"
            ]
           ],
           "sequential": [
            [
             0,
             "#0d0887"
            ],
            [
             0.1111111111111111,
             "#46039f"
            ],
            [
             0.2222222222222222,
             "#7201a8"
            ],
            [
             0.3333333333333333,
             "#9c179e"
            ],
            [
             0.4444444444444444,
             "#bd3786"
            ],
            [
             0.5555555555555556,
             "#d8576b"
            ],
            [
             0.6666666666666666,
             "#ed7953"
            ],
            [
             0.7777777777777778,
             "#fb9f3a"
            ],
            [
             0.8888888888888888,
             "#fdca26"
            ],
            [
             1,
             "#f0f921"
            ]
           ],
           "sequentialminus": [
            [
             0,
             "#0d0887"
            ],
            [
             0.1111111111111111,
             "#46039f"
            ],
            [
             0.2222222222222222,
             "#7201a8"
            ],
            [
             0.3333333333333333,
             "#9c179e"
            ],
            [
             0.4444444444444444,
             "#bd3786"
            ],
            [
             0.5555555555555556,
             "#d8576b"
            ],
            [
             0.6666666666666666,
             "#ed7953"
            ],
            [
             0.7777777777777778,
             "#fb9f3a"
            ],
            [
             0.8888888888888888,
             "#fdca26"
            ],
            [
             1,
             "#f0f921"
            ]
           ]
          },
          "colorway": [
           "#636efa",
           "#EF553B",
           "#00cc96",
           "#ab63fa",
           "#FFA15A",
           "#19d3f3",
           "#FF6692",
           "#B6E880",
           "#FF97FF",
           "#FECB52"
          ],
          "font": {
           "color": "#2a3f5f"
          },
          "geo": {
           "bgcolor": "white",
           "lakecolor": "white",
           "landcolor": "#E5ECF6",
           "showlakes": true,
           "showland": true,
           "subunitcolor": "white"
          },
          "hoverlabel": {
           "align": "left"
          },
          "hovermode": "closest",
          "mapbox": {
           "style": "light"
          },
          "paper_bgcolor": "white",
          "plot_bgcolor": "#E5ECF6",
          "polar": {
           "angularaxis": {
            "gridcolor": "white",
            "linecolor": "white",
            "ticks": ""
           },
           "bgcolor": "#E5ECF6",
           "radialaxis": {
            "gridcolor": "white",
            "linecolor": "white",
            "ticks": ""
           }
          },
          "scene": {
           "xaxis": {
            "backgroundcolor": "#E5ECF6",
            "gridcolor": "white",
            "gridwidth": 2,
            "linecolor": "white",
            "showbackground": true,
            "ticks": "",
            "zerolinecolor": "white"
           },
           "yaxis": {
            "backgroundcolor": "#E5ECF6",
            "gridcolor": "white",
            "gridwidth": 2,
            "linecolor": "white",
            "showbackground": true,
            "ticks": "",
            "zerolinecolor": "white"
           },
           "zaxis": {
            "backgroundcolor": "#E5ECF6",
            "gridcolor": "white",
            "gridwidth": 2,
            "linecolor": "white",
            "showbackground": true,
            "ticks": "",
            "zerolinecolor": "white"
           }
          },
          "shapedefaults": {
           "line": {
            "color": "#2a3f5f"
           }
          },
          "ternary": {
           "aaxis": {
            "gridcolor": "white",
            "linecolor": "white",
            "ticks": ""
           },
           "baxis": {
            "gridcolor": "white",
            "linecolor": "white",
            "ticks": ""
           },
           "bgcolor": "#E5ECF6",
           "caxis": {
            "gridcolor": "white",
            "linecolor": "white",
            "ticks": ""
           }
          },
          "title": {
           "x": 0.05
          },
          "xaxis": {
           "automargin": true,
           "gridcolor": "white",
           "linecolor": "white",
           "ticks": "",
           "title": {
            "standoff": 15
           },
           "zerolinecolor": "white",
           "zerolinewidth": 2
          },
          "yaxis": {
           "automargin": true,
           "gridcolor": "white",
           "linecolor": "white",
           "ticks": "",
           "title": {
            "standoff": 15
           },
           "zerolinecolor": "white",
           "zerolinewidth": 2
          }
         }
        },
        "title": {
         "text": "Hyperparameter Importances"
        },
        "xaxis": {
         "title": {
          "text": "Hyperparameter Importance"
         }
        },
        "yaxis": {
         "title": {
          "text": "Hyperparameter"
         }
        }
       }
      }
     },
     "metadata": {},
     "output_type": "display_data"
    }
   ],
   "source": [
    "optuna.visualization.plot_param_importances(study_rf)"
   ]
  },
  {
   "cell_type": "markdown",
   "metadata": {},
   "source": [
    "Najbardziej znaczącym parametrem okazał się być hiperparametr max_depth, który wraz z większą wartością dawał lepsze wyniki modelu. "
   ]
  },
  {
   "cell_type": "markdown",
   "metadata": {},
   "source": [
    "Następnie, dla wybranych hiperparametrów, skonstruowano końcowy model, który następnie uzyto do predykcji na zbiorze testowym:"
   ]
  },
  {
   "cell_type": "code",
   "execution_count": 109,
   "metadata": {},
   "outputs": [
    {
     "name": "stderr",
     "output_type": "stream",
     "text": [
      "[Parallel(n_jobs=-1)]: Using backend ThreadingBackend with 8 concurrent workers.\n",
      "[Parallel(n_jobs=-1)]: Done  34 tasks      | elapsed:   20.8s\n",
      "[Parallel(n_jobs=-1)]: Done 184 tasks      | elapsed:  1.6min\n",
      "[Parallel(n_jobs=-1)]: Done 434 tasks      | elapsed:  3.6min\n",
      "[Parallel(n_jobs=-1)]: Done 784 tasks      | elapsed:  6.6min\n",
      "[Parallel(n_jobs=-1)]: Done 979 out of 979 | elapsed:  8.2min finished\n"
     ]
    },
    {
     "data": {
      "text/html": [
       "<style>#sk-container-id-3 {\n",
       "  /* Definition of color scheme common for light and dark mode */\n",
       "  --sklearn-color-text: black;\n",
       "  --sklearn-color-line: gray;\n",
       "  /* Definition of color scheme for unfitted estimators */\n",
       "  --sklearn-color-unfitted-level-0: #fff5e6;\n",
       "  --sklearn-color-unfitted-level-1: #f6e4d2;\n",
       "  --sklearn-color-unfitted-level-2: #ffe0b3;\n",
       "  --sklearn-color-unfitted-level-3: chocolate;\n",
       "  /* Definition of color scheme for fitted estimators */\n",
       "  --sklearn-color-fitted-level-0: #f0f8ff;\n",
       "  --sklearn-color-fitted-level-1: #d4ebff;\n",
       "  --sklearn-color-fitted-level-2: #b3dbfd;\n",
       "  --sklearn-color-fitted-level-3: cornflowerblue;\n",
       "\n",
       "  /* Specific color for light theme */\n",
       "  --sklearn-color-text-on-default-background: var(--sg-text-color, var(--theme-code-foreground, var(--jp-content-font-color1, black)));\n",
       "  --sklearn-color-background: var(--sg-background-color, var(--theme-background, var(--jp-layout-color0, white)));\n",
       "  --sklearn-color-border-box: var(--sg-text-color, var(--theme-code-foreground, var(--jp-content-font-color1, black)));\n",
       "  --sklearn-color-icon: #696969;\n",
       "\n",
       "  @media (prefers-color-scheme: dark) {\n",
       "    /* Redefinition of color scheme for dark theme */\n",
       "    --sklearn-color-text-on-default-background: var(--sg-text-color, var(--theme-code-foreground, var(--jp-content-font-color1, white)));\n",
       "    --sklearn-color-background: var(--sg-background-color, var(--theme-background, var(--jp-layout-color0, #111)));\n",
       "    --sklearn-color-border-box: var(--sg-text-color, var(--theme-code-foreground, var(--jp-content-font-color1, white)));\n",
       "    --sklearn-color-icon: #878787;\n",
       "  }\n",
       "}\n",
       "\n",
       "#sk-container-id-3 {\n",
       "  color: var(--sklearn-color-text);\n",
       "}\n",
       "\n",
       "#sk-container-id-3 pre {\n",
       "  padding: 0;\n",
       "}\n",
       "\n",
       "#sk-container-id-3 input.sk-hidden--visually {\n",
       "  border: 0;\n",
       "  clip: rect(1px 1px 1px 1px);\n",
       "  clip: rect(1px, 1px, 1px, 1px);\n",
       "  height: 1px;\n",
       "  margin: -1px;\n",
       "  overflow: hidden;\n",
       "  padding: 0;\n",
       "  position: absolute;\n",
       "  width: 1px;\n",
       "}\n",
       "\n",
       "#sk-container-id-3 div.sk-dashed-wrapped {\n",
       "  border: 1px dashed var(--sklearn-color-line);\n",
       "  margin: 0 0.4em 0.5em 0.4em;\n",
       "  box-sizing: border-box;\n",
       "  padding-bottom: 0.4em;\n",
       "  background-color: var(--sklearn-color-background);\n",
       "}\n",
       "\n",
       "#sk-container-id-3 div.sk-container {\n",
       "  /* jupyter's `normalize.less` sets `[hidden] { display: none; }`\n",
       "     but bootstrap.min.css set `[hidden] { display: none !important; }`\n",
       "     so we also need the `!important` here to be able to override the\n",
       "     default hidden behavior on the sphinx rendered scikit-learn.org.\n",
       "     See: https://github.com/scikit-learn/scikit-learn/issues/21755 */\n",
       "  display: inline-block !important;\n",
       "  position: relative;\n",
       "}\n",
       "\n",
       "#sk-container-id-3 div.sk-text-repr-fallback {\n",
       "  display: none;\n",
       "}\n",
       "\n",
       "div.sk-parallel-item,\n",
       "div.sk-serial,\n",
       "div.sk-item {\n",
       "  /* draw centered vertical line to link estimators */\n",
       "  background-image: linear-gradient(var(--sklearn-color-text-on-default-background), var(--sklearn-color-text-on-default-background));\n",
       "  background-size: 2px 100%;\n",
       "  background-repeat: no-repeat;\n",
       "  background-position: center center;\n",
       "}\n",
       "\n",
       "/* Parallel-specific style estimator block */\n",
       "\n",
       "#sk-container-id-3 div.sk-parallel-item::after {\n",
       "  content: \"\";\n",
       "  width: 100%;\n",
       "  border-bottom: 2px solid var(--sklearn-color-text-on-default-background);\n",
       "  flex-grow: 1;\n",
       "}\n",
       "\n",
       "#sk-container-id-3 div.sk-parallel {\n",
       "  display: flex;\n",
       "  align-items: stretch;\n",
       "  justify-content: center;\n",
       "  background-color: var(--sklearn-color-background);\n",
       "  position: relative;\n",
       "}\n",
       "\n",
       "#sk-container-id-3 div.sk-parallel-item {\n",
       "  display: flex;\n",
       "  flex-direction: column;\n",
       "}\n",
       "\n",
       "#sk-container-id-3 div.sk-parallel-item:first-child::after {\n",
       "  align-self: flex-end;\n",
       "  width: 50%;\n",
       "}\n",
       "\n",
       "#sk-container-id-3 div.sk-parallel-item:last-child::after {\n",
       "  align-self: flex-start;\n",
       "  width: 50%;\n",
       "}\n",
       "\n",
       "#sk-container-id-3 div.sk-parallel-item:only-child::after {\n",
       "  width: 0;\n",
       "}\n",
       "\n",
       "/* Serial-specific style estimator block */\n",
       "\n",
       "#sk-container-id-3 div.sk-serial {\n",
       "  display: flex;\n",
       "  flex-direction: column;\n",
       "  align-items: center;\n",
       "  background-color: var(--sklearn-color-background);\n",
       "  padding-right: 1em;\n",
       "  padding-left: 1em;\n",
       "}\n",
       "\n",
       "\n",
       "/* Toggleable style: style used for estimator/Pipeline/ColumnTransformer box that is\n",
       "clickable and can be expanded/collapsed.\n",
       "- Pipeline and ColumnTransformer use this feature and define the default style\n",
       "- Estimators will overwrite some part of the style using the `sk-estimator` class\n",
       "*/\n",
       "\n",
       "/* Pipeline and ColumnTransformer style (default) */\n",
       "\n",
       "#sk-container-id-3 div.sk-toggleable {\n",
       "  /* Default theme specific background. It is overwritten whether we have a\n",
       "  specific estimator or a Pipeline/ColumnTransformer */\n",
       "  background-color: var(--sklearn-color-background);\n",
       "}\n",
       "\n",
       "/* Toggleable label */\n",
       "#sk-container-id-3 label.sk-toggleable__label {\n",
       "  cursor: pointer;\n",
       "  display: block;\n",
       "  width: 100%;\n",
       "  margin-bottom: 0;\n",
       "  padding: 0.5em;\n",
       "  box-sizing: border-box;\n",
       "  text-align: center;\n",
       "}\n",
       "\n",
       "#sk-container-id-3 label.sk-toggleable__label-arrow:before {\n",
       "  /* Arrow on the left of the label */\n",
       "  content: \"▸\";\n",
       "  float: left;\n",
       "  margin-right: 0.25em;\n",
       "  color: var(--sklearn-color-icon);\n",
       "}\n",
       "\n",
       "#sk-container-id-3 label.sk-toggleable__label-arrow:hover:before {\n",
       "  color: var(--sklearn-color-text);\n",
       "}\n",
       "\n",
       "/* Toggleable content - dropdown */\n",
       "\n",
       "#sk-container-id-3 div.sk-toggleable__content {\n",
       "  max-height: 0;\n",
       "  max-width: 0;\n",
       "  overflow: hidden;\n",
       "  text-align: left;\n",
       "  /* unfitted */\n",
       "  background-color: var(--sklearn-color-unfitted-level-0);\n",
       "}\n",
       "\n",
       "#sk-container-id-3 div.sk-toggleable__content.fitted {\n",
       "  /* fitted */\n",
       "  background-color: var(--sklearn-color-fitted-level-0);\n",
       "}\n",
       "\n",
       "#sk-container-id-3 div.sk-toggleable__content pre {\n",
       "  margin: 0.2em;\n",
       "  border-radius: 0.25em;\n",
       "  color: var(--sklearn-color-text);\n",
       "  /* unfitted */\n",
       "  background-color: var(--sklearn-color-unfitted-level-0);\n",
       "}\n",
       "\n",
       "#sk-container-id-3 div.sk-toggleable__content.fitted pre {\n",
       "  /* unfitted */\n",
       "  background-color: var(--sklearn-color-fitted-level-0);\n",
       "}\n",
       "\n",
       "#sk-container-id-3 input.sk-toggleable__control:checked~div.sk-toggleable__content {\n",
       "  /* Expand drop-down */\n",
       "  max-height: 200px;\n",
       "  max-width: 100%;\n",
       "  overflow: auto;\n",
       "}\n",
       "\n",
       "#sk-container-id-3 input.sk-toggleable__control:checked~label.sk-toggleable__label-arrow:before {\n",
       "  content: \"▾\";\n",
       "}\n",
       "\n",
       "/* Pipeline/ColumnTransformer-specific style */\n",
       "\n",
       "#sk-container-id-3 div.sk-label input.sk-toggleable__control:checked~label.sk-toggleable__label {\n",
       "  color: var(--sklearn-color-text);\n",
       "  background-color: var(--sklearn-color-unfitted-level-2);\n",
       "}\n",
       "\n",
       "#sk-container-id-3 div.sk-label.fitted input.sk-toggleable__control:checked~label.sk-toggleable__label {\n",
       "  background-color: var(--sklearn-color-fitted-level-2);\n",
       "}\n",
       "\n",
       "/* Estimator-specific style */\n",
       "\n",
       "/* Colorize estimator box */\n",
       "#sk-container-id-3 div.sk-estimator input.sk-toggleable__control:checked~label.sk-toggleable__label {\n",
       "  /* unfitted */\n",
       "  background-color: var(--sklearn-color-unfitted-level-2);\n",
       "}\n",
       "\n",
       "#sk-container-id-3 div.sk-estimator.fitted input.sk-toggleable__control:checked~label.sk-toggleable__label {\n",
       "  /* fitted */\n",
       "  background-color: var(--sklearn-color-fitted-level-2);\n",
       "}\n",
       "\n",
       "#sk-container-id-3 div.sk-label label.sk-toggleable__label,\n",
       "#sk-container-id-3 div.sk-label label {\n",
       "  /* The background is the default theme color */\n",
       "  color: var(--sklearn-color-text-on-default-background);\n",
       "}\n",
       "\n",
       "/* On hover, darken the color of the background */\n",
       "#sk-container-id-3 div.sk-label:hover label.sk-toggleable__label {\n",
       "  color: var(--sklearn-color-text);\n",
       "  background-color: var(--sklearn-color-unfitted-level-2);\n",
       "}\n",
       "\n",
       "/* Label box, darken color on hover, fitted */\n",
       "#sk-container-id-3 div.sk-label.fitted:hover label.sk-toggleable__label.fitted {\n",
       "  color: var(--sklearn-color-text);\n",
       "  background-color: var(--sklearn-color-fitted-level-2);\n",
       "}\n",
       "\n",
       "/* Estimator label */\n",
       "\n",
       "#sk-container-id-3 div.sk-label label {\n",
       "  font-family: monospace;\n",
       "  font-weight: bold;\n",
       "  display: inline-block;\n",
       "  line-height: 1.2em;\n",
       "}\n",
       "\n",
       "#sk-container-id-3 div.sk-label-container {\n",
       "  text-align: center;\n",
       "}\n",
       "\n",
       "/* Estimator-specific */\n",
       "#sk-container-id-3 div.sk-estimator {\n",
       "  font-family: monospace;\n",
       "  border: 1px dotted var(--sklearn-color-border-box);\n",
       "  border-radius: 0.25em;\n",
       "  box-sizing: border-box;\n",
       "  margin-bottom: 0.5em;\n",
       "  /* unfitted */\n",
       "  background-color: var(--sklearn-color-unfitted-level-0);\n",
       "}\n",
       "\n",
       "#sk-container-id-3 div.sk-estimator.fitted {\n",
       "  /* fitted */\n",
       "  background-color: var(--sklearn-color-fitted-level-0);\n",
       "}\n",
       "\n",
       "/* on hover */\n",
       "#sk-container-id-3 div.sk-estimator:hover {\n",
       "  /* unfitted */\n",
       "  background-color: var(--sklearn-color-unfitted-level-2);\n",
       "}\n",
       "\n",
       "#sk-container-id-3 div.sk-estimator.fitted:hover {\n",
       "  /* fitted */\n",
       "  background-color: var(--sklearn-color-fitted-level-2);\n",
       "}\n",
       "\n",
       "/* Specification for estimator info (e.g. \"i\" and \"?\") */\n",
       "\n",
       "/* Common style for \"i\" and \"?\" */\n",
       "\n",
       ".sk-estimator-doc-link,\n",
       "a:link.sk-estimator-doc-link,\n",
       "a:visited.sk-estimator-doc-link {\n",
       "  float: right;\n",
       "  font-size: smaller;\n",
       "  line-height: 1em;\n",
       "  font-family: monospace;\n",
       "  background-color: var(--sklearn-color-background);\n",
       "  border-radius: 1em;\n",
       "  height: 1em;\n",
       "  width: 1em;\n",
       "  text-decoration: none !important;\n",
       "  margin-left: 1ex;\n",
       "  /* unfitted */\n",
       "  border: var(--sklearn-color-unfitted-level-1) 1pt solid;\n",
       "  color: var(--sklearn-color-unfitted-level-1);\n",
       "}\n",
       "\n",
       ".sk-estimator-doc-link.fitted,\n",
       "a:link.sk-estimator-doc-link.fitted,\n",
       "a:visited.sk-estimator-doc-link.fitted {\n",
       "  /* fitted */\n",
       "  border: var(--sklearn-color-fitted-level-1) 1pt solid;\n",
       "  color: var(--sklearn-color-fitted-level-1);\n",
       "}\n",
       "\n",
       "/* On hover */\n",
       "div.sk-estimator:hover .sk-estimator-doc-link:hover,\n",
       ".sk-estimator-doc-link:hover,\n",
       "div.sk-label-container:hover .sk-estimator-doc-link:hover,\n",
       ".sk-estimator-doc-link:hover {\n",
       "  /* unfitted */\n",
       "  background-color: var(--sklearn-color-unfitted-level-3);\n",
       "  color: var(--sklearn-color-background);\n",
       "  text-decoration: none;\n",
       "}\n",
       "\n",
       "div.sk-estimator.fitted:hover .sk-estimator-doc-link.fitted:hover,\n",
       ".sk-estimator-doc-link.fitted:hover,\n",
       "div.sk-label-container:hover .sk-estimator-doc-link.fitted:hover,\n",
       ".sk-estimator-doc-link.fitted:hover {\n",
       "  /* fitted */\n",
       "  background-color: var(--sklearn-color-fitted-level-3);\n",
       "  color: var(--sklearn-color-background);\n",
       "  text-decoration: none;\n",
       "}\n",
       "\n",
       "/* Span, style for the box shown on hovering the info icon */\n",
       ".sk-estimator-doc-link span {\n",
       "  display: none;\n",
       "  z-index: 9999;\n",
       "  position: relative;\n",
       "  font-weight: normal;\n",
       "  right: .2ex;\n",
       "  padding: .5ex;\n",
       "  margin: .5ex;\n",
       "  width: min-content;\n",
       "  min-width: 20ex;\n",
       "  max-width: 50ex;\n",
       "  color: var(--sklearn-color-text);\n",
       "  box-shadow: 2pt 2pt 4pt #999;\n",
       "  /* unfitted */\n",
       "  background: var(--sklearn-color-unfitted-level-0);\n",
       "  border: .5pt solid var(--sklearn-color-unfitted-level-3);\n",
       "}\n",
       "\n",
       ".sk-estimator-doc-link.fitted span {\n",
       "  /* fitted */\n",
       "  background: var(--sklearn-color-fitted-level-0);\n",
       "  border: var(--sklearn-color-fitted-level-3);\n",
       "}\n",
       "\n",
       ".sk-estimator-doc-link:hover span {\n",
       "  display: block;\n",
       "}\n",
       "\n",
       "/* \"?\"-specific style due to the `<a>` HTML tag */\n",
       "\n",
       "#sk-container-id-3 a.estimator_doc_link {\n",
       "  float: right;\n",
       "  font-size: 1rem;\n",
       "  line-height: 1em;\n",
       "  font-family: monospace;\n",
       "  background-color: var(--sklearn-color-background);\n",
       "  border-radius: 1rem;\n",
       "  height: 1rem;\n",
       "  width: 1rem;\n",
       "  text-decoration: none;\n",
       "  /* unfitted */\n",
       "  color: var(--sklearn-color-unfitted-level-1);\n",
       "  border: var(--sklearn-color-unfitted-level-1) 1pt solid;\n",
       "}\n",
       "\n",
       "#sk-container-id-3 a.estimator_doc_link.fitted {\n",
       "  /* fitted */\n",
       "  border: var(--sklearn-color-fitted-level-1) 1pt solid;\n",
       "  color: var(--sklearn-color-fitted-level-1);\n",
       "}\n",
       "\n",
       "/* On hover */\n",
       "#sk-container-id-3 a.estimator_doc_link:hover {\n",
       "  /* unfitted */\n",
       "  background-color: var(--sklearn-color-unfitted-level-3);\n",
       "  color: var(--sklearn-color-background);\n",
       "  text-decoration: none;\n",
       "}\n",
       "\n",
       "#sk-container-id-3 a.estimator_doc_link.fitted:hover {\n",
       "  /* fitted */\n",
       "  background-color: var(--sklearn-color-fitted-level-3);\n",
       "}\n",
       "</style><div id=\"sk-container-id-3\" class=\"sk-top-container\"><div class=\"sk-text-repr-fallback\"><pre>RandomForestRegressor(max_depth=29, min_samples_leaf=6, min_samples_split=11,\n",
       "                      n_estimators=979, n_jobs=-1, verbose=1)</pre><b>In a Jupyter environment, please rerun this cell to show the HTML representation or trust the notebook. <br />On GitHub, the HTML representation is unable to render, please try loading this page with nbviewer.org.</b></div><div class=\"sk-container\" hidden><div class=\"sk-item\"><div class=\"sk-estimator fitted sk-toggleable\"><input class=\"sk-toggleable__control sk-hidden--visually\" id=\"sk-estimator-id-6\" type=\"checkbox\" checked><label for=\"sk-estimator-id-6\" class=\"sk-toggleable__label fitted sk-toggleable__label-arrow fitted\">&nbsp;&nbsp;RandomForestRegressor<a class=\"sk-estimator-doc-link fitted\" rel=\"noreferrer\" target=\"_blank\" href=\"https://scikit-learn.org/1.5/modules/generated/sklearn.ensemble.RandomForestRegressor.html\">?<span>Documentation for RandomForestRegressor</span></a><span class=\"sk-estimator-doc-link fitted\">i<span>Fitted</span></span></label><div class=\"sk-toggleable__content fitted\"><pre>RandomForestRegressor(max_depth=29, min_samples_leaf=6, min_samples_split=11,\n",
       "                      n_estimators=979, n_jobs=-1, verbose=1)</pre></div> </div></div></div></div>"
      ],
      "text/plain": [
       "RandomForestRegressor(max_depth=29, min_samples_leaf=6, min_samples_split=11,\n",
       "                      n_estimators=979, n_jobs=-1, verbose=1)"
      ]
     },
     "execution_count": 109,
     "metadata": {},
     "output_type": "execute_result"
    }
   ],
   "source": [
    "best_n_estimators = study_rf.best_params['n_estimators']\n",
    "best_max_depth = study_rf.best_params['max_depth']\n",
    "best_min_samples_split = study_rf.best_params['min_samples_split']\n",
    "best_min_samples_leaf = study_rf.best_params['min_samples_leaf']\n",
    "\n",
    "best_model_rf = RandomForestRegressor(n_estimators=best_n_estimators,\n",
    "                                    max_depth=best_max_depth, \n",
    "                                    min_samples_split=best_min_samples_split, \n",
    "                                    min_samples_leaf=best_min_samples_leaf, \n",
    "                                    n_jobs=-1, \n",
    "                                    verbose=1) \n",
    "\n",
    "best_model_rf.fit(X_train, y_train)\n",
    "#dump(best_model_rf, 'best_model_rf.joblib')"
   ]
  },
  {
   "cell_type": "code",
   "execution_count": null,
   "metadata": {},
   "outputs": [],
   "source": [
    "cv_mean_rf_best, cv_std_rf_best, train_rmse_rf_best, test_rmse_rf_best = model_evaluation(best_model_rf, X_train, y_train, X_test, y_test, kf)"
   ]
  },
  {
   "cell_type": "markdown",
   "metadata": {},
   "source": [
    "Wyniki końcowe modelu:\n",
    "\n",
    "Cross-validation RMSE: 0.28 +/- 0.01\n",
    "\n",
    "Train RMSE: 0.16\n",
    "\n",
    "Test RMSE: 0.29"
   ]
  },
  {
   "cell_type": "markdown",
   "metadata": {},
   "source": [
    "Zapis predykcji na zbiorze X_test.csv:"
   ]
  },
  {
   "cell_type": "code",
   "execution_count": 113,
   "metadata": {},
   "outputs": [
    {
     "name": "stderr",
     "output_type": "stream",
     "text": [
      "[Parallel(n_jobs=8)]: Using backend ThreadingBackend with 8 concurrent workers.\n",
      "[Parallel(n_jobs=8)]: Done  34 tasks      | elapsed:    0.0s\n",
      "[Parallel(n_jobs=8)]: Done 184 tasks      | elapsed:    0.0s\n",
      "[Parallel(n_jobs=8)]: Done 434 tasks      | elapsed:    0.1s\n",
      "[Parallel(n_jobs=8)]: Done 784 tasks      | elapsed:    0.1s\n",
      "[Parallel(n_jobs=8)]: Done 979 out of 979 | elapsed:    0.1s finished\n"
     ]
    }
   ],
   "source": [
    "task_predictions = best_model_rf.predict(X_task)\n",
    "\n",
    "prediction_df = pd.DataFrame({\n",
    "    'Id': X_task.index,  \n",
    "    'Expected': task_predictions\n",
    "})\n",
    "\n",
    "filename = '450224_predykcja.csv'\n",
    "prediction_df.to_csv(filename, index=False)"
   ]
  },
  {
   "cell_type": "markdown",
   "metadata": {},
   "source": [
    "Na sam koniec, te same kroki optymalizacyjne przeprowadzono dla modelu ElasticNet."
   ]
  },
  {
   "cell_type": "code",
   "execution_count": null,
   "metadata": {},
   "outputs": [],
   "source": [
    "def objective(trial):\n",
    "    alpha = trial.suggest_float('alpha', 0.01, 10)\n",
    "    l1_ratio = trial.suggest_float('l1_ratio', 0.0, 1.0)\n",
    "\n",
    "    pipeline_elasticnet = Pipeline([\n",
    "        ('sparsifier', FunctionTransformer(sparse.csc_matrix, accept_sparse=True)),\n",
    "        ('scaler', StandardScaler(with_mean=False)),\n",
    "        ('elastic_net', ElasticNet(tol=0.01, random_state=42, alpha=alpha, l1_ratio=l1_ratio))\n",
    "    ])\n",
    "    \n",
    "    score = cross_val_score(pipeline_elasticnet, \n",
    "                            X_train, \n",
    "                            y_train, \n",
    "                            cv=kf, \n",
    "                            scoring='neg_root_mean_squared_error', \n",
    "                            n_jobs=-1).mean()\n",
    "    \n",
    "    return score\n",
    "\n",
    "study_en = optuna.create_study(direction='maximize', sampler=optuna.samplers.TPESampler(seed=54))\n",
    "study_en.optimize(objective, n_trials=200, n_jobs=-1)\n",
    "#dump(study_en, 'optuna_en.joblib')"
   ]
  },
  {
   "cell_type": "code",
   "execution_count": 114,
   "metadata": {},
   "outputs": [
    {
     "data": {
      "text/plain": [
       "{'alpha': 0.39716770138830404, 'l1_ratio': 0.02620987707994571}"
      ]
     },
     "execution_count": 114,
     "metadata": {},
     "output_type": "execute_result"
    }
   ],
   "source": [
    "study_en.best_params"
   ]
  },
  {
   "cell_type": "code",
   "execution_count": null,
   "metadata": {},
   "outputs": [
    {
     "data": {
      "application/vnd.plotly.v1+json": {
       "config": {
        "plotlyServerURL": "https://plot.ly"
       },
       "data": [
        {
         "mode": "markers",
         "name": "Objective Value",
         "type": "scatter",
         "x": [
          0,
          1,
          2,
          3,
          4,
          5,
          6,
          7,
          8,
          9,
          10,
          11,
          12,
          13,
          14,
          15,
          16,
          17,
          18,
          19,
          20,
          21,
          22,
          23,
          24,
          25,
          26,
          27,
          28,
          29,
          30,
          31,
          32,
          33,
          34,
          35,
          36,
          37,
          38,
          39,
          40,
          41,
          42,
          43,
          44,
          45,
          46,
          47,
          48,
          49,
          50,
          51,
          52,
          53,
          54,
          55,
          56,
          57,
          58,
          59,
          60,
          61,
          62,
          63,
          64,
          65,
          66,
          67,
          68,
          69,
          70,
          71,
          72,
          73,
          74,
          75,
          76,
          77,
          78,
          79,
          80,
          81,
          82,
          83,
          84,
          85,
          86,
          87,
          88,
          89,
          90,
          91,
          92,
          93,
          94,
          95,
          96,
          97,
          98,
          99,
          100,
          101,
          102,
          103,
          104,
          105,
          106,
          107,
          108,
          109,
          110,
          111,
          112,
          113,
          114,
          115,
          116,
          117,
          118,
          119,
          120,
          121,
          122,
          123,
          124,
          125,
          126,
          127,
          128,
          129,
          130,
          131,
          132,
          133,
          134,
          135,
          136,
          137,
          138,
          139,
          140,
          141,
          142,
          143,
          144,
          145,
          146,
          147,
          148,
          149,
          150,
          151,
          152,
          153,
          154,
          155,
          156,
          157,
          158,
          159,
          160,
          161,
          162,
          163,
          164,
          165,
          166,
          167,
          168,
          169,
          170,
          171,
          172,
          173,
          174,
          175,
          176,
          177,
          178,
          179,
          180,
          181,
          182,
          183,
          184,
          185,
          186,
          187,
          188,
          189,
          190,
          191,
          192,
          193,
          194,
          195,
          196,
          197,
          198,
          199
         ],
         "y": [
          -0.45336117744445803,
          -0.5910529494285583,
          -0.743766474723816,
          -0.9271086812019348,
          -0.9271086812019348,
          -0.9271086812019348,
          -0.9271086812019348,
          -0.5144073188304901,
          -0.9271086812019348,
          -0.9271086812019348,
          -0.9271086812019348,
          -0.9271086812019348,
          -0.9271086812019348,
          -0.9271086812019348,
          -0.48372499346733094,
          -0.9271086812019348,
          -0.9271086812019348,
          -0.437879341840744,
          -0.3026212155818939,
          -0.30953813791275026,
          -0.30232309699058535,
          -0.31341156363487244,
          -0.4431979417800903,
          -0.33546621203422544,
          -0.5427406907081604,
          -0.6371188640594483,
          -0.4905170500278473,
          -0.9271086812019348,
          -0.3066470980644226,
          -0.3680028259754181,
          -0.32026023268699644,
          -0.539477002620697,
          -0.35594319701194765,
          -0.3614161729812622,
          -0.32446300983428955,
          -0.5360064268112182,
          -0.6125614523887635,
          -0.5479856491088867,
          -0.6546937942504882,
          -0.5904468178749085,
          -0.5471091151237488,
          -0.3708870649337769,
          -0.3289765894412994,
          -0.49684164524078367,
          -0.5012820839881897,
          -0.30459994077682495,
          -0.4856964111328125,
          -0.4728896260261536,
          -0.4971684515476227,
          -0.3126873731613159,
          -0.4693057954311371,
          -0.31609250903129577,
          -0.3488912761211395,
          -0.3335388362407684,
          -0.9271086812019348,
          -0.912594473361969,
          -0.5242332339286804,
          -0.9271086812019348,
          -0.9271086812019348,
          -0.31426923274993895,
          -0.3995828449726105,
          -0.3205434799194336,
          -0.30828660130500796,
          -0.3102585196495056,
          -0.3180846035480499,
          -0.30866084694862367,
          -0.31258590817451476,
          -0.32981386184692385,
          -0.3207292139530182,
          -0.32874526977539065,
          -0.39081507325172427,
          -0.32417029738426206,
          -0.9271086812019348,
          -0.3984084963798523,
          -0.40502856969833373,
          -0.9271086812019348,
          -0.9271086812019348,
          -0.9271086812019348,
          -0.9271086812019348,
          -0.9271086812019348,
          -0.45712916254997255,
          -0.9271086812019348,
          -0.9271086812019348,
          -0.44767787456512453,
          -0.45391787886619567,
          -0.44661850929260255,
          -0.9271086812019348,
          -0.3968283116817474,
          -0.3068750262260437,
          -0.30185030698776244,
          -0.30137149095535276,
          -0.3054381251335144,
          -0.30708693861961367,
          -0.3090805113315582,
          -0.3016527771949768,
          -0.3019717574119568,
          -0.3323625087738037,
          -0.301641184091568,
          -0.3061669826507568,
          -0.3036386787891388,
          -0.30648770928382874,
          -0.34097567200660706,
          -0.32430691123008726,
          -0.31075831055641173,
          -0.4776942372322083,
          -0.4140773355960846,
          -0.60504709482193,
          -0.366781884431839,
          -0.34270559549331664,
          -0.35844298005104064,
          -0.36415491104125974,
          -0.43710169196128845,
          -0.44103466868400576,
          -0.48409736156463623,
          -0.4363227605819702,
          -0.6044266700744629,
          -0.6787303686141968,
          -0.7457637071609498,
          -0.3069814324378967,
          -0.330260705947876,
          -0.6085807919502259,
          -0.3080403506755829,
          -0.4927802443504333,
          -0.30902246236801145,
          -0.3100775063037872,
          -0.30929763317108155,
          -0.3419743537902832,
          -0.32819961905479433,
          -0.3121277093887329,
          -0.30871392488479615,
          -0.32039596438407897,
          -0.3232612907886505,
          -0.3215103387832642,
          -0.3243537962436676,
          -0.3103028774261475,
          -0.30779253244400023,
          -0.3203421592712402,
          -0.32038989663124084,
          -0.31209144592285154,
          -0.3127035677433014,
          -0.37873643040657046,
          -0.9271086812019348,
          -0.34449788331985476,
          -0.3958385348320007,
          -0.37229793071746825,
          -0.34598519206047057,
          -0.39323475360870364,
          -0.3015448868274689,
          -0.3120545208454132,
          -0.3230069696903229,
          -0.3293713390827179,
          -0.31961533427238464,
          -0.330469024181366,
          -0.3193377792835236,
          -0.3259874701499939,
          -0.3225549817085266,
          -0.32546032071113584,
          -0.3238180160522461,
          -0.36119586825370786,
          -0.32169041633605955,
          -0.34382657408714296,
          -0.43839398622512815,
          -0.35811554193496703,
          -0.5132531583309173,
          -0.36345682144165037,
          -0.41193621754646303,
          -0.44267125725746154,
          -0.3271054983139038,
          -0.3264393866062164,
          -0.31994503140449526,
          -0.560782527923584,
          -0.3358351349830627,
          -0.3246630787849426,
          -0.3188891768455505,
          -0.32982805371284485,
          -0.3240529835224152,
          -0.32373199462890623,
          -0.6954521656036377,
          -0.30416045188903806,
          -0.3412411451339722,
          -0.32123730778694154,
          -0.3252596020698547,
          -0.3313827753067017,
          -0.3161981999874115,
          -0.3179251909255981,
          -0.30380014777183534,
          -0.30493274331092834,
          -0.3184558391571045,
          -0.3023811995983124,
          -0.31603195071220397,
          -0.3551878869533539,
          -0.36036342978477476,
          -0.3168151319026947,
          -0.3193044364452362,
          -0.35297525525093076,
          -0.30871446132659913,
          -0.45183799266815183,
          -0.35558825731277466,
          -0.5630481958389282,
          -0.3010722637176514
         ]
        },
        {
         "mode": "lines",
         "name": "Best Value",
         "type": "scatter",
         "x": [
          0,
          1,
          2,
          3,
          4,
          5,
          6,
          7,
          8,
          9,
          10,
          11,
          12,
          13,
          14,
          15,
          16,
          17,
          18,
          19,
          20,
          21,
          22,
          23,
          24,
          25,
          26,
          27,
          28,
          29,
          30,
          31,
          32,
          33,
          34,
          35,
          36,
          37,
          38,
          39,
          40,
          41,
          42,
          43,
          44,
          45,
          46,
          47,
          48,
          49,
          50,
          51,
          52,
          53,
          54,
          55,
          56,
          57,
          58,
          59,
          60,
          61,
          62,
          63,
          64,
          65,
          66,
          67,
          68,
          69,
          70,
          71,
          72,
          73,
          74,
          75,
          76,
          77,
          78,
          79,
          80,
          81,
          82,
          83,
          84,
          85,
          86,
          87,
          88,
          89,
          90,
          91,
          92,
          93,
          94,
          95,
          96,
          97,
          98,
          99,
          100,
          101,
          102,
          103,
          104,
          105,
          106,
          107,
          108,
          109,
          110,
          111,
          112,
          113,
          114,
          115,
          116,
          117,
          118,
          119,
          120,
          121,
          122,
          123,
          124,
          125,
          126,
          127,
          128,
          129,
          130,
          131,
          132,
          133,
          134,
          135,
          136,
          137,
          138,
          139,
          140,
          141,
          142,
          143,
          144,
          145,
          146,
          147,
          148,
          149,
          150,
          151,
          152,
          153,
          154,
          155,
          156,
          157,
          158,
          159,
          160,
          161,
          162,
          163,
          164,
          165,
          166,
          167,
          168,
          169,
          170,
          171,
          172,
          173,
          174,
          175,
          176,
          177,
          178,
          179,
          180,
          181,
          182,
          183,
          184,
          185,
          186,
          187,
          188,
          189,
          190,
          191,
          192,
          193,
          194,
          195,
          196,
          197,
          198,
          199
         ],
         "y": [
          -0.45336117744445803,
          -0.45336117744445803,
          -0.45336117744445803,
          -0.45336117744445803,
          -0.45336117744445803,
          -0.45336117744445803,
          -0.45336117744445803,
          -0.45336117744445803,
          -0.45336117744445803,
          -0.45336117744445803,
          -0.45336117744445803,
          -0.45336117744445803,
          -0.45336117744445803,
          -0.45336117744445803,
          -0.45336117744445803,
          -0.45336117744445803,
          -0.45336117744445803,
          -0.437879341840744,
          -0.3026212155818939,
          -0.3026212155818939,
          -0.30232309699058535,
          -0.30232309699058535,
          -0.30232309699058535,
          -0.30232309699058535,
          -0.30232309699058535,
          -0.30232309699058535,
          -0.30232309699058535,
          -0.30232309699058535,
          -0.30232309699058535,
          -0.30232309699058535,
          -0.30232309699058535,
          -0.30232309699058535,
          -0.30232309699058535,
          -0.30232309699058535,
          -0.30232309699058535,
          -0.30232309699058535,
          -0.30232309699058535,
          -0.30232309699058535,
          -0.30232309699058535,
          -0.30232309699058535,
          -0.30232309699058535,
          -0.30232309699058535,
          -0.30232309699058535,
          -0.30232309699058535,
          -0.30232309699058535,
          -0.30232309699058535,
          -0.30232309699058535,
          -0.30232309699058535,
          -0.30232309699058535,
          -0.30232309699058535,
          -0.30232309699058535,
          -0.30232309699058535,
          -0.30232309699058535,
          -0.30232309699058535,
          -0.30232309699058535,
          -0.30232309699058535,
          -0.30232309699058535,
          -0.30232309699058535,
          -0.30232309699058535,
          -0.30232309699058535,
          -0.30232309699058535,
          -0.30232309699058535,
          -0.30232309699058535,
          -0.30232309699058535,
          -0.30232309699058535,
          -0.30232309699058535,
          -0.30232309699058535,
          -0.30232309699058535,
          -0.30232309699058535,
          -0.30232309699058535,
          -0.30232309699058535,
          -0.30232309699058535,
          -0.30232309699058535,
          -0.30232309699058535,
          -0.30232309699058535,
          -0.30232309699058535,
          -0.30232309699058535,
          -0.30232309699058535,
          -0.30232309699058535,
          -0.30232309699058535,
          -0.30232309699058535,
          -0.30232309699058535,
          -0.30232309699058535,
          -0.30232309699058535,
          -0.30232309699058535,
          -0.30232309699058535,
          -0.30232309699058535,
          -0.30232309699058535,
          -0.30232309699058535,
          -0.30185030698776244,
          -0.30137149095535276,
          -0.30137149095535276,
          -0.30137149095535276,
          -0.30137149095535276,
          -0.30137149095535276,
          -0.30137149095535276,
          -0.30137149095535276,
          -0.30137149095535276,
          -0.30137149095535276,
          -0.30137149095535276,
          -0.30137149095535276,
          -0.30137149095535276,
          -0.30137149095535276,
          -0.30137149095535276,
          -0.30137149095535276,
          -0.30137149095535276,
          -0.30137149095535276,
          -0.30137149095535276,
          -0.30137149095535276,
          -0.30137149095535276,
          -0.30137149095535276,
          -0.30137149095535276,
          -0.30137149095535276,
          -0.30137149095535276,
          -0.30137149095535276,
          -0.30137149095535276,
          -0.30137149095535276,
          -0.30137149095535276,
          -0.30137149095535276,
          -0.30137149095535276,
          -0.30137149095535276,
          -0.30137149095535276,
          -0.30137149095535276,
          -0.30137149095535276,
          -0.30137149095535276,
          -0.30137149095535276,
          -0.30137149095535276,
          -0.30137149095535276,
          -0.30137149095535276,
          -0.30137149095535276,
          -0.30137149095535276,
          -0.30137149095535276,
          -0.30137149095535276,
          -0.30137149095535276,
          -0.30137149095535276,
          -0.30137149095535276,
          -0.30137149095535276,
          -0.30137149095535276,
          -0.30137149095535276,
          -0.30137149095535276,
          -0.30137149095535276,
          -0.30137149095535276,
          -0.30137149095535276,
          -0.30137149095535276,
          -0.30137149095535276,
          -0.30137149095535276,
          -0.30137149095535276,
          -0.30137149095535276,
          -0.30137149095535276,
          -0.30137149095535276,
          -0.30137149095535276,
          -0.30137149095535276,
          -0.30137149095535276,
          -0.30137149095535276,
          -0.30137149095535276,
          -0.30137149095535276,
          -0.30137149095535276,
          -0.30137149095535276,
          -0.30137149095535276,
          -0.30137149095535276,
          -0.30137149095535276,
          -0.30137149095535276,
          -0.30137149095535276,
          -0.30137149095535276,
          -0.30137149095535276,
          -0.30137149095535276,
          -0.30137149095535276,
          -0.30137149095535276,
          -0.30137149095535276,
          -0.30137149095535276,
          -0.30137149095535276,
          -0.30137149095535276,
          -0.30137149095535276,
          -0.30137149095535276,
          -0.30137149095535276,
          -0.30137149095535276,
          -0.30137149095535276,
          -0.30137149095535276,
          -0.30137149095535276,
          -0.30137149095535276,
          -0.30137149095535276,
          -0.30137149095535276,
          -0.30137149095535276,
          -0.30137149095535276,
          -0.30137149095535276,
          -0.30137149095535276,
          -0.30137149095535276,
          -0.30137149095535276,
          -0.30137149095535276,
          -0.30137149095535276,
          -0.30137149095535276,
          -0.30137149095535276,
          -0.30137149095535276,
          -0.30137149095535276,
          -0.30137149095535276,
          -0.30137149095535276,
          -0.30137149095535276,
          -0.30137149095535276,
          -0.30137149095535276,
          -0.3010722637176514
         ]
        },
        {
         "marker": {
          "color": "#cccccc"
         },
         "mode": "markers",
         "name": "Infeasible Trial",
         "showlegend": false,
         "type": "scatter",
         "x": [],
         "y": []
        }
       ],
       "layout": {
        "template": {
         "data": {
          "bar": [
           {
            "error_x": {
             "color": "#2a3f5f"
            },
            "error_y": {
             "color": "#2a3f5f"
            },
            "marker": {
             "line": {
              "color": "#E5ECF6",
              "width": 0.5
             },
             "pattern": {
              "fillmode": "overlay",
              "size": 10,
              "solidity": 0.2
             }
            },
            "type": "bar"
           }
          ],
          "barpolar": [
           {
            "marker": {
             "line": {
              "color": "#E5ECF6",
              "width": 0.5
             },
             "pattern": {
              "fillmode": "overlay",
              "size": 10,
              "solidity": 0.2
             }
            },
            "type": "barpolar"
           }
          ],
          "carpet": [
           {
            "aaxis": {
             "endlinecolor": "#2a3f5f",
             "gridcolor": "white",
             "linecolor": "white",
             "minorgridcolor": "white",
             "startlinecolor": "#2a3f5f"
            },
            "baxis": {
             "endlinecolor": "#2a3f5f",
             "gridcolor": "white",
             "linecolor": "white",
             "minorgridcolor": "white",
             "startlinecolor": "#2a3f5f"
            },
            "type": "carpet"
           }
          ],
          "choropleth": [
           {
            "colorbar": {
             "outlinewidth": 0,
             "ticks": ""
            },
            "type": "choropleth"
           }
          ],
          "contour": [
           {
            "colorbar": {
             "outlinewidth": 0,
             "ticks": ""
            },
            "colorscale": [
             [
              0,
              "#0d0887"
             ],
             [
              0.1111111111111111,
              "#46039f"
             ],
             [
              0.2222222222222222,
              "#7201a8"
             ],
             [
              0.3333333333333333,
              "#9c179e"
             ],
             [
              0.4444444444444444,
              "#bd3786"
             ],
             [
              0.5555555555555556,
              "#d8576b"
             ],
             [
              0.6666666666666666,
              "#ed7953"
             ],
             [
              0.7777777777777778,
              "#fb9f3a"
             ],
             [
              0.8888888888888888,
              "#fdca26"
             ],
             [
              1,
              "#f0f921"
             ]
            ],
            "type": "contour"
           }
          ],
          "contourcarpet": [
           {
            "colorbar": {
             "outlinewidth": 0,
             "ticks": ""
            },
            "type": "contourcarpet"
           }
          ],
          "heatmap": [
           {
            "colorbar": {
             "outlinewidth": 0,
             "ticks": ""
            },
            "colorscale": [
             [
              0,
              "#0d0887"
             ],
             [
              0.1111111111111111,
              "#46039f"
             ],
             [
              0.2222222222222222,
              "#7201a8"
             ],
             [
              0.3333333333333333,
              "#9c179e"
             ],
             [
              0.4444444444444444,
              "#bd3786"
             ],
             [
              0.5555555555555556,
              "#d8576b"
             ],
             [
              0.6666666666666666,
              "#ed7953"
             ],
             [
              0.7777777777777778,
              "#fb9f3a"
             ],
             [
              0.8888888888888888,
              "#fdca26"
             ],
             [
              1,
              "#f0f921"
             ]
            ],
            "type": "heatmap"
           }
          ],
          "heatmapgl": [
           {
            "colorbar": {
             "outlinewidth": 0,
             "ticks": ""
            },
            "colorscale": [
             [
              0,
              "#0d0887"
             ],
             [
              0.1111111111111111,
              "#46039f"
             ],
             [
              0.2222222222222222,
              "#7201a8"
             ],
             [
              0.3333333333333333,
              "#9c179e"
             ],
             [
              0.4444444444444444,
              "#bd3786"
             ],
             [
              0.5555555555555556,
              "#d8576b"
             ],
             [
              0.6666666666666666,
              "#ed7953"
             ],
             [
              0.7777777777777778,
              "#fb9f3a"
             ],
             [
              0.8888888888888888,
              "#fdca26"
             ],
             [
              1,
              "#f0f921"
             ]
            ],
            "type": "heatmapgl"
           }
          ],
          "histogram": [
           {
            "marker": {
             "pattern": {
              "fillmode": "overlay",
              "size": 10,
              "solidity": 0.2
             }
            },
            "type": "histogram"
           }
          ],
          "histogram2d": [
           {
            "colorbar": {
             "outlinewidth": 0,
             "ticks": ""
            },
            "colorscale": [
             [
              0,
              "#0d0887"
             ],
             [
              0.1111111111111111,
              "#46039f"
             ],
             [
              0.2222222222222222,
              "#7201a8"
             ],
             [
              0.3333333333333333,
              "#9c179e"
             ],
             [
              0.4444444444444444,
              "#bd3786"
             ],
             [
              0.5555555555555556,
              "#d8576b"
             ],
             [
              0.6666666666666666,
              "#ed7953"
             ],
             [
              0.7777777777777778,
              "#fb9f3a"
             ],
             [
              0.8888888888888888,
              "#fdca26"
             ],
             [
              1,
              "#f0f921"
             ]
            ],
            "type": "histogram2d"
           }
          ],
          "histogram2dcontour": [
           {
            "colorbar": {
             "outlinewidth": 0,
             "ticks": ""
            },
            "colorscale": [
             [
              0,
              "#0d0887"
             ],
             [
              0.1111111111111111,
              "#46039f"
             ],
             [
              0.2222222222222222,
              "#7201a8"
             ],
             [
              0.3333333333333333,
              "#9c179e"
             ],
             [
              0.4444444444444444,
              "#bd3786"
             ],
             [
              0.5555555555555556,
              "#d8576b"
             ],
             [
              0.6666666666666666,
              "#ed7953"
             ],
             [
              0.7777777777777778,
              "#fb9f3a"
             ],
             [
              0.8888888888888888,
              "#fdca26"
             ],
             [
              1,
              "#f0f921"
             ]
            ],
            "type": "histogram2dcontour"
           }
          ],
          "mesh3d": [
           {
            "colorbar": {
             "outlinewidth": 0,
             "ticks": ""
            },
            "type": "mesh3d"
           }
          ],
          "parcoords": [
           {
            "line": {
             "colorbar": {
              "outlinewidth": 0,
              "ticks": ""
             }
            },
            "type": "parcoords"
           }
          ],
          "pie": [
           {
            "automargin": true,
            "type": "pie"
           }
          ],
          "scatter": [
           {
            "fillpattern": {
             "fillmode": "overlay",
             "size": 10,
             "solidity": 0.2
            },
            "type": "scatter"
           }
          ],
          "scatter3d": [
           {
            "line": {
             "colorbar": {
              "outlinewidth": 0,
              "ticks": ""
             }
            },
            "marker": {
             "colorbar": {
              "outlinewidth": 0,
              "ticks": ""
             }
            },
            "type": "scatter3d"
           }
          ],
          "scattercarpet": [
           {
            "marker": {
             "colorbar": {
              "outlinewidth": 0,
              "ticks": ""
             }
            },
            "type": "scattercarpet"
           }
          ],
          "scattergeo": [
           {
            "marker": {
             "colorbar": {
              "outlinewidth": 0,
              "ticks": ""
             }
            },
            "type": "scattergeo"
           }
          ],
          "scattergl": [
           {
            "marker": {
             "colorbar": {
              "outlinewidth": 0,
              "ticks": ""
             }
            },
            "type": "scattergl"
           }
          ],
          "scattermapbox": [
           {
            "marker": {
             "colorbar": {
              "outlinewidth": 0,
              "ticks": ""
             }
            },
            "type": "scattermapbox"
           }
          ],
          "scatterpolar": [
           {
            "marker": {
             "colorbar": {
              "outlinewidth": 0,
              "ticks": ""
             }
            },
            "type": "scatterpolar"
           }
          ],
          "scatterpolargl": [
           {
            "marker": {
             "colorbar": {
              "outlinewidth": 0,
              "ticks": ""
             }
            },
            "type": "scatterpolargl"
           }
          ],
          "scatterternary": [
           {
            "marker": {
             "colorbar": {
              "outlinewidth": 0,
              "ticks": ""
             }
            },
            "type": "scatterternary"
           }
          ],
          "surface": [
           {
            "colorbar": {
             "outlinewidth": 0,
             "ticks": ""
            },
            "colorscale": [
             [
              0,
              "#0d0887"
             ],
             [
              0.1111111111111111,
              "#46039f"
             ],
             [
              0.2222222222222222,
              "#7201a8"
             ],
             [
              0.3333333333333333,
              "#9c179e"
             ],
             [
              0.4444444444444444,
              "#bd3786"
             ],
             [
              0.5555555555555556,
              "#d8576b"
             ],
             [
              0.6666666666666666,
              "#ed7953"
             ],
             [
              0.7777777777777778,
              "#fb9f3a"
             ],
             [
              0.8888888888888888,
              "#fdca26"
             ],
             [
              1,
              "#f0f921"
             ]
            ],
            "type": "surface"
           }
          ],
          "table": [
           {
            "cells": {
             "fill": {
              "color": "#EBF0F8"
             },
             "line": {
              "color": "white"
             }
            },
            "header": {
             "fill": {
              "color": "#C8D4E3"
             },
             "line": {
              "color": "white"
             }
            },
            "type": "table"
           }
          ]
         },
         "layout": {
          "annotationdefaults": {
           "arrowcolor": "#2a3f5f",
           "arrowhead": 0,
           "arrowwidth": 1
          },
          "autotypenumbers": "strict",
          "coloraxis": {
           "colorbar": {
            "outlinewidth": 0,
            "ticks": ""
           }
          },
          "colorscale": {
           "diverging": [
            [
             0,
             "#8e0152"
            ],
            [
             0.1,
             "#c51b7d"
            ],
            [
             0.2,
             "#de77ae"
            ],
            [
             0.3,
             "#f1b6da"
            ],
            [
             0.4,
             "#fde0ef"
            ],
            [
             0.5,
             "#f7f7f7"
            ],
            [
             0.6,
             "#e6f5d0"
            ],
            [
             0.7,
             "#b8e186"
            ],
            [
             0.8,
             "#7fbc41"
            ],
            [
             0.9,
             "#4d9221"
            ],
            [
             1,
             "#276419"
            ]
           ],
           "sequential": [
            [
             0,
             "#0d0887"
            ],
            [
             0.1111111111111111,
             "#46039f"
            ],
            [
             0.2222222222222222,
             "#7201a8"
            ],
            [
             0.3333333333333333,
             "#9c179e"
            ],
            [
             0.4444444444444444,
             "#bd3786"
            ],
            [
             0.5555555555555556,
             "#d8576b"
            ],
            [
             0.6666666666666666,
             "#ed7953"
            ],
            [
             0.7777777777777778,
             "#fb9f3a"
            ],
            [
             0.8888888888888888,
             "#fdca26"
            ],
            [
             1,
             "#f0f921"
            ]
           ],
           "sequentialminus": [
            [
             0,
             "#0d0887"
            ],
            [
             0.1111111111111111,
             "#46039f"
            ],
            [
             0.2222222222222222,
             "#7201a8"
            ],
            [
             0.3333333333333333,
             "#9c179e"
            ],
            [
             0.4444444444444444,
             "#bd3786"
            ],
            [
             0.5555555555555556,
             "#d8576b"
            ],
            [
             0.6666666666666666,
             "#ed7953"
            ],
            [
             0.7777777777777778,
             "#fb9f3a"
            ],
            [
             0.8888888888888888,
             "#fdca26"
            ],
            [
             1,
             "#f0f921"
            ]
           ]
          },
          "colorway": [
           "#636efa",
           "#EF553B",
           "#00cc96",
           "#ab63fa",
           "#FFA15A",
           "#19d3f3",
           "#FF6692",
           "#B6E880",
           "#FF97FF",
           "#FECB52"
          ],
          "font": {
           "color": "#2a3f5f"
          },
          "geo": {
           "bgcolor": "white",
           "lakecolor": "white",
           "landcolor": "#E5ECF6",
           "showlakes": true,
           "showland": true,
           "subunitcolor": "white"
          },
          "hoverlabel": {
           "align": "left"
          },
          "hovermode": "closest",
          "mapbox": {
           "style": "light"
          },
          "paper_bgcolor": "white",
          "plot_bgcolor": "#E5ECF6",
          "polar": {
           "angularaxis": {
            "gridcolor": "white",
            "linecolor": "white",
            "ticks": ""
           },
           "bgcolor": "#E5ECF6",
           "radialaxis": {
            "gridcolor": "white",
            "linecolor": "white",
            "ticks": ""
           }
          },
          "scene": {
           "xaxis": {
            "backgroundcolor": "#E5ECF6",
            "gridcolor": "white",
            "gridwidth": 2,
            "linecolor": "white",
            "showbackground": true,
            "ticks": "",
            "zerolinecolor": "white"
           },
           "yaxis": {
            "backgroundcolor": "#E5ECF6",
            "gridcolor": "white",
            "gridwidth": 2,
            "linecolor": "white",
            "showbackground": true,
            "ticks": "",
            "zerolinecolor": "white"
           },
           "zaxis": {
            "backgroundcolor": "#E5ECF6",
            "gridcolor": "white",
            "gridwidth": 2,
            "linecolor": "white",
            "showbackground": true,
            "ticks": "",
            "zerolinecolor": "white"
           }
          },
          "shapedefaults": {
           "line": {
            "color": "#2a3f5f"
           }
          },
          "ternary": {
           "aaxis": {
            "gridcolor": "white",
            "linecolor": "white",
            "ticks": ""
           },
           "baxis": {
            "gridcolor": "white",
            "linecolor": "white",
            "ticks": ""
           },
           "bgcolor": "#E5ECF6",
           "caxis": {
            "gridcolor": "white",
            "linecolor": "white",
            "ticks": ""
           }
          },
          "title": {
           "x": 0.05
          },
          "xaxis": {
           "automargin": true,
           "gridcolor": "white",
           "linecolor": "white",
           "ticks": "",
           "title": {
            "standoff": 15
           },
           "zerolinecolor": "white",
           "zerolinewidth": 2
          },
          "yaxis": {
           "automargin": true,
           "gridcolor": "white",
           "linecolor": "white",
           "ticks": "",
           "title": {
            "standoff": 15
           },
           "zerolinecolor": "white",
           "zerolinewidth": 2
          }
         }
        },
        "title": {
         "text": "Optimization History Plot"
        },
        "xaxis": {
         "title": {
          "text": "Trial"
         }
        },
        "yaxis": {
         "title": {
          "text": "Objective Value"
         }
        }
       }
      }
     },
     "metadata": {},
     "output_type": "display_data"
    }
   ],
   "source": [
    "optuna.visualization.plot_optimization_history(study_en)"
   ]
  },
  {
   "cell_type": "code",
   "execution_count": null,
   "metadata": {},
   "outputs": [
    {
     "data": {
      "application/vnd.plotly.v1+json": {
       "config": {
        "plotlyServerURL": "https://plot.ly"
       },
       "data": [
        {
         "marker": {
          "color": [
           0,
           1,
           2,
           3,
           4,
           5,
           6,
           7,
           8,
           9,
           10,
           11,
           12,
           13,
           14,
           15,
           16,
           17,
           18,
           19,
           20,
           21,
           22,
           23,
           24,
           25,
           26,
           27,
           28,
           29,
           30,
           31,
           32,
           33,
           34,
           35,
           36,
           37,
           38,
           39,
           40,
           41,
           42,
           43,
           44,
           45,
           46,
           47,
           48,
           49,
           50,
           51,
           52,
           53,
           54,
           55,
           56,
           57,
           58,
           59,
           60,
           61,
           62,
           63,
           64,
           65,
           66,
           67,
           68,
           69,
           70,
           71,
           72,
           73,
           74,
           75,
           76,
           77,
           78,
           79,
           80,
           81,
           82,
           83,
           84,
           85,
           86,
           87,
           88,
           89,
           90,
           91,
           92,
           93,
           94,
           95,
           96,
           97,
           98,
           99,
           100,
           101,
           102,
           103,
           104,
           105,
           106,
           107,
           108,
           109,
           110,
           111,
           112,
           113,
           114,
           115,
           116,
           117,
           118,
           119,
           120,
           121,
           122,
           123,
           124,
           125,
           126,
           127,
           128,
           129,
           130,
           131,
           132,
           133,
           134,
           135,
           136,
           137,
           138,
           139,
           140,
           141,
           142,
           143,
           144,
           145,
           146,
           147,
           148,
           149,
           150,
           151,
           152,
           153,
           154,
           155,
           156,
           157,
           158,
           159,
           160,
           161,
           162,
           163,
           164,
           165,
           166,
           167,
           168,
           169,
           170,
           171,
           172,
           173,
           174,
           175,
           176,
           177,
           178,
           179,
           180,
           181,
           182,
           183,
           184,
           185,
           186,
           187,
           188,
           189,
           190,
           191,
           192,
           193,
           194,
           195,
           196,
           197,
           198,
           199
          ],
          "colorbar": {
           "title": {
            "text": "Trial"
           },
           "x": 1,
           "xpad": 40
          },
          "colorscale": [
           [
            0,
            "rgb(247,251,255)"
           ],
           [
            0.125,
            "rgb(222,235,247)"
           ],
           [
            0.25,
            "rgb(198,219,239)"
           ],
           [
            0.375,
            "rgb(158,202,225)"
           ],
           [
            0.5,
            "rgb(107,174,214)"
           ],
           [
            0.625,
            "rgb(66,146,198)"
           ],
           [
            0.75,
            "rgb(33,113,181)"
           ],
           [
            0.875,
            "rgb(8,81,156)"
           ],
           [
            1,
            "rgb(8,48,107)"
           ]
          ],
          "line": {
           "color": "Grey",
           "width": 0.5
          },
          "showscale": true
         },
         "mode": "markers",
         "name": "Feasible Trial",
         "showlegend": false,
         "type": "scatter",
         "x": [
          0.7677434584421985,
          0.5183012441538196,
          8.320024040466405,
          7.800407377660929,
          3.461618871650507,
          5.050042522743002,
          8.981580007495934,
          4.61221770245818,
          7.851410970556986,
          3.6380544142738054,
          5.741506516553839,
          2.6296399957728074,
          9.553110968910918,
          8.322608008848018,
          0.616119832963387,
          5.487959837561872,
          7.12229235279939,
          0.6355056236835424,
          0.18251207443304196,
          0.36853543634854447,
          0.25927575325565755,
          0.4402286816971319,
          0.5064792064641466,
          0.14117080114091557,
          0.8071166785254964,
          1.566023555471196,
          1.4079976517349184,
          1.9946757154840407,
          1.9407642859449576,
          2.3235501123971307,
          1.4966327000666937,
          1.925049123851436,
          2.1293171566566347,
          2.385795960263664,
          2.254569455918332,
          2.586368704250388,
          3.16479967813527,
          2.8559923119073956,
          2.8865760582925666,
          3.015552965243952,
          2.9845874199142193,
          0.010773877986617053,
          0.0351498358081333,
          1.1451177060853621,
          1.1287674188977013,
          0.06077053557314306,
          1.1185757104554972,
          1.0968719417663872,
          1.096414275165086,
          0.14616775503526094,
          1.0333747197665488,
          0.17565027345799802,
          0.14832885323033324,
          4.281812488165929,
          4.255184323960836,
          1.743491188727813,
          4.048356035260318,
          4.522971753368135,
          3.732804922705464,
          0.4777860167219403,
          0.4440526125851063,
          0.5323934840206207,
          0.5250108363386092,
          0.4259658752135089,
          0.5614728298584745,
          0.4562506849609889,
          0.5519983133010816,
          0.7551664524947695,
          0.7324980845579878,
          0.7975639325803465,
          0.7413008201514134,
          0.7898952179939782,
          6.819485365565567,
          0.8237792961484163,
          0.8431935811398859,
          6.0882145905428775,
          6.615987801943479,
          6.640018478233982,
          6.914137866623343,
          1.5334209879099647,
          1.4546188959654291,
          1.473548609684102,
          1.7049767723140474,
          1.43232288024759,
          1.4941376136577977,
          1.4656666758695174,
          1.4361863217519661,
          1.3599960359910668,
          0.26777248785538704,
          0.320203244984421,
          0.3342564136376079,
          0.23117227960610162,
          0.2159489969497605,
          0.202145863714177,
          0.33740637705274756,
          0.313272007546624,
          0.26503758067936717,
          0.3574795999192775,
          0.26262303875020243,
          0.2602091572207656,
          0.21055095732588486,
          0.2488583054396035,
          0.26770240492635033,
          0.32040627185711185,
          0.016228334027849844,
          0.017964529437186127,
          9.66504824063767,
          0.9737491456435585,
          0.030198170357578935,
          0.018591840635851897,
          0.02909368084065725,
          0.9671544768650548,
          0.9826364483735481,
          1.2385615546588238,
          0.9730562277304469,
          0.9441010719678118,
          0.9897238297500592,
          1.2080624455842617,
          0.6206507203786824,
          1.2591627713759732,
          9.996526533404396,
          0.584638807639211,
          0.5827087413681481,
          0.6144865132606131,
          0.6685295625689334,
          0.5537820292275093,
          0.5771890056973874,
          0.604453950709261,
          0.40397189676678463,
          0.37517468059175707,
          0.37873595787245795,
          0.38273564826260525,
          0.36205437417550457,
          0.3897171042765463,
          0.3750264177274014,
          0.3534543787717284,
          0.34855750130882274,
          0.35622582832863775,
          0.2627469899553586,
          0.24121020090057438,
          0.18900035437324442,
          8.729785828916937,
          0.22849997404204292,
          4.990431459998228,
          0.17116293799836846,
          0.19436497456092638,
          5.101199467093222,
          0.7606806945596254,
          0.8052244797096377,
          0.755559991501912,
          0.7824734888020097,
          0.79581582119655,
          0.7944044852020329,
          0.7349295942483918,
          0.7926159288463049,
          0.7933208338733622,
          0.8084580756671661,
          0.8315274568163543,
          0.03468086339181656,
          0.09172680481494822,
          0.06152095497542891,
          0.012202292334390907,
          0.043520127031239086,
          7.820173887761431,
          0.03475285607692963,
          0.018154502109279214,
          1.8986439217994369,
          0.5666615534468243,
          0.5272001699732625,
          0.46243917161058495,
          3.3780627816312387,
          0.6061530730149234,
          0.5425704848186725,
          0.5690398048173124,
          0.5655856616938164,
          0.5140606684443164,
          0.492272908958477,
          0.5345948136092729,
          0.27378160682124075,
          0.2600150914239295,
          0.24942887325767504,
          0.2721761538650371,
          0.2675070768312512,
          0.24256308864155673,
          0.2592882132207903,
          0.26440756348938765,
          0.2667866551281452,
          0.2626248667850796,
          0.2074804368087785,
          0.2529585703750369,
          1.103868050580133,
          1.1440350305627136,
          1.0335949210673037,
          1.0327610866153596,
          1.11270786442582,
          0.41044855638521627,
          2.66742846544859,
          1.1652141950772856,
          7.511681707326364,
          0.39716770138830404
         ],
         "xaxis": "x",
         "y": [
          -0.45336117744445803,
          -0.5910529494285583,
          -0.743766474723816,
          -0.9271086812019348,
          -0.9271086812019348,
          -0.9271086812019348,
          -0.9271086812019348,
          -0.5144073188304901,
          -0.9271086812019348,
          -0.9271086812019348,
          -0.9271086812019348,
          -0.9271086812019348,
          -0.9271086812019348,
          -0.9271086812019348,
          -0.48372499346733094,
          -0.9271086812019348,
          -0.9271086812019348,
          -0.437879341840744,
          -0.3026212155818939,
          -0.30953813791275026,
          -0.30232309699058535,
          -0.31341156363487244,
          -0.4431979417800903,
          -0.33546621203422544,
          -0.5427406907081604,
          -0.6371188640594483,
          -0.4905170500278473,
          -0.9271086812019348,
          -0.3066470980644226,
          -0.3680028259754181,
          -0.32026023268699644,
          -0.539477002620697,
          -0.35594319701194765,
          -0.3614161729812622,
          -0.32446300983428955,
          -0.5360064268112182,
          -0.6125614523887635,
          -0.5479856491088867,
          -0.6546937942504882,
          -0.5904468178749085,
          -0.5471091151237488,
          -0.3708870649337769,
          -0.3289765894412994,
          -0.49684164524078367,
          -0.5012820839881897,
          -0.30459994077682495,
          -0.4856964111328125,
          -0.4728896260261536,
          -0.4971684515476227,
          -0.3126873731613159,
          -0.4693057954311371,
          -0.31609250903129577,
          -0.3488912761211395,
          -0.3335388362407684,
          -0.9271086812019348,
          -0.912594473361969,
          -0.5242332339286804,
          -0.9271086812019348,
          -0.9271086812019348,
          -0.31426923274993895,
          -0.3995828449726105,
          -0.3205434799194336,
          -0.30828660130500796,
          -0.3102585196495056,
          -0.3180846035480499,
          -0.30866084694862367,
          -0.31258590817451476,
          -0.32981386184692385,
          -0.3207292139530182,
          -0.32874526977539065,
          -0.39081507325172427,
          -0.32417029738426206,
          -0.9271086812019348,
          -0.3984084963798523,
          -0.40502856969833373,
          -0.9271086812019348,
          -0.9271086812019348,
          -0.9271086812019348,
          -0.9271086812019348,
          -0.9271086812019348,
          -0.45712916254997255,
          -0.9271086812019348,
          -0.9271086812019348,
          -0.44767787456512453,
          -0.45391787886619567,
          -0.44661850929260255,
          -0.9271086812019348,
          -0.3968283116817474,
          -0.3068750262260437,
          -0.30185030698776244,
          -0.30137149095535276,
          -0.3054381251335144,
          -0.30708693861961367,
          -0.3090805113315582,
          -0.3016527771949768,
          -0.3019717574119568,
          -0.3323625087738037,
          -0.301641184091568,
          -0.3061669826507568,
          -0.3036386787891388,
          -0.30648770928382874,
          -0.34097567200660706,
          -0.32430691123008726,
          -0.31075831055641173,
          -0.4776942372322083,
          -0.4140773355960846,
          -0.60504709482193,
          -0.366781884431839,
          -0.34270559549331664,
          -0.35844298005104064,
          -0.36415491104125974,
          -0.43710169196128845,
          -0.44103466868400576,
          -0.48409736156463623,
          -0.4363227605819702,
          -0.6044266700744629,
          -0.6787303686141968,
          -0.7457637071609498,
          -0.3069814324378967,
          -0.330260705947876,
          -0.6085807919502259,
          -0.3080403506755829,
          -0.4927802443504333,
          -0.30902246236801145,
          -0.3100775063037872,
          -0.30929763317108155,
          -0.3419743537902832,
          -0.32819961905479433,
          -0.3121277093887329,
          -0.30871392488479615,
          -0.32039596438407897,
          -0.3232612907886505,
          -0.3215103387832642,
          -0.3243537962436676,
          -0.3103028774261475,
          -0.30779253244400023,
          -0.3203421592712402,
          -0.32038989663124084,
          -0.31209144592285154,
          -0.3127035677433014,
          -0.37873643040657046,
          -0.9271086812019348,
          -0.34449788331985476,
          -0.3958385348320007,
          -0.37229793071746825,
          -0.34598519206047057,
          -0.39323475360870364,
          -0.3015448868274689,
          -0.3120545208454132,
          -0.3230069696903229,
          -0.3293713390827179,
          -0.31961533427238464,
          -0.330469024181366,
          -0.3193377792835236,
          -0.3259874701499939,
          -0.3225549817085266,
          -0.32546032071113584,
          -0.3238180160522461,
          -0.36119586825370786,
          -0.32169041633605955,
          -0.34382657408714296,
          -0.43839398622512815,
          -0.35811554193496703,
          -0.5132531583309173,
          -0.36345682144165037,
          -0.41193621754646303,
          -0.44267125725746154,
          -0.3271054983139038,
          -0.3264393866062164,
          -0.31994503140449526,
          -0.560782527923584,
          -0.3358351349830627,
          -0.3246630787849426,
          -0.3188891768455505,
          -0.32982805371284485,
          -0.3240529835224152,
          -0.32373199462890623,
          -0.6954521656036377,
          -0.30416045188903806,
          -0.3412411451339722,
          -0.32123730778694154,
          -0.3252596020698547,
          -0.3313827753067017,
          -0.3161981999874115,
          -0.3179251909255981,
          -0.30380014777183534,
          -0.30493274331092834,
          -0.3184558391571045,
          -0.3023811995983124,
          -0.31603195071220397,
          -0.3551878869533539,
          -0.36036342978477476,
          -0.3168151319026947,
          -0.3193044364452362,
          -0.35297525525093076,
          -0.30871446132659913,
          -0.45183799266815183,
          -0.35558825731277466,
          -0.5630481958389282,
          -0.3010722637176514
         ],
         "yaxis": "y"
        },
        {
         "marker": {
          "color": [
           0,
           1,
           2,
           3,
           4,
           5,
           6,
           7,
           8,
           9,
           10,
           11,
           12,
           13,
           14,
           15,
           16,
           17,
           18,
           19,
           20,
           21,
           22,
           23,
           24,
           25,
           26,
           27,
           28,
           29,
           30,
           31,
           32,
           33,
           34,
           35,
           36,
           37,
           38,
           39,
           40,
           41,
           42,
           43,
           44,
           45,
           46,
           47,
           48,
           49,
           50,
           51,
           52,
           53,
           54,
           55,
           56,
           57,
           58,
           59,
           60,
           61,
           62,
           63,
           64,
           65,
           66,
           67,
           68,
           69,
           70,
           71,
           72,
           73,
           74,
           75,
           76,
           77,
           78,
           79,
           80,
           81,
           82,
           83,
           84,
           85,
           86,
           87,
           88,
           89,
           90,
           91,
           92,
           93,
           94,
           95,
           96,
           97,
           98,
           99,
           100,
           101,
           102,
           103,
           104,
           105,
           106,
           107,
           108,
           109,
           110,
           111,
           112,
           113,
           114,
           115,
           116,
           117,
           118,
           119,
           120,
           121,
           122,
           123,
           124,
           125,
           126,
           127,
           128,
           129,
           130,
           131,
           132,
           133,
           134,
           135,
           136,
           137,
           138,
           139,
           140,
           141,
           142,
           143,
           144,
           145,
           146,
           147,
           148,
           149,
           150,
           151,
           152,
           153,
           154,
           155,
           156,
           157,
           158,
           159,
           160,
           161,
           162,
           163,
           164,
           165,
           166,
           167,
           168,
           169,
           170,
           171,
           172,
           173,
           174,
           175,
           176,
           177,
           178,
           179,
           180,
           181,
           182,
           183,
           184,
           185,
           186,
           187,
           188,
           189,
           190,
           191,
           192,
           193,
           194,
           195,
           196,
           197,
           198,
           199
          ],
          "colorbar": {
           "title": {
            "text": "Trial"
           },
           "x": 1,
           "xpad": 40
          },
          "colorscale": [
           [
            0,
            "rgb(247,251,255)"
           ],
           [
            0.125,
            "rgb(222,235,247)"
           ],
           [
            0.25,
            "rgb(198,219,239)"
           ],
           [
            0.375,
            "rgb(158,202,225)"
           ],
           [
            0.5,
            "rgb(107,174,214)"
           ],
           [
            0.625,
            "rgb(66,146,198)"
           ],
           [
            0.75,
            "rgb(33,113,181)"
           ],
           [
            0.875,
            "rgb(8,81,156)"
           ],
           [
            1,
            "rgb(8,48,107)"
           ]
          ],
          "line": {
           "color": "Grey",
           "width": 0.5
          },
          "showscale": false
         },
         "mode": "markers",
         "name": "Feasible Trial",
         "showlegend": false,
         "type": "scatter",
         "x": [
          0.24133324255848,
          0.7002723661376027,
          0.05004328051496998,
          0.2110406277573087,
          0.8844455415189799,
          0.49746086201347595,
          0.5542452308587874,
          0.04218746452286337,
          0.35329571413362704,
          0.6799466603176447,
          0.46402914702870623,
          0.6196367507032335,
          0.2945764955031517,
          0.1153273603400865,
          0.3661060989574213,
          0.14775717465398186,
          0.7360819307296186,
          0.2669471563854699,
          0.05803734520029319,
          0.0102132061403713,
          0.05095963963745298,
          0.005686228162392004,
          0.35353898370276793,
          0.35829284545959217,
          0.3644380239382271,
          0.2455085520842074,
          0.15227485741319002,
          0.9813344068548973,
          0.000968504163086234,
          0.02840602179670504,
          0.018891946197967212,
          0.13470876771542772,
          0.026397295334857684,
          0.024873197106524213,
          0.012061758702919173,
          0.09412538964035602,
          0.1012063257412335,
          0.08831260638930685,
          0.12962393050483478,
          0.09854245587137228,
          0.08348617772638617,
          0.08574564773390905,
          0.09644910475948448,
          0.19805384736740705,
          0.20575684094512778,
          0.19448183890421833,
          0.19213555639272933,
          0.18319491643672792,
          0.20818011824853985,
          0.18145302733408633,
          0.19170883238645126,
          0.17066292847861897,
          0.0011647195143562692,
          0.005732301519234652,
          0.3039996486292933,
          0.43911811558405645,
          0.05206182684481342,
          0.2971528863482492,
          0.28772352992376243,
          0.05993901660503288,
          0.2814419552701645,
          0.06476257478695685,
          0.04161066024958593,
          0.058291544207321855,
          0.05709720063213977,
          0.0502401464309524,
          0.048518354320950086,
          0.055752059885284005,
          0.045926553758600705,
          0.05117798804723396,
          0.14504452359869885,
          0.04644634547722469,
          0.13804036756752602,
          0.14032475107273445,
          0.1471053868350951,
          0.1423759427648847,
          0.1372594756936559,
          0.24576759987091978,
          0.11751606074991254,
          0.7406475813787223,
          0.12032972942325887,
          0.6095336611531512,
          0.8224245492918099,
          0.11492395218617851,
          0.11403222857562006,
          0.11086195526147301,
          0.7521597264876368,
          0.07654150712185852,
          0.07879189208591253,
          0.027917297063764942,
          0.025627288399924134,
          0.026191172140645185,
          0.025546232957356446,
          0.025367390492512635,
          0.023706269433683196,
          0.026966508293703083,
          0.0008429262782433389,
          0.027014881716256628,
          0.020846020864918782,
          0.02607254543543588,
          0.0276562137381494,
          0.00045763631086922357,
          0.004780148633768008,
          0.07921942281362898,
          0.0015528247833193065,
          0.02151441506625864,
          0.02575180288782314,
          0.07905601743799705,
          0.07936079036235455,
          0.0764651020656775,
          0.028230177390126815,
          0.16681594904689592,
          0.16856915078276272,
          0.17006276944652432,
          0.16449536380003935,
          0.3862777611484951,
          0.4585209347075627,
          0.43942707622861077,
          0.03173615188909244,
          0.03118430227266008,
          0.025041560462335563,
          0.03648269031752363,
          0.40810770596939616,
          0.036324662076063635,
          0.034785693993179406,
          0.041425442350160366,
          0.09409079520259234,
          0.06842533672925187,
          0.0665569323603306,
          0.062199373706378895,
          0.09149951528039638,
          0.09776251061716679,
          0.09833110697171189,
          0.09816675593076588,
          0.06673002888921908,
          0.06356793588601434,
          0.09894116067067497,
          0.09702608606426597,
          0.013656171105916035,
          0.014935553955544034,
          0.516667811779881,
          0.5205544910143541,
          0.00012031798820621997,
          0.014628196528960385,
          0.5240516420714242,
          0.3220849470372392,
          0.01374857350169878,
          0.014774531524631991,
          0.0014649324584882772,
          0.04716010734765922,
          0.05311151754770369,
          0.04069617780839202,
          0.0535058059803612,
          0.04395958371874229,
          0.04824950429255384,
          0.044346798926475875,
          0.046565564863333055,
          0.043443913803934184,
          0.035008406746124515,
          0.03845158012108513,
          0.0297851856086459,
          0.01992243586369656,
          0.03008994688328078,
          0.021503073259352527,
          0.02259095409981746,
          0.022798495234365522,
          0.07856142929578051,
          0.07145333054015683,
          0.07562464520811549,
          0.07397921984361278,
          0.07646304737741325,
          0.0800144758013536,
          0.07059986256429732,
          0.0007549531730628965,
          0.07573287780537569,
          0.00019547093926617493,
          0.00023452906026424566,
          0.9498413355188526,
          0.0621967866798498,
          0.00004074507890846832,
          0.00757287976687563,
          0.003652992772703312,
          0.0008750012657367307,
          0.12475730674783529,
          0.12323755744743631,
          0.025199854330198293,
          0.022536224600154968,
          0.12246094653116578,
          0.05731266910630208,
          0.11914224159795957,
          0.05819392007107139,
          0.06034590039179055,
          0.027095836887720333,
          0.02956992658435937,
          0.055706506110082356,
          0.05686506041139226,
          0.05540042765946013,
          0.05496686150892322,
          0.02933483476884241,
          0.02620987707994571
         ],
         "xaxis": "x2",
         "y": [
          -0.45336117744445803,
          -0.5910529494285583,
          -0.743766474723816,
          -0.9271086812019348,
          -0.9271086812019348,
          -0.9271086812019348,
          -0.9271086812019348,
          -0.5144073188304901,
          -0.9271086812019348,
          -0.9271086812019348,
          -0.9271086812019348,
          -0.9271086812019348,
          -0.9271086812019348,
          -0.9271086812019348,
          -0.48372499346733094,
          -0.9271086812019348,
          -0.9271086812019348,
          -0.437879341840744,
          -0.3026212155818939,
          -0.30953813791275026,
          -0.30232309699058535,
          -0.31341156363487244,
          -0.4431979417800903,
          -0.33546621203422544,
          -0.5427406907081604,
          -0.6371188640594483,
          -0.4905170500278473,
          -0.9271086812019348,
          -0.3066470980644226,
          -0.3680028259754181,
          -0.32026023268699644,
          -0.539477002620697,
          -0.35594319701194765,
          -0.3614161729812622,
          -0.32446300983428955,
          -0.5360064268112182,
          -0.6125614523887635,
          -0.5479856491088867,
          -0.6546937942504882,
          -0.5904468178749085,
          -0.5471091151237488,
          -0.3708870649337769,
          -0.3289765894412994,
          -0.49684164524078367,
          -0.5012820839881897,
          -0.30459994077682495,
          -0.4856964111328125,
          -0.4728896260261536,
          -0.4971684515476227,
          -0.3126873731613159,
          -0.4693057954311371,
          -0.31609250903129577,
          -0.3488912761211395,
          -0.3335388362407684,
          -0.9271086812019348,
          -0.912594473361969,
          -0.5242332339286804,
          -0.9271086812019348,
          -0.9271086812019348,
          -0.31426923274993895,
          -0.3995828449726105,
          -0.3205434799194336,
          -0.30828660130500796,
          -0.3102585196495056,
          -0.3180846035480499,
          -0.30866084694862367,
          -0.31258590817451476,
          -0.32981386184692385,
          -0.3207292139530182,
          -0.32874526977539065,
          -0.39081507325172427,
          -0.32417029738426206,
          -0.9271086812019348,
          -0.3984084963798523,
          -0.40502856969833373,
          -0.9271086812019348,
          -0.9271086812019348,
          -0.9271086812019348,
          -0.9271086812019348,
          -0.9271086812019348,
          -0.45712916254997255,
          -0.9271086812019348,
          -0.9271086812019348,
          -0.44767787456512453,
          -0.45391787886619567,
          -0.44661850929260255,
          -0.9271086812019348,
          -0.3968283116817474,
          -0.3068750262260437,
          -0.30185030698776244,
          -0.30137149095535276,
          -0.3054381251335144,
          -0.30708693861961367,
          -0.3090805113315582,
          -0.3016527771949768,
          -0.3019717574119568,
          -0.3323625087738037,
          -0.301641184091568,
          -0.3061669826507568,
          -0.3036386787891388,
          -0.30648770928382874,
          -0.34097567200660706,
          -0.32430691123008726,
          -0.31075831055641173,
          -0.4776942372322083,
          -0.4140773355960846,
          -0.60504709482193,
          -0.366781884431839,
          -0.34270559549331664,
          -0.35844298005104064,
          -0.36415491104125974,
          -0.43710169196128845,
          -0.44103466868400576,
          -0.48409736156463623,
          -0.4363227605819702,
          -0.6044266700744629,
          -0.6787303686141968,
          -0.7457637071609498,
          -0.3069814324378967,
          -0.330260705947876,
          -0.6085807919502259,
          -0.3080403506755829,
          -0.4927802443504333,
          -0.30902246236801145,
          -0.3100775063037872,
          -0.30929763317108155,
          -0.3419743537902832,
          -0.32819961905479433,
          -0.3121277093887329,
          -0.30871392488479615,
          -0.32039596438407897,
          -0.3232612907886505,
          -0.3215103387832642,
          -0.3243537962436676,
          -0.3103028774261475,
          -0.30779253244400023,
          -0.3203421592712402,
          -0.32038989663124084,
          -0.31209144592285154,
          -0.3127035677433014,
          -0.37873643040657046,
          -0.9271086812019348,
          -0.34449788331985476,
          -0.3958385348320007,
          -0.37229793071746825,
          -0.34598519206047057,
          -0.39323475360870364,
          -0.3015448868274689,
          -0.3120545208454132,
          -0.3230069696903229,
          -0.3293713390827179,
          -0.31961533427238464,
          -0.330469024181366,
          -0.3193377792835236,
          -0.3259874701499939,
          -0.3225549817085266,
          -0.32546032071113584,
          -0.3238180160522461,
          -0.36119586825370786,
          -0.32169041633605955,
          -0.34382657408714296,
          -0.43839398622512815,
          -0.35811554193496703,
          -0.5132531583309173,
          -0.36345682144165037,
          -0.41193621754646303,
          -0.44267125725746154,
          -0.3271054983139038,
          -0.3264393866062164,
          -0.31994503140449526,
          -0.560782527923584,
          -0.3358351349830627,
          -0.3246630787849426,
          -0.3188891768455505,
          -0.32982805371284485,
          -0.3240529835224152,
          -0.32373199462890623,
          -0.6954521656036377,
          -0.30416045188903806,
          -0.3412411451339722,
          -0.32123730778694154,
          -0.3252596020698547,
          -0.3313827753067017,
          -0.3161981999874115,
          -0.3179251909255981,
          -0.30380014777183534,
          -0.30493274331092834,
          -0.3184558391571045,
          -0.3023811995983124,
          -0.31603195071220397,
          -0.3551878869533539,
          -0.36036342978477476,
          -0.3168151319026947,
          -0.3193044364452362,
          -0.35297525525093076,
          -0.30871446132659913,
          -0.45183799266815183,
          -0.35558825731277466,
          -0.5630481958389282,
          -0.3010722637176514
         ],
         "yaxis": "y2"
        }
       ],
       "layout": {
        "template": {
         "data": {
          "bar": [
           {
            "error_x": {
             "color": "#2a3f5f"
            },
            "error_y": {
             "color": "#2a3f5f"
            },
            "marker": {
             "line": {
              "color": "#E5ECF6",
              "width": 0.5
             },
             "pattern": {
              "fillmode": "overlay",
              "size": 10,
              "solidity": 0.2
             }
            },
            "type": "bar"
           }
          ],
          "barpolar": [
           {
            "marker": {
             "line": {
              "color": "#E5ECF6",
              "width": 0.5
             },
             "pattern": {
              "fillmode": "overlay",
              "size": 10,
              "solidity": 0.2
             }
            },
            "type": "barpolar"
           }
          ],
          "carpet": [
           {
            "aaxis": {
             "endlinecolor": "#2a3f5f",
             "gridcolor": "white",
             "linecolor": "white",
             "minorgridcolor": "white",
             "startlinecolor": "#2a3f5f"
            },
            "baxis": {
             "endlinecolor": "#2a3f5f",
             "gridcolor": "white",
             "linecolor": "white",
             "minorgridcolor": "white",
             "startlinecolor": "#2a3f5f"
            },
            "type": "carpet"
           }
          ],
          "choropleth": [
           {
            "colorbar": {
             "outlinewidth": 0,
             "ticks": ""
            },
            "type": "choropleth"
           }
          ],
          "contour": [
           {
            "colorbar": {
             "outlinewidth": 0,
             "ticks": ""
            },
            "colorscale": [
             [
              0,
              "#0d0887"
             ],
             [
              0.1111111111111111,
              "#46039f"
             ],
             [
              0.2222222222222222,
              "#7201a8"
             ],
             [
              0.3333333333333333,
              "#9c179e"
             ],
             [
              0.4444444444444444,
              "#bd3786"
             ],
             [
              0.5555555555555556,
              "#d8576b"
             ],
             [
              0.6666666666666666,
              "#ed7953"
             ],
             [
              0.7777777777777778,
              "#fb9f3a"
             ],
             [
              0.8888888888888888,
              "#fdca26"
             ],
             [
              1,
              "#f0f921"
             ]
            ],
            "type": "contour"
           }
          ],
          "contourcarpet": [
           {
            "colorbar": {
             "outlinewidth": 0,
             "ticks": ""
            },
            "type": "contourcarpet"
           }
          ],
          "heatmap": [
           {
            "colorbar": {
             "outlinewidth": 0,
             "ticks": ""
            },
            "colorscale": [
             [
              0,
              "#0d0887"
             ],
             [
              0.1111111111111111,
              "#46039f"
             ],
             [
              0.2222222222222222,
              "#7201a8"
             ],
             [
              0.3333333333333333,
              "#9c179e"
             ],
             [
              0.4444444444444444,
              "#bd3786"
             ],
             [
              0.5555555555555556,
              "#d8576b"
             ],
             [
              0.6666666666666666,
              "#ed7953"
             ],
             [
              0.7777777777777778,
              "#fb9f3a"
             ],
             [
              0.8888888888888888,
              "#fdca26"
             ],
             [
              1,
              "#f0f921"
             ]
            ],
            "type": "heatmap"
           }
          ],
          "heatmapgl": [
           {
            "colorbar": {
             "outlinewidth": 0,
             "ticks": ""
            },
            "colorscale": [
             [
              0,
              "#0d0887"
             ],
             [
              0.1111111111111111,
              "#46039f"
             ],
             [
              0.2222222222222222,
              "#7201a8"
             ],
             [
              0.3333333333333333,
              "#9c179e"
             ],
             [
              0.4444444444444444,
              "#bd3786"
             ],
             [
              0.5555555555555556,
              "#d8576b"
             ],
             [
              0.6666666666666666,
              "#ed7953"
             ],
             [
              0.7777777777777778,
              "#fb9f3a"
             ],
             [
              0.8888888888888888,
              "#fdca26"
             ],
             [
              1,
              "#f0f921"
             ]
            ],
            "type": "heatmapgl"
           }
          ],
          "histogram": [
           {
            "marker": {
             "pattern": {
              "fillmode": "overlay",
              "size": 10,
              "solidity": 0.2
             }
            },
            "type": "histogram"
           }
          ],
          "histogram2d": [
           {
            "colorbar": {
             "outlinewidth": 0,
             "ticks": ""
            },
            "colorscale": [
             [
              0,
              "#0d0887"
             ],
             [
              0.1111111111111111,
              "#46039f"
             ],
             [
              0.2222222222222222,
              "#7201a8"
             ],
             [
              0.3333333333333333,
              "#9c179e"
             ],
             [
              0.4444444444444444,
              "#bd3786"
             ],
             [
              0.5555555555555556,
              "#d8576b"
             ],
             [
              0.6666666666666666,
              "#ed7953"
             ],
             [
              0.7777777777777778,
              "#fb9f3a"
             ],
             [
              0.8888888888888888,
              "#fdca26"
             ],
             [
              1,
              "#f0f921"
             ]
            ],
            "type": "histogram2d"
           }
          ],
          "histogram2dcontour": [
           {
            "colorbar": {
             "outlinewidth": 0,
             "ticks": ""
            },
            "colorscale": [
             [
              0,
              "#0d0887"
             ],
             [
              0.1111111111111111,
              "#46039f"
             ],
             [
              0.2222222222222222,
              "#7201a8"
             ],
             [
              0.3333333333333333,
              "#9c179e"
             ],
             [
              0.4444444444444444,
              "#bd3786"
             ],
             [
              0.5555555555555556,
              "#d8576b"
             ],
             [
              0.6666666666666666,
              "#ed7953"
             ],
             [
              0.7777777777777778,
              "#fb9f3a"
             ],
             [
              0.8888888888888888,
              "#fdca26"
             ],
             [
              1,
              "#f0f921"
             ]
            ],
            "type": "histogram2dcontour"
           }
          ],
          "mesh3d": [
           {
            "colorbar": {
             "outlinewidth": 0,
             "ticks": ""
            },
            "type": "mesh3d"
           }
          ],
          "parcoords": [
           {
            "line": {
             "colorbar": {
              "outlinewidth": 0,
              "ticks": ""
             }
            },
            "type": "parcoords"
           }
          ],
          "pie": [
           {
            "automargin": true,
            "type": "pie"
           }
          ],
          "scatter": [
           {
            "fillpattern": {
             "fillmode": "overlay",
             "size": 10,
             "solidity": 0.2
            },
            "type": "scatter"
           }
          ],
          "scatter3d": [
           {
            "line": {
             "colorbar": {
              "outlinewidth": 0,
              "ticks": ""
             }
            },
            "marker": {
             "colorbar": {
              "outlinewidth": 0,
              "ticks": ""
             }
            },
            "type": "scatter3d"
           }
          ],
          "scattercarpet": [
           {
            "marker": {
             "colorbar": {
              "outlinewidth": 0,
              "ticks": ""
             }
            },
            "type": "scattercarpet"
           }
          ],
          "scattergeo": [
           {
            "marker": {
             "colorbar": {
              "outlinewidth": 0,
              "ticks": ""
             }
            },
            "type": "scattergeo"
           }
          ],
          "scattergl": [
           {
            "marker": {
             "colorbar": {
              "outlinewidth": 0,
              "ticks": ""
             }
            },
            "type": "scattergl"
           }
          ],
          "scattermapbox": [
           {
            "marker": {
             "colorbar": {
              "outlinewidth": 0,
              "ticks": ""
             }
            },
            "type": "scattermapbox"
           }
          ],
          "scatterpolar": [
           {
            "marker": {
             "colorbar": {
              "outlinewidth": 0,
              "ticks": ""
             }
            },
            "type": "scatterpolar"
           }
          ],
          "scatterpolargl": [
           {
            "marker": {
             "colorbar": {
              "outlinewidth": 0,
              "ticks": ""
             }
            },
            "type": "scatterpolargl"
           }
          ],
          "scatterternary": [
           {
            "marker": {
             "colorbar": {
              "outlinewidth": 0,
              "ticks": ""
             }
            },
            "type": "scatterternary"
           }
          ],
          "surface": [
           {
            "colorbar": {
             "outlinewidth": 0,
             "ticks": ""
            },
            "colorscale": [
             [
              0,
              "#0d0887"
             ],
             [
              0.1111111111111111,
              "#46039f"
             ],
             [
              0.2222222222222222,
              "#7201a8"
             ],
             [
              0.3333333333333333,
              "#9c179e"
             ],
             [
              0.4444444444444444,
              "#bd3786"
             ],
             [
              0.5555555555555556,
              "#d8576b"
             ],
             [
              0.6666666666666666,
              "#ed7953"
             ],
             [
              0.7777777777777778,
              "#fb9f3a"
             ],
             [
              0.8888888888888888,
              "#fdca26"
             ],
             [
              1,
              "#f0f921"
             ]
            ],
            "type": "surface"
           }
          ],
          "table": [
           {
            "cells": {
             "fill": {
              "color": "#EBF0F8"
             },
             "line": {
              "color": "white"
             }
            },
            "header": {
             "fill": {
              "color": "#C8D4E3"
             },
             "line": {
              "color": "white"
             }
            },
            "type": "table"
           }
          ]
         },
         "layout": {
          "annotationdefaults": {
           "arrowcolor": "#2a3f5f",
           "arrowhead": 0,
           "arrowwidth": 1
          },
          "autotypenumbers": "strict",
          "coloraxis": {
           "colorbar": {
            "outlinewidth": 0,
            "ticks": ""
           }
          },
          "colorscale": {
           "diverging": [
            [
             0,
             "#8e0152"
            ],
            [
             0.1,
             "#c51b7d"
            ],
            [
             0.2,
             "#de77ae"
            ],
            [
             0.3,
             "#f1b6da"
            ],
            [
             0.4,
             "#fde0ef"
            ],
            [
             0.5,
             "#f7f7f7"
            ],
            [
             0.6,
             "#e6f5d0"
            ],
            [
             0.7,
             "#b8e186"
            ],
            [
             0.8,
             "#7fbc41"
            ],
            [
             0.9,
             "#4d9221"
            ],
            [
             1,
             "#276419"
            ]
           ],
           "sequential": [
            [
             0,
             "#0d0887"
            ],
            [
             0.1111111111111111,
             "#46039f"
            ],
            [
             0.2222222222222222,
             "#7201a8"
            ],
            [
             0.3333333333333333,
             "#9c179e"
            ],
            [
             0.4444444444444444,
             "#bd3786"
            ],
            [
             0.5555555555555556,
             "#d8576b"
            ],
            [
             0.6666666666666666,
             "#ed7953"
            ],
            [
             0.7777777777777778,
             "#fb9f3a"
            ],
            [
             0.8888888888888888,
             "#fdca26"
            ],
            [
             1,
             "#f0f921"
            ]
           ],
           "sequentialminus": [
            [
             0,
             "#0d0887"
            ],
            [
             0.1111111111111111,
             "#46039f"
            ],
            [
             0.2222222222222222,
             "#7201a8"
            ],
            [
             0.3333333333333333,
             "#9c179e"
            ],
            [
             0.4444444444444444,
             "#bd3786"
            ],
            [
             0.5555555555555556,
             "#d8576b"
            ],
            [
             0.6666666666666666,
             "#ed7953"
            ],
            [
             0.7777777777777778,
             "#fb9f3a"
            ],
            [
             0.8888888888888888,
             "#fdca26"
            ],
            [
             1,
             "#f0f921"
            ]
           ]
          },
          "colorway": [
           "#636efa",
           "#EF553B",
           "#00cc96",
           "#ab63fa",
           "#FFA15A",
           "#19d3f3",
           "#FF6692",
           "#B6E880",
           "#FF97FF",
           "#FECB52"
          ],
          "font": {
           "color": "#2a3f5f"
          },
          "geo": {
           "bgcolor": "white",
           "lakecolor": "white",
           "landcolor": "#E5ECF6",
           "showlakes": true,
           "showland": true,
           "subunitcolor": "white"
          },
          "hoverlabel": {
           "align": "left"
          },
          "hovermode": "closest",
          "mapbox": {
           "style": "light"
          },
          "paper_bgcolor": "white",
          "plot_bgcolor": "#E5ECF6",
          "polar": {
           "angularaxis": {
            "gridcolor": "white",
            "linecolor": "white",
            "ticks": ""
           },
           "bgcolor": "#E5ECF6",
           "radialaxis": {
            "gridcolor": "white",
            "linecolor": "white",
            "ticks": ""
           }
          },
          "scene": {
           "xaxis": {
            "backgroundcolor": "#E5ECF6",
            "gridcolor": "white",
            "gridwidth": 2,
            "linecolor": "white",
            "showbackground": true,
            "ticks": "",
            "zerolinecolor": "white"
           },
           "yaxis": {
            "backgroundcolor": "#E5ECF6",
            "gridcolor": "white",
            "gridwidth": 2,
            "linecolor": "white",
            "showbackground": true,
            "ticks": "",
            "zerolinecolor": "white"
           },
           "zaxis": {
            "backgroundcolor": "#E5ECF6",
            "gridcolor": "white",
            "gridwidth": 2,
            "linecolor": "white",
            "showbackground": true,
            "ticks": "",
            "zerolinecolor": "white"
           }
          },
          "shapedefaults": {
           "line": {
            "color": "#2a3f5f"
           }
          },
          "ternary": {
           "aaxis": {
            "gridcolor": "white",
            "linecolor": "white",
            "ticks": ""
           },
           "baxis": {
            "gridcolor": "white",
            "linecolor": "white",
            "ticks": ""
           },
           "bgcolor": "#E5ECF6",
           "caxis": {
            "gridcolor": "white",
            "linecolor": "white",
            "ticks": ""
           }
          },
          "title": {
           "x": 0.05
          },
          "xaxis": {
           "automargin": true,
           "gridcolor": "white",
           "linecolor": "white",
           "ticks": "",
           "title": {
            "standoff": 15
           },
           "zerolinecolor": "white",
           "zerolinewidth": 2
          },
          "yaxis": {
           "automargin": true,
           "gridcolor": "white",
           "linecolor": "white",
           "ticks": "",
           "title": {
            "standoff": 15
           },
           "zerolinecolor": "white",
           "zerolinewidth": 2
          }
         }
        },
        "title": {
         "text": "Slice Plot"
        },
        "xaxis": {
         "anchor": "y",
         "domain": [
          0,
          0.45
         ],
         "title": {
          "text": "alpha"
         }
        },
        "xaxis2": {
         "anchor": "y2",
         "domain": [
          0.55,
          1
         ],
         "title": {
          "text": "l1_ratio"
         }
        },
        "yaxis": {
         "anchor": "x",
         "domain": [
          0,
          1
         ],
         "title": {
          "text": "Objective Value"
         }
        },
        "yaxis2": {
         "anchor": "x2",
         "domain": [
          0,
          1
         ],
         "matches": "y",
         "showticklabels": false
        }
       }
      }
     },
     "metadata": {},
     "output_type": "display_data"
    }
   ],
   "source": [
    "optuna.visualization.plot_slice(study_en, params=['alpha', 'l1_ratio'])"
   ]
  },
  {
   "cell_type": "code",
   "execution_count": null,
   "metadata": {},
   "outputs": [
    {
     "data": {
      "application/vnd.plotly.v1+json": {
       "config": {
        "plotlyServerURL": "https://plot.ly"
       },
       "data": [
        {
         "cliponaxis": false,
         "hovertemplate": [
          "l1_ratio (FloatDistribution): 0.45766484226410475<extra></extra>",
          "alpha (FloatDistribution): 0.5423351577358952<extra></extra>"
         ],
         "name": "Objective Value",
         "orientation": "h",
         "text": [
          "0.46",
          "0.54"
         ],
         "textposition": "outside",
         "type": "bar",
         "x": [
          0.45766484226410475,
          0.5423351577358952
         ],
         "y": [
          "l1_ratio",
          "alpha"
         ]
        }
       ],
       "layout": {
        "template": {
         "data": {
          "bar": [
           {
            "error_x": {
             "color": "#2a3f5f"
            },
            "error_y": {
             "color": "#2a3f5f"
            },
            "marker": {
             "line": {
              "color": "#E5ECF6",
              "width": 0.5
             },
             "pattern": {
              "fillmode": "overlay",
              "size": 10,
              "solidity": 0.2
             }
            },
            "type": "bar"
           }
          ],
          "barpolar": [
           {
            "marker": {
             "line": {
              "color": "#E5ECF6",
              "width": 0.5
             },
             "pattern": {
              "fillmode": "overlay",
              "size": 10,
              "solidity": 0.2
             }
            },
            "type": "barpolar"
           }
          ],
          "carpet": [
           {
            "aaxis": {
             "endlinecolor": "#2a3f5f",
             "gridcolor": "white",
             "linecolor": "white",
             "minorgridcolor": "white",
             "startlinecolor": "#2a3f5f"
            },
            "baxis": {
             "endlinecolor": "#2a3f5f",
             "gridcolor": "white",
             "linecolor": "white",
             "minorgridcolor": "white",
             "startlinecolor": "#2a3f5f"
            },
            "type": "carpet"
           }
          ],
          "choropleth": [
           {
            "colorbar": {
             "outlinewidth": 0,
             "ticks": ""
            },
            "type": "choropleth"
           }
          ],
          "contour": [
           {
            "colorbar": {
             "outlinewidth": 0,
             "ticks": ""
            },
            "colorscale": [
             [
              0,
              "#0d0887"
             ],
             [
              0.1111111111111111,
              "#46039f"
             ],
             [
              0.2222222222222222,
              "#7201a8"
             ],
             [
              0.3333333333333333,
              "#9c179e"
             ],
             [
              0.4444444444444444,
              "#bd3786"
             ],
             [
              0.5555555555555556,
              "#d8576b"
             ],
             [
              0.6666666666666666,
              "#ed7953"
             ],
             [
              0.7777777777777778,
              "#fb9f3a"
             ],
             [
              0.8888888888888888,
              "#fdca26"
             ],
             [
              1,
              "#f0f921"
             ]
            ],
            "type": "contour"
           }
          ],
          "contourcarpet": [
           {
            "colorbar": {
             "outlinewidth": 0,
             "ticks": ""
            },
            "type": "contourcarpet"
           }
          ],
          "heatmap": [
           {
            "colorbar": {
             "outlinewidth": 0,
             "ticks": ""
            },
            "colorscale": [
             [
              0,
              "#0d0887"
             ],
             [
              0.1111111111111111,
              "#46039f"
             ],
             [
              0.2222222222222222,
              "#7201a8"
             ],
             [
              0.3333333333333333,
              "#9c179e"
             ],
             [
              0.4444444444444444,
              "#bd3786"
             ],
             [
              0.5555555555555556,
              "#d8576b"
             ],
             [
              0.6666666666666666,
              "#ed7953"
             ],
             [
              0.7777777777777778,
              "#fb9f3a"
             ],
             [
              0.8888888888888888,
              "#fdca26"
             ],
             [
              1,
              "#f0f921"
             ]
            ],
            "type": "heatmap"
           }
          ],
          "heatmapgl": [
           {
            "colorbar": {
             "outlinewidth": 0,
             "ticks": ""
            },
            "colorscale": [
             [
              0,
              "#0d0887"
             ],
             [
              0.1111111111111111,
              "#46039f"
             ],
             [
              0.2222222222222222,
              "#7201a8"
             ],
             [
              0.3333333333333333,
              "#9c179e"
             ],
             [
              0.4444444444444444,
              "#bd3786"
             ],
             [
              0.5555555555555556,
              "#d8576b"
             ],
             [
              0.6666666666666666,
              "#ed7953"
             ],
             [
              0.7777777777777778,
              "#fb9f3a"
             ],
             [
              0.8888888888888888,
              "#fdca26"
             ],
             [
              1,
              "#f0f921"
             ]
            ],
            "type": "heatmapgl"
           }
          ],
          "histogram": [
           {
            "marker": {
             "pattern": {
              "fillmode": "overlay",
              "size": 10,
              "solidity": 0.2
             }
            },
            "type": "histogram"
           }
          ],
          "histogram2d": [
           {
            "colorbar": {
             "outlinewidth": 0,
             "ticks": ""
            },
            "colorscale": [
             [
              0,
              "#0d0887"
             ],
             [
              0.1111111111111111,
              "#46039f"
             ],
             [
              0.2222222222222222,
              "#7201a8"
             ],
             [
              0.3333333333333333,
              "#9c179e"
             ],
             [
              0.4444444444444444,
              "#bd3786"
             ],
             [
              0.5555555555555556,
              "#d8576b"
             ],
             [
              0.6666666666666666,
              "#ed7953"
             ],
             [
              0.7777777777777778,
              "#fb9f3a"
             ],
             [
              0.8888888888888888,
              "#fdca26"
             ],
             [
              1,
              "#f0f921"
             ]
            ],
            "type": "histogram2d"
           }
          ],
          "histogram2dcontour": [
           {
            "colorbar": {
             "outlinewidth": 0,
             "ticks": ""
            },
            "colorscale": [
             [
              0,
              "#0d0887"
             ],
             [
              0.1111111111111111,
              "#46039f"
             ],
             [
              0.2222222222222222,
              "#7201a8"
             ],
             [
              0.3333333333333333,
              "#9c179e"
             ],
             [
              0.4444444444444444,
              "#bd3786"
             ],
             [
              0.5555555555555556,
              "#d8576b"
             ],
             [
              0.6666666666666666,
              "#ed7953"
             ],
             [
              0.7777777777777778,
              "#fb9f3a"
             ],
             [
              0.8888888888888888,
              "#fdca26"
             ],
             [
              1,
              "#f0f921"
             ]
            ],
            "type": "histogram2dcontour"
           }
          ],
          "mesh3d": [
           {
            "colorbar": {
             "outlinewidth": 0,
             "ticks": ""
            },
            "type": "mesh3d"
           }
          ],
          "parcoords": [
           {
            "line": {
             "colorbar": {
              "outlinewidth": 0,
              "ticks": ""
             }
            },
            "type": "parcoords"
           }
          ],
          "pie": [
           {
            "automargin": true,
            "type": "pie"
           }
          ],
          "scatter": [
           {
            "fillpattern": {
             "fillmode": "overlay",
             "size": 10,
             "solidity": 0.2
            },
            "type": "scatter"
           }
          ],
          "scatter3d": [
           {
            "line": {
             "colorbar": {
              "outlinewidth": 0,
              "ticks": ""
             }
            },
            "marker": {
             "colorbar": {
              "outlinewidth": 0,
              "ticks": ""
             }
            },
            "type": "scatter3d"
           }
          ],
          "scattercarpet": [
           {
            "marker": {
             "colorbar": {
              "outlinewidth": 0,
              "ticks": ""
             }
            },
            "type": "scattercarpet"
           }
          ],
          "scattergeo": [
           {
            "marker": {
             "colorbar": {
              "outlinewidth": 0,
              "ticks": ""
             }
            },
            "type": "scattergeo"
           }
          ],
          "scattergl": [
           {
            "marker": {
             "colorbar": {
              "outlinewidth": 0,
              "ticks": ""
             }
            },
            "type": "scattergl"
           }
          ],
          "scattermapbox": [
           {
            "marker": {
             "colorbar": {
              "outlinewidth": 0,
              "ticks": ""
             }
            },
            "type": "scattermapbox"
           }
          ],
          "scatterpolar": [
           {
            "marker": {
             "colorbar": {
              "outlinewidth": 0,
              "ticks": ""
             }
            },
            "type": "scatterpolar"
           }
          ],
          "scatterpolargl": [
           {
            "marker": {
             "colorbar": {
              "outlinewidth": 0,
              "ticks": ""
             }
            },
            "type": "scatterpolargl"
           }
          ],
          "scatterternary": [
           {
            "marker": {
             "colorbar": {
              "outlinewidth": 0,
              "ticks": ""
             }
            },
            "type": "scatterternary"
           }
          ],
          "surface": [
           {
            "colorbar": {
             "outlinewidth": 0,
             "ticks": ""
            },
            "colorscale": [
             [
              0,
              "#0d0887"
             ],
             [
              0.1111111111111111,
              "#46039f"
             ],
             [
              0.2222222222222222,
              "#7201a8"
             ],
             [
              0.3333333333333333,
              "#9c179e"
             ],
             [
              0.4444444444444444,
              "#bd3786"
             ],
             [
              0.5555555555555556,
              "#d8576b"
             ],
             [
              0.6666666666666666,
              "#ed7953"
             ],
             [
              0.7777777777777778,
              "#fb9f3a"
             ],
             [
              0.8888888888888888,
              "#fdca26"
             ],
             [
              1,
              "#f0f921"
             ]
            ],
            "type": "surface"
           }
          ],
          "table": [
           {
            "cells": {
             "fill": {
              "color": "#EBF0F8"
             },
             "line": {
              "color": "white"
             }
            },
            "header": {
             "fill": {
              "color": "#C8D4E3"
             },
             "line": {
              "color": "white"
             }
            },
            "type": "table"
           }
          ]
         },
         "layout": {
          "annotationdefaults": {
           "arrowcolor": "#2a3f5f",
           "arrowhead": 0,
           "arrowwidth": 1
          },
          "autotypenumbers": "strict",
          "coloraxis": {
           "colorbar": {
            "outlinewidth": 0,
            "ticks": ""
           }
          },
          "colorscale": {
           "diverging": [
            [
             0,
             "#8e0152"
            ],
            [
             0.1,
             "#c51b7d"
            ],
            [
             0.2,
             "#de77ae"
            ],
            [
             0.3,
             "#f1b6da"
            ],
            [
             0.4,
             "#fde0ef"
            ],
            [
             0.5,
             "#f7f7f7"
            ],
            [
             0.6,
             "#e6f5d0"
            ],
            [
             0.7,
             "#b8e186"
            ],
            [
             0.8,
             "#7fbc41"
            ],
            [
             0.9,
             "#4d9221"
            ],
            [
             1,
             "#276419"
            ]
           ],
           "sequential": [
            [
             0,
             "#0d0887"
            ],
            [
             0.1111111111111111,
             "#46039f"
            ],
            [
             0.2222222222222222,
             "#7201a8"
            ],
            [
             0.3333333333333333,
             "#9c179e"
            ],
            [
             0.4444444444444444,
             "#bd3786"
            ],
            [
             0.5555555555555556,
             "#d8576b"
            ],
            [
             0.6666666666666666,
             "#ed7953"
            ],
            [
             0.7777777777777778,
             "#fb9f3a"
            ],
            [
             0.8888888888888888,
             "#fdca26"
            ],
            [
             1,
             "#f0f921"
            ]
           ],
           "sequentialminus": [
            [
             0,
             "#0d0887"
            ],
            [
             0.1111111111111111,
             "#46039f"
            ],
            [
             0.2222222222222222,
             "#7201a8"
            ],
            [
             0.3333333333333333,
             "#9c179e"
            ],
            [
             0.4444444444444444,
             "#bd3786"
            ],
            [
             0.5555555555555556,
             "#d8576b"
            ],
            [
             0.6666666666666666,
             "#ed7953"
            ],
            [
             0.7777777777777778,
             "#fb9f3a"
            ],
            [
             0.8888888888888888,
             "#fdca26"
            ],
            [
             1,
             "#f0f921"
            ]
           ]
          },
          "colorway": [
           "#636efa",
           "#EF553B",
           "#00cc96",
           "#ab63fa",
           "#FFA15A",
           "#19d3f3",
           "#FF6692",
           "#B6E880",
           "#FF97FF",
           "#FECB52"
          ],
          "font": {
           "color": "#2a3f5f"
          },
          "geo": {
           "bgcolor": "white",
           "lakecolor": "white",
           "landcolor": "#E5ECF6",
           "showlakes": true,
           "showland": true,
           "subunitcolor": "white"
          },
          "hoverlabel": {
           "align": "left"
          },
          "hovermode": "closest",
          "mapbox": {
           "style": "light"
          },
          "paper_bgcolor": "white",
          "plot_bgcolor": "#E5ECF6",
          "polar": {
           "angularaxis": {
            "gridcolor": "white",
            "linecolor": "white",
            "ticks": ""
           },
           "bgcolor": "#E5ECF6",
           "radialaxis": {
            "gridcolor": "white",
            "linecolor": "white",
            "ticks": ""
           }
          },
          "scene": {
           "xaxis": {
            "backgroundcolor": "#E5ECF6",
            "gridcolor": "white",
            "gridwidth": 2,
            "linecolor": "white",
            "showbackground": true,
            "ticks": "",
            "zerolinecolor": "white"
           },
           "yaxis": {
            "backgroundcolor": "#E5ECF6",
            "gridcolor": "white",
            "gridwidth": 2,
            "linecolor": "white",
            "showbackground": true,
            "ticks": "",
            "zerolinecolor": "white"
           },
           "zaxis": {
            "backgroundcolor": "#E5ECF6",
            "gridcolor": "white",
            "gridwidth": 2,
            "linecolor": "white",
            "showbackground": true,
            "ticks": "",
            "zerolinecolor": "white"
           }
          },
          "shapedefaults": {
           "line": {
            "color": "#2a3f5f"
           }
          },
          "ternary": {
           "aaxis": {
            "gridcolor": "white",
            "linecolor": "white",
            "ticks": ""
           },
           "baxis": {
            "gridcolor": "white",
            "linecolor": "white",
            "ticks": ""
           },
           "bgcolor": "#E5ECF6",
           "caxis": {
            "gridcolor": "white",
            "linecolor": "white",
            "ticks": ""
           }
          },
          "title": {
           "x": 0.05
          },
          "xaxis": {
           "automargin": true,
           "gridcolor": "white",
           "linecolor": "white",
           "ticks": "",
           "title": {
            "standoff": 15
           },
           "zerolinecolor": "white",
           "zerolinewidth": 2
          },
          "yaxis": {
           "automargin": true,
           "gridcolor": "white",
           "linecolor": "white",
           "ticks": "",
           "title": {
            "standoff": 15
           },
           "zerolinecolor": "white",
           "zerolinewidth": 2
          }
         }
        },
        "title": {
         "text": "Hyperparameter Importances"
        },
        "xaxis": {
         "title": {
          "text": "Hyperparameter Importance"
         }
        },
        "yaxis": {
         "title": {
          "text": "Hyperparameter"
         }
        }
       }
      }
     },
     "metadata": {},
     "output_type": "display_data"
    }
   ],
   "source": [
    "optuna.visualization.plot_param_importances(study_en)"
   ]
  },
  {
   "cell_type": "code",
   "execution_count": null,
   "metadata": {},
   "outputs": [
    {
     "data": {
      "text/html": [
       "<style>#sk-container-id-2 {\n",
       "  /* Definition of color scheme common for light and dark mode */\n",
       "  --sklearn-color-text: black;\n",
       "  --sklearn-color-line: gray;\n",
       "  /* Definition of color scheme for unfitted estimators */\n",
       "  --sklearn-color-unfitted-level-0: #fff5e6;\n",
       "  --sklearn-color-unfitted-level-1: #f6e4d2;\n",
       "  --sklearn-color-unfitted-level-2: #ffe0b3;\n",
       "  --sklearn-color-unfitted-level-3: chocolate;\n",
       "  /* Definition of color scheme for fitted estimators */\n",
       "  --sklearn-color-fitted-level-0: #f0f8ff;\n",
       "  --sklearn-color-fitted-level-1: #d4ebff;\n",
       "  --sklearn-color-fitted-level-2: #b3dbfd;\n",
       "  --sklearn-color-fitted-level-3: cornflowerblue;\n",
       "\n",
       "  /* Specific color for light theme */\n",
       "  --sklearn-color-text-on-default-background: var(--sg-text-color, var(--theme-code-foreground, var(--jp-content-font-color1, black)));\n",
       "  --sklearn-color-background: var(--sg-background-color, var(--theme-background, var(--jp-layout-color0, white)));\n",
       "  --sklearn-color-border-box: var(--sg-text-color, var(--theme-code-foreground, var(--jp-content-font-color1, black)));\n",
       "  --sklearn-color-icon: #696969;\n",
       "\n",
       "  @media (prefers-color-scheme: dark) {\n",
       "    /* Redefinition of color scheme for dark theme */\n",
       "    --sklearn-color-text-on-default-background: var(--sg-text-color, var(--theme-code-foreground, var(--jp-content-font-color1, white)));\n",
       "    --sklearn-color-background: var(--sg-background-color, var(--theme-background, var(--jp-layout-color0, #111)));\n",
       "    --sklearn-color-border-box: var(--sg-text-color, var(--theme-code-foreground, var(--jp-content-font-color1, white)));\n",
       "    --sklearn-color-icon: #878787;\n",
       "  }\n",
       "}\n",
       "\n",
       "#sk-container-id-2 {\n",
       "  color: var(--sklearn-color-text);\n",
       "}\n",
       "\n",
       "#sk-container-id-2 pre {\n",
       "  padding: 0;\n",
       "}\n",
       "\n",
       "#sk-container-id-2 input.sk-hidden--visually {\n",
       "  border: 0;\n",
       "  clip: rect(1px 1px 1px 1px);\n",
       "  clip: rect(1px, 1px, 1px, 1px);\n",
       "  height: 1px;\n",
       "  margin: -1px;\n",
       "  overflow: hidden;\n",
       "  padding: 0;\n",
       "  position: absolute;\n",
       "  width: 1px;\n",
       "}\n",
       "\n",
       "#sk-container-id-2 div.sk-dashed-wrapped {\n",
       "  border: 1px dashed var(--sklearn-color-line);\n",
       "  margin: 0 0.4em 0.5em 0.4em;\n",
       "  box-sizing: border-box;\n",
       "  padding-bottom: 0.4em;\n",
       "  background-color: var(--sklearn-color-background);\n",
       "}\n",
       "\n",
       "#sk-container-id-2 div.sk-container {\n",
       "  /* jupyter's `normalize.less` sets `[hidden] { display: none; }`\n",
       "     but bootstrap.min.css set `[hidden] { display: none !important; }`\n",
       "     so we also need the `!important` here to be able to override the\n",
       "     default hidden behavior on the sphinx rendered scikit-learn.org.\n",
       "     See: https://github.com/scikit-learn/scikit-learn/issues/21755 */\n",
       "  display: inline-block !important;\n",
       "  position: relative;\n",
       "}\n",
       "\n",
       "#sk-container-id-2 div.sk-text-repr-fallback {\n",
       "  display: none;\n",
       "}\n",
       "\n",
       "div.sk-parallel-item,\n",
       "div.sk-serial,\n",
       "div.sk-item {\n",
       "  /* draw centered vertical line to link estimators */\n",
       "  background-image: linear-gradient(var(--sklearn-color-text-on-default-background), var(--sklearn-color-text-on-default-background));\n",
       "  background-size: 2px 100%;\n",
       "  background-repeat: no-repeat;\n",
       "  background-position: center center;\n",
       "}\n",
       "\n",
       "/* Parallel-specific style estimator block */\n",
       "\n",
       "#sk-container-id-2 div.sk-parallel-item::after {\n",
       "  content: \"\";\n",
       "  width: 100%;\n",
       "  border-bottom: 2px solid var(--sklearn-color-text-on-default-background);\n",
       "  flex-grow: 1;\n",
       "}\n",
       "\n",
       "#sk-container-id-2 div.sk-parallel {\n",
       "  display: flex;\n",
       "  align-items: stretch;\n",
       "  justify-content: center;\n",
       "  background-color: var(--sklearn-color-background);\n",
       "  position: relative;\n",
       "}\n",
       "\n",
       "#sk-container-id-2 div.sk-parallel-item {\n",
       "  display: flex;\n",
       "  flex-direction: column;\n",
       "}\n",
       "\n",
       "#sk-container-id-2 div.sk-parallel-item:first-child::after {\n",
       "  align-self: flex-end;\n",
       "  width: 50%;\n",
       "}\n",
       "\n",
       "#sk-container-id-2 div.sk-parallel-item:last-child::after {\n",
       "  align-self: flex-start;\n",
       "  width: 50%;\n",
       "}\n",
       "\n",
       "#sk-container-id-2 div.sk-parallel-item:only-child::after {\n",
       "  width: 0;\n",
       "}\n",
       "\n",
       "/* Serial-specific style estimator block */\n",
       "\n",
       "#sk-container-id-2 div.sk-serial {\n",
       "  display: flex;\n",
       "  flex-direction: column;\n",
       "  align-items: center;\n",
       "  background-color: var(--sklearn-color-background);\n",
       "  padding-right: 1em;\n",
       "  padding-left: 1em;\n",
       "}\n",
       "\n",
       "\n",
       "/* Toggleable style: style used for estimator/Pipeline/ColumnTransformer box that is\n",
       "clickable and can be expanded/collapsed.\n",
       "- Pipeline and ColumnTransformer use this feature and define the default style\n",
       "- Estimators will overwrite some part of the style using the `sk-estimator` class\n",
       "*/\n",
       "\n",
       "/* Pipeline and ColumnTransformer style (default) */\n",
       "\n",
       "#sk-container-id-2 div.sk-toggleable {\n",
       "  /* Default theme specific background. It is overwritten whether we have a\n",
       "  specific estimator or a Pipeline/ColumnTransformer */\n",
       "  background-color: var(--sklearn-color-background);\n",
       "}\n",
       "\n",
       "/* Toggleable label */\n",
       "#sk-container-id-2 label.sk-toggleable__label {\n",
       "  cursor: pointer;\n",
       "  display: block;\n",
       "  width: 100%;\n",
       "  margin-bottom: 0;\n",
       "  padding: 0.5em;\n",
       "  box-sizing: border-box;\n",
       "  text-align: center;\n",
       "}\n",
       "\n",
       "#sk-container-id-2 label.sk-toggleable__label-arrow:before {\n",
       "  /* Arrow on the left of the label */\n",
       "  content: \"▸\";\n",
       "  float: left;\n",
       "  margin-right: 0.25em;\n",
       "  color: var(--sklearn-color-icon);\n",
       "}\n",
       "\n",
       "#sk-container-id-2 label.sk-toggleable__label-arrow:hover:before {\n",
       "  color: var(--sklearn-color-text);\n",
       "}\n",
       "\n",
       "/* Toggleable content - dropdown */\n",
       "\n",
       "#sk-container-id-2 div.sk-toggleable__content {\n",
       "  max-height: 0;\n",
       "  max-width: 0;\n",
       "  overflow: hidden;\n",
       "  text-align: left;\n",
       "  /* unfitted */\n",
       "  background-color: var(--sklearn-color-unfitted-level-0);\n",
       "}\n",
       "\n",
       "#sk-container-id-2 div.sk-toggleable__content.fitted {\n",
       "  /* fitted */\n",
       "  background-color: var(--sklearn-color-fitted-level-0);\n",
       "}\n",
       "\n",
       "#sk-container-id-2 div.sk-toggleable__content pre {\n",
       "  margin: 0.2em;\n",
       "  border-radius: 0.25em;\n",
       "  color: var(--sklearn-color-text);\n",
       "  /* unfitted */\n",
       "  background-color: var(--sklearn-color-unfitted-level-0);\n",
       "}\n",
       "\n",
       "#sk-container-id-2 div.sk-toggleable__content.fitted pre {\n",
       "  /* unfitted */\n",
       "  background-color: var(--sklearn-color-fitted-level-0);\n",
       "}\n",
       "\n",
       "#sk-container-id-2 input.sk-toggleable__control:checked~div.sk-toggleable__content {\n",
       "  /* Expand drop-down */\n",
       "  max-height: 200px;\n",
       "  max-width: 100%;\n",
       "  overflow: auto;\n",
       "}\n",
       "\n",
       "#sk-container-id-2 input.sk-toggleable__control:checked~label.sk-toggleable__label-arrow:before {\n",
       "  content: \"▾\";\n",
       "}\n",
       "\n",
       "/* Pipeline/ColumnTransformer-specific style */\n",
       "\n",
       "#sk-container-id-2 div.sk-label input.sk-toggleable__control:checked~label.sk-toggleable__label {\n",
       "  color: var(--sklearn-color-text);\n",
       "  background-color: var(--sklearn-color-unfitted-level-2);\n",
       "}\n",
       "\n",
       "#sk-container-id-2 div.sk-label.fitted input.sk-toggleable__control:checked~label.sk-toggleable__label {\n",
       "  background-color: var(--sklearn-color-fitted-level-2);\n",
       "}\n",
       "\n",
       "/* Estimator-specific style */\n",
       "\n",
       "/* Colorize estimator box */\n",
       "#sk-container-id-2 div.sk-estimator input.sk-toggleable__control:checked~label.sk-toggleable__label {\n",
       "  /* unfitted */\n",
       "  background-color: var(--sklearn-color-unfitted-level-2);\n",
       "}\n",
       "\n",
       "#sk-container-id-2 div.sk-estimator.fitted input.sk-toggleable__control:checked~label.sk-toggleable__label {\n",
       "  /* fitted */\n",
       "  background-color: var(--sklearn-color-fitted-level-2);\n",
       "}\n",
       "\n",
       "#sk-container-id-2 div.sk-label label.sk-toggleable__label,\n",
       "#sk-container-id-2 div.sk-label label {\n",
       "  /* The background is the default theme color */\n",
       "  color: var(--sklearn-color-text-on-default-background);\n",
       "}\n",
       "\n",
       "/* On hover, darken the color of the background */\n",
       "#sk-container-id-2 div.sk-label:hover label.sk-toggleable__label {\n",
       "  color: var(--sklearn-color-text);\n",
       "  background-color: var(--sklearn-color-unfitted-level-2);\n",
       "}\n",
       "\n",
       "/* Label box, darken color on hover, fitted */\n",
       "#sk-container-id-2 div.sk-label.fitted:hover label.sk-toggleable__label.fitted {\n",
       "  color: var(--sklearn-color-text);\n",
       "  background-color: var(--sklearn-color-fitted-level-2);\n",
       "}\n",
       "\n",
       "/* Estimator label */\n",
       "\n",
       "#sk-container-id-2 div.sk-label label {\n",
       "  font-family: monospace;\n",
       "  font-weight: bold;\n",
       "  display: inline-block;\n",
       "  line-height: 1.2em;\n",
       "}\n",
       "\n",
       "#sk-container-id-2 div.sk-label-container {\n",
       "  text-align: center;\n",
       "}\n",
       "\n",
       "/* Estimator-specific */\n",
       "#sk-container-id-2 div.sk-estimator {\n",
       "  font-family: monospace;\n",
       "  border: 1px dotted var(--sklearn-color-border-box);\n",
       "  border-radius: 0.25em;\n",
       "  box-sizing: border-box;\n",
       "  margin-bottom: 0.5em;\n",
       "  /* unfitted */\n",
       "  background-color: var(--sklearn-color-unfitted-level-0);\n",
       "}\n",
       "\n",
       "#sk-container-id-2 div.sk-estimator.fitted {\n",
       "  /* fitted */\n",
       "  background-color: var(--sklearn-color-fitted-level-0);\n",
       "}\n",
       "\n",
       "/* on hover */\n",
       "#sk-container-id-2 div.sk-estimator:hover {\n",
       "  /* unfitted */\n",
       "  background-color: var(--sklearn-color-unfitted-level-2);\n",
       "}\n",
       "\n",
       "#sk-container-id-2 div.sk-estimator.fitted:hover {\n",
       "  /* fitted */\n",
       "  background-color: var(--sklearn-color-fitted-level-2);\n",
       "}\n",
       "\n",
       "/* Specification for estimator info (e.g. \"i\" and \"?\") */\n",
       "\n",
       "/* Common style for \"i\" and \"?\" */\n",
       "\n",
       ".sk-estimator-doc-link,\n",
       "a:link.sk-estimator-doc-link,\n",
       "a:visited.sk-estimator-doc-link {\n",
       "  float: right;\n",
       "  font-size: smaller;\n",
       "  line-height: 1em;\n",
       "  font-family: monospace;\n",
       "  background-color: var(--sklearn-color-background);\n",
       "  border-radius: 1em;\n",
       "  height: 1em;\n",
       "  width: 1em;\n",
       "  text-decoration: none !important;\n",
       "  margin-left: 1ex;\n",
       "  /* unfitted */\n",
       "  border: var(--sklearn-color-unfitted-level-1) 1pt solid;\n",
       "  color: var(--sklearn-color-unfitted-level-1);\n",
       "}\n",
       "\n",
       ".sk-estimator-doc-link.fitted,\n",
       "a:link.sk-estimator-doc-link.fitted,\n",
       "a:visited.sk-estimator-doc-link.fitted {\n",
       "  /* fitted */\n",
       "  border: var(--sklearn-color-fitted-level-1) 1pt solid;\n",
       "  color: var(--sklearn-color-fitted-level-1);\n",
       "}\n",
       "\n",
       "/* On hover */\n",
       "div.sk-estimator:hover .sk-estimator-doc-link:hover,\n",
       ".sk-estimator-doc-link:hover,\n",
       "div.sk-label-container:hover .sk-estimator-doc-link:hover,\n",
       ".sk-estimator-doc-link:hover {\n",
       "  /* unfitted */\n",
       "  background-color: var(--sklearn-color-unfitted-level-3);\n",
       "  color: var(--sklearn-color-background);\n",
       "  text-decoration: none;\n",
       "}\n",
       "\n",
       "div.sk-estimator.fitted:hover .sk-estimator-doc-link.fitted:hover,\n",
       ".sk-estimator-doc-link.fitted:hover,\n",
       "div.sk-label-container:hover .sk-estimator-doc-link.fitted:hover,\n",
       ".sk-estimator-doc-link.fitted:hover {\n",
       "  /* fitted */\n",
       "  background-color: var(--sklearn-color-fitted-level-3);\n",
       "  color: var(--sklearn-color-background);\n",
       "  text-decoration: none;\n",
       "}\n",
       "\n",
       "/* Span, style for the box shown on hovering the info icon */\n",
       ".sk-estimator-doc-link span {\n",
       "  display: none;\n",
       "  z-index: 9999;\n",
       "  position: relative;\n",
       "  font-weight: normal;\n",
       "  right: .2ex;\n",
       "  padding: .5ex;\n",
       "  margin: .5ex;\n",
       "  width: min-content;\n",
       "  min-width: 20ex;\n",
       "  max-width: 50ex;\n",
       "  color: var(--sklearn-color-text);\n",
       "  box-shadow: 2pt 2pt 4pt #999;\n",
       "  /* unfitted */\n",
       "  background: var(--sklearn-color-unfitted-level-0);\n",
       "  border: .5pt solid var(--sklearn-color-unfitted-level-3);\n",
       "}\n",
       "\n",
       ".sk-estimator-doc-link.fitted span {\n",
       "  /* fitted */\n",
       "  background: var(--sklearn-color-fitted-level-0);\n",
       "  border: var(--sklearn-color-fitted-level-3);\n",
       "}\n",
       "\n",
       ".sk-estimator-doc-link:hover span {\n",
       "  display: block;\n",
       "}\n",
       "\n",
       "/* \"?\"-specific style due to the `<a>` HTML tag */\n",
       "\n",
       "#sk-container-id-2 a.estimator_doc_link {\n",
       "  float: right;\n",
       "  font-size: 1rem;\n",
       "  line-height: 1em;\n",
       "  font-family: monospace;\n",
       "  background-color: var(--sklearn-color-background);\n",
       "  border-radius: 1rem;\n",
       "  height: 1rem;\n",
       "  width: 1rem;\n",
       "  text-decoration: none;\n",
       "  /* unfitted */\n",
       "  color: var(--sklearn-color-unfitted-level-1);\n",
       "  border: var(--sklearn-color-unfitted-level-1) 1pt solid;\n",
       "}\n",
       "\n",
       "#sk-container-id-2 a.estimator_doc_link.fitted {\n",
       "  /* fitted */\n",
       "  border: var(--sklearn-color-fitted-level-1) 1pt solid;\n",
       "  color: var(--sklearn-color-fitted-level-1);\n",
       "}\n",
       "\n",
       "/* On hover */\n",
       "#sk-container-id-2 a.estimator_doc_link:hover {\n",
       "  /* unfitted */\n",
       "  background-color: var(--sklearn-color-unfitted-level-3);\n",
       "  color: var(--sklearn-color-background);\n",
       "  text-decoration: none;\n",
       "}\n",
       "\n",
       "#sk-container-id-2 a.estimator_doc_link.fitted:hover {\n",
       "  /* fitted */\n",
       "  background-color: var(--sklearn-color-fitted-level-3);\n",
       "}\n",
       "</style><div id=\"sk-container-id-2\" class=\"sk-top-container\"><div class=\"sk-text-repr-fallback\"><pre>Pipeline(steps=[(&#x27;sparsifier&#x27;,\n",
       "                 FunctionTransformer(accept_sparse=True,\n",
       "                                     func=&lt;class &#x27;scipy.sparse._csc.csc_matrix&#x27;&gt;)),\n",
       "                (&#x27;scaler&#x27;, StandardScaler(with_mean=False)),\n",
       "                (&#x27;elastic_net&#x27;,\n",
       "                 ElasticNet(alpha=0.39716770138830404,\n",
       "                            l1_ratio=0.02620987707994571, random_state=42,\n",
       "                            tol=0.01))])</pre><b>In a Jupyter environment, please rerun this cell to show the HTML representation or trust the notebook. <br />On GitHub, the HTML representation is unable to render, please try loading this page with nbviewer.org.</b></div><div class=\"sk-container\" hidden><div class=\"sk-item sk-dashed-wrapped\"><div class=\"sk-label-container\"><div class=\"sk-label fitted sk-toggleable\"><input class=\"sk-toggleable__control sk-hidden--visually\" id=\"sk-estimator-id-2\" type=\"checkbox\" ><label for=\"sk-estimator-id-2\" class=\"sk-toggleable__label fitted sk-toggleable__label-arrow fitted\">&nbsp;&nbsp;Pipeline<a class=\"sk-estimator-doc-link fitted\" rel=\"noreferrer\" target=\"_blank\" href=\"https://scikit-learn.org/1.5/modules/generated/sklearn.pipeline.Pipeline.html\">?<span>Documentation for Pipeline</span></a><span class=\"sk-estimator-doc-link fitted\">i<span>Fitted</span></span></label><div class=\"sk-toggleable__content fitted\"><pre>Pipeline(steps=[(&#x27;sparsifier&#x27;,\n",
       "                 FunctionTransformer(accept_sparse=True,\n",
       "                                     func=&lt;class &#x27;scipy.sparse._csc.csc_matrix&#x27;&gt;)),\n",
       "                (&#x27;scaler&#x27;, StandardScaler(with_mean=False)),\n",
       "                (&#x27;elastic_net&#x27;,\n",
       "                 ElasticNet(alpha=0.39716770138830404,\n",
       "                            l1_ratio=0.02620987707994571, random_state=42,\n",
       "                            tol=0.01))])</pre></div> </div></div><div class=\"sk-serial\"><div class=\"sk-item\"><div class=\"sk-estimator fitted sk-toggleable\"><input class=\"sk-toggleable__control sk-hidden--visually\" id=\"sk-estimator-id-3\" type=\"checkbox\" ><label for=\"sk-estimator-id-3\" class=\"sk-toggleable__label fitted sk-toggleable__label-arrow fitted\">&nbsp;FunctionTransformer<a class=\"sk-estimator-doc-link fitted\" rel=\"noreferrer\" target=\"_blank\" href=\"https://scikit-learn.org/1.5/modules/generated/sklearn.preprocessing.FunctionTransformer.html\">?<span>Documentation for FunctionTransformer</span></a></label><div class=\"sk-toggleable__content fitted\"><pre>FunctionTransformer(accept_sparse=True,\n",
       "                    func=&lt;class &#x27;scipy.sparse._csc.csc_matrix&#x27;&gt;)</pre></div> </div></div><div class=\"sk-item\"><div class=\"sk-estimator fitted sk-toggleable\"><input class=\"sk-toggleable__control sk-hidden--visually\" id=\"sk-estimator-id-4\" type=\"checkbox\" ><label for=\"sk-estimator-id-4\" class=\"sk-toggleable__label fitted sk-toggleable__label-arrow fitted\">&nbsp;StandardScaler<a class=\"sk-estimator-doc-link fitted\" rel=\"noreferrer\" target=\"_blank\" href=\"https://scikit-learn.org/1.5/modules/generated/sklearn.preprocessing.StandardScaler.html\">?<span>Documentation for StandardScaler</span></a></label><div class=\"sk-toggleable__content fitted\"><pre>StandardScaler(with_mean=False)</pre></div> </div></div><div class=\"sk-item\"><div class=\"sk-estimator fitted sk-toggleable\"><input class=\"sk-toggleable__control sk-hidden--visually\" id=\"sk-estimator-id-5\" type=\"checkbox\" ><label for=\"sk-estimator-id-5\" class=\"sk-toggleable__label fitted sk-toggleable__label-arrow fitted\">&nbsp;ElasticNet<a class=\"sk-estimator-doc-link fitted\" rel=\"noreferrer\" target=\"_blank\" href=\"https://scikit-learn.org/1.5/modules/generated/sklearn.linear_model.ElasticNet.html\">?<span>Documentation for ElasticNet</span></a></label><div class=\"sk-toggleable__content fitted\"><pre>ElasticNet(alpha=0.39716770138830404, l1_ratio=0.02620987707994571,\n",
       "           random_state=42, tol=0.01)</pre></div> </div></div></div></div></div></div>"
      ],
      "text/plain": [
       "Pipeline(steps=[('sparsifier',\n",
       "                 FunctionTransformer(accept_sparse=True,\n",
       "                                     func=<class 'scipy.sparse._csc.csc_matrix'>)),\n",
       "                ('scaler', StandardScaler(with_mean=False)),\n",
       "                ('elastic_net',\n",
       "                 ElasticNet(alpha=0.39716770138830404,\n",
       "                            l1_ratio=0.02620987707994571, random_state=42,\n",
       "                            tol=0.01))])"
      ]
     },
     "execution_count": 68,
     "metadata": {},
     "output_type": "execute_result"
    }
   ],
   "source": [
    "best_alpha = study_en.best_params['alpha']\n",
    "best_l1_ratio = study_en.best_params['l1_ratio']\n",
    "\n",
    "best_model_en = Pipeline([\n",
    "    ('sparsifier', FunctionTransformer(sparse.csc_matrix, accept_sparse=True)),\n",
    "    ('scaler', StandardScaler(with_mean=False)),\n",
    "    ('elastic_net', ElasticNet(tol=0.01, random_state=42, alpha=best_alpha, l1_ratio=best_l1_ratio))\n",
    "])\n",
    "\n",
    "best_model_en.fit(X_train, y_train)\n",
    "#dump(best_model_en, 'best_model_en.joblib')"
   ]
  },
  {
   "cell_type": "code",
   "execution_count": 115,
   "metadata": {},
   "outputs": [
    {
     "name": "stdout",
     "output_type": "stream",
     "text": [
      "Cross-validation RMSE: 0.30 +/- 0.01\n",
      "Train RMSE: 0.26\n",
      "Test RMSE: 0.32\n"
     ]
    }
   ],
   "source": [
    "cv_mean_en_best, cv_std_en_best, train_rmse_en_best, test_rmse_en_best = model_evaluation(best_model_en, X_train, y_train, X_test, y_test, kf)"
   ]
  },
  {
   "cell_type": "code",
   "execution_count": 116,
   "metadata": {},
   "outputs": [
    {
     "data": {
      "text/html": [
       "<div>\n",
       "<style scoped>\n",
       "    .dataframe tbody tr th:only-of-type {\n",
       "        vertical-align: middle;\n",
       "    }\n",
       "\n",
       "    .dataframe tbody tr th {\n",
       "        vertical-align: top;\n",
       "    }\n",
       "\n",
       "    .dataframe thead th {\n",
       "        text-align: right;\n",
       "    }\n",
       "</style>\n",
       "<table border=\"1\" class=\"dataframe\">\n",
       "  <thead>\n",
       "    <tr style=\"text-align: right;\">\n",
       "      <th></th>\n",
       "      <th>Model</th>\n",
       "      <th>Mean CV Error (RMSE)</th>\n",
       "      <th>Std CV Error (RMSE)</th>\n",
       "      <th>Training Error (RMSE)</th>\n",
       "      <th>Test Error (RMSE)</th>\n",
       "    </tr>\n",
       "  </thead>\n",
       "  <tbody>\n",
       "    <tr>\n",
       "      <th>0</th>\n",
       "      <td>Random Forest</td>\n",
       "      <td>0.307246</td>\n",
       "      <td>0.012341</td>\n",
       "      <td>0.129762</td>\n",
       "      <td>-</td>\n",
       "    </tr>\n",
       "    <tr>\n",
       "      <th>1</th>\n",
       "      <td>Optimized Random Forest</td>\n",
       "      <td>0.284761</td>\n",
       "      <td>0.010919</td>\n",
       "      <td>0.156873</td>\n",
       "      <td>0.290468</td>\n",
       "    </tr>\n",
       "    <tr>\n",
       "      <th>2</th>\n",
       "      <td>Elastic Net</td>\n",
       "      <td>0.316946</td>\n",
       "      <td>0.011518</td>\n",
       "      <td>0.134677</td>\n",
       "      <td>-</td>\n",
       "    </tr>\n",
       "    <tr>\n",
       "      <th>3</th>\n",
       "      <td>Optimized Elastic Net</td>\n",
       "      <td>0.301072</td>\n",
       "      <td>0.010572</td>\n",
       "      <td>0.255819</td>\n",
       "      <td>0.323012</td>\n",
       "    </tr>\n",
       "    <tr>\n",
       "      <th>4</th>\n",
       "      <td>Dummy Regressor</td>\n",
       "      <td>-</td>\n",
       "      <td>-</td>\n",
       "      <td>0.926854</td>\n",
       "      <td>-</td>\n",
       "    </tr>\n",
       "  </tbody>\n",
       "</table>\n",
       "</div>"
      ],
      "text/plain": [
       "                     Model Mean CV Error (RMSE) Std CV Error (RMSE)  \\\n",
       "0            Random Forest             0.307246            0.012341   \n",
       "1  Optimized Random Forest             0.284761            0.010919   \n",
       "2              Elastic Net             0.316946            0.011518   \n",
       "3    Optimized Elastic Net             0.301072            0.010572   \n",
       "4          Dummy Regressor                    -                   -   \n",
       "\n",
       "   Training Error (RMSE) Test Error (RMSE)  \n",
       "0               0.129762                 -  \n",
       "1               0.156873          0.290468  \n",
       "2               0.134677                 -  \n",
       "3               0.255819          0.323012  \n",
       "4               0.926854                 -  "
      ]
     },
     "execution_count": 116,
     "metadata": {},
     "output_type": "execute_result"
    }
   ],
   "source": [
    "results = {\n",
    "    \"Model\": [\"Random Forest\", \"Optimized Random Forest\", \"Elastic Net\", \"Optimized Elastic Net\", \"Dummy Regressor\"],\n",
    "    \"Mean CV Error (RMSE)\": [mean_cv_score_randomforest, cv_mean_rf_best, mean_cv_score_elasticnet, cv_mean_en_best, '-'],\n",
    "    \"Std CV Error (RMSE)\": [std_cv_score_randomforest, cv_std_rf_best, std_cv_score_elasticnet, cv_std_en_best, '-'],\n",
    "    \"Training Error (RMSE)\": [train_error_randomforest, train_rmse_rf_best, train_error_elasticnet, train_rmse_en_best, train_error_dummy],\n",
    "    \"Test Error (RMSE)\": ['-', test_rmse_rf_best, '-', test_rmse_en_best, '-']\n",
    "}\n",
    "\n",
    "results_df = pd.DataFrame(results)\n",
    "results_df"
   ]
  },
  {
   "cell_type": "markdown",
   "metadata": {},
   "source": [
    "Porównując wszystkie zebrane wyniki wykorzystanych modeli, stwierdzono, ze modele Random Forest i Elastic Net, zarówno w swoich podstawowych wersjach, jak i po optymalizacji, wykazały znaczną poprawę w porównaniu do prostego modelu bazowego. Optymalizacja hiperparametrów pozwoliła na osiągnięcie niższych błędów predykcji w przypadku obu modeli. Zoptymalizowana wersja RandomForest osiągneła najlepsze wyniki. To właśnie na tym modelu dokonano końcowej predykcji zbioru testowego."
   ]
  }
 ],
 "metadata": {
  "kernelspec": {
   "display_name": ".venv",
   "language": "python",
   "name": "python3"
  },
  "language_info": {
   "codemirror_mode": {
    "name": "ipython",
    "version": 3
   },
   "file_extension": ".py",
   "mimetype": "text/x-python",
   "name": "python",
   "nbconvert_exporter": "python",
   "pygments_lexer": "ipython3",
   "version": "3.12.3"
  }
 },
 "nbformat": 4,
 "nbformat_minor": 2
}
