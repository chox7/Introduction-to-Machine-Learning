{
 "cells": [
  {
   "cell_type": "code",
   "id": "initial_id",
   "metadata": {
    "collapsed": true,
    "ExecuteTime": {
     "end_time": "2024-11-28T14:00:39.283433Z",
     "start_time": "2024-11-28T14:00:39.131675Z"
    }
   },
   "source": [
    "import scipy \n",
    "import numpy as np\n",
    "import pandas as pd\n",
    "import matplotlib.pyplot as plt\n",
    "import seaborn as sns\n",
    "\n",
    "from sklearn.model_selection import GridSearchCV\n",
    "from sklearn.model_selection import train_test_split\n",
    "\n",
    "from sklearn.linear_model import LogisticRegression\n",
    "from sklearn.metrics import classification_report\n",
    "from sklearn.preprocessing import StandardScaler\n",
    "from sklearn.pipeline import Pipeline\n",
    "from sklearn.decomposition import PCA\n",
    "\n",
    "import numpy as np\n",
    "import matplotlib.pyplot as plt\n",
    "from sklearn.linear_model import LogisticRegression\n",
    "from sklearn.model_selection import StratifiedKFold\n",
    "from sklearn.metrics import roc_curve, auc, precision_score, recall_score, accuracy_score, f1_score, matthews_corrcoef\n",
    "from termcolor import colored\n"
   ],
   "outputs": [],
   "execution_count": 2
  },
  {
   "metadata": {
    "ExecuteTime": {
     "end_time": "2024-11-28T14:00:39.363700Z",
     "start_time": "2024-11-28T14:00:39.311080Z"
    }
   },
   "cell_type": "code",
   "source": [
    "data = scipy.io.loadmat('Dane_kalibracja_p300/p300_DS1.mat')\n",
    "X, y = data[\"X\"], data[\"Y\"].ravel()\n",
    "df = pd.DataFrame(X)\n",
    "df['label'] = y.T\n",
    "print(df)"
   ],
   "id": "ec939c7101c80a90",
   "outputs": [
    {
     "name": "stdout",
     "output_type": "stream",
     "text": [
      "             0           1          2          3           4          5  \\\n",
      "0    21.586568   13.865678  35.418458  23.002133   59.615603  43.019799   \n",
      "1    10.038336    3.190109  12.601341  45.456217   27.925404  46.902588   \n",
      "2    15.662260   19.012544  30.351975  16.966999   26.757476  41.644185   \n",
      "3    54.136069    6.083398  14.051964  10.887053   17.794634  20.949373   \n",
      "4    30.986576   20.291351  44.929102  31.491954   47.473579  38.827202   \n",
      "5    11.185214   43.633196  10.050168  17.178736   39.662714   4.773889   \n",
      "6     7.980026    7.332907  14.293290  15.113070   22.734330   8.020160   \n",
      "7    19.544943    8.483811  10.784579  16.992990   38.810474  61.463519   \n",
      "8    10.540034   25.392049  19.279626  47.676448   26.950805  50.567690   \n",
      "9     2.473655   12.069200  77.680097  55.831714   36.676419  24.250666   \n",
      "10    7.383957   13.546314  40.990284  11.272280   49.834665  32.594759   \n",
      "11    4.999993    9.048012  11.609412  23.223159   79.225473  42.463748   \n",
      "12   21.606735   48.583706  20.981701  44.023759   19.928091  27.682285   \n",
      "13   18.651529    5.566645   5.080965  56.349484   10.202727  22.541887   \n",
      "14  199.217579   18.131436  92.259830  60.468944  141.181778  93.423623   \n",
      "15   14.987925    5.637143  41.523080  21.368399   21.222310  26.958540   \n",
      "16   24.281244   11.288889  29.486302  62.662473   39.122459  24.923919   \n",
      "17   34.760813    8.064708   4.086328  40.066674   10.454827  28.940923   \n",
      "18   14.604259    1.863482  63.371785  47.667706   33.086490  13.046086   \n",
      "19   14.739347    6.700388  29.940897   8.929485   14.442944  28.900563   \n",
      "20   25.685368    8.973561   7.412038   9.057780   26.985335  40.584383   \n",
      "21   23.575480   38.451848  32.815499  16.954736   36.556105  60.923944   \n",
      "22   27.823299   72.391600  18.119676  19.541284   30.159419  26.446086   \n",
      "23   34.431373    7.545935   9.198198  15.296907   26.506242  50.396138   \n",
      "24   39.837334    1.893558  19.782214  50.810219   31.221069  55.943205   \n",
      "25    6.825827   11.408191  30.568805  15.343265   55.473815  33.402818   \n",
      "26   12.595399   34.696444  16.603010  22.234062   19.587751  10.093754   \n",
      "27   11.810101    5.889078  15.355726  42.965324   16.941279  27.035929   \n",
      "28    3.722992    9.516050   7.866229  20.198309    6.703402  19.949519   \n",
      "29   31.796238  130.057188  19.662956  66.211395   21.106696  44.171639   \n",
      "30   12.436213    9.611911  69.888147  47.361029   40.973731  17.625571   \n",
      "31    7.089781    5.040240  13.429325  37.675497   14.804481  13.061406   \n",
      "32   32.823802   17.489458  48.516617  15.036239   12.986631  38.364841   \n",
      "33    9.360423   11.850640  78.575382  12.289803   19.854323  10.053589   \n",
      "34    8.179599    8.851083  58.159311  13.331084   31.162938  16.032097   \n",
      "\n",
      "            6          7           8           9  ...          12          13  \\\n",
      "0   48.161701  64.802831   43.839713   13.754618  ...   24.438721  169.187636   \n",
      "1   31.174164  45.164679   36.495773   65.734772  ...   66.595078   47.913401   \n",
      "2   20.186375  13.806559   29.046187   16.715228  ...   45.546906   28.347770   \n",
      "3   39.216776  39.794434   52.978275   31.537480  ...   30.590366   39.077927   \n",
      "4   98.165672  25.090112   41.438196   14.675865  ...   27.708280   93.280334   \n",
      "5   34.680310  25.147444   29.247125   24.226488  ...   90.398221   52.225135   \n",
      "6   29.730235  35.636773   35.970501   16.527865  ...    6.589298   30.320181   \n",
      "7   40.359488  40.893909   31.967236   57.561298  ...   77.304397   35.994234   \n",
      "8    6.964919  68.775055   43.306512  122.708759  ...   50.182469   25.586703   \n",
      "9   10.215680  75.611497   45.257200   59.186500  ...    9.429090   28.105874   \n",
      "10  54.410472  15.114744   35.652524   24.154201  ...   16.521541   47.829135   \n",
      "11  25.354004  27.046985   10.236848   32.049415  ...   18.514191   32.292354   \n",
      "12  24.144688  20.697732   21.695866   11.394586  ...   14.214753   20.145999   \n",
      "13  11.630778  19.728250   42.451356   40.180336  ...   21.268993   44.923360   \n",
      "14  72.419180  66.886672  115.727905  138.440023  ...  183.932493   47.015957   \n",
      "15  25.321232   6.838228   52.472814    7.489134  ...   24.276998   33.373936   \n",
      "16  12.610991  21.701289   20.245342   26.292996  ...   26.329164   11.245359   \n",
      "17  23.165624  27.084207    2.510868   20.444435  ...   20.280528   15.553096   \n",
      "18  31.051782  76.173603    8.690402    6.776396  ...   16.987122   11.700024   \n",
      "19  21.346345   7.499059   19.845965   48.374651  ...   21.896112   18.423357   \n",
      "20  38.803123   8.402307   12.475278   11.128159  ...   25.375473   17.372743   \n",
      "21  30.847102  14.876622   50.581989   28.592937  ...   29.627810   72.884976   \n",
      "22  10.512921  16.732556   11.625344   14.261386  ...   17.508547   23.784364   \n",
      "23  44.187784  20.640935   25.452536   32.252640  ...   41.267307   44.945520   \n",
      "24  14.220689  28.918000   23.637984    8.802720  ...   18.123481   22.317811   \n",
      "25  22.887608  71.226352   51.270311   48.382290  ...   42.340366   34.572283   \n",
      "26  23.678194  30.586678   22.034515   20.398753  ...   14.384325   33.242482   \n",
      "27  15.884095  25.591988    8.269625   31.932064  ...   21.310886   19.897904   \n",
      "28  26.586267  23.334731   23.102999   39.785473  ...   26.748108   29.121350   \n",
      "29  42.978818  15.117546   22.127073   34.919107  ...   45.702318   30.799927   \n",
      "30  36.020960  29.758190    7.905124    4.843553  ...   21.886701   28.754055   \n",
      "31   7.004591  46.704675    6.671155   39.158881  ...   12.180844   32.013960   \n",
      "32  29.284285  23.714783    7.595431   28.691852  ...   71.978242   27.872976   \n",
      "33  28.585111  10.285810   32.010929   18.384769  ...   18.860153   23.257957   \n",
      "34  14.118878  30.619601   19.892119   12.320284  ...   63.252784   30.658632   \n",
      "\n",
      "            14          15          16         17          18          19  \\\n",
      "0    12.981064   37.127363  107.381083  86.679923  208.221908   33.065459   \n",
      "1    30.743630   30.648188   91.998764  44.268856   68.006156   37.022476   \n",
      "2    33.064205   22.103329   67.226708  28.477474   83.703465   12.385862   \n",
      "3   137.070041   41.477875   42.589693  48.231461   77.052090   16.100464   \n",
      "4    19.096898   27.413317   81.129142  10.609529  108.495146   21.432088   \n",
      "5    13.028934   33.561302   40.587990  43.236298  165.410765   35.481400   \n",
      "6     7.425872   44.117884   17.658441  22.629337  184.905856   36.725769   \n",
      "7    37.832753   51.173095   32.011991  30.077209  139.784391   37.777437   \n",
      "8    38.800139   36.767008   12.226222  27.876242  194.996680   46.750932   \n",
      "9    38.608334    2.986323  104.765018  36.063703  128.734292   51.973766   \n",
      "10   15.065049   22.933715   94.967412  95.090793   77.422021  207.670059   \n",
      "11   30.930980  103.264439   77.929224  54.040607  134.450686   71.577904   \n",
      "12   61.473682   30.282969   13.350017  19.101020   45.114101   76.250335   \n",
      "13   39.870874   53.064978   99.290558  95.068136   19.217884  243.291515   \n",
      "14   26.568889  104.318198   72.543968  21.590592   89.293418   55.487438   \n",
      "15   46.249455   27.675023   21.511910  29.189979   39.543118    7.645388   \n",
      "16   28.155616   11.786458   83.079200  35.613890   19.987257    5.457733   \n",
      "17   16.055430   26.724906   39.033677  10.618935   19.311138   17.253785   \n",
      "18   16.631412   24.765468   26.715780  93.659637    7.081569    8.736392   \n",
      "19   61.577513   37.195527    7.694170  35.549588   18.885535   13.829710   \n",
      "20   45.852975    5.639101   60.737216  27.974897   27.226077   23.485955   \n",
      "21   22.098797   20.242398   23.944999  26.425564   21.602196   30.041214   \n",
      "22   40.440565   29.042115   26.568064  17.526159   22.744771   25.457412   \n",
      "23   26.466334   43.409594   16.617246  31.489412   19.084032   28.473589   \n",
      "24   34.280954   20.951317   57.190114  42.740552   14.795882   41.193204   \n",
      "25   33.714257   33.269096   29.679992  12.599117   29.203986   34.456548   \n",
      "26   21.255514   28.280860   34.782997  42.118007   50.121128   21.761277   \n",
      "27   13.414510    7.160062   18.380981  38.308580   31.360811   62.930115   \n",
      "28   29.625734   46.718473    6.363101  42.166363   61.662631   16.948697   \n",
      "29   81.605822   43.230843  144.188095  80.434827   42.988083  152.243309   \n",
      "30    7.701905   30.461954  110.805229  48.455398   45.866329  135.879541   \n",
      "31   13.401932    6.392419   31.739900  28.854953   19.885625   18.607850   \n",
      "32    4.541877   36.976841   30.604624  69.142538   22.508222   33.986855   \n",
      "33   30.610602   26.054311   24.894499  13.172360   28.034197   21.618332   \n",
      "34    9.771140   73.266535   80.245043  31.307446   37.552712   69.334638   \n",
      "\n",
      "            20  label  \n",
      "0    67.747149      1  \n",
      "1   117.423382      1  \n",
      "2    28.653264      1  \n",
      "3    30.825729      1  \n",
      "4    19.449574      1  \n",
      "5    26.166183      1  \n",
      "6    37.623109      1  \n",
      "7   121.728000      1  \n",
      "8   143.264463      1  \n",
      "9    32.323802      1  \n",
      "10   62.286879      1  \n",
      "11   57.361929      1  \n",
      "12   13.235777      0  \n",
      "13   28.937218      0  \n",
      "14  228.232074      0  \n",
      "15   21.917164      0  \n",
      "16   35.539238      0  \n",
      "17   18.533364      0  \n",
      "18   35.366685      0  \n",
      "19   20.738988      0  \n",
      "20   20.965026      0  \n",
      "21    8.842530      0  \n",
      "22   51.820047      0  \n",
      "23   37.117076      0  \n",
      "24   13.869445      0  \n",
      "25   14.725370      0  \n",
      "26   34.336017      0  \n",
      "27   13.205116      0  \n",
      "28    7.563128      0  \n",
      "29   56.347341      0  \n",
      "30   34.460571      0  \n",
      "31    7.506292      0  \n",
      "32   19.384396      0  \n",
      "33   18.262903      0  \n",
      "34   13.504013      0  \n",
      "\n",
      "[35 rows x 22 columns]\n"
     ]
    }
   ],
   "execution_count": 3
  },
  {
   "metadata": {
    "ExecuteTime": {
     "end_time": "2024-11-28T14:00:39.513389Z",
     "start_time": "2024-11-28T14:00:39.504145Z"
    }
   },
   "cell_type": "code",
   "source": "print(df.info())",
   "id": "2142de65f73238ef",
   "outputs": [
    {
     "name": "stdout",
     "output_type": "stream",
     "text": [
      "<class 'pandas.core.frame.DataFrame'>\n",
      "RangeIndex: 35 entries, 0 to 34\n",
      "Data columns (total 22 columns):\n",
      " #   Column  Non-Null Count  Dtype  \n",
      "---  ------  --------------  -----  \n",
      " 0   0       35 non-null     float64\n",
      " 1   1       35 non-null     float64\n",
      " 2   2       35 non-null     float64\n",
      " 3   3       35 non-null     float64\n",
      " 4   4       35 non-null     float64\n",
      " 5   5       35 non-null     float64\n",
      " 6   6       35 non-null     float64\n",
      " 7   7       35 non-null     float64\n",
      " 8   8       35 non-null     float64\n",
      " 9   9       35 non-null     float64\n",
      " 10  10      35 non-null     float64\n",
      " 11  11      35 non-null     float64\n",
      " 12  12      35 non-null     float64\n",
      " 13  13      35 non-null     float64\n",
      " 14  14      35 non-null     float64\n",
      " 15  15      35 non-null     float64\n",
      " 16  16      35 non-null     float64\n",
      " 17  17      35 non-null     float64\n",
      " 18  18      35 non-null     float64\n",
      " 19  19      35 non-null     float64\n",
      " 20  20      35 non-null     float64\n",
      " 21  label   35 non-null     uint8  \n",
      "dtypes: float64(21), uint8(1)\n",
      "memory usage: 5.9 KB\n",
      "None\n"
     ]
    }
   ],
   "execution_count": 4
  },
  {
   "metadata": {
    "ExecuteTime": {
     "end_time": "2024-11-28T14:00:39.764853Z",
     "start_time": "2024-11-28T14:00:39.744361Z"
    }
   },
   "cell_type": "code",
   "source": "print(df.describe())",
   "id": "51bd71ed838ffec1",
   "outputs": [
    {
     "name": "stdout",
     "output_type": "stream",
     "text": [
      "                0           1          2          3           4          5  \\\n",
      "count   35.000000   35.000000  35.000000  35.000000   35.000000  35.000000   \n",
      "mean    23.638865   18.898621  30.134981  30.312475   32.975041  32.742295   \n",
      "std     32.736326   24.535061  23.461666  17.958461   24.338164  18.482737   \n",
      "min      2.473655    1.863482   4.086328   8.929485    6.703402   4.773889   \n",
      "25%      9.699379    7.016647  13.015333  15.320086   19.721037  20.449446   \n",
      "50%     14.987925    9.611911  19.782214  22.234062   26.985335  28.900563   \n",
      "75%     26.754334   18.571990  41.256682  46.408623   38.966467  42.741773   \n",
      "max    199.217579  130.057188  92.259830  66.211395  141.181778  93.423623   \n",
      "\n",
      "               6          7           8           9  ...          12  \\\n",
      "count  35.000000  35.000000   35.000000   35.000000  ...   35.000000   \n",
      "mean   29.883167  32.000138   29.820829   32.916569  ...   36.101488   \n",
      "std    18.505434  20.385519   21.087262   29.000085  ...   32.916235   \n",
      "min     6.964919   6.838228    2.510868    4.843553  ...    6.589298   \n",
      "25%    18.035235  18.230403   16.160622   14.468625  ...   18.318836   \n",
      "50%    26.586267  25.591988   25.452536   26.292996  ...   24.438721   \n",
      "75%    37.412041  40.344171   41.944776   39.472177  ...   43.943636   \n",
      "max    98.165672  76.173603  115.727905  138.440023  ...  183.932493   \n",
      "\n",
      "               13          14          15          16         17          18  \\\n",
      "count   35.000000   35.000000   35.000000   35.000000  35.000000   35.000000   \n",
      "mean    37.258249   32.171820   34.870951   52.298088  40.582554   65.835833   \n",
      "std     28.167839   24.853662   22.486765   36.136468  24.201139   57.235574   \n",
      "min     11.245359    4.541877    2.986323    6.363101  10.609529    7.081569   \n",
      "25%     23.521160   15.560239   23.849592   24.419749  27.150903   22.055209   \n",
      "50%     30.658632   29.625734   30.461954   39.033677  35.549588   42.988083   \n",
      "75%     42.000644   38.704237   42.354359   80.687093  46.250159   86.498442   \n",
      "max    169.187636  137.070041  104.318198  144.188095  95.090793  208.221908   \n",
      "\n",
      "               19          20      label  \n",
      "count   35.000000   35.000000  35.000000  \n",
      "mean    50.066699   42.836093   0.342857  \n",
      "std     54.353671   45.550083   0.481594  \n",
      "min      5.457733    7.506292   0.000000  \n",
      "25%     20.019969   18.398134   0.000000  \n",
      "50%     33.986855   28.937218   0.000000  \n",
      "75%     53.730602   44.721578   1.000000  \n",
      "max    243.291515  228.232074   1.000000  \n",
      "\n",
      "[8 rows x 22 columns]\n"
     ]
    }
   ],
   "execution_count": 5
  },
  {
   "metadata": {
    "ExecuteTime": {
     "end_time": "2024-11-28T14:00:40.045187Z",
     "start_time": "2024-11-28T14:00:39.926322Z"
    }
   },
   "cell_type": "code",
   "source": [
    "correlation_matrix = np.corrcoef(X, rowvar=False)\n",
    "plt.figure(figsize=(10, 8))\n",
    "\n",
    "sns.heatmap(correlation_matrix, cmap='coolwarm', annot=False, xticklabels=False, yticklabels=False)\n",
    "plt.show()"
   ],
   "id": "fa18e516be2f86c6",
   "outputs": [
    {
     "data": {
      "text/plain": [
       "<Figure size 1000x800 with 2 Axes>"
      ],
      "image/png": "[encoded data removed]"
     },
     "metadata": {},
     "output_type": "display_data"
    }
   ],
   "execution_count": 6
  },
  {
   "metadata": {
    "ExecuteTime": {
     "end_time": "2024-11-28T14:00:40.113233Z",
     "start_time": "2024-11-28T14:00:40.108228Z"
    }
   },
   "cell_type": "code",
   "source": [
    "data1 = scipy.io.loadmat('Dane_kalibracja_p300/p300_DS1.mat')\n",
    "X1, y1 = data1[\"X\"], data1[\"Y\"].ravel()\n",
    "z1 = np.zeros_like(y1)\n",
    "data2 = scipy.io.loadmat('Dane_kalibracja_p300/p300_DS2.mat')\n",
    "X2, y2 = data2[\"X\"], data2[\"Y\"].ravel()\n",
    "z2 = np.zeros_like(y2) + 1\n",
    "data3 = scipy.io.loadmat('Dane_kalibracja_p300/p300_DS3.mat')\n",
    "X3, y3 = data3[\"X\"], data3[\"Y\"].ravel()\n",
    "z3 = np.zeros_like(y3) + 2\n"
   ],
   "id": "43e6b35fbde82d08",
   "outputs": [],
   "execution_count": 7
  },
  {
   "metadata": {
    "ExecuteTime": {
     "end_time": "2024-11-28T14:00:40.320478Z",
     "start_time": "2024-11-28T14:00:40.318913Z"
    }
   },
   "cell_type": "code",
   "source": "",
   "id": "a1b0ad74bcd659ab",
   "outputs": [],
   "execution_count": null
  },
  {
   "metadata": {
    "ExecuteTime": {
     "end_time": "2024-11-28T14:00:40.728311Z",
     "start_time": "2024-11-28T14:00:40.723035Z"
    }
   },
   "cell_type": "code",
   "source": [
    "X = np.concatenate((X1, X2, X3))\n",
    "y = np.concatenate((y1, y2, y3))\n",
    "z = np.concatenate((z1, z2, z3))\n",
    "\n",
    "X_train, X_test, y_train, y_test = train_test_split(X, y, test_size=0.2, random_state=42, stratify=z)"
   ],
   "id": "16d86f8441cb84fb",
   "outputs": [],
   "execution_count": 8
  },
  {
   "metadata": {
    "ExecuteTime": {
     "end_time": "2024-11-28T14:00:41.156637Z",
     "start_time": "2024-11-28T14:00:41.153393Z"
    }
   },
   "cell_type": "code",
   "source": "z",
   "id": "2b05e35fcc21a772",
   "outputs": [
    {
     "data": {
      "text/plain": [
       "array([0, 0, 0, 0, 0, 0, 0, 0, 0, 0, 0, 0, 0, 0, 0, 0, 0, 0, 0, 0, 0, 0,\n",
       "       0, 0, 0, 0, 0, 0, 0, 0, 0, 0, 0, 0, 0, 1, 1, 1, 1, 1, 1, 1, 1, 1,\n",
       "       1, 1, 1, 1, 1, 1, 1, 1, 1, 1, 1, 1, 1, 1, 1, 1, 1, 1, 1, 1, 1, 1,\n",
       "       1, 1, 1, 1, 2, 2, 2, 2, 2, 2, 2, 2, 2, 2, 2, 2, 2, 2, 2, 2, 2, 2,\n",
       "       2, 2, 2, 2, 2, 2, 2, 2, 2, 2, 2, 2, 2, 2, 2, 2, 2, 2], dtype=uint8)"
      ]
     },
     "execution_count": 9,
     "metadata": {},
     "output_type": "execute_result"
    }
   ],
   "execution_count": 9
  },
  {
   "metadata": {
    "ExecuteTime": {
     "end_time": "2024-11-28T14:00:41.668335Z",
     "start_time": "2024-11-28T14:00:41.663492Z"
    }
   },
   "cell_type": "code",
   "source": "X.shape",
   "id": "947e72de44dfca2d",
   "outputs": [
    {
     "data": {
      "text/plain": [
       "(106, 21)"
      ]
     },
     "execution_count": 10,
     "metadata": {},
     "output_type": "execute_result"
    }
   ],
   "execution_count": 10
  },
  {
   "metadata": {
    "ExecuteTime": {
     "end_time": "2024-11-28T14:00:42.125747Z",
     "start_time": "2024-11-28T14:00:42.094202Z"
    }
   },
   "cell_type": "code",
   "source": [
    "model = LogisticRegression(max_iter=10000)\n",
    "model.fit(X_train, y_train)\n",
    "\n",
    "y_pred = model.predict(X_test)\n",
    "\n",
    "print(classification_report(y_test, y_pred))"
   ],
   "id": "8be2c86ebfd5dc18",
   "outputs": [
    {
     "name": "stdout",
     "output_type": "stream",
     "text": [
      "              precision    recall  f1-score   support\n",
      "\n",
      "           0       0.80      0.57      0.67        14\n",
      "           1       0.50      0.75      0.60         8\n",
      "\n",
      "    accuracy                           0.64        22\n",
      "   macro avg       0.65      0.66      0.63        22\n",
      "weighted avg       0.69      0.64      0.64        22\n",
      "\n"
     ]
    }
   ],
   "execution_count": 11
  },
  {
   "metadata": {
    "ExecuteTime": {
     "end_time": "2024-11-28T14:00:42.632049Z",
     "start_time": "2024-11-28T14:00:42.617760Z"
    }
   },
   "cell_type": "code",
   "source": [
    "# Tworzymy model regresji logistycznej\n",
    "pipeline = Pipeline([\n",
    "    ('scaler', StandardScaler()),\n",
    "    ('log_reg', LogisticRegression(max_iter=10000))\n",
    "])\n",
    "\n",
    "# Trenujemy model z wyszukiwaniem najlepszych hiperparametrów\n",
    "pipeline.fit(X_train, y_train)\n",
    "\n",
    "y_pred = pipeline.predict(X_test)\n",
    "print(classification_report(y_test, y_pred))"
   ],
   "id": "347c2fadd5ecc7f3",
   "outputs": [
    {
     "name": "stdout",
     "output_type": "stream",
     "text": [
      "              precision    recall  f1-score   support\n",
      "\n",
      "           0       0.79      0.79      0.79        14\n",
      "           1       0.62      0.62      0.62         8\n",
      "\n",
      "    accuracy                           0.73        22\n",
      "   macro avg       0.71      0.71      0.71        22\n",
      "weighted avg       0.73      0.73      0.73        22\n",
      "\n"
     ]
    }
   ],
   "execution_count": 12
  },
  {
   "metadata": {
    "ExecuteTime": {
     "end_time": "2024-11-28T14:00:43.289434Z",
     "start_time": "2024-11-28T14:00:43.172103Z"
    }
   },
   "cell_type": "code",
   "source": [
    "param_grid = {\n",
    "    'log_reg__C': [0.001, 0.01, 0.1, 1, 10],  # Siła regularizacji\n",
    "    'log_reg__solver': ['liblinear', 'saga', 'lbfgs']  # Metody optymalizacji\n",
    "}\n",
    "\n",
    "# GridSearchCV\n",
    "grid_search = GridSearchCV(estimator=pipeline, param_grid=param_grid, cv=3)\n",
    "\n",
    "# Dopasowanie modelu do danych treningowych\n",
    "grid_search.fit(X_train, y_train)\n",
    "\n",
    "# Wybór najlepszego modelu\n",
    "best_model = grid_search.best_estimator_\n",
    "\n",
    "y_pred = best_model.predict(X_test)\n",
    "print(classification_report(y_test, y_pred))\n",
    "\n",
    "print(\"Najlepsze parametry:\", grid_search.best_params_)"
   ],
   "id": "5b487c2d0c8cc972",
   "outputs": [
    {
     "name": "stdout",
     "output_type": "stream",
     "text": [
      "              precision    recall  f1-score   support\n",
      "\n",
      "           0       0.70      0.50      0.58        14\n",
      "           1       0.42      0.62      0.50         8\n",
      "\n",
      "    accuracy                           0.55        22\n",
      "   macro avg       0.56      0.56      0.54        22\n",
      "weighted avg       0.60      0.55      0.55        22\n",
      "\n",
      "Najlepsze parametry: {'log_reg__C': 0.001, 'log_reg__solver': 'liblinear'}\n"
     ]
    }
   ],
   "execution_count": 13
  },
  {
   "metadata": {
    "ExecuteTime": {
     "end_time": "2024-11-28T14:00:44.888983Z",
     "start_time": "2024-11-28T14:00:44.758092Z"
    }
   },
   "cell_type": "code",
   "source": [
    "from sklearn.model_selection import GroupKFold\n",
    "\n",
    "def plot_ROC(X, y, group):\n",
    "    # Tworzymy obiekt wykonujący podziały próbki\n",
    "    skf = GroupKFold(n_splits=3)\n",
    "    \n",
    "    # Definiujemy model który będzie optymalizowany\n",
    "    pipeline = Pipeline([\n",
    "    ('scaler', StandardScaler()), \n",
    "    ('log_reg', LogisticRegression(C=0.01, solver='liblinear', max_iter=10000))\n",
    "    ])\n",
    "        \n",
    "    # Przygotowujemy pole do rysowania\n",
    "    plt.figure(figsize=(5, 5))\n",
    "    \n",
    "    # Licznik podziałów\n",
    "    foldNumber = 0\n",
    "    \n",
    "    # Macierze przechowujące wyniki dla poszczególnych podziałów\n",
    "    y_pred_sum = np.array([])\n",
    "    y_true_sum = np.array([])\n",
    "\n",
    "    for train_indices, test_indices in skf.split(X, y, groups=group):\n",
    "        # Tworzymy zbiory uczący i testowy\n",
    "        X_train, X_test = X[train_indices], X[test_indices]\n",
    "        y_train, y_test = y[train_indices], y[test_indices]\n",
    "        \n",
    "        # Wykonujemy dopasowanie do zbioru uczącego\n",
    "        pipeline.fit(X_train, y_train)\n",
    "        \n",
    "        # Wypisujemy wartości metryk dla na zbiorze testowym\n",
    "        print(colored(\"Fold number:\", \"red\"), foldNumber)\n",
    "        \n",
    "        y_true = y_test\n",
    "        y_pred = pipeline.predict(X_test)\n",
    "        \n",
    "        PPV = precision_score(y_true, y_pred)\n",
    "        TPR = recall_score(y_true, y_pred)\n",
    "        ACC = accuracy_score(y_true, y_pred)\n",
    "        F1 = f1_score(y_true, y_pred)\n",
    "        MCC = matthews_corrcoef(y_true, y_pred)\n",
    "        \n",
    "        print(\"Precision =\", PPV)\n",
    "        print(\"Recall =\", TPR)\n",
    "        print(\"Accuracy =\", ACC)\n",
    "        print(\"F1 =\", F1)\n",
    "        print(\"Matthews_corrcoef =\", MCC)\n",
    "        \n",
    "        # Obliczamy wynik działania modelu (=prawdopodobieństwo przynależności do klas \"0\" i \"1\")\n",
    "        y_pred_prob = pipeline.predict_proba(X_test)[:, 1]\n",
    "        \n",
    "        # Dołączamy wyniki dla danego podziału do macierzy przechowujących dane dla wszystkich podziałów\n",
    "        y_pred_sum = np.append(y_pred_sum, y_pred_prob)\n",
    "        y_true_sum = np.append(y_true_sum, y_true)\n",
    "        \n",
    "        # Obliczamy dane dla krzywej ROC: fpr, tpr, thresholds\n",
    "        fpr, tpr, thresholds = roc_curve(y_true, y_pred_prob)\n",
    "    \n",
    "        # Obliczamy powierzchnię pod krzywą ROC\n",
    "        roc_auc = auc(fpr, tpr)\n",
    "        \n",
    "        # Rysujemy krzywą ROC\n",
    "        plt.plot(fpr, tpr, lw=2, label=\"fold: {:d} (AUC = {:0.3f})\".format(foldNumber, roc_auc))\n",
    "        foldNumber += 1\n",
    "        \n",
    "    # Obliczamy i rysujemy krzywą ROC dla sumy podziałów\n",
    "    fpr, tpr, thresholds = roc_curve(y_true_sum, y_pred_sum)\n",
    "    roc_auc = auc(fpr, tpr)\n",
    "    plt.plot(fpr, tpr, lw=2, label=\"folds sum (AUC = {:0.3f})\".format(roc_auc))\n",
    "    \n",
    "    # Dodajemy krzywą ROC losowego klasyfikatora\n",
    "    plt.plot([0, 1], [0, 1], color='navy', lw=2, linestyle='--')\n",
    "    plt.xlim([0.0, 1.0])\n",
    "    plt.ylim([0.0, 1.05])\n",
    "    plt.xlabel('False Positive Rate')\n",
    "    plt.ylabel('True Positive Rate')\n",
    "    plt.title('Receiver operating characteristic for logistic regression')\n",
    "    plt.legend(loc=\"lower right\")\n",
    "    plt.show()\n",
    "\n",
    "plot_ROC(X, y, z)"
   ],
   "id": "6b98eb9407abe74",
   "outputs": [
    {
     "name": "stdout",
     "output_type": "stream",
     "text": [
      "\u001B[31mFold number:\u001B[0m 0\n",
      "Precision = 0.6923076923076923\n",
      "Recall = 0.75\n",
      "Accuracy = 0.8055555555555556\n",
      "F1 = 0.72\n",
      "Matthews_corrcoef = 0.5725025740766715\n",
      "\u001B[31mFold number:\u001B[0m 1\n",
      "Precision = 0.75\n",
      "Recall = 0.5454545454545454\n",
      "Accuracy = 0.8\n",
      "F1 = 0.631578947368421\n",
      "Matthews_corrcoef = 0.5108942227567661\n",
      "\u001B[31mFold number:\u001B[0m 2\n",
      "Precision = 0.7857142857142857\n",
      "Recall = 0.9166666666666666\n",
      "Accuracy = 0.8857142857142857\n",
      "F1 = 0.8461538461538461\n",
      "Matthews_corrcoef = 0.7617834401336352\n"
     ]
    },
    {
     "data": {
      "text/plain": [
       "<Figure size 500x500 with 1 Axes>"
      ],
      "image/png": "[encoded data removed]"
     },
     "metadata": {},
     "output_type": "display_data"
    }
   ],
   "execution_count": 14
  },
  {
   "metadata": {
    "ExecuteTime": {
     "end_time": "2024-11-21T15:21:04.489417Z",
     "start_time": "2024-11-21T15:21:04.487038Z"
    }
   },
   "cell_type": "code",
   "source": "",
   "id": "7b62900759644c0c",
   "outputs": [],
   "execution_count": null
  },
  {
   "metadata": {
    "ExecuteTime": {
     "end_time": "2024-11-21T15:21:04.554992Z",
     "start_time": "2024-11-21T15:21:04.552826Z"
    }
   },
   "cell_type": "code",
   "source": "",
   "id": "7e40adfe6ec7d51c",
   "outputs": [],
   "execution_count": null
  },
  {
   "metadata": {
    "ExecuteTime": {
     "end_time": "2024-11-21T15:21:04.610155Z",
     "start_time": "2024-11-21T15:21:04.607900Z"
    }
   },
   "cell_type": "code",
   "source": "",
   "id": "5a71d8bd0fbc33d8",
   "outputs": [],
   "execution_count": null
  },
  {
   "metadata": {
    "ExecuteTime": {
     "end_time": "2024-11-21T15:21:04.659705Z",
     "start_time": "2024-11-21T15:21:04.658039Z"
    }
   },
   "cell_type": "code",
   "source": "",
   "id": "1375d2d11abbfe09",
   "outputs": [],
   "execution_count": null
  },
  {
   "metadata": {
    "ExecuteTime": {
     "end_time": "2024-11-21T15:21:04.708504Z",
     "start_time": "2024-11-21T15:21:04.706412Z"
    }
   },
   "cell_type": "code",
   "source": "",
   "id": "918e80483090d01f",
   "outputs": [],
   "execution_count": null
  },
  {
   "metadata": {},
   "cell_type": "code",
   "outputs": [],
   "execution_count": null,
   "source": "",
   "id": "3c780a168e64e146"
  }
 ],
 "metadata": {
  "kernelspec": {
   "display_name": "Python 3",
   "language": "python",
   "name": "python3"
  },
  "language_info": {
   "codemirror_mode": {
    "name": "ipython",
    "version": 2
   },
   "file_extension": ".py",
   "mimetype": "text/x-python",
   "name": "python",
   "nbconvert_exporter": "python",
   "pygments_lexer": "ipython2",
   "version": "2.7.6"
  }
 },
 "nbformat": 4,
 "nbformat_minor": 5
}
