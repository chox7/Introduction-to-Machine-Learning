{
 "cells": [
  {
   "cell_type": "code",
   "execution_count": null,
   "metadata": {},
   "outputs": [
    {
     "ename": "",
     "evalue": "",
     "output_type": "error",
     "traceback": [
      "\u001b[1;31mRunning cells with 'Python 3.13.0' requires the ipykernel package.\n",
      "\u001b[1;31mRun the following command to install 'ipykernel' into the Python environment. \n",
      "\u001b[1;31mCommand: '/opt/homebrew/bin/python3 -m pip install ipykernel -U --user --force-reinstall'"
     ]
    }
   ],
   "source": [
    "from mpl_toolkits.mplot3d import Axes3D\n",
    "import matplotlib.pyplot as plt\n",
    "from matplotlib import cm"
   ]
  },
  {
   "cell_type": "markdown",
   "metadata": {},
   "source": [
    "# Linear Regression\n",
    "\n",
    "The hypothesis for linear regression is:\n",
    "\n",
    "$ h(x) = \\sum_{i=0}^n \\theta_i x_i $\n",
    "\n",
    "where:\n",
    "- $ h(x) $ is the predicted output,\n",
    "- $ x_i $ are the input features (with $ x_0 $ typically set to 1 for the intercept term),\n",
    "- $ \\theta_i $ are the parameters or weights to be learned by the model,\n",
    "- $ n $ is the number of features."
   ]
  },
  {
   "cell_type": "markdown",
   "metadata": {},
   "source": [
    "### Cost Function in Linear Regression\n",
    "\n",
    "The cost function measures the difference between the predicted values and the actual target values. It is used to evaluate the performance of the linear regression model.\n",
    "\n",
    "#### Definition:\n",
    "The cost function can be defined as:\n",
    "\n",
    "$$\n",
    "J(\\mathbf{\\theta}) = \\frac{1}{2} \\sum_{i=1}^{m} \\left( h_\\theta (x^{(i)}) - y^{(i)} \\right)^2\n",
    "$$\n",
    "\n",
    "where:\n",
    "- $ J(\\mathbf{\\theta}) $ is the cost function,\n",
    "- $ h_\\theta (x^{(i)}) $ is the predicted value for the $ i $-th example,\n",
    "- $ y^{(i)} $ is the actual target value,\n",
    "- $ m $ is the number of training examples.\n",
    "\n",
    "#### Goal:\n",
    "The objective is to minimize the cost function to find the best-fitting parameters $ \\mathbf{\\theta} $ for the linear model."
   ]
  },
  {
   "cell_type": "code",
   "execution_count": null,
   "metadata": {},
   "outputs": [],
   "source": [
    "N= 100\n",
    "Theta_0 = np.linspace(-20,20,N)\n",
    "Theta_1 = np.linspace(-20,20,N)\n",
    "\n",
    "J = np.zeros((N,N))\n",
    "\n",
    "for  k, theta_0 in enumerate(Theta_0):\n",
    "    for l,theta_1 in enumerate(Theta_1):\n",
    "        for i in range(m):\n",
    "            J[l,k] += 0.5*(theta_1*X[i,1] + theta_0 - Y[i]).item()**2\n",
    "\n",
    "Theta_0, Theta_1 = np.meshgrid(Theta_0, Theta_1)\n",
    "\n",
    "fig, ax1 = plt.subplots()\n",
    "ax1.contourf(Theta_0, Theta_1, J,30)\n",
    "ax1.set_xlabel(\"theta_0\")\n",
    "ax1.set_ylabel(\"theta_1\")\n",
    "\n",
    "ax1.plot(theta_p[0], theta_p[1],'*',color=[1,1,1])\n",
    "plt.axis('square')\n",
    "plt.show()\n"
   ]
  },
  {
   "cell_type": "markdown",
   "metadata": {},
   "source": []
  }
 ],
 "metadata": {
  "kernelspec": {
   "display_name": "Python 3",
   "language": "python",
   "name": "python3"
  },
  "language_info": {
   "name": "python",
   "version": "3.13.0"
  }
 },
 "nbformat": 4,
 "nbformat_minor": 2
}
